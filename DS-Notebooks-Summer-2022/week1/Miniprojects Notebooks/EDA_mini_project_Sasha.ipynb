{
 "cells": [
  {
   "cell_type": "markdown",
   "metadata": {
    "collapsed": false
   },
   "source": [
    "# Welcome to your first EDA \\(Exploratory Data Analysis\\)\n",
    "\n"
   ]
  },
  {
   "cell_type": "markdown",
   "metadata": {
    "collapsed": false
   },
   "source": [
    "### Our task at hand \\-\\- I hope you like penguins!\n",
    "\n",
    "For our mini project, we are going to use Pandas and Numpy to conduct a basic Exploratory Data Analysis on a penguins dataset. Specifically, we are looking at the <u>Palmer Archipelago \\(Antarctica\\) Penguins</u> dataset, which you can find here:  [https://raw.githubusercontent.com/mcnakhaee/palmerpenguins/master/palmerpenguins/data/penguins\\-raw.csv](https://raw.githubusercontent.com/mcnakhaee/palmerpenguins/master/palmerpenguins/data/penguins-raw.csv)\n",
    "\n",
    "Not sure what an exploratory data analysis is? You can google it! The best definition I found is below:\n",
    "\n",
    "_**Exploratory Data Analysis**_ **refers to the critical process of performing initial investigations on data so as to discover patterns, to spot anomalies, to test hypotheses and to check assumptions with the help of summary statistics and graphical representations.**\n",
    "\n"
   ]
  },
  {
   "cell_type": "code",
   "execution_count": 0,
   "metadata": {
    "collapsed": false
   },
   "outputs": [
   ],
   "source": [
   ]
  },
  {
   "cell_type": "code",
   "execution_count": 1,
   "metadata": {
    "collapsed": false
   },
   "outputs": [
   ],
   "source": [
    "#Before anything else let's import our library for data analysis, pandas.\n",
    "import pandas as pd"
   ]
  },
  {
   "cell_type": "markdown",
   "metadata": {
    "collapsed": false
   },
   "source": [
    "### Step 1: Loading in and understanding our data\n",
    "\n",
    "We need to read in our data. It is currently a .csv \\(comma\\-separated value\\) file, and we generally use the pd.read\\_csv\\(\\) function from pandas to read our data into a dataframe. \n",
    "\n"
   ]
  },
  {
   "cell_type": "code",
   "execution_count": 0,
   "metadata": {
    "collapsed": false
   },
   "outputs": [
   ],
   "source": [
   ]
  },
  {
   "cell_type": "code",
   "execution_count": 2,
   "metadata": {
    "collapsed": false
   },
   "outputs": [
   ],
   "source": [
    "penguins_dataframe = pd.read_csv(\"https://raw.githubusercontent.com/mcnakhaee/palmerpenguins/master/palmerpenguins/data/penguins-raw.csv\")"
   ]
  },
  {
   "cell_type": "markdown",
   "metadata": {
    "collapsed": false
   },
   "source": [
    "**TODO:** Can you run the .head\\(\\) and .tail\\(\\) function on our new dataframe? Can you print the name of all the columns in our dataframe? How about the number of rows?\n"
   ]
  },
  {
   "cell_type": "code",
   "execution_count": 4,
   "metadata": {
    "collapsed": false,
    "scrolled": true
   },
   "outputs": [
    {
     "name": "stdout",
     "output_type": "stream",
     "text": [
      "    studyName  Sample Number                                    Species  Region     Island               Stage Individual ID Clutch Completion    Date Egg  Culmen Length (mm)  Culmen Depth (mm)  Flipper Length (mm)  Body Mass (g)     Sex  Delta 15 N (o/oo)  Delta 13 C (o/oo)                                                              Comments\n",
      "0     PAL0708              1        Adelie Penguin (Pygoscelis adeliae)  Anvers  Torgersen  Adult, 1 Egg Stage          N1A1               Yes  2007-11-11                39.1               18.7                181.0         3750.0    MALE                NaN                NaN                                        Not enough blood for isotopes.\n",
      "1     PAL0708              2        Adelie Penguin (Pygoscelis adeliae)  Anvers  Torgersen  Adult, 1 Egg Stage          N1A2               Yes  2007-11-11                39.5               17.4                186.0         3800.0  FEMALE            8.94956          -24.69454                                                                   NaN\n",
      "2     PAL0708              3        Adelie Penguin (Pygoscelis adeliae)  Anvers  Torgersen  Adult, 1 Egg Stage          N2A1               Yes  2007-11-16                40.3               18.0                195.0         3250.0  FEMALE            8.36821          -25.33302                                                                   NaN\n",
      "3     PAL0708              4        Adelie Penguin (Pygoscelis adeliae)  Anvers  Torgersen  Adult, 1 Egg Stage          N2A2               Yes  2007-11-16                 NaN                NaN                  NaN            NaN     NaN                NaN                NaN                                                    Adult not sampled.\n",
      "4     PAL0708              5        Adelie Penguin (Pygoscelis adeliae)  Anvers  Torgersen  Adult, 1 Egg Stage          N3A1               Yes  2007-11-16                36.7               19.3                193.0         3450.0  FEMALE            8.76651          -25.32426                                                                   NaN\n",
      "5     PAL0708              6        Adelie Penguin (Pygoscelis adeliae)  Anvers  Torgersen  Adult, 1 Egg Stage          N3A2               Yes  2007-11-16                39.3               20.6                190.0         3650.0    MALE            8.66496          -25.29805                                                                   NaN\n",
      "6     PAL0708              7        Adelie Penguin (Pygoscelis adeliae)  Anvers  Torgersen  Adult, 1 Egg Stage          N4A1                No  2007-11-15                38.9               17.8                181.0         3625.0  FEMALE            9.18718          -25.21799                                 Nest never observed with full clutch.\n",
      "7     PAL0708              8        Adelie Penguin (Pygoscelis adeliae)  Anvers  Torgersen  Adult, 1 Egg Stage          N4A2                No  2007-11-15                39.2               19.6                195.0         4675.0    MALE            9.46060          -24.89958                                 Nest never observed with full clutch.\n",
      "8     PAL0708              9        Adelie Penguin (Pygoscelis adeliae)  Anvers  Torgersen  Adult, 1 Egg Stage          N5A1               Yes  2007-11-09                34.1               18.1                193.0         3475.0     NaN                NaN                NaN                                             No blood sample obtained.\n",
      "9     PAL0708             10        Adelie Penguin (Pygoscelis adeliae)  Anvers  Torgersen  Adult, 1 Egg Stage          N5A2               Yes  2007-11-09                42.0               20.2                190.0         4250.0     NaN            9.13362          -25.09368                                  No blood sample obtained for sexing.\n",
      "10    PAL0708             11        Adelie Penguin (Pygoscelis adeliae)  Anvers  Torgersen  Adult, 1 Egg Stage          N6A1               Yes  2007-11-09                37.8               17.1                186.0         3300.0     NaN            8.63243          -25.21315                                  No blood sample obtained for sexing.\n",
      "11    PAL0708             12        Adelie Penguin (Pygoscelis adeliae)  Anvers  Torgersen  Adult, 1 Egg Stage          N6A2               Yes  2007-11-09                37.8               17.3                180.0         3700.0     NaN                NaN                NaN                                             No blood sample obtained.\n",
      "12    PAL0708             13        Adelie Penguin (Pygoscelis adeliae)  Anvers  Torgersen  Adult, 1 Egg Stage          N7A1               Yes  2007-11-15                41.1               17.6                182.0         3200.0  FEMALE                NaN                NaN                                        Not enough blood for isotopes.\n",
      "13    PAL0708             14        Adelie Penguin (Pygoscelis adeliae)  Anvers  Torgersen  Adult, 1 Egg Stage          N7A2               Yes  2007-11-15                38.6               21.2                191.0         3800.0    MALE                NaN                NaN                                        Not enough blood for isotopes.\n",
      "14    PAL0708             15        Adelie Penguin (Pygoscelis adeliae)  Anvers  Torgersen  Adult, 1 Egg Stage          N8A1               Yes  2007-11-16                34.6               21.1                198.0         4400.0    MALE            8.55583          -25.22588                                                                   NaN\n",
      "15    PAL0708             16        Adelie Penguin (Pygoscelis adeliae)  Anvers  Torgersen  Adult, 1 Egg Stage          N8A2               Yes  2007-11-16                36.6               17.8                185.0         3700.0  FEMALE                NaN                NaN                                        Not enough blood for isotopes.\n",
      "16    PAL0708             17        Adelie Penguin (Pygoscelis adeliae)  Anvers  Torgersen  Adult, 1 Egg Stage          N9A1               Yes  2007-11-12                38.7               19.0                195.0         3450.0  FEMALE            9.18528          -25.06691                                                                   NaN\n",
      "17    PAL0708             18        Adelie Penguin (Pygoscelis adeliae)  Anvers  Torgersen  Adult, 1 Egg Stage          N9A2               Yes  2007-11-12                42.5               20.7                197.0         4500.0    MALE            8.67538          -25.13993                                                                   NaN\n",
      "18    PAL0708             19        Adelie Penguin (Pygoscelis adeliae)  Anvers  Torgersen  Adult, 1 Egg Stage         N10A1               Yes  2007-11-16                34.4               18.4                184.0         3325.0  FEMALE            8.47827          -25.23319                                                                   NaN\n",
      "19    PAL0708             20        Adelie Penguin (Pygoscelis adeliae)  Anvers  Torgersen  Adult, 1 Egg Stage         N10A2               Yes  2007-11-16                46.0               21.5                194.0         4200.0    MALE            9.11616          -24.77227                                                                   NaN\n",
      "20    PAL0708             21        Adelie Penguin (Pygoscelis adeliae)  Anvers     Biscoe  Adult, 1 Egg Stage         N11A1               Yes  2007-11-12                37.8               18.3                174.0         3400.0  FEMALE            8.73762          -25.09383                                                                   NaN\n",
      "21    PAL0708             22        Adelie Penguin (Pygoscelis adeliae)  Anvers     Biscoe  Adult, 1 Egg Stage         N11A2               Yes  2007-11-12                37.7               18.7                180.0         3600.0    MALE            8.66271          -25.06390                                                                   NaN\n",
      "22    PAL0708             23        Adelie Penguin (Pygoscelis adeliae)  Anvers     Biscoe  Adult, 1 Egg Stage         N12A1               Yes  2007-11-12                35.9               19.2                189.0         3800.0  FEMALE            9.22286          -25.03474                                                                   NaN\n",
      "23    PAL0708             24        Adelie Penguin (Pygoscelis adeliae)  Anvers     Biscoe  Adult, 1 Egg Stage         N12A2               Yes  2007-11-12                38.2               18.1                185.0         3950.0    MALE            8.43423          -25.22664                                                                   NaN\n",
      "24    PAL0708             25        Adelie Penguin (Pygoscelis adeliae)  Anvers     Biscoe  Adult, 1 Egg Stage         N13A1               Yes  2007-11-10                38.8               17.2                180.0         3800.0    MALE            9.63954          -25.29856                                                                   NaN\n",
      "25    PAL0708             26        Adelie Penguin (Pygoscelis adeliae)  Anvers     Biscoe  Adult, 1 Egg Stage         N13A2               Yes  2007-11-10                35.3               18.9                187.0         3800.0  FEMALE            9.21292          -24.36130                                                                   NaN\n",
      "26    PAL0708             27        Adelie Penguin (Pygoscelis adeliae)  Anvers     Biscoe  Adult, 1 Egg Stage         N17A1               Yes  2007-11-12                40.6               18.6                183.0         3550.0    MALE            8.93997          -25.36288                                                                   NaN\n",
      "27    PAL0708             28        Adelie Penguin (Pygoscelis adeliae)  Anvers     Biscoe  Adult, 1 Egg Stage         N17A2               Yes  2007-11-12                40.5               17.9                187.0         3200.0  FEMALE            8.08138          -25.49448                                                                   NaN\n",
      "28    PAL0708             29        Adelie Penguin (Pygoscelis adeliae)  Anvers     Biscoe  Adult, 1 Egg Stage         N18A1                No  2007-11-10                37.9               18.6                172.0         3150.0  FEMALE            8.38404          -25.19837                                 Nest never observed with full clutch.\n",
      "29    PAL0708             30        Adelie Penguin (Pygoscelis adeliae)  Anvers     Biscoe  Adult, 1 Egg Stage         N18A2                No  2007-11-10                40.5               18.9                180.0         3950.0    MALE            8.90027          -25.11609                                 Nest never observed with full clutch.\n",
      "30    PAL0708             31        Adelie Penguin (Pygoscelis adeliae)  Anvers      Dream  Adult, 1 Egg Stage         N21A1               Yes  2007-11-09                39.5               16.7                178.0         3250.0  FEMALE            9.69756          -25.11223                                                                   NaN\n",
      "31    PAL0708             32        Adelie Penguin (Pygoscelis adeliae)  Anvers      Dream  Adult, 1 Egg Stage         N21A2               Yes  2007-11-09                37.2               18.1                178.0         3900.0    MALE            9.72764          -25.01020                                                                   NaN\n",
      "32    PAL0708             33        Adelie Penguin (Pygoscelis adeliae)  Anvers      Dream  Adult, 1 Egg Stage         N22A1               Yes  2007-11-09                39.5               17.8                188.0         3300.0  FEMALE            9.66523          -25.06020                                                                   NaN\n",
      "33    PAL0708             34        Adelie Penguin (Pygoscelis adeliae)  Anvers      Dream  Adult, 1 Egg Stage         N22A2               Yes  2007-11-09                40.9               18.9                184.0         3900.0    MALE            8.79665          -25.14591                                                                   NaN\n",
      "34    PAL0708             35        Adelie Penguin (Pygoscelis adeliae)  Anvers      Dream  Adult, 1 Egg Stage         N23A1               Yes  2007-11-16                36.4               17.0                195.0         3325.0  FEMALE            9.17847          -25.23061                                                                   NaN\n",
      "35    PAL0708             36        Adelie Penguin (Pygoscelis adeliae)  Anvers      Dream  Adult, 1 Egg Stage         N23A2               Yes  2007-11-16                39.2               21.1                196.0         4150.0    MALE            9.15308          -25.03469                                                                   NaN\n",
      "36    PAL0708             37        Adelie Penguin (Pygoscelis adeliae)  Anvers      Dream  Adult, 1 Egg Stage         N24A1               Yes  2007-11-16                38.8               20.0                190.0         3950.0    MALE            9.18985          -25.12255                                                                   NaN\n",
      "37    PAL0708             38        Adelie Penguin (Pygoscelis adeliae)  Anvers      Dream  Adult, 1 Egg Stage         N24A2               Yes  2007-11-16                42.2               18.5                180.0         3550.0  FEMALE            8.04787          -25.49523                                                                   NaN\n",
      "38    PAL0708             39        Adelie Penguin (Pygoscelis adeliae)  Anvers      Dream  Adult, 1 Egg Stage         N25A1                No  2007-11-13                37.6               19.3                181.0         3300.0  FEMALE            9.41131          -25.04169                                 Nest never observed with full clutch.\n",
      "39    PAL0708             40        Adelie Penguin (Pygoscelis adeliae)  Anvers      Dream  Adult, 1 Egg Stage         N25A2                No  2007-11-13                39.8               19.1                184.0         4650.0    MALE                NaN                NaN  Nest never observed with full clutch. Not enough blood for isotopes.\n",
      "40    PAL0708             41        Adelie Penguin (Pygoscelis adeliae)  Anvers      Dream  Adult, 1 Egg Stage         N26A1               Yes  2007-11-16                36.5               18.0                182.0         3150.0  FEMALE            9.68933          -24.42280                                                                   NaN\n",
      "41    PAL0708             42        Adelie Penguin (Pygoscelis adeliae)  Anvers      Dream  Adult, 1 Egg Stage         N26A2               Yes  2007-11-16                40.8               18.4                195.0         3900.0    MALE                NaN                NaN                                        Not enough blood for isotopes.\n",
      "42    PAL0708             43        Adelie Penguin (Pygoscelis adeliae)  Anvers      Dream  Adult, 1 Egg Stage         N27A1               Yes  2007-11-19                36.0               18.5                186.0         3100.0  FEMALE            9.50772          -25.03492                                                                   NaN\n",
      "43    PAL0708             44        Adelie Penguin (Pygoscelis adeliae)  Anvers      Dream  Adult, 1 Egg Stage         N27A2               Yes  2007-11-19                44.1               19.7                196.0         4400.0    MALE            9.23720          -24.52698                                                                   NaN\n",
      "44    PAL0708             45        Adelie Penguin (Pygoscelis adeliae)  Anvers      Dream  Adult, 1 Egg Stage         N28A1               Yes  2007-11-16                37.0               16.9                185.0         3000.0  FEMALE            9.36392          -25.01745                                                                   NaN\n",
      "45    PAL0708             46        Adelie Penguin (Pygoscelis adeliae)  Anvers      Dream  Adult, 1 Egg Stage         N28A2               Yes  2007-11-16                39.6               18.8                190.0         4600.0    MALE            9.49106          -24.10255                                                                   NaN\n",
      "46    PAL0708             47        Adelie Penguin (Pygoscelis adeliae)  Anvers      Dream  Adult, 1 Egg Stage         N29A1               Yes  2007-11-13                41.1               19.0                182.0         3425.0    MALE                NaN                NaN                                        Not enough blood for isotopes.\n",
      "47    PAL0708             48        Adelie Penguin (Pygoscelis adeliae)  Anvers      Dream  Adult, 1 Egg Stage         N29A2               Yes  2007-11-13                37.5               18.9                179.0         2975.0     NaN                NaN                NaN        Sexing primers did not amplify. Not enough blood for isotopes.\n",
      "48    PAL0708             49        Adelie Penguin (Pygoscelis adeliae)  Anvers      Dream  Adult, 1 Egg Stage         N30A1               Yes  2007-11-13                36.0               17.9                190.0         3450.0  FEMALE            9.51784          -25.07683                                                                   NaN\n",
      "49    PAL0708             50        Adelie Penguin (Pygoscelis adeliae)  Anvers      Dream  Adult, 1 Egg Stage         N30A2               Yes  2007-11-13                42.3               21.2                191.0         4150.0    MALE            8.87988          -25.18543                                                                   NaN\n",
      "50    PAL0809             51        Adelie Penguin (Pygoscelis adeliae)  Anvers     Biscoe  Adult, 1 Egg Stage         N21A1               Yes  2008-11-06                39.6               17.7                186.0         3500.0  FEMALE            8.46616          -26.12989                                                                   NaN\n",
      "51    PAL0809             52        Adelie Penguin (Pygoscelis adeliae)  Anvers     Biscoe  Adult, 1 Egg Stage         N21A2               Yes  2008-11-06                40.1               18.9                188.0         4300.0    MALE            8.51362          -26.55602                                                                   NaN\n",
      "52    PAL0809             53        Adelie Penguin (Pygoscelis adeliae)  Anvers     Biscoe  Adult, 1 Egg Stage         N22A1               Yes  2008-11-09                35.0               17.9                190.0         3450.0  FEMALE            8.19539          -26.17213                                                                   NaN\n",
      "53    PAL0809             54        Adelie Penguin (Pygoscelis adeliae)  Anvers     Biscoe  Adult, 1 Egg Stage         N22A2               Yes  2008-11-09                42.0               19.5                200.0         4050.0    MALE            8.48095          -26.31460                                                                   NaN\n",
      "54    PAL0809             55        Adelie Penguin (Pygoscelis adeliae)  Anvers     Biscoe  Adult, 1 Egg Stage         N23A1               Yes  2008-11-09                34.5               18.1                187.0         2900.0  FEMALE            8.41837          -26.54718                                                                   NaN\n",
      "55    PAL0809             56        Adelie Penguin (Pygoscelis adeliae)  Anvers     Biscoe  Adult, 1 Egg Stage         N23A2               Yes  2008-11-09                41.4               18.6                191.0         3700.0    MALE            8.35396          -26.27853                                                                   NaN\n",
      "56    PAL0809             57        Adelie Penguin (Pygoscelis adeliae)  Anvers     Biscoe  Adult, 1 Egg Stage         N24A1               Yes  2008-11-15                39.0               17.5                186.0         3550.0  FEMALE            8.57199          -26.07188                                                                   NaN\n",
      "57    PAL0809             58        Adelie Penguin (Pygoscelis adeliae)  Anvers     Biscoe  Adult, 1 Egg Stage         N24A2               Yes  2008-11-15                40.6               18.8                193.0         3800.0    MALE            8.56674          -25.98843                                                                   NaN\n",
      "58    PAL0809             59        Adelie Penguin (Pygoscelis adeliae)  Anvers     Biscoe  Adult, 1 Egg Stage         N25A1               Yes  2008-11-15                36.5               16.6                181.0         2850.0  FEMALE            9.07878          -25.88156                                                                   NaN\n",
      "59    PAL0809             60        Adelie Penguin (Pygoscelis adeliae)  Anvers     Biscoe  Adult, 1 Egg Stage         N25A2               Yes  2008-11-15                37.6               19.1                194.0         3750.0    MALE            9.10800          -25.89677                                                                   NaN\n",
      "60    PAL0809             61        Adelie Penguin (Pygoscelis adeliae)  Anvers     Biscoe  Adult, 1 Egg Stage         N27A1               Yes  2008-11-13                35.7               16.9                185.0         3150.0  FEMALE            8.96472          -26.40943                                                                   NaN\n",
      "61    PAL0809             62        Adelie Penguin (Pygoscelis adeliae)  Anvers     Biscoe  Adult, 1 Egg Stage         N27A2               Yes  2008-11-13                41.3               21.1                195.0         4400.0    MALE            8.74802          -26.37809                                                                   NaN\n",
      "62    PAL0809             63        Adelie Penguin (Pygoscelis adeliae)  Anvers     Biscoe  Adult, 1 Egg Stage         N28A1               Yes  2008-11-13                37.6               17.0                185.0         3600.0  FEMALE            8.58063          -26.21569                                                                   NaN\n",
      "63    PAL0809             64        Adelie Penguin (Pygoscelis adeliae)  Anvers     Biscoe  Adult, 1 Egg Stage         N28A2               Yes  2008-11-13                41.1               18.2                192.0         4050.0    MALE            8.62264          -26.60023                                                                   NaN\n",
      "64    PAL0809             65        Adelie Penguin (Pygoscelis adeliae)  Anvers     Biscoe  Adult, 1 Egg Stage         N29A1               Yes  2008-11-13                36.4               17.1                184.0         2850.0  FEMALE            8.62623          -26.11650                                                                   NaN\n",
      "65    PAL0809             66        Adelie Penguin (Pygoscelis adeliae)  Anvers     Biscoe  Adult, 1 Egg Stage         N29A2               Yes  2008-11-13                41.6               18.0                192.0         3950.0    MALE            8.85562          -26.09294                                                                   NaN\n",
      "66    PAL0809             67        Adelie Penguin (Pygoscelis adeliae)  Anvers     Biscoe  Adult, 1 Egg Stage         N30A1               Yes  2008-11-06                35.5               16.2                195.0         3350.0  FEMALE            8.56192          -25.95541                                                                   NaN\n",
      "67    PAL0809             68        Adelie Penguin (Pygoscelis adeliae)  Anvers     Biscoe  Adult, 1 Egg Stage         N30A2               Yes  2008-11-06                41.1               19.1                188.0         4100.0    MALE            8.71078          -25.81012                                                                   NaN\n",
      "68    PAL0809             69        Adelie Penguin (Pygoscelis adeliae)  Anvers  Torgersen  Adult, 1 Egg Stage         N32A1                No  2008-11-11                35.9               16.6                190.0         3050.0  FEMALE            8.47781          -26.07821                                 Nest never observed with full clutch.\n",
      "69    PAL0809             70        Adelie Penguin (Pygoscelis adeliae)  Anvers  Torgersen  Adult, 1 Egg Stage         N32A2                No  2008-11-11                41.8               19.4                198.0         4450.0    MALE            8.86853          -26.06209                                 Nest never observed with full clutch.\n",
      "70    PAL0809             71        Adelie Penguin (Pygoscelis adeliae)  Anvers  Torgersen  Adult, 1 Egg Stage         N34A1               Yes  2008-11-14                33.5               19.0                190.0         3600.0  FEMALE            7.88863          -26.63085                                                                   NaN\n",
      "71    PAL0809             72        Adelie Penguin (Pygoscelis adeliae)  Anvers  Torgersen  Adult, 1 Egg Stage         N34A2               Yes  2008-11-14                39.7               18.4                190.0         3900.0    MALE            9.29808          -25.23453                                                                   NaN\n",
      "72    PAL0809             73        Adelie Penguin (Pygoscelis adeliae)  Anvers  Torgersen  Adult, 1 Egg Stage         N35A1               Yes  2008-11-11                39.6               17.2                196.0         3550.0  FEMALE            8.33524          -26.55351                                                                   NaN\n",
      "73    PAL0809             74        Adelie Penguin (Pygoscelis adeliae)  Anvers  Torgersen  Adult, 1 Egg Stage         N35A2               Yes  2008-11-11                45.8               18.9                197.0         4150.0    MALE            8.18658          -26.45978                                                                   NaN\n",
      "74    PAL0809             75        Adelie Penguin (Pygoscelis adeliae)  Anvers  Torgersen  Adult, 1 Egg Stage         N36A1               Yes  2008-11-08                35.5               17.5                190.0         3700.0  FEMALE            8.70642          -26.15003                                                                   NaN\n",
      "75    PAL0809             76        Adelie Penguin (Pygoscelis adeliae)  Anvers  Torgersen  Adult, 1 Egg Stage         N36A2               Yes  2008-11-08                42.8               18.5                195.0         4250.0    MALE            8.29930          -26.38986                                                                   NaN\n",
      "76    PAL0809             77        Adelie Penguin (Pygoscelis adeliae)  Anvers  Torgersen  Adult, 1 Egg Stage         N37A1               Yes  2008-11-06                40.9               16.8                191.0         3700.0  FEMALE            8.47257          -26.02002                                                                   NaN\n",
      "77    PAL0809             78        Adelie Penguin (Pygoscelis adeliae)  Anvers  Torgersen  Adult, 1 Egg Stage         N37A2               Yes  2008-11-06                37.2               19.4                184.0         3900.0    MALE            8.35540          -26.44787                                                                   NaN\n",
      "78    PAL0809             79        Adelie Penguin (Pygoscelis adeliae)  Anvers  Torgersen  Adult, 1 Egg Stage         N38A1               Yes  2008-11-09                36.2               16.1                187.0         3550.0  FEMALE            7.82381          -26.51382                                                                   NaN\n",
      "79    PAL0809             80        Adelie Penguin (Pygoscelis adeliae)  Anvers  Torgersen  Adult, 1 Egg Stage         N38A2               Yes  2008-11-09                42.1               19.1                195.0         4000.0    MALE            9.05736          -25.81513                                                                   NaN\n",
      "80    PAL0809             81        Adelie Penguin (Pygoscelis adeliae)  Anvers  Torgersen  Adult, 1 Egg Stage         N39A1               Yes  2008-11-02                34.6               17.2                189.0         3200.0  FEMALE            7.69778          -26.53870                                                                   NaN\n",
      "81    PAL0809             82        Adelie Penguin (Pygoscelis adeliae)  Anvers  Torgersen  Adult, 1 Egg Stage         N39A2               Yes  2008-11-02                42.9               17.6                196.0         4700.0    MALE            8.63259          -26.23027                                                                   NaN\n",
      "82    PAL0809             83        Adelie Penguin (Pygoscelis adeliae)  Anvers  Torgersen  Adult, 1 Egg Stage         N40A1               Yes  2008-11-07                36.7               18.8                187.0         3800.0  FEMALE            7.88494          -26.24837                                                                   NaN\n",
      "83    PAL0809             84        Adelie Penguin (Pygoscelis adeliae)  Anvers  Torgersen  Adult, 1 Egg Stage         N40A2               Yes  2008-11-07                35.1               19.4                193.0         4200.0    MALE            8.90002          -26.46254                                                                   NaN\n",
      "84    PAL0809             85        Adelie Penguin (Pygoscelis adeliae)  Anvers      Dream  Adult, 1 Egg Stage         N41A1               Yes  2008-11-17                37.3               17.8                191.0         3350.0  FEMALE            8.32718          -26.38396                                                                   NaN\n",
      "85    PAL0809             86        Adelie Penguin (Pygoscelis adeliae)  Anvers      Dream  Adult, 1 Egg Stage         N41A2               Yes  2008-11-17                41.3               20.3                194.0         3550.0    MALE            9.14863          -26.09635                                                                   NaN\n",
      "86    PAL0809             87        Adelie Penguin (Pygoscelis adeliae)  Anvers      Dream  Adult, 1 Egg Stage         N42A1               Yes  2008-11-08                36.3               19.5                190.0         3800.0    MALE            8.57087          -26.22227                                                                   NaN\n",
      "87    PAL0809             88        Adelie Penguin (Pygoscelis adeliae)  Anvers      Dream  Adult, 1 Egg Stage         N42A2               Yes  2008-11-08                36.9               18.6                189.0         3500.0  FEMALE            8.59147          -26.08165                                                                   NaN\n",
      "88    PAL0809             89        Adelie Penguin (Pygoscelis adeliae)  Anvers      Dream  Adult, 1 Egg Stage         N44A1               Yes  2008-11-08                38.3               19.2                189.0         3950.0    MALE            9.07826          -26.12417                                                                   NaN\n",
      "89    PAL0809             90        Adelie Penguin (Pygoscelis adeliae)  Anvers      Dream  Adult, 1 Egg Stage         N44A2               Yes  2008-11-08                38.9               18.8                190.0         3600.0  FEMALE            8.36936          -26.11199                                                                   NaN\n",
      "90    PAL0809             91        Adelie Penguin (Pygoscelis adeliae)  Anvers      Dream  Adult, 1 Egg Stage         N45A1               Yes  2008-11-14                35.7               18.0                202.0         3550.0  FEMALE            8.46531          -26.05621                                                                   NaN\n",
      "91    PAL0809             92        Adelie Penguin (Pygoscelis adeliae)  Anvers      Dream  Adult, 1 Egg Stage         N45A2               Yes  2008-11-14                41.1               18.1                205.0         4300.0    MALE            8.77018          -25.83352                                                                   NaN\n",
      "92    PAL0809             93        Adelie Penguin (Pygoscelis adeliae)  Anvers      Dream  Adult, 1 Egg Stage         N46A1               Yes  2008-11-05                34.0               17.1                185.0         3400.0  FEMALE            8.01485          -26.69543                                                                   NaN\n",
      "93    PAL0809             94        Adelie Penguin (Pygoscelis adeliae)  Anvers      Dream  Adult, 1 Egg Stage         N46A2               Yes  2008-11-05                39.6               18.1                186.0         4450.0    MALE            8.49915          -26.42406                                                                   NaN\n",
      "94    PAL0809             95        Adelie Penguin (Pygoscelis adeliae)  Anvers      Dream  Adult, 1 Egg Stage         N48A1               Yes  2008-11-17                36.2               17.3                187.0         3300.0  FEMALE            8.90723          -26.30037                                                                   NaN\n",
      "95    PAL0809             96        Adelie Penguin (Pygoscelis adeliae)  Anvers      Dream  Adult, 1 Egg Stage         N48A2               Yes  2008-11-17                40.8               18.9                208.0         4300.0    MALE            8.48204          -26.57941                                                                   NaN\n",
      "96    PAL0809             97        Adelie Penguin (Pygoscelis adeliae)  Anvers      Dream  Adult, 1 Egg Stage         N49A1               Yes  2008-11-08                38.1               18.6                190.0         3700.0  FEMALE            8.10277          -26.50086                                                                   NaN\n",
      "97    PAL0809             98        Adelie Penguin (Pygoscelis adeliae)  Anvers      Dream  Adult, 1 Egg Stage         N49A2               Yes  2008-11-08                40.3               18.5                196.0         4350.0    MALE            8.39459          -26.01152                                                                   NaN\n",
      "98    PAL0809             99        Adelie Penguin (Pygoscelis adeliae)  Anvers      Dream  Adult, 1 Egg Stage         N50A1               Yes  2008-11-10                33.1               16.1                178.0         2900.0  FEMALE            9.04218          -26.15775                                                                   NaN\n",
      "99    PAL0809            100        Adelie Penguin (Pygoscelis adeliae)  Anvers      Dream  Adult, 1 Egg Stage         N50A2               Yes  2008-11-10                43.2               18.5                192.0         4100.0    MALE            8.97025          -26.03679                                                                   NaN\n",
      "100   PAL0910            101        Adelie Penguin (Pygoscelis adeliae)  Anvers     Biscoe  Adult, 1 Egg Stage         N47A1               Yes  2009-11-09                35.0               17.9                192.0         3725.0  FEMALE            8.84451          -26.28055                                                                   NaN\n",
      "101   PAL0910            102        Adelie Penguin (Pygoscelis adeliae)  Anvers     Biscoe  Adult, 1 Egg Stage         N47A2               Yes  2009-11-09                41.0               20.0                203.0         4725.0    MALE            9.01079          -26.38085                                                                   NaN\n",
      "102   PAL0910            103        Adelie Penguin (Pygoscelis adeliae)  Anvers     Biscoe  Adult, 1 Egg Stage         N49A1               Yes  2009-11-15                37.7               16.0                183.0         3075.0  FEMALE            9.21510          -26.22530                                                                   NaN\n",
      "103   PAL0910            104        Adelie Penguin (Pygoscelis adeliae)  Anvers     Biscoe  Adult, 1 Egg Stage         N49A2               Yes  2009-11-15                37.8               20.0                190.0         4250.0    MALE            9.51929          -25.69199                                                                   NaN\n",
      "104   PAL0910            105        Adelie Penguin (Pygoscelis adeliae)  Anvers     Biscoe  Adult, 1 Egg Stage         N51A1               Yes  2009-11-15                37.9               18.6                193.0         2925.0  FEMALE            9.02642          -25.86482                                                                   NaN\n",
      "105   PAL0910            106        Adelie Penguin (Pygoscelis adeliae)  Anvers     Biscoe  Adult, 1 Egg Stage         N51A2               Yes  2009-11-15                39.7               18.9                184.0         3550.0    MALE            8.85699          -25.80208                                                                   NaN\n",
      "106   PAL0910            107        Adelie Penguin (Pygoscelis adeliae)  Anvers     Biscoe  Adult, 1 Egg Stage         N53A1               Yes  2009-11-15                38.6               17.2                199.0         3750.0  FEMALE            8.77322          -26.48973                                                                   NaN\n",
      "107   PAL0910            108        Adelie Penguin (Pygoscelis adeliae)  Anvers     Biscoe  Adult, 1 Egg Stage         N53A2               Yes  2009-11-15                38.2               20.0                190.0         3900.0    MALE            9.59245          -25.70711                                                                   NaN\n",
      "108   PAL0910            109        Adelie Penguin (Pygoscelis adeliae)  Anvers     Biscoe  Adult, 1 Egg Stage         N55A1               Yes  2009-11-20                38.1               17.0                181.0         3175.0  FEMALE            9.79532          -25.27385                                                                   NaN\n",
      "109   PAL0910            110        Adelie Penguin (Pygoscelis adeliae)  Anvers     Biscoe  Adult, 1 Egg Stage         N55A2               Yes  2009-11-20                43.2               19.0                197.0         4775.0    MALE            9.31735          -25.45171                                                                   NaN\n",
      "110   PAL0910            111        Adelie Penguin (Pygoscelis adeliae)  Anvers     Biscoe  Adult, 1 Egg Stage         N58A1               Yes  2009-11-12                38.1               16.5                198.0         3825.0  FEMALE            8.43951          -26.57563                                                                   NaN\n",
      "111   PAL0910            112        Adelie Penguin (Pygoscelis adeliae)  Anvers     Biscoe  Adult, 1 Egg Stage         N58A2               Yes  2009-11-12                45.6               20.3                191.0         4600.0    MALE            8.65466          -26.32909                                                                   NaN\n",
      "112   PAL0910            113        Adelie Penguin (Pygoscelis adeliae)  Anvers     Biscoe  Adult, 1 Egg Stage         N60A1               Yes  2009-11-15                39.7               17.7                193.0         3200.0  FEMALE            9.02657          -26.06203                                                                   NaN\n",
      "113   PAL0910            114        Adelie Penguin (Pygoscelis adeliae)  Anvers     Biscoe  Adult, 1 Egg Stage         N60A2               Yes  2009-11-15                42.2               19.5                197.0         4275.0    MALE            8.80186          -26.41218                                                                   NaN\n",
      "114   PAL0910            115        Adelie Penguin (Pygoscelis adeliae)  Anvers     Biscoe  Adult, 1 Egg Stage         N61A1               Yes  2009-11-17                39.6               20.7                191.0         3900.0  FEMALE            8.80967          -26.78958                                                                   NaN\n",
      "115   PAL0910            116        Adelie Penguin (Pygoscelis adeliae)  Anvers     Biscoe  Adult, 1 Egg Stage         N61A2               Yes  2009-11-17                42.7               18.3                196.0         4075.0    MALE            8.91434          -26.42018                                                                   NaN\n",
      "116   PAL0910            117        Adelie Penguin (Pygoscelis adeliae)  Anvers  Torgersen  Adult, 1 Egg Stage         N63A1               Yes  2009-11-18                38.6               17.0                188.0         2900.0  FEMALE            9.18021          -25.77264                                                                   NaN\n",
      "117   PAL0910            118        Adelie Penguin (Pygoscelis adeliae)  Anvers  Torgersen  Adult, 1 Egg Stage         N63A2               Yes  2009-11-18                37.3               20.5                199.0         3775.0    MALE            9.49645          -26.36678                                                                   NaN\n",
      "118   PAL0910            119        Adelie Penguin (Pygoscelis adeliae)  Anvers  Torgersen  Adult, 1 Egg Stage         N64A1               Yes  2009-11-22                35.7               17.0                189.0         3350.0  FEMALE            8.96436          -23.90309                                                                   NaN\n",
      "119   PAL0910            120        Adelie Penguin (Pygoscelis adeliae)  Anvers  Torgersen  Adult, 1 Egg Stage         N64A2               Yes  2009-11-22                41.1               18.6                189.0         3325.0    MALE            9.32277          -26.09989                                                                   NaN\n",
      "120   PAL0910            121        Adelie Penguin (Pygoscelis adeliae)  Anvers  Torgersen  Adult, 1 Egg Stage         N66A1                No  2009-11-17                36.2               17.2                187.0         3150.0  FEMALE            9.04296          -26.19444                                 Nest never observed with full clutch.\n",
      "121   PAL0910            122        Adelie Penguin (Pygoscelis adeliae)  Anvers  Torgersen  Adult, 1 Egg Stage         N66A2                No  2009-11-17                37.7               19.8                198.0         3500.0    MALE            9.11066          -26.42563                                 Nest never observed with full clutch.\n",
      "122   PAL0910            123        Adelie Penguin (Pygoscelis adeliae)  Anvers  Torgersen  Adult, 1 Egg Stage         N67A1               Yes  2009-11-16                40.2               17.0                176.0         3450.0  FEMALE            9.30722          -25.61039                                                                   NaN\n",
      "123   PAL0910            124        Adelie Penguin (Pygoscelis adeliae)  Anvers  Torgersen  Adult, 1 Egg Stage         N67A2               Yes  2009-11-16                41.4               18.5                202.0         3875.0    MALE            9.59462          -25.42621                                                                   NaN\n",
      "124   PAL0910            125        Adelie Penguin (Pygoscelis adeliae)  Anvers  Torgersen  Adult, 1 Egg Stage         N69A1               Yes  2009-11-18                35.2               15.9                186.0         3050.0  FEMALE            8.81668          -25.95399                                                                   NaN\n",
      "125   PAL0910            126        Adelie Penguin (Pygoscelis adeliae)  Anvers  Torgersen  Adult, 1 Egg Stage         N69A2               Yes  2009-11-18                40.6               19.0                199.0         4000.0    MALE            9.22537          -25.60826                                                                   NaN\n",
      "126   PAL0910            127        Adelie Penguin (Pygoscelis adeliae)  Anvers  Torgersen  Adult, 1 Egg Stage         N71A1               Yes  2009-11-21                38.8               17.6                191.0         3275.0  FEMALE            8.88098          -25.89741                                                                   NaN\n",
      "127   PAL0910            128        Adelie Penguin (Pygoscelis adeliae)  Anvers  Torgersen  Adult, 1 Egg Stage         N71A2               Yes  2009-11-21                41.5               18.3                195.0         4300.0    MALE            8.52566          -26.02450                                                                   NaN\n",
      "128   PAL0910            129        Adelie Penguin (Pygoscelis adeliae)  Anvers  Torgersen  Adult, 1 Egg Stage         N72A1               Yes  2009-11-18                39.0               17.1                191.0         3050.0  FEMALE            9.19031          -25.73722                                                                   NaN\n",
      "129   PAL0910            130        Adelie Penguin (Pygoscelis adeliae)  Anvers  Torgersen  Adult, 1 Egg Stage         N72A2               Yes  2009-11-18                44.1               18.0                210.0         4000.0    MALE            9.10702          -26.01363                                                                   NaN\n",
      "130   PAL0910            131        Adelie Penguin (Pygoscelis adeliae)  Anvers  Torgersen  Adult, 1 Egg Stage         N73A1                No  2009-11-23                38.5               17.9                190.0         3325.0  FEMALE            8.98460          -25.57956                                 Nest never observed with full clutch.\n",
      "131   PAL0910            132        Adelie Penguin (Pygoscelis adeliae)  Anvers  Torgersen  Adult, 1 Egg Stage         N73A2                No  2009-11-23                43.1               19.2                197.0         3500.0    MALE            8.86495          -26.13960                                 Nest never observed with full clutch.\n",
      "132   PAL0910            133        Adelie Penguin (Pygoscelis adeliae)  Anvers      Dream  Adult, 1 Egg Stage         N76A1               Yes  2009-11-10                36.8               18.5                193.0         3500.0  FEMALE            8.98705          -25.57647                                                                   NaN\n",
      "133   PAL0910            134        Adelie Penguin (Pygoscelis adeliae)  Anvers      Dream  Adult, 1 Egg Stage         N76A2               Yes  2009-11-10                37.5               18.5                199.0         4475.0    MALE            8.56708          -26.49288                                                                   NaN\n",
      "134   PAL0910            135        Adelie Penguin (Pygoscelis adeliae)  Anvers      Dream  Adult, 1 Egg Stage         N77A1               Yes  2009-11-13                38.1               17.6                187.0         3425.0  FEMALE            8.71700          -25.77951                                                                   NaN\n",
      "135   PAL0910            136        Adelie Penguin (Pygoscelis adeliae)  Anvers      Dream  Adult, 1 Egg Stage         N77A2               Yes  2009-11-13                41.1               17.5                190.0         3900.0    MALE            8.94365          -26.06943                                                                   NaN\n",
      "136   PAL0910            137        Adelie Penguin (Pygoscelis adeliae)  Anvers      Dream  Adult, 1 Egg Stage         N78A1               Yes  2009-11-16                35.6               17.5                191.0         3175.0  FEMALE            8.75984          -25.97696                                                                   NaN\n",
      "137   PAL0910            138        Adelie Penguin (Pygoscelis adeliae)  Anvers      Dream  Adult, 1 Egg Stage         N78A2               Yes  2009-11-16                40.2               20.1                200.0         3975.0    MALE            8.95998          -26.32601                                                                   NaN\n",
      "138   PAL0910            139        Adelie Penguin (Pygoscelis adeliae)  Anvers      Dream  Adult, 1 Egg Stage         N79A1                No  2009-11-16                37.0               16.5                185.0         3400.0  FEMALE            8.61651          -26.07021                                 Nest never observed with full clutch.\n",
      "139   PAL0910            140        Adelie Penguin (Pygoscelis adeliae)  Anvers      Dream  Adult, 1 Egg Stage         N79A2                No  2009-11-16                39.7               17.9                193.0         4250.0    MALE            9.25769          -25.88798                                 Nest never observed with full clutch.\n",
      "140   PAL0910            141        Adelie Penguin (Pygoscelis adeliae)  Anvers      Dream  Adult, 1 Egg Stage         N80A1               Yes  2009-11-14                40.2               17.1                193.0         3400.0  FEMALE            9.28810          -25.54976                                                                   NaN\n",
      "141   PAL0910            142        Adelie Penguin (Pygoscelis adeliae)  Anvers      Dream  Adult, 1 Egg Stage         N80A2               Yes  2009-11-14                40.6               17.2                187.0         3475.0    MALE            9.23408          -26.01549                                                                   NaN\n",
      "142   PAL0910            143        Adelie Penguin (Pygoscelis adeliae)  Anvers      Dream  Adult, 1 Egg Stage         N81A1               Yes  2009-11-16                32.1               15.5                188.0         3050.0  FEMALE            8.79787          -26.61075                                                                   NaN\n",
      "143   PAL0910            144        Adelie Penguin (Pygoscelis adeliae)  Anvers      Dream  Adult, 1 Egg Stage         N81A2               Yes  2009-11-16                40.7               17.0                190.0         3725.0    MALE            9.05674          -25.79529                                                                   NaN\n",
      "144   PAL0910            145        Adelie Penguin (Pygoscelis adeliae)  Anvers      Dream  Adult, 1 Egg Stage         N82A1               Yes  2009-11-16                37.3               16.8                192.0         3000.0  FEMALE            9.06829          -25.85203                                                                   NaN\n",
      "145   PAL0910            146        Adelie Penguin (Pygoscelis adeliae)  Anvers      Dream  Adult, 1 Egg Stage         N82A2               Yes  2009-11-16                39.0               18.7                185.0         3650.0    MALE            9.22033          -26.03442                                                                   NaN\n",
      "146   PAL0910            147        Adelie Penguin (Pygoscelis adeliae)  Anvers      Dream  Adult, 1 Egg Stage         N83A1               Yes  2009-11-13                39.2               18.6                190.0         4250.0    MALE            9.11006          -25.79549                                                                   NaN\n",
      "147   PAL0910            148        Adelie Penguin (Pygoscelis adeliae)  Anvers      Dream  Adult, 1 Egg Stage         N83A2               Yes  2009-11-13                36.6               18.4                184.0         3475.0  FEMALE            8.68744          -25.83060                                                                   NaN\n",
      "148   PAL0910            149        Adelie Penguin (Pygoscelis adeliae)  Anvers      Dream  Adult, 1 Egg Stage         N84A1               Yes  2009-11-17                36.0               17.8                195.0         3450.0  FEMALE            8.94332          -25.79189                                                                   NaN\n",
      "149   PAL0910            150        Adelie Penguin (Pygoscelis adeliae)  Anvers      Dream  Adult, 1 Egg Stage         N84A2               Yes  2009-11-17                37.8               18.1                193.0         3750.0    MALE            8.97533          -26.03495                                                                   NaN\n",
      "150   PAL0910            151        Adelie Penguin (Pygoscelis adeliae)  Anvers      Dream  Adult, 1 Egg Stage         N85A1               Yes  2009-11-17                36.0               17.1                187.0         3700.0  FEMALE            8.93465          -26.07081                                                                   NaN\n",
      "151   PAL0910            152        Adelie Penguin (Pygoscelis adeliae)  Anvers      Dream  Adult, 1 Egg Stage         N85A2               Yes  2009-11-17                41.5               18.5                201.0         4000.0    MALE            8.89640          -26.06967                                                                   NaN\n",
      "152   PAL0708              1          Gentoo penguin (Pygoscelis papua)  Anvers     Biscoe  Adult, 1 Egg Stage         N31A1               Yes  2007-11-27                46.1               13.2                211.0         4500.0  FEMALE            7.99300          -25.51390                                                                   NaN\n",
      "153   PAL0708              2          Gentoo penguin (Pygoscelis papua)  Anvers     Biscoe  Adult, 1 Egg Stage         N31A2               Yes  2007-11-27                50.0               16.3                230.0         5700.0    MALE            8.14756          -25.39369                                                                   NaN\n",
      "154   PAL0708              3          Gentoo penguin (Pygoscelis papua)  Anvers     Biscoe  Adult, 1 Egg Stage         N32A1               Yes  2007-11-27                48.7               14.1                210.0         4450.0  FEMALE            8.14705          -25.46172                                                                   NaN\n",
      "155   PAL0708              4          Gentoo penguin (Pygoscelis papua)  Anvers     Biscoe  Adult, 1 Egg Stage         N32A2               Yes  2007-11-27                50.0               15.2                218.0         5700.0    MALE            8.25540          -25.40075                                                                   NaN\n",
      "156   PAL0708              5          Gentoo penguin (Pygoscelis papua)  Anvers     Biscoe  Adult, 1 Egg Stage         N33A1               Yes  2007-11-18                47.6               14.5                215.0         5400.0    MALE            8.23450          -25.54456                                                                   NaN\n",
      "157   PAL0708              6          Gentoo penguin (Pygoscelis papua)  Anvers     Biscoe  Adult, 1 Egg Stage         N33A2               Yes  2007-11-18                46.5               13.5                210.0         4550.0  FEMALE            7.99530          -25.32829                                                                   NaN\n",
      "158   PAL0708              7          Gentoo penguin (Pygoscelis papua)  Anvers     Biscoe  Adult, 1 Egg Stage         N34A1               Yes  2007-11-27                45.4               14.6                211.0         4800.0  FEMALE            8.24515          -25.46782                                                                   NaN\n",
      "159   PAL0708              8          Gentoo penguin (Pygoscelis papua)  Anvers     Biscoe  Adult, 1 Egg Stage         N34A2               Yes  2007-11-27                46.7               15.3                219.0         5200.0    MALE            8.22673          -25.42760                                                                   NaN\n",
      "160   PAL0708              9          Gentoo penguin (Pygoscelis papua)  Anvers     Biscoe  Adult, 1 Egg Stage         N35A1               Yes  2007-11-27                43.3               13.4                209.0         4400.0  FEMALE            8.13643          -25.32176                                                                   NaN\n",
      "161   PAL0708             10          Gentoo penguin (Pygoscelis papua)  Anvers     Biscoe  Adult, 1 Egg Stage         N35A2               Yes  2007-11-27                46.8               15.4                215.0         5150.0    MALE            8.16310          -25.38017                                                                   NaN\n",
      "162   PAL0708             11          Gentoo penguin (Pygoscelis papua)  Anvers     Biscoe  Adult, 1 Egg Stage         N36A1                No  2007-11-27                40.9               13.7                214.0         4650.0  FEMALE            8.19579          -25.39330                                 Nest never observed with full clutch.\n",
      "163   PAL0708             12          Gentoo penguin (Pygoscelis papua)  Anvers     Biscoe  Adult, 1 Egg Stage         N36A2                No  2007-11-27                49.0               16.1                216.0         5550.0    MALE            8.10417          -25.50562                                 Nest never observed with full clutch.\n",
      "164   PAL0708             13          Gentoo penguin (Pygoscelis papua)  Anvers     Biscoe  Adult, 1 Egg Stage         N37A1               Yes  2007-11-29                45.5               13.7                214.0         4650.0  FEMALE            7.77672          -25.41680                                                                   NaN\n",
      "165   PAL0708             14          Gentoo penguin (Pygoscelis papua)  Anvers     Biscoe  Adult, 1 Egg Stage         N37A2               Yes  2007-11-29                48.4               14.6                213.0         5850.0    MALE            7.82080          -25.48025                                                                   NaN\n",
      "166   PAL0708             15          Gentoo penguin (Pygoscelis papua)  Anvers     Biscoe  Adult, 1 Egg Stage         N38A1               Yes  2007-12-03                45.8               14.6                210.0         4200.0  FEMALE            7.79958          -25.62618                                                                   NaN\n",
      "167   PAL0708             16          Gentoo penguin (Pygoscelis papua)  Anvers     Biscoe  Adult, 1 Egg Stage         N38A2               Yes  2007-12-03                49.3               15.7                217.0         5850.0    MALE            8.07137          -25.52473                                                                   NaN\n",
      "168   PAL0708             17          Gentoo penguin (Pygoscelis papua)  Anvers     Biscoe  Adult, 1 Egg Stage         N39A1               Yes  2007-11-27                42.0               13.5                210.0         4150.0  FEMALE            7.63884          -25.52627                                                                   NaN\n",
      "169   PAL0708             18          Gentoo penguin (Pygoscelis papua)  Anvers     Biscoe  Adult, 1 Egg Stage         N39A2               Yes  2007-11-27                49.2               15.2                221.0         6300.0    MALE            8.27376          -25.00169                                                                   NaN\n",
      "170   PAL0708             19          Gentoo penguin (Pygoscelis papua)  Anvers     Biscoe  Adult, 1 Egg Stage         N40A1               Yes  2007-11-27                46.2               14.5                209.0         4800.0  FEMALE            7.84057          -25.37899                                                                   NaN\n",
      "171   PAL0708             20          Gentoo penguin (Pygoscelis papua)  Anvers     Biscoe  Adult, 1 Egg Stage         N40A2               Yes  2007-11-27                48.7               15.1                222.0         5350.0    MALE            7.96491          -25.39587                                                                   NaN\n",
      "172   PAL0708             21          Gentoo penguin (Pygoscelis papua)  Anvers     Biscoe  Adult, 1 Egg Stage         N41A1               Yes  2007-11-27                50.2               14.3                218.0         5700.0    MALE            7.89620          -25.37746                                                                   NaN\n",
      "173   PAL0708             22          Gentoo penguin (Pygoscelis papua)  Anvers     Biscoe  Adult, 1 Egg Stage         N41A2               Yes  2007-11-27                45.1               14.5                215.0         5000.0  FEMALE            7.63220          -25.46569                                                                   NaN\n",
      "174   PAL0708             23          Gentoo penguin (Pygoscelis papua)  Anvers     Biscoe  Adult, 1 Egg Stage         N42A1               Yes  2007-11-27                46.5               14.5                213.0         4400.0  FEMALE            7.90436          -25.39470                                                                   NaN\n",
      "175   PAL0708             24          Gentoo penguin (Pygoscelis papua)  Anvers     Biscoe  Adult, 1 Egg Stage         N42A2               Yes  2007-11-27                46.3               15.8                215.0         5050.0    MALE            7.90971          -25.38157                                                                   NaN\n",
      "176   PAL0708             25          Gentoo penguin (Pygoscelis papua)  Anvers     Biscoe  Adult, 1 Egg Stage         N44A1               Yes  2007-11-29                42.9               13.1                215.0         5000.0  FEMALE            7.68528          -25.39181                                                                   NaN\n",
      "177   PAL0708             26          Gentoo penguin (Pygoscelis papua)  Anvers     Biscoe  Adult, 1 Egg Stage         N44A2               Yes  2007-11-29                46.1               15.1                215.0         5100.0    MALE            7.83733          -25.42826                                                                   NaN\n",
      "178   PAL0708             27          Gentoo penguin (Pygoscelis papua)  Anvers     Biscoe  Adult, 1 Egg Stage         N46A1               Yes  2007-11-29                44.5               14.3                216.0         4100.0     NaN            7.96621          -25.69327                                       Sexing primers did not amplify.\n",
      "179   PAL0708             28          Gentoo penguin (Pygoscelis papua)  Anvers     Biscoe  Adult, 1 Egg Stage         N46A2               Yes  2007-11-29                47.8               15.0                215.0         5650.0    MALE            7.92358          -25.48383                                                                   NaN\n",
      "180   PAL0708             29          Gentoo penguin (Pygoscelis papua)  Anvers     Biscoe  Adult, 1 Egg Stage         N47A1               Yes  2007-11-29                48.2               14.3                210.0         4600.0  FEMALE            7.68870          -25.50811                                                                   NaN\n",
      "181   PAL0708             30          Gentoo penguin (Pygoscelis papua)  Anvers     Biscoe  Adult, 1 Egg Stage         N47A2               Yes  2007-11-29                50.0               15.3                220.0         5550.0    MALE            8.30515          -25.19017                                                                   NaN\n",
      "182   PAL0708             31          Gentoo penguin (Pygoscelis papua)  Anvers     Biscoe  Adult, 1 Egg Stage         N50A1               Yes  2007-11-29                47.3               15.3                222.0         5250.0    MALE                NaN                NaN                                        Not enough blood for isotopes.\n",
      "183   PAL0708             32          Gentoo penguin (Pygoscelis papua)  Anvers     Biscoe  Adult, 1 Egg Stage         N50A2               Yes  2007-11-29                42.8               14.2                209.0         4700.0  FEMALE            7.63452          -25.46327                                                                   NaN\n",
      "184   PAL0708             33          Gentoo penguin (Pygoscelis papua)  Anvers     Biscoe  Adult, 1 Egg Stage         N56A1               Yes  2007-12-03                45.1               14.5                207.0         5050.0  FEMALE            7.97408          -25.53768                                                                   NaN\n",
      "185   PAL0708             34          Gentoo penguin (Pygoscelis papua)  Anvers     Biscoe  Adult, 1 Egg Stage         N56A2               Yes  2007-12-03                59.6               17.0                230.0         6050.0    MALE            7.76843          -25.68210                                                                   NaN\n",
      "186   PAL0809             35          Gentoo penguin (Pygoscelis papua)  Anvers     Biscoe  Adult, 1 Egg Stage          N2A1               Yes  2008-11-13                49.1               14.8                220.0         5150.0  FEMALE            7.89744          -26.63405                                                                   NaN\n",
      "187   PAL0809             36          Gentoo penguin (Pygoscelis papua)  Anvers     Biscoe  Adult, 1 Egg Stage          N2A2               Yes  2008-11-13                48.4               16.3                220.0         5400.0    MALE            8.03659          -26.86127                                                                   NaN\n",
      "188   PAL0809             37          Gentoo penguin (Pygoscelis papua)  Anvers     Biscoe  Adult, 1 Egg Stage          N4A1               Yes  2008-11-02                42.6               13.7                213.0         4950.0  FEMALE            7.96935          -26.70968                                                                   NaN\n",
      "189   PAL0809             38          Gentoo penguin (Pygoscelis papua)  Anvers     Biscoe  Adult, 1 Egg Stage          N4A2               Yes  2008-11-02                44.4               17.3                219.0         5250.0    MALE            8.13746          -26.79093                                                                   NaN\n",
      "190   PAL0809             39          Gentoo penguin (Pygoscelis papua)  Anvers     Biscoe  Adult, 1 Egg Stage          N5A1               Yes  2008-11-09                44.0               13.6                208.0         4350.0  FEMALE            8.01979          -26.68311                                                                   NaN\n",
      "191   PAL0809             40          Gentoo penguin (Pygoscelis papua)  Anvers     Biscoe  Adult, 1 Egg Stage          N5A2               Yes  2008-11-09                48.7               15.7                208.0         5350.0    MALE            8.14776          -26.84506                                                                   NaN\n",
      "192   PAL0809             41          Gentoo penguin (Pygoscelis papua)  Anvers     Biscoe  Adult, 1 Egg Stage          N6A1                No  2008-11-04                42.7               13.7                208.0         3950.0  FEMALE            8.14567          -26.59467                                 Nest never observed with full clutch.\n",
      "193   PAL0809             42          Gentoo penguin (Pygoscelis papua)  Anvers     Biscoe  Adult, 1 Egg Stage          N6A2                No  2008-11-04                49.6               16.0                225.0         5700.0    MALE            8.38324          -26.84272                                 Nest never observed with full clutch.\n",
      "194   PAL0809             43          Gentoo penguin (Pygoscelis papua)  Anvers     Biscoe  Adult, 1 Egg Stage          N7A1               Yes  2008-11-04                45.3               13.7                210.0         4300.0  FEMALE            8.37615          -26.72791                                                                   NaN\n",
      "195   PAL0809             44          Gentoo penguin (Pygoscelis papua)  Anvers     Biscoe  Adult, 1 Egg Stage          N7A2               Yes  2008-11-04                49.6               15.0                216.0         4750.0    MALE            8.26548          -26.76990                                                                   NaN\n",
      "196   PAL0809             45          Gentoo penguin (Pygoscelis papua)  Anvers     Biscoe  Adult, 1 Egg Stage          N8A1               Yes  2008-11-03                50.5               15.9                222.0         5550.0    MALE            8.46894          -26.60436                                                                   NaN\n",
      "197   PAL0809             46          Gentoo penguin (Pygoscelis papua)  Anvers     Biscoe  Adult, 1 Egg Stage          N8A2               Yes  2008-11-03                43.6               13.9                217.0         4900.0  FEMALE            8.27141          -26.77650                                                                   NaN\n",
      "198   PAL0809             47          Gentoo penguin (Pygoscelis papua)  Anvers     Biscoe  Adult, 1 Egg Stage         N11A1                No  2008-11-09                45.5               13.9                210.0         4200.0  FEMALE            8.47829          -26.61788                                 Nest never observed with full clutch.\n",
      "199   PAL0809             48          Gentoo penguin (Pygoscelis papua)  Anvers     Biscoe  Adult, 1 Egg Stage         N11A2                No  2008-11-09                50.5               15.9                225.0         5400.0    MALE            8.65803          -26.57585                                 Nest never observed with full clutch.\n",
      "200   PAL0809             49          Gentoo penguin (Pygoscelis papua)  Anvers     Biscoe  Adult, 1 Egg Stage         N12A1               Yes  2008-11-02                44.9               13.3                213.0         5100.0  FEMALE            8.45167          -26.89644                                                                   NaN\n",
      "201   PAL0809             50          Gentoo penguin (Pygoscelis papua)  Anvers     Biscoe  Adult, 1 Egg Stage         N12A2               Yes  2008-11-02                45.2               15.8                215.0         5300.0    MALE            8.55868          -26.67799                                                                   NaN\n",
      "202   PAL0809             51          Gentoo penguin (Pygoscelis papua)  Anvers     Biscoe  Adult, 1 Egg Stage         N13A1               Yes  2008-11-04                46.6               14.2                210.0         4850.0  FEMALE            8.38289          -26.86352                                                                   NaN\n",
      "203   PAL0809             52          Gentoo penguin (Pygoscelis papua)  Anvers     Biscoe  Adult, 1 Egg Stage         N13A2               Yes  2008-11-04                48.5               14.1                220.0         5300.0    MALE            8.39867          -26.79358                                                                   NaN\n",
      "204   PAL0809             53          Gentoo penguin (Pygoscelis papua)  Anvers     Biscoe  Adult, 1 Egg Stage         N14A1               Yes  2008-11-04                45.1               14.4                210.0         4400.0  FEMALE            8.51951          -27.01854                                                                   NaN\n",
      "205   PAL0809             54          Gentoo penguin (Pygoscelis papua)  Anvers     Biscoe  Adult, 1 Egg Stage         N14A2               Yes  2008-11-04                50.1               15.0                225.0         5000.0    MALE            8.50153          -26.61414                                                                   NaN\n",
      "206   PAL0809             55          Gentoo penguin (Pygoscelis papua)  Anvers     Biscoe  Adult, 1 Egg Stage         N15A1               Yes  2008-11-04                46.5               14.4                217.0         4900.0  FEMALE            8.48789          -26.83006                                                                   NaN\n",
      "207   PAL0809             56          Gentoo penguin (Pygoscelis papua)  Anvers     Biscoe  Adult, 1 Egg Stage         N15A2               Yes  2008-11-04                45.0               15.4                220.0         5050.0    MALE            8.63488          -26.75621                                                                   NaN\n",
      "208   PAL0809             57          Gentoo penguin (Pygoscelis papua)  Anvers     Biscoe  Adult, 1 Egg Stage         N16A1               Yes  2008-11-03                43.8               13.9                208.0         4300.0  FEMALE            8.58319          -26.84415                                                                   NaN\n",
      "209   PAL0809             58          Gentoo penguin (Pygoscelis papua)  Anvers     Biscoe  Adult, 1 Egg Stage         N16A2               Yes  2008-11-03                45.5               15.0                220.0         5000.0    MALE            8.63604          -26.74890                                                                   NaN\n",
      "210   PAL0809             59          Gentoo penguin (Pygoscelis papua)  Anvers     Biscoe  Adult, 1 Egg Stage         N17A1               Yes  2008-11-06                43.2               14.5                208.0         4450.0  FEMALE            8.48367          -26.86485                                                                   NaN\n",
      "211   PAL0809             60          Gentoo penguin (Pygoscelis papua)  Anvers     Biscoe  Adult, 1 Egg Stage         N17A2               Yes  2008-11-06                50.4               15.3                224.0         5550.0    MALE            8.74647          -26.79846                                                                   NaN\n",
      "212   PAL0809             61          Gentoo penguin (Pygoscelis papua)  Anvers     Biscoe  Adult, 1 Egg Stage         N18A1               Yes  2008-11-03                45.3               13.8                208.0         4200.0  FEMALE            8.65015          -26.79053                                                                   NaN\n",
      "213   PAL0809             62          Gentoo penguin (Pygoscelis papua)  Anvers     Biscoe  Adult, 1 Egg Stage         N18A2               Yes  2008-11-03                46.2               14.9                221.0         5300.0    MALE            8.60092          -26.84374                                                                   NaN\n",
      "214   PAL0809             63          Gentoo penguin (Pygoscelis papua)  Anvers     Biscoe  Adult, 1 Egg Stage         N19A1               Yes  2008-11-13                45.7               13.9                214.0         4400.0  FEMALE            8.62870          -26.60484                                                                   NaN\n",
      "215   PAL0809             64          Gentoo penguin (Pygoscelis papua)  Anvers     Biscoe  Adult, 1 Egg Stage         N19A2               Yes  2008-11-13                54.3               15.7                231.0         5650.0    MALE            8.49662          -26.84166                                                                   NaN\n",
      "216   PAL0809             65          Gentoo penguin (Pygoscelis papua)  Anvers     Biscoe  Adult, 1 Egg Stage         N20A1               Yes  2008-11-04                45.8               14.2                219.0         4700.0  FEMALE            8.60447          -26.61601                                                                   NaN\n",
      "217   PAL0809             66          Gentoo penguin (Pygoscelis papua)  Anvers     Biscoe  Adult, 1 Egg Stage         N20A2               Yes  2008-11-04                49.8               16.8                230.0         5700.0    MALE            8.47067          -26.69166                                                                   NaN\n",
      "218   PAL0809             67          Gentoo penguin (Pygoscelis papua)  Anvers     Biscoe  Adult, 1 Egg Stage         N51A1               Yes  2008-11-09                46.2               14.4                214.0         4650.0     NaN            8.24253          -26.81540                                       Sexing primers did not amplify.\n",
      "219   PAL0809             68          Gentoo penguin (Pygoscelis papua)  Anvers     Biscoe  Adult, 1 Egg Stage         N51A2               Yes  2008-11-09                49.5               16.2                229.0         5800.0    MALE            8.49854          -26.74809                                                                   NaN\n",
      "220   PAL0809             69          Gentoo penguin (Pygoscelis papua)  Anvers     Biscoe  Adult, 1 Egg Stage         N53A1               Yes  2008-11-13                43.5               14.2                220.0         4700.0  FEMALE            8.64931          -26.68867                                                                   NaN\n",
      "221   PAL0809             70          Gentoo penguin (Pygoscelis papua)  Anvers     Biscoe  Adult, 1 Egg Stage         N53A2               Yes  2008-11-13                50.7               15.0                223.0         5550.0    MALE            8.63551          -26.74249                                                                   NaN\n",
      "222   PAL0809             71          Gentoo penguin (Pygoscelis papua)  Anvers     Biscoe  Adult, 1 Egg Stage         N54A1               Yes  2008-11-03                47.7               15.0                216.0         4750.0  FEMALE            8.53018          -26.72751                                                                   NaN\n",
      "223   PAL0809             72          Gentoo penguin (Pygoscelis papua)  Anvers     Biscoe  Adult, 1 Egg Stage         N54A2               Yes  2008-11-03                46.4               15.6                221.0         5000.0    MALE            8.35078          -26.70783                                                                   NaN\n",
      "224   PAL0809             73          Gentoo penguin (Pygoscelis papua)  Anvers     Biscoe  Adult, 1 Egg Stage         N55A1               Yes  2008-11-09                48.2               15.6                221.0         5100.0    MALE            8.24651          -26.66958                                                                   NaN\n",
      "225   PAL0809             74          Gentoo penguin (Pygoscelis papua)  Anvers     Biscoe  Adult, 1 Egg Stage         N55A2               Yes  2008-11-09                46.5               14.8                217.0         5200.0  FEMALE            8.58487          -26.59290                                                                   NaN\n",
      "226   PAL0809             75          Gentoo penguin (Pygoscelis papua)  Anvers     Biscoe  Adult, 1 Egg Stage         N56A1               Yes  2008-11-06                46.4               15.0                216.0         4700.0  FEMALE            8.47938          -26.95470                                                                   NaN\n",
      "227   PAL0809             76          Gentoo penguin (Pygoscelis papua)  Anvers     Biscoe  Adult, 1 Egg Stage         N56A2               Yes  2008-11-06                48.6               16.0                230.0         5800.0    MALE            8.59640          -26.71199                                                                   NaN\n",
      "228   PAL0809             77          Gentoo penguin (Pygoscelis papua)  Anvers     Biscoe  Adult, 1 Egg Stage         N58A1               Yes  2008-11-06                47.5               14.2                209.0         4600.0  FEMALE            8.39299          -26.78733                                                                   NaN\n",
      "229   PAL0809             78          Gentoo penguin (Pygoscelis papua)  Anvers     Biscoe  Adult, 1 Egg Stage         N58A2               Yes  2008-11-06                51.1               16.3                220.0         6000.0    MALE            8.40327          -26.76821                                                                   NaN\n",
      "230   PAL0809             79          Gentoo penguin (Pygoscelis papua)  Anvers     Biscoe  Adult, 1 Egg Stage         N60A1               Yes  2008-11-09                45.2               13.8                215.0         4750.0  FEMALE            8.24694          -26.65359                                                                   NaN\n",
      "231   PAL0809             80          Gentoo penguin (Pygoscelis papua)  Anvers     Biscoe  Adult, 1 Egg Stage         N60A2               Yes  2008-11-09                45.2               16.4                223.0         5950.0    MALE            8.19749          -26.65931                                                                   NaN\n",
      "232   PAL0910             81          Gentoo penguin (Pygoscelis papua)  Anvers     Biscoe  Adult, 1 Egg Stage          N1A1               Yes  2009-11-18                49.1               14.5                212.0         4625.0  FEMALE            8.35802          -26.27660                                                                   NaN\n",
      "233   PAL0910             82          Gentoo penguin (Pygoscelis papua)  Anvers     Biscoe  Adult, 1 Egg Stage          N1A2               Yes  2009-11-18                52.5               15.6                221.0         5450.0    MALE            8.28601          -26.27573                                                                   NaN\n",
      "234   PAL0910             83          Gentoo penguin (Pygoscelis papua)  Anvers     Biscoe  Adult, 1 Egg Stage          N6A1               Yes  2009-11-15                47.4               14.6                212.0         4725.0  FEMALE            8.19101          -26.24369                                                                   NaN\n",
      "235   PAL0910             84          Gentoo penguin (Pygoscelis papua)  Anvers     Biscoe  Adult, 1 Egg Stage          N6A2               Yes  2009-11-15                50.0               15.9                224.0         5350.0    MALE            8.20042          -26.39677                                                                   NaN\n",
      "236   PAL0910             85          Gentoo penguin (Pygoscelis papua)  Anvers     Biscoe  Adult, 1 Egg Stage          N8A1               Yes  2009-11-22                44.9               13.8                212.0         4750.0  FEMALE            8.11238          -26.20372                                                                   NaN\n",
      "237   PAL0910             86          Gentoo penguin (Pygoscelis papua)  Anvers     Biscoe  Adult, 1 Egg Stage          N8A2               Yes  2009-11-22                50.8               17.3                228.0         5600.0    MALE            8.27428          -26.30019                                                                   NaN\n",
      "238   PAL0910             87          Gentoo penguin (Pygoscelis papua)  Anvers     Biscoe  Adult, 1 Egg Stage         N13A1               Yes  2009-11-20                43.4               14.4                218.0         4600.0  FEMALE            8.23468          -26.18599                                                                   NaN\n",
      "239   PAL0910             88          Gentoo penguin (Pygoscelis papua)  Anvers     Biscoe  Adult, 1 Egg Stage         N13A2               Yes  2009-11-20                51.3               14.2                218.0         5300.0    MALE            8.15426          -26.34330                                                                   NaN\n",
      "240   PAL0910             89          Gentoo penguin (Pygoscelis papua)  Anvers     Biscoe  Adult, 1 Egg Stage         N14A1               Yes  2009-11-25                47.5               14.0                212.0         4875.0  FEMALE            8.12691          -26.23613                                                                   NaN\n",
      "241   PAL0910             90          Gentoo penguin (Pygoscelis papua)  Anvers     Biscoe  Adult, 1 Egg Stage         N14A2               Yes  2009-11-25                52.1               17.0                230.0         5550.0    MALE            8.27595          -26.11657                                                                   NaN\n",
      "242   PAL0910             91          Gentoo penguin (Pygoscelis papua)  Anvers     Biscoe  Adult, 1 Egg Stage         N15A1               Yes  2009-11-25                47.5               15.0                218.0         4950.0  FEMALE            8.29671          -26.08547                                                                   NaN\n",
      "243   PAL0910             92          Gentoo penguin (Pygoscelis papua)  Anvers     Biscoe  Adult, 1 Egg Stage         N15A2               Yes  2009-11-25                52.2               17.1                228.0         5400.0    MALE            8.36701          -25.89834                                                                   NaN\n",
      "244   PAL0910             93          Gentoo penguin (Pygoscelis papua)  Anvers     Biscoe  Adult, 1 Egg Stage         N18A1               Yes  2009-12-01                45.5               14.5                212.0         4750.0  FEMALE            8.15566          -26.22848                                                                   NaN\n",
      "245   PAL0910             94          Gentoo penguin (Pygoscelis papua)  Anvers     Biscoe  Adult, 1 Egg Stage         N18A2               Yes  2009-12-01                49.5               16.1                224.0         5650.0    MALE            8.83352          -25.69195                                                                   NaN\n",
      "246   PAL0910             95          Gentoo penguin (Pygoscelis papua)  Anvers     Biscoe  Adult, 1 Egg Stage         N19A1               Yes  2009-11-27                44.5               14.7                214.0         4850.0  FEMALE            8.20106          -26.16524                                                                   NaN\n",
      "247   PAL0910             96          Gentoo penguin (Pygoscelis papua)  Anvers     Biscoe  Adult, 1 Egg Stage         N19A2               Yes  2009-11-27                50.8               15.7                226.0         5200.0    MALE            8.27102          -26.11244                                                                   NaN\n",
      "248   PAL0910             97          Gentoo penguin (Pygoscelis papua)  Anvers     Biscoe  Adult, 1 Egg Stage         N20A1               Yes  2009-11-18                49.4               15.8                216.0         4925.0    MALE            8.03624          -26.06594                                                                   NaN\n",
      "249   PAL0910             98          Gentoo penguin (Pygoscelis papua)  Anvers     Biscoe  Adult, 1 Egg Stage         N20A2               Yes  2009-11-18                46.9               14.6                222.0         4875.0  FEMALE            7.88810          -26.04726                                                                   NaN\n",
      "250   PAL0910             99          Gentoo penguin (Pygoscelis papua)  Anvers     Biscoe  Adult, 1 Egg Stage         N21A1               Yes  2009-11-18                48.4               14.4                203.0         4625.0  FEMALE            8.16582          -26.13971                                                                   NaN\n",
      "251   PAL0910            100          Gentoo penguin (Pygoscelis papua)  Anvers     Biscoe  Adult, 1 Egg Stage         N21A2               Yes  2009-11-18                51.1               16.5                225.0         5250.0    MALE            8.20660          -26.36863                                                                   NaN\n",
      "252   PAL0910            101          Gentoo penguin (Pygoscelis papua)  Anvers     Biscoe  Adult, 1 Egg Stage         N22A1               Yes  2009-11-22                48.5               15.0                219.0         4850.0  FEMALE            8.10231          -26.18763                                                                   NaN\n",
      "253   PAL0910            102          Gentoo penguin (Pygoscelis papua)  Anvers     Biscoe  Adult, 1 Egg Stage         N22A2               Yes  2009-11-22                55.9               17.0                228.0         5600.0    MALE            8.31180          -26.35425                                                                   NaN\n",
      "254   PAL0910            103          Gentoo penguin (Pygoscelis papua)  Anvers     Biscoe  Adult, 1 Egg Stage         N23A1               Yes  2009-11-18                47.2               15.5                215.0         4975.0  FEMALE            8.30817          -26.21651                                                                   NaN\n",
      "255   PAL0910            104          Gentoo penguin (Pygoscelis papua)  Anvers     Biscoe  Adult, 1 Egg Stage         N23A2               Yes  2009-11-18                49.1               15.0                228.0         5500.0    MALE            8.65914          -25.79203                                                                   NaN\n",
      "256   PAL0910            105          Gentoo penguin (Pygoscelis papua)  Anvers     Biscoe  Adult, 1 Egg Stage         N24A1               Yes  2009-12-01                47.3               13.8                216.0         4725.0     NaN            8.25818          -26.23886                                       Sexing primers did not amplify.\n",
      "257   PAL0910            106          Gentoo penguin (Pygoscelis papua)  Anvers     Biscoe  Adult, 1 Egg Stage         N24A2               Yes  2009-12-01                46.8               16.1                215.0         5500.0    MALE            8.32359          -26.05756                                                                   NaN\n",
      "258   PAL0910            107          Gentoo penguin (Pygoscelis papua)  Anvers     Biscoe  Adult, 1 Egg Stage         N28A1               Yes  2009-11-10                41.7               14.7                210.0         4700.0  FEMALE            8.12311          -26.44815                                                                   NaN\n",
      "259   PAL0910            108          Gentoo penguin (Pygoscelis papua)  Anvers     Biscoe  Adult, 1 Egg Stage         N28A2               Yes  2009-11-10                53.4               15.8                219.0         5500.0    MALE            8.41017          -26.33867                                                                   NaN\n",
      "260   PAL0910            109          Gentoo penguin (Pygoscelis papua)  Anvers     Biscoe  Adult, 1 Egg Stage         N29A1               Yes  2009-11-09                43.3               14.0                208.0         4575.0  FEMALE            8.42070          -26.38092                                                                   NaN\n",
      "261   PAL0910            110          Gentoo penguin (Pygoscelis papua)  Anvers     Biscoe  Adult, 1 Egg Stage         N29A2               Yes  2009-11-09                48.1               15.1                209.0         5500.0    MALE            8.45738          -26.22664                                                                   NaN\n",
      "262   PAL0910            111          Gentoo penguin (Pygoscelis papua)  Anvers     Biscoe  Adult, 1 Egg Stage         N32A1               Yes  2009-11-20                50.5               15.2                216.0         5000.0  FEMALE            8.24691          -26.18466                                                                   NaN\n",
      "263   PAL0910            112          Gentoo penguin (Pygoscelis papua)  Anvers     Biscoe  Adult, 1 Egg Stage         N32A2               Yes  2009-11-20                49.8               15.9                229.0         5950.0    MALE            8.29226          -26.21019                                                                   NaN\n",
      "264   PAL0910            113          Gentoo penguin (Pygoscelis papua)  Anvers     Biscoe  Adult, 1 Egg Stage         N34A1               Yes  2009-11-27                43.5               15.2                213.0         4650.0  FEMALE            8.21634          -26.11046                                                                   NaN\n",
      "265   PAL0910            114          Gentoo penguin (Pygoscelis papua)  Anvers     Biscoe  Adult, 1 Egg Stage         N34A2               Yes  2009-11-27                51.5               16.3                230.0         5500.0    MALE            8.78557          -25.76147                                                                   NaN\n",
      "266   PAL0910            115          Gentoo penguin (Pygoscelis papua)  Anvers     Biscoe  Adult, 1 Egg Stage         N35A1               Yes  2009-11-25                46.2               14.1                217.0         4375.0  FEMALE            8.30231          -25.96013                                                                   NaN\n",
      "267   PAL0910            116          Gentoo penguin (Pygoscelis papua)  Anvers     Biscoe  Adult, 1 Egg Stage         N35A2               Yes  2009-11-25                55.1               16.0                230.0         5850.0    MALE            8.08354          -26.18161                                                                   NaN\n",
      "268   PAL0910            117          Gentoo penguin (Pygoscelis papua)  Anvers     Biscoe  Adult, 1 Egg Stage         N36A1               Yes  2009-12-01                44.5               15.7                217.0         4875.0     NaN            8.04111          -26.18444                                       Sexing primers did not amplify.\n",
      "269   PAL0910            118          Gentoo penguin (Pygoscelis papua)  Anvers     Biscoe  Adult, 1 Egg Stage         N36A2               Yes  2009-12-01                48.8               16.2                222.0         6000.0    MALE            8.33825          -25.88547                                                                   NaN\n",
      "270   PAL0910            119          Gentoo penguin (Pygoscelis papua)  Anvers     Biscoe  Adult, 1 Egg Stage         N38A1                No  2009-12-01                47.2               13.7                214.0         4925.0  FEMALE            7.99184          -26.20538                                 Nest never observed with full clutch.\n",
      "271   PAL0910            120          Gentoo penguin (Pygoscelis papua)  Anvers     Biscoe  Adult, 1 Egg Stage         N38A2                No  2009-12-01                 NaN                NaN                  NaN            NaN     NaN                NaN                NaN              Adult not sampled. Nest never observed with full clutch.\n",
      "272   PAL0910            121          Gentoo penguin (Pygoscelis papua)  Anvers     Biscoe  Adult, 1 Egg Stage         N39A1               Yes  2009-11-22                46.8               14.3                215.0         4850.0  FEMALE            8.41151          -26.13832                                                                   NaN\n",
      "273   PAL0910            122          Gentoo penguin (Pygoscelis papua)  Anvers     Biscoe  Adult, 1 Egg Stage         N39A2               Yes  2009-11-22                50.4               15.7                222.0         5750.0    MALE            8.30166          -26.04117                                                                   NaN\n",
      "274   PAL0910            123          Gentoo penguin (Pygoscelis papua)  Anvers     Biscoe  Adult, 1 Egg Stage         N43A1               Yes  2009-11-22                45.2               14.8                212.0         5200.0  FEMALE            8.24246          -26.11969                                                                   NaN\n",
      "275   PAL0910            124          Gentoo penguin (Pygoscelis papua)  Anvers     Biscoe  Adult, 1 Egg Stage         N43A2               Yes  2009-11-22                49.9               16.1                213.0         5400.0    MALE            8.36390          -26.15531                                                                   NaN\n",
      "276   PAL0708              1  Chinstrap penguin (Pygoscelis antarctica)  Anvers      Dream  Adult, 1 Egg Stage         N61A1                No  2007-11-19                46.5               17.9                192.0         3500.0  FEMALE            9.03935          -24.30229                                 Nest never observed with full clutch.\n",
      "277   PAL0708              2  Chinstrap penguin (Pygoscelis antarctica)  Anvers      Dream  Adult, 1 Egg Stage         N61A2                No  2007-11-19                50.0               19.5                196.0         3900.0    MALE            8.92069          -24.23592                                 Nest never observed with full clutch.\n",
      "278   PAL0708              3  Chinstrap penguin (Pygoscelis antarctica)  Anvers      Dream  Adult, 1 Egg Stage         N62A1               Yes  2007-11-26                51.3               19.2                193.0         3650.0    MALE            9.29078          -24.75570                                                                   NaN\n",
      "279   PAL0708              4  Chinstrap penguin (Pygoscelis antarctica)  Anvers      Dream  Adult, 1 Egg Stage         N62A2               Yes  2007-11-26                45.4               18.7                188.0         3525.0  FEMALE            8.64701          -24.62717                                                                   NaN\n",
      "280   PAL0708              5  Chinstrap penguin (Pygoscelis antarctica)  Anvers      Dream  Adult, 1 Egg Stage         N64A1               Yes  2007-11-21                52.7               19.8                197.0         3725.0    MALE            9.00642          -24.61867                                                                   NaN\n",
      "281   PAL0708              6  Chinstrap penguin (Pygoscelis antarctica)  Anvers      Dream  Adult, 1 Egg Stage         N64A2               Yes  2007-11-21                45.2               17.8                198.0         3950.0  FEMALE            8.88942          -24.49433                                                                   NaN\n",
      "282   PAL0708              7  Chinstrap penguin (Pygoscelis antarctica)  Anvers      Dream  Adult, 1 Egg Stage         N66A1               Yes  2007-11-28                46.1               18.2                178.0         3250.0  FEMALE            8.85664          -24.55644                                                                   NaN\n",
      "283   PAL0708              8  Chinstrap penguin (Pygoscelis antarctica)  Anvers      Dream  Adult, 1 Egg Stage         N66A2               Yes  2007-11-28                51.3               18.2                197.0         3750.0    MALE            8.63701          -24.84059                                                                   NaN\n",
      "284   PAL0708              9  Chinstrap penguin (Pygoscelis antarctica)  Anvers      Dream  Adult, 1 Egg Stage         N67A1               Yes  2007-11-21                46.0               18.9                195.0         4150.0  FEMALE            8.47173          -24.29229                                                                   NaN\n",
      "285   PAL0708             10  Chinstrap penguin (Pygoscelis antarctica)  Anvers      Dream  Adult, 1 Egg Stage         N67A2               Yes  2007-11-21                51.3               19.9                198.0         3700.0    MALE            8.79581          -24.36088                                                                   NaN\n",
      "286   PAL0708             11  Chinstrap penguin (Pygoscelis antarctica)  Anvers      Dream  Adult, 1 Egg Stage         N68A1               Yes  2007-11-28                46.6               17.8                193.0         3800.0  FEMALE            8.95063          -24.59897                                                                   NaN\n",
      "287   PAL0708             12  Chinstrap penguin (Pygoscelis antarctica)  Anvers      Dream  Adult, 1 Egg Stage         N68A2               Yes  2007-11-28                51.7               20.3                194.0         3775.0    MALE            8.68747          -24.38751                                                                   NaN\n",
      "288   PAL0708             13  Chinstrap penguin (Pygoscelis antarctica)  Anvers      Dream  Adult, 1 Egg Stage         N69A1               Yes  2007-11-26                47.0               17.3                185.0         3700.0  FEMALE            8.72037          -24.80526                                                                   NaN\n",
      "289   PAL0708             14  Chinstrap penguin (Pygoscelis antarctica)  Anvers      Dream  Adult, 1 Egg Stage         N69A2               Yes  2007-11-26                52.0               18.1                201.0         4050.0    MALE            9.02330          -24.38933                                                                   NaN\n",
      "290   PAL0708             15  Chinstrap penguin (Pygoscelis antarctica)  Anvers      Dream  Adult, 1 Egg Stage         N70A1               Yes  2007-11-22                45.9               17.1                190.0         3575.0  FEMALE            9.12277          -24.90024                                                                   NaN\n",
      "291   PAL0708             16  Chinstrap penguin (Pygoscelis antarctica)  Anvers      Dream  Adult, 1 Egg Stage         N70A2               Yes  2007-11-22                50.5               19.6                201.0         4050.0    MALE            9.80590          -24.72940                                                                   NaN\n",
      "292   PAL0708             17  Chinstrap penguin (Pygoscelis antarctica)  Anvers      Dream  Adult, 1 Egg Stage         N71A1                No  2007-11-30                50.3               20.0                197.0         3300.0    MALE           10.02019          -24.54704                                 Nest never observed with full clutch.\n",
      "293   PAL0708             18  Chinstrap penguin (Pygoscelis antarctica)  Anvers      Dream  Adult, 1 Egg Stage         N71A2                No  2007-11-30                58.0               17.8                181.0         3700.0  FEMALE            9.14382          -24.57994                                 Nest never observed with full clutch.\n",
      "294   PAL0708             19  Chinstrap penguin (Pygoscelis antarctica)  Anvers      Dream  Adult, 1 Egg Stage         N72A1               Yes  2007-11-30                46.4               18.6                190.0         3450.0  FEMALE            9.32105          -24.64162                                                                   NaN\n",
      "295   PAL0708             20  Chinstrap penguin (Pygoscelis antarctica)  Anvers      Dream  Adult, 1 Egg Stage         N72A2               Yes  2007-11-30                49.2               18.2                195.0         4400.0    MALE            9.27158          -24.64335                                                                   NaN\n",
      "296   PAL0708             21  Chinstrap penguin (Pygoscelis antarctica)  Anvers      Dream  Adult, 1 Egg Stage         N73A1               Yes  2007-12-03                42.4               17.3                181.0         3600.0  FEMALE            9.35138          -24.68790                                                                   NaN\n",
      "297   PAL0708             22  Chinstrap penguin (Pygoscelis antarctica)  Anvers      Dream  Adult, 1 Egg Stage         N73A2               Yes  2007-12-03                48.5               17.5                191.0         3400.0    MALE            9.42666          -24.26375                                                                   NaN\n",
      "298   PAL0708             23  Chinstrap penguin (Pygoscelis antarctica)  Anvers      Dream  Adult, 1 Egg Stage         N85A1                No  2007-11-28                43.2               16.6                187.0         2900.0  FEMALE            9.35416          -25.01185                                 Nest never observed with full clutch.\n",
      "299   PAL0708             24  Chinstrap penguin (Pygoscelis antarctica)  Anvers      Dream  Adult, 1 Egg Stage         N85A2                No  2007-11-28                50.6               19.4                193.0         3800.0    MALE            9.28153          -24.97134                                 Nest never observed with full clutch.\n",
      "300   PAL0708             25  Chinstrap penguin (Pygoscelis antarctica)  Anvers      Dream  Adult, 1 Egg Stage         N89A1                No  2007-11-28                46.7               17.9                195.0         3300.0  FEMALE            9.74144          -24.59467                                 Nest never observed with full clutch.\n",
      "301   PAL0708             26  Chinstrap penguin (Pygoscelis antarctica)  Anvers      Dream  Adult, 1 Egg Stage         N89A2                No  2007-11-28                52.0               19.0                197.0         4150.0    MALE            9.36799          -24.47142                                 Nest never observed with full clutch.\n",
      "302   PAL0809             27  Chinstrap penguin (Pygoscelis antarctica)  Anvers      Dream  Adult, 1 Egg Stage         N61A1                No  2008-11-25                50.5               18.4                200.0         3400.0  FEMALE            8.93990          -23.89017                                 Nest never observed with full clutch.\n",
      "303   PAL0809             28  Chinstrap penguin (Pygoscelis antarctica)  Anvers      Dream  Adult, 1 Egg Stage         N61A2                No  2008-11-25                49.5               19.0                200.0         3800.0    MALE            9.63074          -24.34684                                 Nest never observed with full clutch.\n",
      "304   PAL0809             29  Chinstrap penguin (Pygoscelis antarctica)  Anvers      Dream  Adult, 1 Egg Stage         N62A1               Yes  2008-11-14                46.4               17.8                191.0         3700.0  FEMALE            9.37369          -24.52896                                                                   NaN\n",
      "305   PAL0809             30  Chinstrap penguin (Pygoscelis antarctica)  Anvers      Dream  Adult, 1 Egg Stage         N62A2               Yes  2008-11-14                52.8               20.0                205.0         4550.0    MALE            9.25177          -24.69638                                                                   NaN\n",
      "306   PAL0809             31  Chinstrap penguin (Pygoscelis antarctica)  Anvers      Dream  Adult, 1 Egg Stage         N63A1               Yes  2008-11-24                40.9               16.6                187.0         3200.0  FEMALE            9.08458          -24.54903                                                                   NaN\n",
      "307   PAL0809             32  Chinstrap penguin (Pygoscelis antarctica)  Anvers      Dream  Adult, 1 Egg Stage         N63A2               Yes  2008-11-24                54.2               20.8                201.0         4300.0    MALE            9.49283          -24.59996                                                                   NaN\n",
      "308   PAL0809             33  Chinstrap penguin (Pygoscelis antarctica)  Anvers      Dream  Adult, 1 Egg Stage         N65A1               Yes  2008-11-24                42.5               16.7                187.0         3350.0  FEMALE            9.36668          -24.45195                                                                   NaN\n",
      "309   PAL0809             34  Chinstrap penguin (Pygoscelis antarctica)  Anvers      Dream  Adult, 1 Egg Stage         N65A2               Yes  2008-11-24                51.0               18.8                203.0         4100.0    MALE            9.23196          -24.17282                                                                   NaN\n",
      "310   PAL0809             35  Chinstrap penguin (Pygoscelis antarctica)  Anvers      Dream  Adult, 1 Egg Stage         N67A1               Yes  2008-11-25                49.7               18.6                195.0         3600.0    MALE            9.75486          -24.31198                                                                   NaN\n",
      "311   PAL0809             36  Chinstrap penguin (Pygoscelis antarctica)  Anvers      Dream  Adult, 1 Egg Stage         N67A2               Yes  2008-11-25                47.5               16.8                199.0         3900.0  FEMALE            9.07825          -25.14550                                                                   NaN\n",
      "312   PAL0809             37  Chinstrap penguin (Pygoscelis antarctica)  Anvers      Dream  Adult, 1 Egg Stage         N69A1               Yes  2008-11-14                47.6               18.3                195.0         3850.0  FEMALE            8.83502          -24.65859                                                                   NaN\n",
      "313   PAL0809             38  Chinstrap penguin (Pygoscelis antarctica)  Anvers      Dream  Adult, 1 Egg Stage         N69A2               Yes  2008-11-14                52.0               20.7                210.0         4800.0    MALE            9.43146          -24.68440                                                                   NaN\n",
      "314   PAL0809             39  Chinstrap penguin (Pygoscelis antarctica)  Anvers      Dream  Adult, 1 Egg Stage         N72A1                No  2008-11-24                46.9               16.6                192.0         2700.0  FEMALE            9.80589          -24.73735                                 Nest never observed with full clutch.\n",
      "315   PAL0809             40  Chinstrap penguin (Pygoscelis antarctica)  Anvers      Dream  Adult, 1 Egg Stage         N72A2                No  2008-11-24                53.5               19.9                205.0         4500.0    MALE           10.02544          -24.90816                                 Nest never observed with full clutch.\n",
      "316   PAL0809             41  Chinstrap penguin (Pygoscelis antarctica)  Anvers      Dream  Adult, 1 Egg Stage         N74A1               Yes  2008-11-24                49.0               19.5                210.0         3950.0    MALE            9.53262          -24.66867                                                                   NaN\n",
      "317   PAL0809             42  Chinstrap penguin (Pygoscelis antarctica)  Anvers      Dream  Adult, 1 Egg Stage         N74A2               Yes  2008-11-24                46.2               17.5                187.0         3650.0  FEMALE            9.61734          -24.66188                                                                   NaN\n",
      "318   PAL0809             43  Chinstrap penguin (Pygoscelis antarctica)  Anvers      Dream  Adult, 1 Egg Stage         N75A1               Yes  2008-11-14                50.9               19.1                196.0         3550.0    MALE           10.02372          -24.86594                                                                   NaN\n",
      "319   PAL0809             44  Chinstrap penguin (Pygoscelis antarctica)  Anvers      Dream  Adult, 1 Egg Stage         N75A2               Yes  2008-11-14                45.5               17.0                196.0         3500.0  FEMALE            9.36493          -24.66259                                                                   NaN\n",
      "320   PAL0910             45  Chinstrap penguin (Pygoscelis antarctica)  Anvers      Dream  Adult, 1 Egg Stage         N86A1               Yes  2009-11-17                50.9               17.9                196.0         3675.0  FEMALE            9.43684          -24.16566                                                                   NaN\n",
      "321   PAL0910             46  Chinstrap penguin (Pygoscelis antarctica)  Anvers      Dream  Adult, 1 Egg Stage         N86A2               Yes  2009-11-17                50.8               18.5                201.0         4450.0    MALE            9.45827          -24.35575                                                                   NaN\n",
      "322   PAL0910             47  Chinstrap penguin (Pygoscelis antarctica)  Anvers      Dream  Adult, 1 Egg Stage         N87A1               Yes  2009-11-27                50.1               17.9                190.0         3400.0  FEMALE            9.46819          -24.45721                                                                   NaN\n",
      "323   PAL0910             48  Chinstrap penguin (Pygoscelis antarctica)  Anvers      Dream  Adult, 1 Egg Stage         N87A2               Yes  2009-11-27                49.0               19.6                212.0         4300.0    MALE            9.34089          -24.45189                                                                   NaN\n",
      "324   PAL0910             49  Chinstrap penguin (Pygoscelis antarctica)  Anvers      Dream  Adult, 1 Egg Stage         N88A1               Yes  2009-11-23                51.5               18.7                187.0         3250.0    MALE            9.68950          -24.43062                                                                   NaN\n",
      "325   PAL0910             50  Chinstrap penguin (Pygoscelis antarctica)  Anvers      Dream  Adult, 1 Egg Stage         N88A2               Yes  2009-11-23                49.8               17.3                198.0         3675.0  FEMALE            9.32169          -24.41562                                                                   NaN\n",
      "326   PAL0910             51  Chinstrap penguin (Pygoscelis antarctica)  Anvers      Dream  Adult, 1 Egg Stage         N90A1               Yes  2009-11-21                48.1               16.4                199.0         3325.0  FEMALE            9.46929          -24.48403                                                                   NaN\n",
      "327   PAL0910             52  Chinstrap penguin (Pygoscelis antarctica)  Anvers      Dream  Adult, 1 Egg Stage         N90A2               Yes  2009-11-21                51.4               19.0                201.0         3950.0    MALE            9.43782          -24.36202                                                                   NaN\n",
      "328   PAL0910             53  Chinstrap penguin (Pygoscelis antarctica)  Anvers      Dream  Adult, 1 Egg Stage         N92A1               Yes  2009-11-23                45.7               17.3                193.0         3600.0  FEMALE            9.41500          -24.80500                                                                   NaN\n",
      "329   PAL0910             54  Chinstrap penguin (Pygoscelis antarctica)  Anvers      Dream  Adult, 1 Egg Stage         N92A2               Yes  2009-11-23                50.7               19.7                203.0         4050.0    MALE            9.93727          -24.59066                                                                   NaN\n",
      "330   PAL0910             55  Chinstrap penguin (Pygoscelis antarctica)  Anvers      Dream  Adult, 1 Egg Stage         N93A1               Yes  2009-11-27                42.5               17.3                187.0         3350.0  FEMALE            9.56534          -24.60882                                                                   NaN\n",
      "331   PAL0910             56  Chinstrap penguin (Pygoscelis antarctica)  Anvers      Dream  Adult, 1 Egg Stage         N93A2               Yes  2009-11-27                52.2               18.8                197.0         3450.0    MALE            9.77528          -24.56481                                                                   NaN\n",
      "332   PAL0910             57  Chinstrap penguin (Pygoscelis antarctica)  Anvers      Dream  Adult, 1 Egg Stage         N94A1               Yes  2009-11-21                45.2               16.6                191.0         3250.0  FEMALE            9.62357          -24.78984                                                                   NaN\n",
      "333   PAL0910             58  Chinstrap penguin (Pygoscelis antarctica)  Anvers      Dream  Adult, 1 Egg Stage         N94A2               Yes  2009-11-21                49.3               19.9                203.0         4050.0    MALE            9.88809          -24.59513                                                                   NaN\n",
      "334   PAL0910             59  Chinstrap penguin (Pygoscelis antarctica)  Anvers      Dream  Adult, 1 Egg Stage         N95A1               Yes  2009-11-21                50.2               18.8                202.0         3800.0    MALE            9.74492          -24.40400                                                                   NaN\n",
      "335   PAL0910             60  Chinstrap penguin (Pygoscelis antarctica)  Anvers      Dream  Adult, 1 Egg Stage         N95A2               Yes  2009-11-21                45.6               19.4                194.0         3525.0  FEMALE            9.46985          -24.65786                                                                   NaN\n",
      "336   PAL0910             61  Chinstrap penguin (Pygoscelis antarctica)  Anvers      Dream  Adult, 1 Egg Stage         N96A1               Yes  2009-11-27                51.9               19.5                206.0         3950.0    MALE                NaN          -23.78767                                   No delta15N data received from lab.\n",
      "337   PAL0910             62  Chinstrap penguin (Pygoscelis antarctica)  Anvers      Dream  Adult, 1 Egg Stage         N96A2               Yes  2009-11-27                46.8               16.5                189.0         3650.0  FEMALE            9.65061          -24.48153                                                                   NaN\n",
      "338   PAL0910             63  Chinstrap penguin (Pygoscelis antarctica)  Anvers      Dream  Adult, 1 Egg Stage         N98A1               Yes  2009-11-19                45.7               17.0                195.0         3650.0  FEMALE            9.26715          -24.31912                                                                   NaN\n",
      "339   PAL0910             64  Chinstrap penguin (Pygoscelis antarctica)  Anvers      Dream  Adult, 1 Egg Stage         N98A2               Yes  2009-11-19                55.8               19.8                207.0         4000.0    MALE            9.70465          -24.53494                                                                   NaN\n",
      "340   PAL0910             65  Chinstrap penguin (Pygoscelis antarctica)  Anvers      Dream  Adult, 1 Egg Stage         N99A1                No  2009-11-21                43.5               18.1                202.0         3400.0  FEMALE            9.37608          -24.40753                                 Nest never observed with full clutch.\n",
      "341   PAL0910             66  Chinstrap penguin (Pygoscelis antarctica)  Anvers      Dream  Adult, 1 Egg Stage         N99A2                No  2009-11-21                49.6               18.2                193.0         3775.0    MALE            9.46180          -24.70615                                 Nest never observed with full clutch.\n",
      "342   PAL0910             67  Chinstrap penguin (Pygoscelis antarctica)  Anvers      Dream  Adult, 1 Egg Stage        N100A1               Yes  2009-11-21                50.8               19.0                210.0         4100.0    MALE            9.98044          -24.68741                                                                   NaN\n",
      "343   PAL0910             68  Chinstrap penguin (Pygoscelis antarctica)  Anvers      Dream  Adult, 1 Egg Stage        N100A2               Yes  2009-11-21                50.2               18.7                198.0         3775.0  FEMALE            9.39305          -24.25255                                                                   NaN\n"
     ]
    }
   ],
   "source": [
    "# Run head() on penguins_dataframe\n",
    "print(penguins_dataframe.to_string())"
   ]
  },
  {
   "cell_type": "code",
   "execution_count": 5,
   "metadata": {
    "collapsed": false
   },
   "outputs": [
    {
     "data": {
      "text/html": [
       "<div>\n",
       "<style scoped>\n",
       "    .dataframe tbody tr th:only-of-type {\n",
       "        vertical-align: middle;\n",
       "    }\n",
       "\n",
       "    .dataframe tbody tr th {\n",
       "        vertical-align: top;\n",
       "    }\n",
       "\n",
       "    .dataframe thead th {\n",
       "        text-align: right;\n",
       "    }\n",
       "</style>\n",
       "<table border=\"1\" class=\"dataframe\">\n",
       "  <thead>\n",
       "    <tr style=\"text-align: right;\">\n",
       "      <th></th>\n",
       "      <th>studyName</th>\n",
       "      <th>Sample Number</th>\n",
       "      <th>Species</th>\n",
       "      <th>Region</th>\n",
       "      <th>Island</th>\n",
       "      <th>Stage</th>\n",
       "      <th>Individual ID</th>\n",
       "      <th>Clutch Completion</th>\n",
       "      <th>Date Egg</th>\n",
       "      <th>Culmen Length (mm)</th>\n",
       "      <th>Culmen Depth (mm)</th>\n",
       "      <th>Flipper Length (mm)</th>\n",
       "      <th>Body Mass (g)</th>\n",
       "      <th>Sex</th>\n",
       "      <th>Delta 15 N (o/oo)</th>\n",
       "      <th>Delta 13 C (o/oo)</th>\n",
       "      <th>Comments</th>\n",
       "    </tr>\n",
       "  </thead>\n",
       "  <tbody>\n",
       "    <tr>\n",
       "      <th>339</th>\n",
       "      <td>PAL0910</td>\n",
       "      <td>64</td>\n",
       "      <td>Chinstrap penguin (Pygoscelis antarctica)</td>\n",
       "      <td>Anvers</td>\n",
       "      <td>Dream</td>\n",
       "      <td>Adult, 1 Egg Stage</td>\n",
       "      <td>N98A2</td>\n",
       "      <td>Yes</td>\n",
       "      <td>2009-11-19</td>\n",
       "      <td>55.8</td>\n",
       "      <td>19.8</td>\n",
       "      <td>207.0</td>\n",
       "      <td>4000.0</td>\n",
       "      <td>MALE</td>\n",
       "      <td>9.70465</td>\n",
       "      <td>-24.53494</td>\n",
       "      <td>NaN</td>\n",
       "    </tr>\n",
       "    <tr>\n",
       "      <th>340</th>\n",
       "      <td>PAL0910</td>\n",
       "      <td>65</td>\n",
       "      <td>Chinstrap penguin (Pygoscelis antarctica)</td>\n",
       "      <td>Anvers</td>\n",
       "      <td>Dream</td>\n",
       "      <td>Adult, 1 Egg Stage</td>\n",
       "      <td>N99A1</td>\n",
       "      <td>No</td>\n",
       "      <td>2009-11-21</td>\n",
       "      <td>43.5</td>\n",
       "      <td>18.1</td>\n",
       "      <td>202.0</td>\n",
       "      <td>3400.0</td>\n",
       "      <td>FEMALE</td>\n",
       "      <td>9.37608</td>\n",
       "      <td>-24.40753</td>\n",
       "      <td>Nest never observed with full clutch.</td>\n",
       "    </tr>\n",
       "    <tr>\n",
       "      <th>341</th>\n",
       "      <td>PAL0910</td>\n",
       "      <td>66</td>\n",
       "      <td>Chinstrap penguin (Pygoscelis antarctica)</td>\n",
       "      <td>Anvers</td>\n",
       "      <td>Dream</td>\n",
       "      <td>Adult, 1 Egg Stage</td>\n",
       "      <td>N99A2</td>\n",
       "      <td>No</td>\n",
       "      <td>2009-11-21</td>\n",
       "      <td>49.6</td>\n",
       "      <td>18.2</td>\n",
       "      <td>193.0</td>\n",
       "      <td>3775.0</td>\n",
       "      <td>MALE</td>\n",
       "      <td>9.46180</td>\n",
       "      <td>-24.70615</td>\n",
       "      <td>Nest never observed with full clutch.</td>\n",
       "    </tr>\n",
       "    <tr>\n",
       "      <th>342</th>\n",
       "      <td>PAL0910</td>\n",
       "      <td>67</td>\n",
       "      <td>Chinstrap penguin (Pygoscelis antarctica)</td>\n",
       "      <td>Anvers</td>\n",
       "      <td>Dream</td>\n",
       "      <td>Adult, 1 Egg Stage</td>\n",
       "      <td>N100A1</td>\n",
       "      <td>Yes</td>\n",
       "      <td>2009-11-21</td>\n",
       "      <td>50.8</td>\n",
       "      <td>19.0</td>\n",
       "      <td>210.0</td>\n",
       "      <td>4100.0</td>\n",
       "      <td>MALE</td>\n",
       "      <td>9.98044</td>\n",
       "      <td>-24.68741</td>\n",
       "      <td>NaN</td>\n",
       "    </tr>\n",
       "    <tr>\n",
       "      <th>343</th>\n",
       "      <td>PAL0910</td>\n",
       "      <td>68</td>\n",
       "      <td>Chinstrap penguin (Pygoscelis antarctica)</td>\n",
       "      <td>Anvers</td>\n",
       "      <td>Dream</td>\n",
       "      <td>Adult, 1 Egg Stage</td>\n",
       "      <td>N100A2</td>\n",
       "      <td>Yes</td>\n",
       "      <td>2009-11-21</td>\n",
       "      <td>50.2</td>\n",
       "      <td>18.7</td>\n",
       "      <td>198.0</td>\n",
       "      <td>3775.0</td>\n",
       "      <td>FEMALE</td>\n",
       "      <td>9.39305</td>\n",
       "      <td>-24.25255</td>\n",
       "      <td>NaN</td>\n",
       "    </tr>\n",
       "  </tbody>\n",
       "</table>\n",
       "</div>"
      ],
      "text/plain": [
       "    studyName  Sample Number                                    Species  \\\n",
       "339   PAL0910             64  Chinstrap penguin (Pygoscelis antarctica)   \n",
       "340   PAL0910             65  Chinstrap penguin (Pygoscelis antarctica)   \n",
       "341   PAL0910             66  Chinstrap penguin (Pygoscelis antarctica)   \n",
       "342   PAL0910             67  Chinstrap penguin (Pygoscelis antarctica)   \n",
       "343   PAL0910             68  Chinstrap penguin (Pygoscelis antarctica)   \n",
       "\n",
       "     Region Island               Stage Individual ID Clutch Completion  \\\n",
       "339  Anvers  Dream  Adult, 1 Egg Stage         N98A2               Yes   \n",
       "340  Anvers  Dream  Adult, 1 Egg Stage         N99A1                No   \n",
       "341  Anvers  Dream  Adult, 1 Egg Stage         N99A2                No   \n",
       "342  Anvers  Dream  Adult, 1 Egg Stage        N100A1               Yes   \n",
       "343  Anvers  Dream  Adult, 1 Egg Stage        N100A2               Yes   \n",
       "\n",
       "       Date Egg  Culmen Length (mm)  Culmen Depth (mm)  Flipper Length (mm)  \\\n",
       "339  2009-11-19                55.8               19.8                207.0   \n",
       "340  2009-11-21                43.5               18.1                202.0   \n",
       "341  2009-11-21                49.6               18.2                193.0   \n",
       "342  2009-11-21                50.8               19.0                210.0   \n",
       "343  2009-11-21                50.2               18.7                198.0   \n",
       "\n",
       "     Body Mass (g)     Sex  Delta 15 N (o/oo)  Delta 13 C (o/oo)  \\\n",
       "339         4000.0    MALE            9.70465          -24.53494   \n",
       "340         3400.0  FEMALE            9.37608          -24.40753   \n",
       "341         3775.0    MALE            9.46180          -24.70615   \n",
       "342         4100.0    MALE            9.98044          -24.68741   \n",
       "343         3775.0  FEMALE            9.39305          -24.25255   \n",
       "\n",
       "                                  Comments  \n",
       "339                                    NaN  \n",
       "340  Nest never observed with full clutch.  \n",
       "341  Nest never observed with full clutch.  \n",
       "342                                    NaN  \n",
       "343                                    NaN  "
      ]
     },
     "execution_count": 5,
     "metadata": {
     },
     "output_type": "execute_result"
    }
   ],
   "source": [
    "# Run tail() on penguins_dataframe\n",
    "penguins_dataframe.tail()"
   ]
  },
  {
   "cell_type": "code",
   "execution_count": 6,
   "metadata": {
    "collapsed": false,
    "scrolled": true
   },
   "outputs": [
    {
     "name": "stdout",
     "output_type": "stream",
     "text": [
      "['studyName' 'Sample Number' 'Species' 'Region' 'Island' 'Stage'\n",
      " 'Individual ID' 'Clutch Completion' 'Date Egg' 'Culmen Length (mm)'\n",
      " 'Culmen Depth (mm)' 'Flipper Length (mm)' 'Body Mass (g)' 'Sex'\n",
      " 'Delta 15 N (o/oo)' 'Delta 13 C (o/oo)' 'Comments']\n"
     ]
    }
   ],
   "source": [
    "# Print the name of all the columns in our dataframe\n",
    "print(penguins_dataframe.columns.values)"
   ]
  },
  {
   "cell_type": "code",
   "execution_count": 7,
   "metadata": {
    "collapsed": false
   },
   "outputs": [
    {
     "name": "stdout",
     "output_type": "stream",
     "text": [
      "17\n"
     ]
    }
   ],
   "source": [
    "# Use google to find out how to print the number of rows in this dataset.\n",
    "print(len(penguins_dataframe.columns))"
   ]
  },
  {
   "cell_type": "markdown",
   "metadata": {
    "collapsed": false
   },
   "source": [
    "### Step 2: Do your research\n",
    "\n",
    "What do the column names mean? At this point you should look up the meanings of any columns you don't know about and make some comments below. \n",
    "\n",
    "Typically at this point we would read up on the domain we are performing data analysis on. To do research on penguins you should probably get to know something about penguins!\n"
   ]
  },
  {
   "cell_type": "raw",
   "metadata": {
    "collapsed": false
   },
   "source": [
    "What do these columns mean?\n",
    "\n",
    "\n",
    "\n",
    "\n",
    "\n",
    "\n"
   ]
  },
  {
   "cell_type": "markdown",
   "metadata": {
    "collapsed": false
   },
   "source": [
    "### Step 3: Cleaning up our Data\n",
    "\n",
    "This data is a lot to take in. How do we know if we can even use this data? I see some weird columns and lots of N/A values.\n",
    "\n",
    "Let's talk through some functions to clean our data and see if it is salvagable. To start, we cannot use all of these columns. I'm thinking I want to get rid of \"studyName\" and \"Comments\" since they are not super useful for understanding the data relationships. I'll do that below. \n"
   ]
  },
  {
   "cell_type": "code",
   "execution_count": 8,
   "metadata": {
    "collapsed": false,
    "scrolled": true
   },
   "outputs": [
    {
     "data": {
      "text/html": [
       "<div>\n",
       "<style scoped>\n",
       "    .dataframe tbody tr th:only-of-type {\n",
       "        vertical-align: middle;\n",
       "    }\n",
       "\n",
       "    .dataframe tbody tr th {\n",
       "        vertical-align: top;\n",
       "    }\n",
       "\n",
       "    .dataframe thead th {\n",
       "        text-align: right;\n",
       "    }\n",
       "</style>\n",
       "<table border=\"1\" class=\"dataframe\">\n",
       "  <thead>\n",
       "    <tr style=\"text-align: right;\">\n",
       "      <th></th>\n",
       "      <th>Sample Number</th>\n",
       "      <th>Species</th>\n",
       "      <th>Region</th>\n",
       "      <th>Island</th>\n",
       "      <th>Stage</th>\n",
       "      <th>Individual ID</th>\n",
       "      <th>Clutch Completion</th>\n",
       "      <th>Date Egg</th>\n",
       "      <th>Culmen Length (mm)</th>\n",
       "      <th>Culmen Depth (mm)</th>\n",
       "      <th>Flipper Length (mm)</th>\n",
       "      <th>Body Mass (g)</th>\n",
       "      <th>Sex</th>\n",
       "      <th>Delta 15 N (o/oo)</th>\n",
       "      <th>Delta 13 C (o/oo)</th>\n",
       "    </tr>\n",
       "  </thead>\n",
       "  <tbody>\n",
       "    <tr>\n",
       "      <th>0</th>\n",
       "      <td>1</td>\n",
       "      <td>Adelie Penguin (Pygoscelis adeliae)</td>\n",
       "      <td>Anvers</td>\n",
       "      <td>Torgersen</td>\n",
       "      <td>Adult, 1 Egg Stage</td>\n",
       "      <td>N1A1</td>\n",
       "      <td>Yes</td>\n",
       "      <td>2007-11-11</td>\n",
       "      <td>39.1</td>\n",
       "      <td>18.7</td>\n",
       "      <td>181.0</td>\n",
       "      <td>3750.0</td>\n",
       "      <td>MALE</td>\n",
       "      <td>NaN</td>\n",
       "      <td>NaN</td>\n",
       "    </tr>\n",
       "  </tbody>\n",
       "</table>\n",
       "</div>"
      ],
      "text/plain": [
       "   Sample Number                              Species  Region     Island  \\\n",
       "0              1  Adelie Penguin (Pygoscelis adeliae)  Anvers  Torgersen   \n",
       "\n",
       "                Stage Individual ID Clutch Completion    Date Egg  \\\n",
       "0  Adult, 1 Egg Stage          N1A1               Yes  2007-11-11   \n",
       "\n",
       "   Culmen Length (mm)  Culmen Depth (mm)  Flipper Length (mm)  Body Mass (g)  \\\n",
       "0                39.1               18.7                181.0         3750.0   \n",
       "\n",
       "    Sex  Delta 15 N (o/oo)  Delta 13 C (o/oo)  \n",
       "0  MALE                NaN                NaN  "
      ]
     },
     "execution_count": 8,
     "metadata": {
     },
     "output_type": "execute_result"
    }
   ],
   "source": [
    "#Make a list of what you want to drop\n",
    "columns_to_drop = ['studyName', 'Comments']\n",
    "\n",
    "#Drop the columns using drop()\n",
    "penguins_dataframe.drop(columns_to_drop, axis=1, inplace = True) #axis = 1 lets pandas know we are dropping columns, not rows.\n",
    "\n",
    "#Check that they are dropped\n",
    "penguins_dataframe.head(1)"
   ]
  },
  {
   "cell_type": "markdown",
   "metadata": {
    "collapsed": false
   },
   "source": [
    "**What does inplace mean?** This argument in the `drop()` function means we are changing the dataframe in place! If we had `inplace = False`, we would need to create a new dataframe like so: \n",
    "\n",
    "`new_penguins_dataframe = penguins_dataframe.drop(columns_to_drop, axis=1, inplace = False)`\n",
    "\n",
    "**TODO:** Can you drop the Sample Number, Individual ID, Delta 15 N \\(o/oo\\), and Delta 13 C \\(o/oo\\) columns using the example above?\n",
    "\n"
   ]
  },
  {
   "cell_type": "code",
   "execution_count": 9,
   "metadata": {
    "collapsed": false
   },
   "outputs": [
    {
     "data": {
      "text/html": [
       "<div>\n",
       "<style scoped>\n",
       "    .dataframe tbody tr th:only-of-type {\n",
       "        vertical-align: middle;\n",
       "    }\n",
       "\n",
       "    .dataframe tbody tr th {\n",
       "        vertical-align: top;\n",
       "    }\n",
       "\n",
       "    .dataframe thead th {\n",
       "        text-align: right;\n",
       "    }\n",
       "</style>\n",
       "<table border=\"1\" class=\"dataframe\">\n",
       "  <thead>\n",
       "    <tr style=\"text-align: right;\">\n",
       "      <th></th>\n",
       "      <th>Species</th>\n",
       "      <th>Region</th>\n",
       "      <th>Island</th>\n",
       "      <th>Stage</th>\n",
       "      <th>Clutch Completion</th>\n",
       "      <th>Date Egg</th>\n",
       "      <th>Culmen Length (mm)</th>\n",
       "      <th>Culmen Depth (mm)</th>\n",
       "      <th>Flipper Length (mm)</th>\n",
       "      <th>Body Mass (g)</th>\n",
       "      <th>Sex</th>\n",
       "    </tr>\n",
       "  </thead>\n",
       "  <tbody>\n",
       "    <tr>\n",
       "      <th>0</th>\n",
       "      <td>Adelie Penguin (Pygoscelis adeliae)</td>\n",
       "      <td>Anvers</td>\n",
       "      <td>Torgersen</td>\n",
       "      <td>Adult, 1 Egg Stage</td>\n",
       "      <td>Yes</td>\n",
       "      <td>2007-11-11</td>\n",
       "      <td>39.1</td>\n",
       "      <td>18.7</td>\n",
       "      <td>181.0</td>\n",
       "      <td>3750.0</td>\n",
       "      <td>MALE</td>\n",
       "    </tr>\n",
       "  </tbody>\n",
       "</table>\n",
       "</div>"
      ],
      "text/plain": [
       "                               Species  Region     Island               Stage  \\\n",
       "0  Adelie Penguin (Pygoscelis adeliae)  Anvers  Torgersen  Adult, 1 Egg Stage   \n",
       "\n",
       "  Clutch Completion    Date Egg  Culmen Length (mm)  Culmen Depth (mm)  \\\n",
       "0               Yes  2007-11-11                39.1               18.7   \n",
       "\n",
       "   Flipper Length (mm)  Body Mass (g)   Sex  \n",
       "0                181.0         3750.0  MALE  "
      ]
     },
     "execution_count": 9,
     "metadata": {
     },
     "output_type": "execute_result"
    }
   ],
   "source": [
    "# Drop the Sample Number, Individual ID, Delta 15 N (o/oo), and Delta 13 C (o/oo) columns using the example above.\n",
    "columns_to_drop2 = ['Sample Number','Individual ID','Delta 15 N (o/oo)', 'Delta 13 C (o/oo)']\n",
    "\n",
    "#Drop the columns using drop()\n",
    "penguins_dataframe.drop(columns_to_drop2, axis=1, inplace=True)\n",
    "\n",
    "#Check that they are dropped\n",
    "penguins_dataframe.head(1)"
   ]
  },
  {
   "cell_type": "markdown",
   "metadata": {
    "collapsed": false
   },
   "source": [
    "#### Getting Rid of N/A's\n",
    "\n",
    "I see lots of N/A's, which we typically cannot visualize or use in machine learning.\n",
    "Now, I want to get rid of all the rows that have NA's in them. I'll show you how. **TODO:** Can you print the number of rows our dataframe has after I drop the NAs?\n"
   ]
  },
  {
   "cell_type": "code",
   "execution_count": 10,
   "metadata": {
    "collapsed": false
   },
   "outputs": [
   ],
   "source": [
    "# This is a very convenient function to drop all rows that have N/A values!\n",
    "penguins_dataframe.dropna(inplace=True)\n",
    "penguins_dataframe.reset_index(drop=True, inplace=True) #Very good practice to reset how your rows are counted when you drop rows."
   ]
  },
  {
   "cell_type": "code",
   "execution_count": 11,
   "metadata": {
    "collapsed": false
   },
   "outputs": [
    {
     "data": {
      "text/plain": [
       "333"
      ]
     },
     "execution_count": 11,
     "metadata": {
     },
     "output_type": "execute_result"
    }
   ],
   "source": [
    "#Print the number of rows our new dataframe has.\n",
    "len(penguins_dataframe)"
   ]
  },
  {
   "cell_type": "markdown",
   "metadata": {
    "collapsed": false
   },
   "source": [
    "### Exploring the Data\n",
    "\n",
    "Pandas has some amazing tools for exploring your data. Since this is a **mini** project, we will walk through only a few key features of pandas exploration. You can expect to do lots of research on your own to best explore, clean, and visualize your data for your project. \n",
    "\n",
    "First we will learn how to access certain columns of data and use conditions to get subsets of data.\n",
    "\n"
   ]
  },
  {
   "cell_type": "code",
   "execution_count": 12,
   "metadata": {
    "collapsed": false
   },
   "outputs": [
    {
     "data": {
      "text/plain": [
       "0    Adelie Penguin (Pygoscelis adeliae)\n",
       "1    Adelie Penguin (Pygoscelis adeliae)\n",
       "2    Adelie Penguin (Pygoscelis adeliae)\n",
       "3    Adelie Penguin (Pygoscelis adeliae)\n",
       "4    Adelie Penguin (Pygoscelis adeliae)\n",
       "Name: Species, dtype: object"
      ]
     },
     "execution_count": 12,
     "metadata": {
     },
     "output_type": "execute_result"
    }
   ],
   "source": [
    "# access a column using df[\"<COLUMN_NAME\"] or df.COLUMN_NAME\n",
    "penguins_dataframe[\"Species\"].head()"
   ]
  },
  {
   "cell_type": "code",
   "execution_count": 13,
   "metadata": {
    "collapsed": false
   },
   "outputs": [
    {
     "data": {
      "text/plain": [
       "0    Adelie Penguin (Pygoscelis adeliae)\n",
       "1    Adelie Penguin (Pygoscelis adeliae)\n",
       "2    Adelie Penguin (Pygoscelis adeliae)\n",
       "3    Adelie Penguin (Pygoscelis adeliae)\n",
       "4    Adelie Penguin (Pygoscelis adeliae)\n",
       "Name: Species, dtype: object"
      ]
     },
     "execution_count": 13,
     "metadata": {
     },
     "output_type": "execute_result"
    }
   ],
   "source": [
    "penguins_dataframe.Species.head()"
   ]
  },
  {
   "cell_type": "code",
   "execution_count": 14,
   "metadata": {
    "collapsed": false
   },
   "outputs": [
    {
     "data": {
      "text/html": [
       "<div>\n",
       "<style scoped>\n",
       "    .dataframe tbody tr th:only-of-type {\n",
       "        vertical-align: middle;\n",
       "    }\n",
       "\n",
       "    .dataframe tbody tr th {\n",
       "        vertical-align: top;\n",
       "    }\n",
       "\n",
       "    .dataframe thead th {\n",
       "        text-align: right;\n",
       "    }\n",
       "</style>\n",
       "<table border=\"1\" class=\"dataframe\">\n",
       "  <thead>\n",
       "    <tr style=\"text-align: right;\">\n",
       "      <th></th>\n",
       "      <th>Species</th>\n",
       "      <th>Region</th>\n",
       "    </tr>\n",
       "  </thead>\n",
       "  <tbody>\n",
       "    <tr>\n",
       "      <th>0</th>\n",
       "      <td>Adelie Penguin (Pygoscelis adeliae)</td>\n",
       "      <td>Anvers</td>\n",
       "    </tr>\n",
       "    <tr>\n",
       "      <th>1</th>\n",
       "      <td>Adelie Penguin (Pygoscelis adeliae)</td>\n",
       "      <td>Anvers</td>\n",
       "    </tr>\n",
       "    <tr>\n",
       "      <th>2</th>\n",
       "      <td>Adelie Penguin (Pygoscelis adeliae)</td>\n",
       "      <td>Anvers</td>\n",
       "    </tr>\n",
       "    <tr>\n",
       "      <th>3</th>\n",
       "      <td>Adelie Penguin (Pygoscelis adeliae)</td>\n",
       "      <td>Anvers</td>\n",
       "    </tr>\n",
       "    <tr>\n",
       "      <th>4</th>\n",
       "      <td>Adelie Penguin (Pygoscelis adeliae)</td>\n",
       "      <td>Anvers</td>\n",
       "    </tr>\n",
       "  </tbody>\n",
       "</table>\n",
       "</div>"
      ],
      "text/plain": [
       "                               Species  Region\n",
       "0  Adelie Penguin (Pygoscelis adeliae)  Anvers\n",
       "1  Adelie Penguin (Pygoscelis adeliae)  Anvers\n",
       "2  Adelie Penguin (Pygoscelis adeliae)  Anvers\n",
       "3  Adelie Penguin (Pygoscelis adeliae)  Anvers\n",
       "4  Adelie Penguin (Pygoscelis adeliae)  Anvers"
      ]
     },
     "execution_count": 14,
     "metadata": {
     },
     "output_type": "execute_result"
    }
   ],
   "source": [
    "#You can also access multiple columns using double brackets (printing a \"list\" of columns)\n",
    "penguins_dataframe[[\"Species\",\"Region\"]].head()"
   ]
  },
  {
   "cell_type": "markdown",
   "metadata": {
    "collapsed": false
   },
   "source": [
    "**TODO: Can you print the last five rows of the Island and Region columns?** \n",
    "\n"
   ]
  },
  {
   "cell_type": "code",
   "execution_count": 16,
   "metadata": {
    "collapsed": false
   },
   "outputs": [
    {
     "data": {
      "text/html": [
       "<div>\n",
       "<style scoped>\n",
       "    .dataframe tbody tr th:only-of-type {\n",
       "        vertical-align: middle;\n",
       "    }\n",
       "\n",
       "    .dataframe tbody tr th {\n",
       "        vertical-align: top;\n",
       "    }\n",
       "\n",
       "    .dataframe thead th {\n",
       "        text-align: right;\n",
       "    }\n",
       "</style>\n",
       "<table border=\"1\" class=\"dataframe\">\n",
       "  <thead>\n",
       "    <tr style=\"text-align: right;\">\n",
       "      <th></th>\n",
       "      <th>Island</th>\n",
       "      <th>Region</th>\n",
       "    </tr>\n",
       "  </thead>\n",
       "  <tbody>\n",
       "    <tr>\n",
       "      <th>328</th>\n",
       "      <td>Dream</td>\n",
       "      <td>Anvers</td>\n",
       "    </tr>\n",
       "    <tr>\n",
       "      <th>329</th>\n",
       "      <td>Dream</td>\n",
       "      <td>Anvers</td>\n",
       "    </tr>\n",
       "    <tr>\n",
       "      <th>330</th>\n",
       "      <td>Dream</td>\n",
       "      <td>Anvers</td>\n",
       "    </tr>\n",
       "    <tr>\n",
       "      <th>331</th>\n",
       "      <td>Dream</td>\n",
       "      <td>Anvers</td>\n",
       "    </tr>\n",
       "    <tr>\n",
       "      <th>332</th>\n",
       "      <td>Dream</td>\n",
       "      <td>Anvers</td>\n",
       "    </tr>\n",
       "  </tbody>\n",
       "</table>\n",
       "</div>"
      ],
      "text/plain": [
       "    Island  Region\n",
       "328  Dream  Anvers\n",
       "329  Dream  Anvers\n",
       "330  Dream  Anvers\n",
       "331  Dream  Anvers\n",
       "332  Dream  Anvers"
      ]
     },
     "execution_count": 16,
     "metadata": {
     },
     "output_type": "execute_result"
    }
   ],
   "source": [
    "#Print the last five rows of the Island and Region columns.\n",
    "penguins_dataframe[[\"Island\", \"Region\"]].tail(5)"
   ]
  },
  {
   "cell_type": "markdown",
   "metadata": {
    "collapsed": false
   },
   "source": [
    "<u>**Conditions in Pandas**</u>\n",
    "\n",
    "Pandas is also incredible for selecting subsets of columns that fit a certain condition. Check out the code below to get only the Adelie penguins.\n",
    "\n"
   ]
  },
  {
   "cell_type": "code",
   "execution_count": 30,
   "metadata": {
    "collapsed": false
   },
   "outputs": [
    {
     "data": {
      "text/html": [
       "<div>\n",
       "<style scoped>\n",
       "    .dataframe tbody tr th:only-of-type {\n",
       "        vertical-align: middle;\n",
       "    }\n",
       "\n",
       "    .dataframe tbody tr th {\n",
       "        vertical-align: top;\n",
       "    }\n",
       "\n",
       "    .dataframe thead th {\n",
       "        text-align: right;\n",
       "    }\n",
       "</style>\n",
       "<table border=\"1\" class=\"dataframe\">\n",
       "  <thead>\n",
       "    <tr style=\"text-align: right;\">\n",
       "      <th></th>\n",
       "      <th>Species</th>\n",
       "      <th>Region</th>\n",
       "      <th>Island</th>\n",
       "      <th>Stage</th>\n",
       "      <th>Clutch Completion</th>\n",
       "      <th>Date Egg</th>\n",
       "      <th>Culmen Length (mm)</th>\n",
       "      <th>Culmen Depth (mm)</th>\n",
       "      <th>Flipper Length (mm)</th>\n",
       "      <th>Body Mass (g)</th>\n",
       "      <th>Sex</th>\n",
       "    </tr>\n",
       "  </thead>\n",
       "  <tbody>\n",
       "    <tr>\n",
       "      <th>0</th>\n",
       "      <td>Adelie Penguin (Pygoscelis adeliae)</td>\n",
       "      <td>Anvers</td>\n",
       "      <td>Torgersen</td>\n",
       "      <td>Adult, 1 Egg Stage</td>\n",
       "      <td>Yes</td>\n",
       "      <td>2007-11-11</td>\n",
       "      <td>39.1</td>\n",
       "      <td>18.7</td>\n",
       "      <td>181.0</td>\n",
       "      <td>3750.0</td>\n",
       "      <td>MALE</td>\n",
       "    </tr>\n",
       "    <tr>\n",
       "      <th>1</th>\n",
       "      <td>Adelie Penguin (Pygoscelis adeliae)</td>\n",
       "      <td>Anvers</td>\n",
       "      <td>Torgersen</td>\n",
       "      <td>Adult, 1 Egg Stage</td>\n",
       "      <td>Yes</td>\n",
       "      <td>2007-11-11</td>\n",
       "      <td>39.5</td>\n",
       "      <td>17.4</td>\n",
       "      <td>186.0</td>\n",
       "      <td>3800.0</td>\n",
       "      <td>FEMALE</td>\n",
       "    </tr>\n",
       "    <tr>\n",
       "      <th>2</th>\n",
       "      <td>Adelie Penguin (Pygoscelis adeliae)</td>\n",
       "      <td>Anvers</td>\n",
       "      <td>Torgersen</td>\n",
       "      <td>Adult, 1 Egg Stage</td>\n",
       "      <td>Yes</td>\n",
       "      <td>2007-11-16</td>\n",
       "      <td>40.3</td>\n",
       "      <td>18.0</td>\n",
       "      <td>195.0</td>\n",
       "      <td>3250.0</td>\n",
       "      <td>FEMALE</td>\n",
       "    </tr>\n",
       "    <tr>\n",
       "      <th>3</th>\n",
       "      <td>Adelie Penguin (Pygoscelis adeliae)</td>\n",
       "      <td>Anvers</td>\n",
       "      <td>Torgersen</td>\n",
       "      <td>Adult, 1 Egg Stage</td>\n",
       "      <td>Yes</td>\n",
       "      <td>2007-11-16</td>\n",
       "      <td>36.7</td>\n",
       "      <td>19.3</td>\n",
       "      <td>193.0</td>\n",
       "      <td>3450.0</td>\n",
       "      <td>FEMALE</td>\n",
       "    </tr>\n",
       "    <tr>\n",
       "      <th>4</th>\n",
       "      <td>Adelie Penguin (Pygoscelis adeliae)</td>\n",
       "      <td>Anvers</td>\n",
       "      <td>Torgersen</td>\n",
       "      <td>Adult, 1 Egg Stage</td>\n",
       "      <td>Yes</td>\n",
       "      <td>2007-11-16</td>\n",
       "      <td>39.3</td>\n",
       "      <td>20.6</td>\n",
       "      <td>190.0</td>\n",
       "      <td>3650.0</td>\n",
       "      <td>MALE</td>\n",
       "    </tr>\n",
       "  </tbody>\n",
       "</table>\n",
       "</div>"
      ],
      "text/plain": [
       "                               Species  Region     Island               Stage  \\\n",
       "0  Adelie Penguin (Pygoscelis adeliae)  Anvers  Torgersen  Adult, 1 Egg Stage   \n",
       "1  Adelie Penguin (Pygoscelis adeliae)  Anvers  Torgersen  Adult, 1 Egg Stage   \n",
       "2  Adelie Penguin (Pygoscelis adeliae)  Anvers  Torgersen  Adult, 1 Egg Stage   \n",
       "3  Adelie Penguin (Pygoscelis adeliae)  Anvers  Torgersen  Adult, 1 Egg Stage   \n",
       "4  Adelie Penguin (Pygoscelis adeliae)  Anvers  Torgersen  Adult, 1 Egg Stage   \n",
       "\n",
       "  Clutch Completion    Date Egg  Culmen Length (mm)  Culmen Depth (mm)  \\\n",
       "0               Yes  2007-11-11                39.1               18.7   \n",
       "1               Yes  2007-11-11                39.5               17.4   \n",
       "2               Yes  2007-11-16                40.3               18.0   \n",
       "3               Yes  2007-11-16                36.7               19.3   \n",
       "4               Yes  2007-11-16                39.3               20.6   \n",
       "\n",
       "   Flipper Length (mm)  Body Mass (g)     Sex  \n",
       "0                181.0         3750.0    MALE  \n",
       "1                186.0         3800.0  FEMALE  \n",
       "2                195.0         3250.0  FEMALE  \n",
       "3                193.0         3450.0  FEMALE  \n",
       "4                190.0         3650.0    MALE  "
      ]
     },
     "execution_count": 30,
     "metadata": {
     },
     "output_type": "execute_result"
    }
   ],
   "source": [
    "penguins_dataframe[penguins_dataframe[\"Species\"] == \"Adelie Penguin (Pygoscelis adeliae)\"].head()"
   ]
  },
  {
   "cell_type": "markdown",
   "metadata": {
    "collapsed": false
   },
   "source": [
    "Conditions in pandas work just like `if` statements in python. \n",
    "\n",
    "**TODO: Can you tell me which species of penguin can have a flipper length greater than or equal to 230 by using conditions in pandas?**\n",
    "\n"
   ]
  },
  {
   "cell_type": "code",
   "execution_count": 21,
   "metadata": {
    "collapsed": false
   },
   "outputs": [
    {
     "data": {
      "text/plain": [
       "array(['Gentoo penguin (Pygoscelis papua)'], dtype=object)"
      ]
     },
     "execution_count": 21,
     "metadata": {
     },
     "output_type": "execute_result"
    }
   ],
   "source": [
    "# Use pandas to find out which species of penguin can have a flipper length greater than or equal to 230\n",
    "penguins_dataframe[penguins_dataframe[\"Flipper Length (mm)\"] >= 230].Species.unique()"
   ]
  },
  {
   "cell_type": "markdown",
   "metadata": {
    "collapsed": false
   },
   "source": [
    "**TODO:** Take 5 minutes to explore the dataset on your own. There's some space for you to code below.\n",
    "\n",
    "Think of what you want to learn. Maybe what the smallest flipper size penguin is? How about the smallest culmen width? What is the largest penguin by mass?\n"
   ]
  },
  {
   "cell_type": "code",
   "execution_count": 26,
   "metadata": {
    "collapsed": false
   },
   "outputs": [
    {
     "data": {
      "text/plain": [
       "array(['Yes', 'No'], dtype=object)"
      ]
     },
     "execution_count": 26,
     "metadata": {
     },
     "output_type": "execute_result"
    }
   ],
   "source": [
    "penguins_dataframe[\"Clutch Completion\"].unique()"
   ]
  },
  {
   "cell_type": "code",
   "execution_count": 27,
   "metadata": {
    "collapsed": false
   },
   "outputs": [
    {
     "data": {
      "text/plain": [
       "array(['Adult, 1 Egg Stage'], dtype=object)"
      ]
     },
     "execution_count": 27,
     "metadata": {
     },
     "output_type": "execute_result"
    }
   ],
   "source": [
    "penguins_dataframe[penguins_dataframe[\"Clutch Completion\"] == \"Yes\"].Stage.unique()"
   ]
  },
  {
   "cell_type": "code",
   "execution_count": 28,
   "metadata": {
    "collapsed": false
   },
   "outputs": [
    {
     "data": {
      "text/plain": [
       "array(['Adult, 1 Egg Stage'], dtype=object)"
      ]
     },
     "execution_count": 28,
     "metadata": {
     },
     "output_type": "execute_result"
    }
   ],
   "source": [
    "penguins_dataframe[penguins_dataframe[\"Clutch Completion\"] == \"No\"].Stage.unique()"
   ]
  },
  {
   "cell_type": "markdown",
   "metadata": {
    "collapsed": false
   },
   "source": [
    "### Visualize on the Fly with Pandas\n",
    "\n",
    "Before we create mind\\-blowing visualizations, it is sometimes worth it to create quick visualizations to get ourselves oriented with the data and it's underlying patterns. \n",
    "\n",
    "I put a simple histogram below that helps me understand how the dataset is distributed. Notice that is is pretty hard to read and ugly, but it gets the job done for the data scientist. I now know that there are three species of penguin we are worried about, and that we have a lot more samples of the Adelie penguin than the Gentoo and Chinstrap \\(a good to know for machine learning\\). \n",
    "\n"
   ]
  },
  {
   "cell_type": "code",
   "execution_count": 8,
   "metadata": {
    "collapsed": false
   },
   "outputs": [
    {
     "data": {
      "text/plain": [
       "array([[<matplotlib.axes._subplots.AxesSubplot object at 0x7fe13a462eb0>,\n",
       "        <matplotlib.axes._subplots.AxesSubplot object at 0x7fe13a436820>,\n",
       "        <matplotlib.axes._subplots.AxesSubplot object at 0x7fe13a3f0eb0>],\n",
       "       [<matplotlib.axes._subplots.AxesSubplot object at 0x7fe13a39a940>,\n",
       "        <matplotlib.axes._subplots.AxesSubplot object at 0x7fe13a352f70>,\n",
       "        <matplotlib.axes._subplots.AxesSubplot object at 0x7fe13a37aa00>],\n",
       "       [<matplotlib.axes._subplots.AxesSubplot object at 0x7fe13a387910>,\n",
       "        <matplotlib.axes._subplots.AxesSubplot object at 0x7fe13a2e5a00>,\n",
       "        <matplotlib.axes._subplots.AxesSubplot object at 0x7fe13a2e5b50>]],\n",
       "      dtype=object)"
      ]
     },
     "execution_count": 8,
     "metadata": {
     },
     "output_type": "execute_result"
    },
    {
     "data": {
      "image/png": "[encoded data removed]",
      "text/plain": [
       "<Figure size 864x504 with 9 Axes>"
      ]
     },
     "execution_count": 8,
     "metadata": {
      "image/png": {
       "height": 426,
       "width": 704
      },
      "needs_background": "light"
     },
     "output_type": "execute_result"
    }
   ],
   "source": [
    "# Create a histogram of a column's data using the df.hist() function. I found it here: https://pandas.pydata.org/docs/reference/api/pandas.DataFrame.hist.html\n",
    "penguins_dataframe.hist()"
   ]
  },
  {
   "cell_type": "markdown",
   "metadata": {
    "collapsed": false
   },
   "source": [
    "**TODO: Create a histogram of another column of your choice below.**\n"
   ]
  },
  {
   "cell_type": "code",
   "execution_count": 7,
   "metadata": {
    "collapsed": false
   },
   "outputs": [
    {
     "data": {
      "text/plain": [
       "344"
      ]
     },
     "execution_count": 7,
     "metadata": {
     },
     "output_type": "execute_result"
    }
   ],
   "source": [
    "#Create a histogram of another column of your choice below.\n",
    "len(penguins_dataframe)"
   ]
  },
  {
   "cell_type": "markdown",
   "metadata": {
    "collapsed": false
   },
   "source": [
    "**TODO:** Now, let's have some fun. Can you create plots using the following functions?\n",
    "\n",
    "1. Scatter Plot: [https://pandas.pydata.org/pandas\\-docs/version/0.25.0/reference/api/pandas.DataFrame.plot.scatter.html](https://pandas.pydata.org/pandas-docs/version/0.25.0/reference/api/pandas.DataFrame.plot.scatter.html)\n",
    "2. Pie Plot: [https://pandas.pydata.org/docs/user\\_guide/visualization.html\\#visualization\\-pie](https://pandas.pydata.org/docs/user_guide/visualization.html#visualization-pie)\n",
    "\n",
    "Pro challenge: Add a title to each!\n",
    "\n"
   ]
  },
  {
   "cell_type": "code",
   "execution_count": 9,
   "metadata": {
    "collapsed": false
   },
   "outputs": [
    {
     "data": {
      "text/html": "<html>\n<head><meta charset=\"utf-8\" /></head>\n<body>\n    <div>            <script src=\"https://cdnjs.cloudflare.com/ajax/libs/mathjax/2.7.5/MathJax.js?config=TeX-AMS-MML_SVG\"></script><script type=\"text/javascript\">if (window.MathJax) {MathJax.Hub.Config({SVG: {font: \"STIX-Web\"}});}</script>                <script type=\"text/javascript\">window.PlotlyConfig = {MathJaxConfig: 'local'};</script>\n        <script src=\"https://cdn.plot.ly/plotly-2.9.0.min.js\"></script>                <div id=\"d394a6ae-d620-4261-b283-12eec60f123d\" class=\"plotly-graph-div\" style=\"height:525px; width:100%;\"></div>            <script type=\"text/javascript\">                                    window.PLOTLYENV=window.PLOTLYENV || {};                                    if (document.getElementById(\"d394a6ae-d620-4261-b283-12eec60f123d\")) {                    Plotly.newPlot(                        \"d394a6ae-d620-4261-b283-12eec60f123d\",                        [{\"hovertemplate\":\"Flipper Length (mm)=%{x}<br>Body Mass (g)=%{y}<br>Culmen Depth (mm)=%{marker.size}<br>Culmen Length (mm)=%{marker.color}<extra></extra>\",\"legendgroup\":\"\",\"marker\":{\"color\":[38.9,39.2,37.9,40.5,37.6,35.9,41.8,36.2,37.7,38.5,43.1,37.0,39.7,40.9,49.0,42.7,49.6,45.5,50.5,47.2,46.5,50.0,50.3,58.0,43.2,50.6,46.7,52.0,50.5,49.5,46.9,53.5,43.5,49.6],\"coloraxis\":\"coloraxis\",\"size\":[17.8,19.6,18.6,18.9,19.3,16.6,19.4,17.2,19.8,17.9,19.2,16.5,17.9,13.7,16.1,13.7,16.0,13.9,15.9,13.7,17.9,19.5,20.0,17.8,16.6,19.4,17.9,19.0,18.4,19.0,16.6,19.9,18.1,18.2],\"sizemode\":\"area\",\"sizeref\":0.05,\"symbol\":\"circle\"},\"mode\":\"markers\",\"name\":\"\",\"orientation\":\"v\",\"showlegend\":false,\"x\":[181.0,195.0,172.0,180.0,181.0,190.0,198.0,187.0,198.0,190.0,197.0,185.0,193.0,214.0,216.0,208.0,225.0,210.0,225.0,214.0,192.0,196.0,197.0,181.0,187.0,193.0,195.0,197.0,200.0,200.0,192.0,205.0,202.0,193.0],\"xaxis\":\"x\",\"y\":[3625.0,4675.0,3150.0,3950.0,3300.0,3050.0,4450.0,3150.0,3500.0,3325.0,3500.0,3400.0,4250.0,4650.0,5550.0,3950.0,5700.0,4200.0,5400.0,4925.0,3500.0,3900.0,3300.0,3700.0,2900.0,3800.0,3300.0,4150.0,3400.0,3800.0,2700.0,4500.0,3400.0,3775.0],\"yaxis\":\"y\",\"type\":\"scatter\"}],                        {\"template\":{\"data\":{\"bar\":[{\"error_x\":{\"color\":\"#2a3f5f\"},\"error_y\":{\"color\":\"#2a3f5f\"},\"marker\":{\"line\":{\"color\":\"#E5ECF6\",\"width\":0.5},\"pattern\":{\"fillmode\":\"overlay\",\"size\":10,\"solidity\":0.2}},\"type\":\"bar\"}],\"barpolar\":[{\"marker\":{\"line\":{\"color\":\"#E5ECF6\",\"width\":0.5},\"pattern\":{\"fillmode\":\"overlay\",\"size\":10,\"solidity\":0.2}},\"type\":\"barpolar\"}],\"carpet\":[{\"aaxis\":{\"endlinecolor\":\"#2a3f5f\",\"gridcolor\":\"white\",\"linecolor\":\"white\",\"minorgridcolor\":\"white\",\"startlinecolor\":\"#2a3f5f\"},\"baxis\":{\"endlinecolor\":\"#2a3f5f\",\"gridcolor\":\"white\",\"linecolor\":\"white\",\"minorgridcolor\":\"white\",\"startlinecolor\":\"#2a3f5f\"},\"type\":\"carpet\"}],\"choropleth\":[{\"colorbar\":{\"outlinewidth\":0,\"ticks\":\"\"},\"type\":\"choropleth\"}],\"contour\":[{\"colorbar\":{\"outlinewidth\":0,\"ticks\":\"\"},\"colorscale\":[[0.0,\"#0d0887\"],[0.1111111111111111,\"#46039f\"],[0.2222222222222222,\"#7201a8\"],[0.3333333333333333,\"#9c179e\"],[0.4444444444444444,\"#bd3786\"],[0.5555555555555556,\"#d8576b\"],[0.6666666666666666,\"#ed7953\"],[0.7777777777777778,\"#fb9f3a\"],[0.8888888888888888,\"#fdca26\"],[1.0,\"#f0f921\"]],\"type\":\"contour\"}],\"contourcarpet\":[{\"colorbar\":{\"outlinewidth\":0,\"ticks\":\"\"},\"type\":\"contourcarpet\"}],\"heatmap\":[{\"colorbar\":{\"outlinewidth\":0,\"ticks\":\"\"},\"colorscale\":[[0.0,\"#0d0887\"],[0.1111111111111111,\"#46039f\"],[0.2222222222222222,\"#7201a8\"],[0.3333333333333333,\"#9c179e\"],[0.4444444444444444,\"#bd3786\"],[0.5555555555555556,\"#d8576b\"],[0.6666666666666666,\"#ed7953\"],[0.7777777777777778,\"#fb9f3a\"],[0.8888888888888888,\"#fdca26\"],[1.0,\"#f0f921\"]],\"type\":\"heatmap\"}],\"heatmapgl\":[{\"colorbar\":{\"outlinewidth\":0,\"ticks\":\"\"},\"colorscale\":[[0.0,\"#0d0887\"],[0.1111111111111111,\"#46039f\"],[0.2222222222222222,\"#7201a8\"],[0.3333333333333333,\"#9c179e\"],[0.4444444444444444,\"#bd3786\"],[0.5555555555555556,\"#d8576b\"],[0.6666666666666666,\"#ed7953\"],[0.7777777777777778,\"#fb9f3a\"],[0.8888888888888888,\"#fdca26\"],[1.0,\"#f0f921\"]],\"type\":\"heatmapgl\"}],\"histogram\":[{\"marker\":{\"pattern\":{\"fillmode\":\"overlay\",\"size\":10,\"solidity\":0.2}},\"type\":\"histogram\"}],\"histogram2d\":[{\"colorbar\":{\"outlinewidth\":0,\"ticks\":\"\"},\"colorscale\":[[0.0,\"#0d0887\"],[0.1111111111111111,\"#46039f\"],[0.2222222222222222,\"#7201a8\"],[0.3333333333333333,\"#9c179e\"],[0.4444444444444444,\"#bd3786\"],[0.5555555555555556,\"#d8576b\"],[0.6666666666666666,\"#ed7953\"],[0.7777777777777778,\"#fb9f3a\"],[0.8888888888888888,\"#fdca26\"],[1.0,\"#f0f921\"]],\"type\":\"histogram2d\"}],\"histogram2dcontour\":[{\"colorbar\":{\"outlinewidth\":0,\"ticks\":\"\"},\"colorscale\":[[0.0,\"#0d0887\"],[0.1111111111111111,\"#46039f\"],[0.2222222222222222,\"#7201a8\"],[0.3333333333333333,\"#9c179e\"],[0.4444444444444444,\"#bd3786\"],[0.5555555555555556,\"#d8576b\"],[0.6666666666666666,\"#ed7953\"],[0.7777777777777778,\"#fb9f3a\"],[0.8888888888888888,\"#fdca26\"],[1.0,\"#f0f921\"]],\"type\":\"histogram2dcontour\"}],\"mesh3d\":[{\"colorbar\":{\"outlinewidth\":0,\"ticks\":\"\"},\"type\":\"mesh3d\"}],\"parcoords\":[{\"line\":{\"colorbar\":{\"outlinewidth\":0,\"ticks\":\"\"}},\"type\":\"parcoords\"}],\"pie\":[{\"automargin\":true,\"type\":\"pie\"}],\"scatter\":[{\"marker\":{\"colorbar\":{\"outlinewidth\":0,\"ticks\":\"\"}},\"type\":\"scatter\"}],\"scatter3d\":[{\"line\":{\"colorbar\":{\"outlinewidth\":0,\"ticks\":\"\"}},\"marker\":{\"colorbar\":{\"outlinewidth\":0,\"ticks\":\"\"}},\"type\":\"scatter3d\"}],\"scattercarpet\":[{\"marker\":{\"colorbar\":{\"outlinewidth\":0,\"ticks\":\"\"}},\"type\":\"scattercarpet\"}],\"scattergeo\":[{\"marker\":{\"colorbar\":{\"outlinewidth\":0,\"ticks\":\"\"}},\"type\":\"scattergeo\"}],\"scattergl\":[{\"marker\":{\"colorbar\":{\"outlinewidth\":0,\"ticks\":\"\"}},\"type\":\"scattergl\"}],\"scattermapbox\":[{\"marker\":{\"colorbar\":{\"outlinewidth\":0,\"ticks\":\"\"}},\"type\":\"scattermapbox\"}],\"scatterpolar\":[{\"marker\":{\"colorbar\":{\"outlinewidth\":0,\"ticks\":\"\"}},\"type\":\"scatterpolar\"}],\"scatterpolargl\":[{\"marker\":{\"colorbar\":{\"outlinewidth\":0,\"ticks\":\"\"}},\"type\":\"scatterpolargl\"}],\"scatterternary\":[{\"marker\":{\"colorbar\":{\"outlinewidth\":0,\"ticks\":\"\"}},\"type\":\"scatterternary\"}],\"surface\":[{\"colorbar\":{\"outlinewidth\":0,\"ticks\":\"\"},\"colorscale\":[[0.0,\"#0d0887\"],[0.1111111111111111,\"#46039f\"],[0.2222222222222222,\"#7201a8\"],[0.3333333333333333,\"#9c179e\"],[0.4444444444444444,\"#bd3786\"],[0.5555555555555556,\"#d8576b\"],[0.6666666666666666,\"#ed7953\"],[0.7777777777777778,\"#fb9f3a\"],[0.8888888888888888,\"#fdca26\"],[1.0,\"#f0f921\"]],\"type\":\"surface\"}],\"table\":[{\"cells\":{\"fill\":{\"color\":\"#EBF0F8\"},\"line\":{\"color\":\"white\"}},\"header\":{\"fill\":{\"color\":\"#C8D4E3\"},\"line\":{\"color\":\"white\"}},\"type\":\"table\"}]},\"layout\":{\"annotationdefaults\":{\"arrowcolor\":\"#2a3f5f\",\"arrowhead\":0,\"arrowwidth\":1},\"autotypenumbers\":\"strict\",\"coloraxis\":{\"colorbar\":{\"outlinewidth\":0,\"ticks\":\"\"}},\"colorscale\":{\"diverging\":[[0,\"#8e0152\"],[0.1,\"#c51b7d\"],[0.2,\"#de77ae\"],[0.3,\"#f1b6da\"],[0.4,\"#fde0ef\"],[0.5,\"#f7f7f7\"],[0.6,\"#e6f5d0\"],[0.7,\"#b8e186\"],[0.8,\"#7fbc41\"],[0.9,\"#4d9221\"],[1,\"#276419\"]],\"sequential\":[[0.0,\"#0d0887\"],[0.1111111111111111,\"#46039f\"],[0.2222222222222222,\"#7201a8\"],[0.3333333333333333,\"#9c179e\"],[0.4444444444444444,\"#bd3786\"],[0.5555555555555556,\"#d8576b\"],[0.6666666666666666,\"#ed7953\"],[0.7777777777777778,\"#fb9f3a\"],[0.8888888888888888,\"#fdca26\"],[1.0,\"#f0f921\"]],\"sequentialminus\":[[0.0,\"#0d0887\"],[0.1111111111111111,\"#46039f\"],[0.2222222222222222,\"#7201a8\"],[0.3333333333333333,\"#9c179e\"],[0.4444444444444444,\"#bd3786\"],[0.5555555555555556,\"#d8576b\"],[0.6666666666666666,\"#ed7953\"],[0.7777777777777778,\"#fb9f3a\"],[0.8888888888888888,\"#fdca26\"],[1.0,\"#f0f921\"]]},\"colorway\":[\"#636efa\",\"#EF553B\",\"#00cc96\",\"#ab63fa\",\"#FFA15A\",\"#19d3f3\",\"#FF6692\",\"#B6E880\",\"#FF97FF\",\"#FECB52\"],\"font\":{\"color\":\"#2a3f5f\"},\"geo\":{\"bgcolor\":\"white\",\"lakecolor\":\"white\",\"landcolor\":\"#E5ECF6\",\"showlakes\":true,\"showland\":true,\"subunitcolor\":\"white\"},\"hoverlabel\":{\"align\":\"left\"},\"hovermode\":\"closest\",\"mapbox\":{\"style\":\"light\"},\"paper_bgcolor\":\"white\",\"plot_bgcolor\":\"#E5ECF6\",\"polar\":{\"angularaxis\":{\"gridcolor\":\"white\",\"linecolor\":\"white\",\"ticks\":\"\"},\"bgcolor\":\"#E5ECF6\",\"radialaxis\":{\"gridcolor\":\"white\",\"linecolor\":\"white\",\"ticks\":\"\"}},\"scene\":{\"xaxis\":{\"backgroundcolor\":\"#E5ECF6\",\"gridcolor\":\"white\",\"gridwidth\":2,\"linecolor\":\"white\",\"showbackground\":true,\"ticks\":\"\",\"zerolinecolor\":\"white\"},\"yaxis\":{\"backgroundcolor\":\"#E5ECF6\",\"gridcolor\":\"white\",\"gridwidth\":2,\"linecolor\":\"white\",\"showbackground\":true,\"ticks\":\"\",\"zerolinecolor\":\"white\"},\"zaxis\":{\"backgroundcolor\":\"#E5ECF6\",\"gridcolor\":\"white\",\"gridwidth\":2,\"linecolor\":\"white\",\"showbackground\":true,\"ticks\":\"\",\"zerolinecolor\":\"white\"}},\"shapedefaults\":{\"line\":{\"color\":\"#2a3f5f\"}},\"ternary\":{\"aaxis\":{\"gridcolor\":\"white\",\"linecolor\":\"white\",\"ticks\":\"\"},\"baxis\":{\"gridcolor\":\"white\",\"linecolor\":\"white\",\"ticks\":\"\"},\"bgcolor\":\"#E5ECF6\",\"caxis\":{\"gridcolor\":\"white\",\"linecolor\":\"white\",\"ticks\":\"\"}},\"title\":{\"x\":0.05},\"xaxis\":{\"automargin\":true,\"gridcolor\":\"white\",\"linecolor\":\"white\",\"ticks\":\"\",\"title\":{\"standoff\":15},\"zerolinecolor\":\"white\",\"zerolinewidth\":2},\"yaxis\":{\"automargin\":true,\"gridcolor\":\"white\",\"linecolor\":\"white\",\"ticks\":\"\",\"title\":{\"standoff\":15},\"zerolinecolor\":\"white\",\"zerolinewidth\":2}}},\"xaxis\":{\"anchor\":\"y\",\"domain\":[0.0,1.0],\"title\":{\"text\":\"Flipper Length (mm)\"}},\"yaxis\":{\"anchor\":\"x\",\"domain\":[0.0,1.0],\"title\":{\"text\":\"Body Mass (g)\"}},\"coloraxis\":{\"colorbar\":{\"title\":{\"text\":\"Culmen Length (mm)\"}},\"colorscale\":[[0.0,\"#0d0887\"],[0.1111111111111111,\"#46039f\"],[0.2222222222222222,\"#7201a8\"],[0.3333333333333333,\"#9c179e\"],[0.4444444444444444,\"#bd3786\"],[0.5555555555555556,\"#d8576b\"],[0.6666666666666666,\"#ed7953\"],[0.7777777777777778,\"#fb9f3a\"],[0.8888888888888888,\"#fdca26\"],[1.0,\"#f0f921\"]]},\"legend\":{\"tracegroupgap\":0,\"itemsizing\":\"constant\"},\"margin\":{\"t\":60}},                        {\"responsive\": true}                    ).then(function(){\n                            \nvar gd = document.getElementById('d394a6ae-d620-4261-b283-12eec60f123d');\nvar x = new MutationObserver(function (mutations, observer) {{\n        var display = window.getComputedStyle(gd).display;\n        if (!display || display === 'none') {{\n            console.log([gd, 'removed!']);\n            Plotly.purge(gd);\n            observer.disconnect();\n        }}\n}});\n\n// Listen for the removal of the full notebook cells\nvar notebookContainer = gd.closest('#notebook-container');\nif (notebookContainer) {{\n    x.observe(notebookContainer, {childList: true});\n}}\n\n// Listen for the clearing of the current output cell\nvar outputEl = gd.closest('.output');\nif (outputEl) {{\n    x.observe(outputEl, {childList: true});\n}}\n\n                        })                };                            </script>        </div>\n</body>\n</html>"
     },
     "execution_count": 9,
     "metadata": {
     },
     "output_type": "execute_result"
    }
   ],
   "source": [
    "import plotly.express as px\n",
    "#Create a scatter here\n",
    "penguins_dataframe.dropna(inplace=True)\n",
    "fig = px.scatter(penguins_dataframe, x=\"Flipper Length (mm)\", y=\"Body Mass (g)\", color=\"Culmen Length (mm)\", size=\"Culmen Depth (mm)\")\n",
    "fig.show()"
   ]
  },
  {
   "cell_type": "code",
   "execution_count": 0,
   "metadata": {
    "collapsed": false
   },
   "outputs": [
   ],
   "source": [
   ]
  },
  {
   "cell_type": "code",
   "execution_count": 58,
   "metadata": {
    "collapsed": false
   },
   "outputs": [
   ],
   "source": [
    "#Create a pie plot here - might look more like art than data science. Is a pie chart a good choice for the column?\n"
   ]
  },
  {
   "cell_type": "markdown",
   "metadata": {
    "collapsed": false
   },
   "source": [
    "### Creating Beautiful Visualizations with Plotly\n",
    "\n",
    "So far, it looks like a scatter plot might be our best bet! Now we want to make a beautiful scatter plot using `plotly.`Just like pandas and numpy, plotly is a module that lets us create beautiful visualizations in just a few lines of code. \n",
    "\n",
    "I'm only going to help with the import, so I need you to spend time on plotly's documentation in order to build the same scatter plot you did in the last section, but nicer. Maybe google \"Scatter plots in plotly python\" to start!\n",
    "\n"
   ]
  },
  {
   "cell_type": "code",
   "execution_count": 10,
   "metadata": {
    "collapsed": false
   },
   "outputs": [
    {
     "data": {
      "text/plain": [
       "Index(['studyName', 'Sample Number', 'Species', 'Region', 'Island', 'Stage',\n",
       "       'Individual ID', 'Clutch Completion', 'Date Egg', 'Culmen Length (mm)',\n",
       "       'Culmen Depth (mm)', 'Flipper Length (mm)', 'Body Mass (g)', 'Sex',\n",
       "       'Delta 15 N (o/oo)', 'Delta 13 C (o/oo)', 'Comments'],\n",
       "      dtype='object')"
      ]
     },
     "execution_count": 10,
     "metadata": {
     },
     "output_type": "execute_result"
    }
   ],
   "source": [
    "import plotly.express as px #importing plotly\n",
    "penguins_dataframe.columns"
   ]
  },
  {
   "cell_type": "markdown",
   "metadata": {
    "collapsed": false
   },
   "source": [
    "**TODO:** Create a scatter plot using plotly. Please add a title here!\n",
    "\n",
    "Maybe google \"Scatter plots in plotly python\" to start!\n",
    "\n"
   ]
  },
  {
   "cell_type": "code",
   "execution_count": 14,
   "metadata": {
    "collapsed": false
   },
   "outputs": [
    {
     "data": {
      "text/html": "<html>\n<head><meta charset=\"utf-8\" /></head>\n<body>\n    <div>            <script src=\"https://cdnjs.cloudflare.com/ajax/libs/mathjax/2.7.5/MathJax.js?config=TeX-AMS-MML_SVG\"></script><script type=\"text/javascript\">if (window.MathJax) {MathJax.Hub.Config({SVG: {font: \"STIX-Web\"}});}</script>                <script type=\"text/javascript\">window.PlotlyConfig = {MathJaxConfig: 'local'};</script>\n        <script src=\"https://cdn.plot.ly/plotly-2.9.0.min.js\"></script>                <div id=\"f546848c-9d7e-429d-b8f4-75c41abfb45c\" class=\"plotly-graph-div\" style=\"height:525px; width:100%;\"></div>            <script type=\"text/javascript\">                                    window.PLOTLYENV=window.PLOTLYENV || {};                                    if (document.getElementById(\"f546848c-9d7e-429d-b8f4-75c41abfb45c\")) {                    Plotly.newPlot(                        \"f546848c-9d7e-429d-b8f4-75c41abfb45c\",                        [{\"alignmentgroup\":\"True\",\"box\":{\"visible\":false},\"hovertemplate\":\"Sex=FEMALE<br>Species=%{x}<br>Body Mass (g)=%{y}<extra></extra>\",\"legendgroup\":\"FEMALE\",\"marker\":{\"color\":\"#636efa\"},\"name\":\"FEMALE\",\"offsetgroup\":\"FEMALE\",\"orientation\":\"v\",\"scalegroup\":\"True\",\"showlegend\":true,\"x\":[\"Adelie Penguin (Pygoscelis adeliae)\",\"Adelie Penguin (Pygoscelis adeliae)\",\"Adelie Penguin (Pygoscelis adeliae)\",\"Adelie Penguin (Pygoscelis adeliae)\",\"Adelie Penguin (Pygoscelis adeliae)\",\"Adelie Penguin (Pygoscelis adeliae)\",\"Adelie Penguin (Pygoscelis adeliae)\",\"Gentoo penguin (Pygoscelis papua)\",\"Gentoo penguin (Pygoscelis papua)\",\"Gentoo penguin (Pygoscelis papua)\",\"Gentoo penguin (Pygoscelis papua)\",\"Chinstrap penguin (Pygoscelis antarctica)\",\"Chinstrap penguin (Pygoscelis antarctica)\",\"Chinstrap penguin (Pygoscelis antarctica)\",\"Chinstrap penguin (Pygoscelis antarctica)\",\"Chinstrap penguin (Pygoscelis antarctica)\",\"Chinstrap penguin (Pygoscelis antarctica)\",\"Chinstrap penguin (Pygoscelis antarctica)\"],\"x0\":\" \",\"xaxis\":\"x\",\"y\":[3625.0,3150.0,3300.0,3050.0,3150.0,3325.0,3400.0,4650.0,3950.0,4200.0,4925.0,3500.0,3700.0,2900.0,3300.0,3400.0,2700.0,3400.0],\"y0\":\" \",\"yaxis\":\"y\",\"type\":\"violin\"},{\"alignmentgroup\":\"True\",\"box\":{\"visible\":false},\"hovertemplate\":\"Sex=MALE<br>Species=%{x}<br>Body Mass (g)=%{y}<extra></extra>\",\"legendgroup\":\"MALE\",\"marker\":{\"color\":\"#EF553B\"},\"name\":\"MALE\",\"offsetgroup\":\"MALE\",\"orientation\":\"v\",\"scalegroup\":\"True\",\"showlegend\":true,\"x\":[\"Adelie Penguin (Pygoscelis adeliae)\",\"Adelie Penguin (Pygoscelis adeliae)\",\"Adelie Penguin (Pygoscelis adeliae)\",\"Adelie Penguin (Pygoscelis adeliae)\",\"Adelie Penguin (Pygoscelis adeliae)\",\"Adelie Penguin (Pygoscelis adeliae)\",\"Gentoo penguin (Pygoscelis papua)\",\"Gentoo penguin (Pygoscelis papua)\",\"Gentoo penguin (Pygoscelis papua)\",\"Chinstrap penguin (Pygoscelis antarctica)\",\"Chinstrap penguin (Pygoscelis antarctica)\",\"Chinstrap penguin (Pygoscelis antarctica)\",\"Chinstrap penguin (Pygoscelis antarctica)\",\"Chinstrap penguin (Pygoscelis antarctica)\",\"Chinstrap penguin (Pygoscelis antarctica)\",\"Chinstrap penguin (Pygoscelis antarctica)\"],\"x0\":\" \",\"xaxis\":\"x\",\"y\":[4675.0,3950.0,4450.0,3500.0,3500.0,4250.0,5550.0,5700.0,5400.0,3900.0,3300.0,3800.0,4150.0,3800.0,4500.0,3775.0],\"y0\":\" \",\"yaxis\":\"y\",\"type\":\"violin\"}],                        {\"template\":{\"data\":{\"bar\":[{\"error_x\":{\"color\":\"#2a3f5f\"},\"error_y\":{\"color\":\"#2a3f5f\"},\"marker\":{\"line\":{\"color\":\"#E5ECF6\",\"width\":0.5},\"pattern\":{\"fillmode\":\"overlay\",\"size\":10,\"solidity\":0.2}},\"type\":\"bar\"}],\"barpolar\":[{\"marker\":{\"line\":{\"color\":\"#E5ECF6\",\"width\":0.5},\"pattern\":{\"fillmode\":\"overlay\",\"size\":10,\"solidity\":0.2}},\"type\":\"barpolar\"}],\"carpet\":[{\"aaxis\":{\"endlinecolor\":\"#2a3f5f\",\"gridcolor\":\"white\",\"linecolor\":\"white\",\"minorgridcolor\":\"white\",\"startlinecolor\":\"#2a3f5f\"},\"baxis\":{\"endlinecolor\":\"#2a3f5f\",\"gridcolor\":\"white\",\"linecolor\":\"white\",\"minorgridcolor\":\"white\",\"startlinecolor\":\"#2a3f5f\"},\"type\":\"carpet\"}],\"choropleth\":[{\"colorbar\":{\"outlinewidth\":0,\"ticks\":\"\"},\"type\":\"choropleth\"}],\"contour\":[{\"colorbar\":{\"outlinewidth\":0,\"ticks\":\"\"},\"colorscale\":[[0.0,\"#0d0887\"],[0.1111111111111111,\"#46039f\"],[0.2222222222222222,\"#7201a8\"],[0.3333333333333333,\"#9c179e\"],[0.4444444444444444,\"#bd3786\"],[0.5555555555555556,\"#d8576b\"],[0.6666666666666666,\"#ed7953\"],[0.7777777777777778,\"#fb9f3a\"],[0.8888888888888888,\"#fdca26\"],[1.0,\"#f0f921\"]],\"type\":\"contour\"}],\"contourcarpet\":[{\"colorbar\":{\"outlinewidth\":0,\"ticks\":\"\"},\"type\":\"contourcarpet\"}],\"heatmap\":[{\"colorbar\":{\"outlinewidth\":0,\"ticks\":\"\"},\"colorscale\":[[0.0,\"#0d0887\"],[0.1111111111111111,\"#46039f\"],[0.2222222222222222,\"#7201a8\"],[0.3333333333333333,\"#9c179e\"],[0.4444444444444444,\"#bd3786\"],[0.5555555555555556,\"#d8576b\"],[0.6666666666666666,\"#ed7953\"],[0.7777777777777778,\"#fb9f3a\"],[0.8888888888888888,\"#fdca26\"],[1.0,\"#f0f921\"]],\"type\":\"heatmap\"}],\"heatmapgl\":[{\"colorbar\":{\"outlinewidth\":0,\"ticks\":\"\"},\"colorscale\":[[0.0,\"#0d0887\"],[0.1111111111111111,\"#46039f\"],[0.2222222222222222,\"#7201a8\"],[0.3333333333333333,\"#9c179e\"],[0.4444444444444444,\"#bd3786\"],[0.5555555555555556,\"#d8576b\"],[0.6666666666666666,\"#ed7953\"],[0.7777777777777778,\"#fb9f3a\"],[0.8888888888888888,\"#fdca26\"],[1.0,\"#f0f921\"]],\"type\":\"heatmapgl\"}],\"histogram\":[{\"marker\":{\"pattern\":{\"fillmode\":\"overlay\",\"size\":10,\"solidity\":0.2}},\"type\":\"histogram\"}],\"histogram2d\":[{\"colorbar\":{\"outlinewidth\":0,\"ticks\":\"\"},\"colorscale\":[[0.0,\"#0d0887\"],[0.1111111111111111,\"#46039f\"],[0.2222222222222222,\"#7201a8\"],[0.3333333333333333,\"#9c179e\"],[0.4444444444444444,\"#bd3786\"],[0.5555555555555556,\"#d8576b\"],[0.6666666666666666,\"#ed7953\"],[0.7777777777777778,\"#fb9f3a\"],[0.8888888888888888,\"#fdca26\"],[1.0,\"#f0f921\"]],\"type\":\"histogram2d\"}],\"histogram2dcontour\":[{\"colorbar\":{\"outlinewidth\":0,\"ticks\":\"\"},\"colorscale\":[[0.0,\"#0d0887\"],[0.1111111111111111,\"#46039f\"],[0.2222222222222222,\"#7201a8\"],[0.3333333333333333,\"#9c179e\"],[0.4444444444444444,\"#bd3786\"],[0.5555555555555556,\"#d8576b\"],[0.6666666666666666,\"#ed7953\"],[0.7777777777777778,\"#fb9f3a\"],[0.8888888888888888,\"#fdca26\"],[1.0,\"#f0f921\"]],\"type\":\"histogram2dcontour\"}],\"mesh3d\":[{\"colorbar\":{\"outlinewidth\":0,\"ticks\":\"\"},\"type\":\"mesh3d\"}],\"parcoords\":[{\"line\":{\"colorbar\":{\"outlinewidth\":0,\"ticks\":\"\"}},\"type\":\"parcoords\"}],\"pie\":[{\"automargin\":true,\"type\":\"pie\"}],\"scatter\":[{\"marker\":{\"colorbar\":{\"outlinewidth\":0,\"ticks\":\"\"}},\"type\":\"scatter\"}],\"scatter3d\":[{\"line\":{\"colorbar\":{\"outlinewidth\":0,\"ticks\":\"\"}},\"marker\":{\"colorbar\":{\"outlinewidth\":0,\"ticks\":\"\"}},\"type\":\"scatter3d\"}],\"scattercarpet\":[{\"marker\":{\"colorbar\":{\"outlinewidth\":0,\"ticks\":\"\"}},\"type\":\"scattercarpet\"}],\"scattergeo\":[{\"marker\":{\"colorbar\":{\"outlinewidth\":0,\"ticks\":\"\"}},\"type\":\"scattergeo\"}],\"scattergl\":[{\"marker\":{\"colorbar\":{\"outlinewidth\":0,\"ticks\":\"\"}},\"type\":\"scattergl\"}],\"scattermapbox\":[{\"marker\":{\"colorbar\":{\"outlinewidth\":0,\"ticks\":\"\"}},\"type\":\"scattermapbox\"}],\"scatterpolar\":[{\"marker\":{\"colorbar\":{\"outlinewidth\":0,\"ticks\":\"\"}},\"type\":\"scatterpolar\"}],\"scatterpolargl\":[{\"marker\":{\"colorbar\":{\"outlinewidth\":0,\"ticks\":\"\"}},\"type\":\"scatterpolargl\"}],\"scatterternary\":[{\"marker\":{\"colorbar\":{\"outlinewidth\":0,\"ticks\":\"\"}},\"type\":\"scatterternary\"}],\"surface\":[{\"colorbar\":{\"outlinewidth\":0,\"ticks\":\"\"},\"colorscale\":[[0.0,\"#0d0887\"],[0.1111111111111111,\"#46039f\"],[0.2222222222222222,\"#7201a8\"],[0.3333333333333333,\"#9c179e\"],[0.4444444444444444,\"#bd3786\"],[0.5555555555555556,\"#d8576b\"],[0.6666666666666666,\"#ed7953\"],[0.7777777777777778,\"#fb9f3a\"],[0.8888888888888888,\"#fdca26\"],[1.0,\"#f0f921\"]],\"type\":\"surface\"}],\"table\":[{\"cells\":{\"fill\":{\"color\":\"#EBF0F8\"},\"line\":{\"color\":\"white\"}},\"header\":{\"fill\":{\"color\":\"#C8D4E3\"},\"line\":{\"color\":\"white\"}},\"type\":\"table\"}]},\"layout\":{\"annotationdefaults\":{\"arrowcolor\":\"#2a3f5f\",\"arrowhead\":0,\"arrowwidth\":1},\"autotypenumbers\":\"strict\",\"coloraxis\":{\"colorbar\":{\"outlinewidth\":0,\"ticks\":\"\"}},\"colorscale\":{\"diverging\":[[0,\"#8e0152\"],[0.1,\"#c51b7d\"],[0.2,\"#de77ae\"],[0.3,\"#f1b6da\"],[0.4,\"#fde0ef\"],[0.5,\"#f7f7f7\"],[0.6,\"#e6f5d0\"],[0.7,\"#b8e186\"],[0.8,\"#7fbc41\"],[0.9,\"#4d9221\"],[1,\"#276419\"]],\"sequential\":[[0.0,\"#0d0887\"],[0.1111111111111111,\"#46039f\"],[0.2222222222222222,\"#7201a8\"],[0.3333333333333333,\"#9c179e\"],[0.4444444444444444,\"#bd3786\"],[0.5555555555555556,\"#d8576b\"],[0.6666666666666666,\"#ed7953\"],[0.7777777777777778,\"#fb9f3a\"],[0.8888888888888888,\"#fdca26\"],[1.0,\"#f0f921\"]],\"sequentialminus\":[[0.0,\"#0d0887\"],[0.1111111111111111,\"#46039f\"],[0.2222222222222222,\"#7201a8\"],[0.3333333333333333,\"#9c179e\"],[0.4444444444444444,\"#bd3786\"],[0.5555555555555556,\"#d8576b\"],[0.6666666666666666,\"#ed7953\"],[0.7777777777777778,\"#fb9f3a\"],[0.8888888888888888,\"#fdca26\"],[1.0,\"#f0f921\"]]},\"colorway\":[\"#636efa\",\"#EF553B\",\"#00cc96\",\"#ab63fa\",\"#FFA15A\",\"#19d3f3\",\"#FF6692\",\"#B6E880\",\"#FF97FF\",\"#FECB52\"],\"font\":{\"color\":\"#2a3f5f\"},\"geo\":{\"bgcolor\":\"white\",\"lakecolor\":\"white\",\"landcolor\":\"#E5ECF6\",\"showlakes\":true,\"showland\":true,\"subunitcolor\":\"white\"},\"hoverlabel\":{\"align\":\"left\"},\"hovermode\":\"closest\",\"mapbox\":{\"style\":\"light\"},\"paper_bgcolor\":\"white\",\"plot_bgcolor\":\"#E5ECF6\",\"polar\":{\"angularaxis\":{\"gridcolor\":\"white\",\"linecolor\":\"white\",\"ticks\":\"\"},\"bgcolor\":\"#E5ECF6\",\"radialaxis\":{\"gridcolor\":\"white\",\"linecolor\":\"white\",\"ticks\":\"\"}},\"scene\":{\"xaxis\":{\"backgroundcolor\":\"#E5ECF6\",\"gridcolor\":\"white\",\"gridwidth\":2,\"linecolor\":\"white\",\"showbackground\":true,\"ticks\":\"\",\"zerolinecolor\":\"white\"},\"yaxis\":{\"backgroundcolor\":\"#E5ECF6\",\"gridcolor\":\"white\",\"gridwidth\":2,\"linecolor\":\"white\",\"showbackground\":true,\"ticks\":\"\",\"zerolinecolor\":\"white\"},\"zaxis\":{\"backgroundcolor\":\"#E5ECF6\",\"gridcolor\":\"white\",\"gridwidth\":2,\"linecolor\":\"white\",\"showbackground\":true,\"ticks\":\"\",\"zerolinecolor\":\"white\"}},\"shapedefaults\":{\"line\":{\"color\":\"#2a3f5f\"}},\"ternary\":{\"aaxis\":{\"gridcolor\":\"white\",\"linecolor\":\"white\",\"ticks\":\"\"},\"baxis\":{\"gridcolor\":\"white\",\"linecolor\":\"white\",\"ticks\":\"\"},\"bgcolor\":\"#E5ECF6\",\"caxis\":{\"gridcolor\":\"white\",\"linecolor\":\"white\",\"ticks\":\"\"}},\"title\":{\"x\":0.05},\"xaxis\":{\"automargin\":true,\"gridcolor\":\"white\",\"linecolor\":\"white\",\"ticks\":\"\",\"title\":{\"standoff\":15},\"zerolinecolor\":\"white\",\"zerolinewidth\":2},\"yaxis\":{\"automargin\":true,\"gridcolor\":\"white\",\"linecolor\":\"white\",\"ticks\":\"\",\"title\":{\"standoff\":15},\"zerolinecolor\":\"white\",\"zerolinewidth\":2}}},\"xaxis\":{\"anchor\":\"y\",\"domain\":[0.0,1.0],\"title\":{\"text\":\"Species\"}},\"yaxis\":{\"anchor\":\"x\",\"domain\":[0.0,1.0],\"title\":{\"text\":\"Body Mass (g)\"}},\"legend\":{\"title\":{\"text\":\"Sex\"},\"tracegroupgap\":0},\"margin\":{\"t\":60},\"violinmode\":\"group\"},                        {\"responsive\": true}                    ).then(function(){\n                            \nvar gd = document.getElementById('f546848c-9d7e-429d-b8f4-75c41abfb45c');\nvar x = new MutationObserver(function (mutations, observer) {{\n        var display = window.getComputedStyle(gd).display;\n        if (!display || display === 'none') {{\n            console.log([gd, 'removed!']);\n            Plotly.purge(gd);\n            observer.disconnect();\n        }}\n}});\n\n// Listen for the removal of the full notebook cells\nvar notebookContainer = gd.closest('#notebook-container');\nif (notebookContainer) {{\n    x.observe(notebookContainer, {childList: true});\n}}\n\n// Listen for the clearing of the current output cell\nvar outputEl = gd.closest('.output');\nif (outputEl) {{\n    x.observe(outputEl, {childList: true});\n}}\n\n                        })                };                            </script>        </div>\n</body>\n</html>"
     },
     "execution_count": 14,
     "metadata": {
     },
     "output_type": "execute_result"
    }
   ],
   "source": [
    "# Create a scatter plot ----------------------------------------\n",
    "fig = px.violin(penguins_dataframe, x=\"Species\", y=\"Body Mass (g)\", color=\"Sex\")\n",
    "fig.show()"
   ]
  },
  {
   "cell_type": "markdown",
   "metadata": {
    "collapsed": false
   },
   "source": [
    "**TODO:** Let's make it look even better. Copy your function from above but add another argument to the function by setting the `color=\"Species\"`. Not sure what this means? Get to the scatter plots page on plotly and scroll down to the \"Setting size and color with column names\" section.\n",
    "\n"
   ]
  },
  {
   "cell_type": "code",
   "execution_count": 16,
   "metadata": {
    "collapsed": false
   },
   "outputs": [
    {
     "data": {
      "text/html": "<html>\n<head><meta charset=\"utf-8\" /></head>\n<body>\n    <div>            <script src=\"https://cdnjs.cloudflare.com/ajax/libs/mathjax/2.7.5/MathJax.js?config=TeX-AMS-MML_SVG\"></script><script type=\"text/javascript\">if (window.MathJax) {MathJax.Hub.Config({SVG: {font: \"STIX-Web\"}});}</script>                <script type=\"text/javascript\">window.PlotlyConfig = {MathJaxConfig: 'local'};</script>\n        <script src=\"https://cdn.plot.ly/plotly-2.9.0.min.js\"></script>                <div id=\"d29aad6c-92f9-4805-9c1d-b7fa0555adc9\" class=\"plotly-graph-div\" style=\"height:525px; width:100%;\"></div>            <script type=\"text/javascript\">                                    window.PLOTLYENV=window.PLOTLYENV || {};                                    if (document.getElementById(\"d29aad6c-92f9-4805-9c1d-b7fa0555adc9\")) {                    Plotly.newPlot(                        \"d29aad6c-92f9-4805-9c1d-b7fa0555adc9\",                        [{\"alignmentgroup\":\"True\",\"box\":{\"visible\":false},\"hovertemplate\":\"Island=Torgersen<br>Species=%{x}<br>Flipper Length (mm)=%{y}<extra></extra>\",\"legendgroup\":\"Torgersen\",\"marker\":{\"color\":\"#636efa\"},\"name\":\"Torgersen\",\"offsetgroup\":\"Torgersen\",\"orientation\":\"v\",\"scalegroup\":\"True\",\"showlegend\":true,\"x\":[\"Adelie Penguin (Pygoscelis adeliae)\",\"Adelie Penguin (Pygoscelis adeliae)\",\"Adelie Penguin (Pygoscelis adeliae)\",\"Adelie Penguin (Pygoscelis adeliae)\",\"Adelie Penguin (Pygoscelis adeliae)\",\"Adelie Penguin (Pygoscelis adeliae)\",\"Adelie Penguin (Pygoscelis adeliae)\",\"Adelie Penguin (Pygoscelis adeliae)\"],\"x0\":\" \",\"xaxis\":\"x\",\"y\":[181.0,195.0,190.0,198.0,187.0,198.0,190.0,197.0],\"y0\":\" \",\"yaxis\":\"y\",\"type\":\"violin\"},{\"alignmentgroup\":\"True\",\"box\":{\"visible\":false},\"hovertemplate\":\"Island=Biscoe<br>Species=%{x}<br>Flipper Length (mm)=%{y}<extra></extra>\",\"legendgroup\":\"Biscoe\",\"marker\":{\"color\":\"#EF553B\"},\"name\":\"Biscoe\",\"offsetgroup\":\"Biscoe\",\"orientation\":\"v\",\"scalegroup\":\"True\",\"showlegend\":true,\"x\":[\"Adelie Penguin (Pygoscelis adeliae)\",\"Adelie Penguin (Pygoscelis adeliae)\",\"Gentoo penguin (Pygoscelis papua)\",\"Gentoo penguin (Pygoscelis papua)\",\"Gentoo penguin (Pygoscelis papua)\",\"Gentoo penguin (Pygoscelis papua)\",\"Gentoo penguin (Pygoscelis papua)\",\"Gentoo penguin (Pygoscelis papua)\",\"Gentoo penguin (Pygoscelis papua)\"],\"x0\":\" \",\"xaxis\":\"x\",\"y\":[172.0,180.0,214.0,216.0,208.0,225.0,210.0,225.0,214.0],\"y0\":\" \",\"yaxis\":\"y\",\"type\":\"violin\"},{\"alignmentgroup\":\"True\",\"box\":{\"visible\":false},\"hovertemplate\":\"Island=Dream<br>Species=%{x}<br>Flipper Length (mm)=%{y}<extra></extra>\",\"legendgroup\":\"Dream\",\"marker\":{\"color\":\"#00cc96\"},\"name\":\"Dream\",\"offsetgroup\":\"Dream\",\"orientation\":\"v\",\"scalegroup\":\"True\",\"showlegend\":true,\"x\":[\"Adelie Penguin (Pygoscelis adeliae)\",\"Adelie Penguin (Pygoscelis adeliae)\",\"Adelie Penguin (Pygoscelis adeliae)\",\"Chinstrap penguin (Pygoscelis antarctica)\",\"Chinstrap penguin (Pygoscelis antarctica)\",\"Chinstrap penguin (Pygoscelis antarctica)\",\"Chinstrap penguin (Pygoscelis antarctica)\",\"Chinstrap penguin (Pygoscelis antarctica)\",\"Chinstrap penguin (Pygoscelis antarctica)\",\"Chinstrap penguin (Pygoscelis antarctica)\",\"Chinstrap penguin (Pygoscelis antarctica)\",\"Chinstrap penguin (Pygoscelis antarctica)\",\"Chinstrap penguin (Pygoscelis antarctica)\",\"Chinstrap penguin (Pygoscelis antarctica)\",\"Chinstrap penguin (Pygoscelis antarctica)\",\"Chinstrap penguin (Pygoscelis antarctica)\",\"Chinstrap penguin (Pygoscelis antarctica)\"],\"x0\":\" \",\"xaxis\":\"x\",\"y\":[181.0,185.0,193.0,192.0,196.0,197.0,181.0,187.0,193.0,195.0,197.0,200.0,200.0,192.0,205.0,202.0,193.0],\"y0\":\" \",\"yaxis\":\"y\",\"type\":\"violin\"}],                        {\"template\":{\"data\":{\"bar\":[{\"error_x\":{\"color\":\"#2a3f5f\"},\"error_y\":{\"color\":\"#2a3f5f\"},\"marker\":{\"line\":{\"color\":\"#E5ECF6\",\"width\":0.5},\"pattern\":{\"fillmode\":\"overlay\",\"size\":10,\"solidity\":0.2}},\"type\":\"bar\"}],\"barpolar\":[{\"marker\":{\"line\":{\"color\":\"#E5ECF6\",\"width\":0.5},\"pattern\":{\"fillmode\":\"overlay\",\"size\":10,\"solidity\":0.2}},\"type\":\"barpolar\"}],\"carpet\":[{\"aaxis\":{\"endlinecolor\":\"#2a3f5f\",\"gridcolor\":\"white\",\"linecolor\":\"white\",\"minorgridcolor\":\"white\",\"startlinecolor\":\"#2a3f5f\"},\"baxis\":{\"endlinecolor\":\"#2a3f5f\",\"gridcolor\":\"white\",\"linecolor\":\"white\",\"minorgridcolor\":\"white\",\"startlinecolor\":\"#2a3f5f\"},\"type\":\"carpet\"}],\"choropleth\":[{\"colorbar\":{\"outlinewidth\":0,\"ticks\":\"\"},\"type\":\"choropleth\"}],\"contour\":[{\"colorbar\":{\"outlinewidth\":0,\"ticks\":\"\"},\"colorscale\":[[0.0,\"#0d0887\"],[0.1111111111111111,\"#46039f\"],[0.2222222222222222,\"#7201a8\"],[0.3333333333333333,\"#9c179e\"],[0.4444444444444444,\"#bd3786\"],[0.5555555555555556,\"#d8576b\"],[0.6666666666666666,\"#ed7953\"],[0.7777777777777778,\"#fb9f3a\"],[0.8888888888888888,\"#fdca26\"],[1.0,\"#f0f921\"]],\"type\":\"contour\"}],\"contourcarpet\":[{\"colorbar\":{\"outlinewidth\":0,\"ticks\":\"\"},\"type\":\"contourcarpet\"}],\"heatmap\":[{\"colorbar\":{\"outlinewidth\":0,\"ticks\":\"\"},\"colorscale\":[[0.0,\"#0d0887\"],[0.1111111111111111,\"#46039f\"],[0.2222222222222222,\"#7201a8\"],[0.3333333333333333,\"#9c179e\"],[0.4444444444444444,\"#bd3786\"],[0.5555555555555556,\"#d8576b\"],[0.6666666666666666,\"#ed7953\"],[0.7777777777777778,\"#fb9f3a\"],[0.8888888888888888,\"#fdca26\"],[1.0,\"#f0f921\"]],\"type\":\"heatmap\"}],\"heatmapgl\":[{\"colorbar\":{\"outlinewidth\":0,\"ticks\":\"\"},\"colorscale\":[[0.0,\"#0d0887\"],[0.1111111111111111,\"#46039f\"],[0.2222222222222222,\"#7201a8\"],[0.3333333333333333,\"#9c179e\"],[0.4444444444444444,\"#bd3786\"],[0.5555555555555556,\"#d8576b\"],[0.6666666666666666,\"#ed7953\"],[0.7777777777777778,\"#fb9f3a\"],[0.8888888888888888,\"#fdca26\"],[1.0,\"#f0f921\"]],\"type\":\"heatmapgl\"}],\"histogram\":[{\"marker\":{\"pattern\":{\"fillmode\":\"overlay\",\"size\":10,\"solidity\":0.2}},\"type\":\"histogram\"}],\"histogram2d\":[{\"colorbar\":{\"outlinewidth\":0,\"ticks\":\"\"},\"colorscale\":[[0.0,\"#0d0887\"],[0.1111111111111111,\"#46039f\"],[0.2222222222222222,\"#7201a8\"],[0.3333333333333333,\"#9c179e\"],[0.4444444444444444,\"#bd3786\"],[0.5555555555555556,\"#d8576b\"],[0.6666666666666666,\"#ed7953\"],[0.7777777777777778,\"#fb9f3a\"],[0.8888888888888888,\"#fdca26\"],[1.0,\"#f0f921\"]],\"type\":\"histogram2d\"}],\"histogram2dcontour\":[{\"colorbar\":{\"outlinewidth\":0,\"ticks\":\"\"},\"colorscale\":[[0.0,\"#0d0887\"],[0.1111111111111111,\"#46039f\"],[0.2222222222222222,\"#7201a8\"],[0.3333333333333333,\"#9c179e\"],[0.4444444444444444,\"#bd3786\"],[0.5555555555555556,\"#d8576b\"],[0.6666666666666666,\"#ed7953\"],[0.7777777777777778,\"#fb9f3a\"],[0.8888888888888888,\"#fdca26\"],[1.0,\"#f0f921\"]],\"type\":\"histogram2dcontour\"}],\"mesh3d\":[{\"colorbar\":{\"outlinewidth\":0,\"ticks\":\"\"},\"type\":\"mesh3d\"}],\"parcoords\":[{\"line\":{\"colorbar\":{\"outlinewidth\":0,\"ticks\":\"\"}},\"type\":\"parcoords\"}],\"pie\":[{\"automargin\":true,\"type\":\"pie\"}],\"scatter\":[{\"marker\":{\"colorbar\":{\"outlinewidth\":0,\"ticks\":\"\"}},\"type\":\"scatter\"}],\"scatter3d\":[{\"line\":{\"colorbar\":{\"outlinewidth\":0,\"ticks\":\"\"}},\"marker\":{\"colorbar\":{\"outlinewidth\":0,\"ticks\":\"\"}},\"type\":\"scatter3d\"}],\"scattercarpet\":[{\"marker\":{\"colorbar\":{\"outlinewidth\":0,\"ticks\":\"\"}},\"type\":\"scattercarpet\"}],\"scattergeo\":[{\"marker\":{\"colorbar\":{\"outlinewidth\":0,\"ticks\":\"\"}},\"type\":\"scattergeo\"}],\"scattergl\":[{\"marker\":{\"colorbar\":{\"outlinewidth\":0,\"ticks\":\"\"}},\"type\":\"scattergl\"}],\"scattermapbox\":[{\"marker\":{\"colorbar\":{\"outlinewidth\":0,\"ticks\":\"\"}},\"type\":\"scattermapbox\"}],\"scatterpolar\":[{\"marker\":{\"colorbar\":{\"outlinewidth\":0,\"ticks\":\"\"}},\"type\":\"scatterpolar\"}],\"scatterpolargl\":[{\"marker\":{\"colorbar\":{\"outlinewidth\":0,\"ticks\":\"\"}},\"type\":\"scatterpolargl\"}],\"scatterternary\":[{\"marker\":{\"colorbar\":{\"outlinewidth\":0,\"ticks\":\"\"}},\"type\":\"scatterternary\"}],\"surface\":[{\"colorbar\":{\"outlinewidth\":0,\"ticks\":\"\"},\"colorscale\":[[0.0,\"#0d0887\"],[0.1111111111111111,\"#46039f\"],[0.2222222222222222,\"#7201a8\"],[0.3333333333333333,\"#9c179e\"],[0.4444444444444444,\"#bd3786\"],[0.5555555555555556,\"#d8576b\"],[0.6666666666666666,\"#ed7953\"],[0.7777777777777778,\"#fb9f3a\"],[0.8888888888888888,\"#fdca26\"],[1.0,\"#f0f921\"]],\"type\":\"surface\"}],\"table\":[{\"cells\":{\"fill\":{\"color\":\"#EBF0F8\"},\"line\":{\"color\":\"white\"}},\"header\":{\"fill\":{\"color\":\"#C8D4E3\"},\"line\":{\"color\":\"white\"}},\"type\":\"table\"}]},\"layout\":{\"annotationdefaults\":{\"arrowcolor\":\"#2a3f5f\",\"arrowhead\":0,\"arrowwidth\":1},\"autotypenumbers\":\"strict\",\"coloraxis\":{\"colorbar\":{\"outlinewidth\":0,\"ticks\":\"\"}},\"colorscale\":{\"diverging\":[[0,\"#8e0152\"],[0.1,\"#c51b7d\"],[0.2,\"#de77ae\"],[0.3,\"#f1b6da\"],[0.4,\"#fde0ef\"],[0.5,\"#f7f7f7\"],[0.6,\"#e6f5d0\"],[0.7,\"#b8e186\"],[0.8,\"#7fbc41\"],[0.9,\"#4d9221\"],[1,\"#276419\"]],\"sequential\":[[0.0,\"#0d0887\"],[0.1111111111111111,\"#46039f\"],[0.2222222222222222,\"#7201a8\"],[0.3333333333333333,\"#9c179e\"],[0.4444444444444444,\"#bd3786\"],[0.5555555555555556,\"#d8576b\"],[0.6666666666666666,\"#ed7953\"],[0.7777777777777778,\"#fb9f3a\"],[0.8888888888888888,\"#fdca26\"],[1.0,\"#f0f921\"]],\"sequentialminus\":[[0.0,\"#0d0887\"],[0.1111111111111111,\"#46039f\"],[0.2222222222222222,\"#7201a8\"],[0.3333333333333333,\"#9c179e\"],[0.4444444444444444,\"#bd3786\"],[0.5555555555555556,\"#d8576b\"],[0.6666666666666666,\"#ed7953\"],[0.7777777777777778,\"#fb9f3a\"],[0.8888888888888888,\"#fdca26\"],[1.0,\"#f0f921\"]]},\"colorway\":[\"#636efa\",\"#EF553B\",\"#00cc96\",\"#ab63fa\",\"#FFA15A\",\"#19d3f3\",\"#FF6692\",\"#B6E880\",\"#FF97FF\",\"#FECB52\"],\"font\":{\"color\":\"#2a3f5f\"},\"geo\":{\"bgcolor\":\"white\",\"lakecolor\":\"white\",\"landcolor\":\"#E5ECF6\",\"showlakes\":true,\"showland\":true,\"subunitcolor\":\"white\"},\"hoverlabel\":{\"align\":\"left\"},\"hovermode\":\"closest\",\"mapbox\":{\"style\":\"light\"},\"paper_bgcolor\":\"white\",\"plot_bgcolor\":\"#E5ECF6\",\"polar\":{\"angularaxis\":{\"gridcolor\":\"white\",\"linecolor\":\"white\",\"ticks\":\"\"},\"bgcolor\":\"#E5ECF6\",\"radialaxis\":{\"gridcolor\":\"white\",\"linecolor\":\"white\",\"ticks\":\"\"}},\"scene\":{\"xaxis\":{\"backgroundcolor\":\"#E5ECF6\",\"gridcolor\":\"white\",\"gridwidth\":2,\"linecolor\":\"white\",\"showbackground\":true,\"ticks\":\"\",\"zerolinecolor\":\"white\"},\"yaxis\":{\"backgroundcolor\":\"#E5ECF6\",\"gridcolor\":\"white\",\"gridwidth\":2,\"linecolor\":\"white\",\"showbackground\":true,\"ticks\":\"\",\"zerolinecolor\":\"white\"},\"zaxis\":{\"backgroundcolor\":\"#E5ECF6\",\"gridcolor\":\"white\",\"gridwidth\":2,\"linecolor\":\"white\",\"showbackground\":true,\"ticks\":\"\",\"zerolinecolor\":\"white\"}},\"shapedefaults\":{\"line\":{\"color\":\"#2a3f5f\"}},\"ternary\":{\"aaxis\":{\"gridcolor\":\"white\",\"linecolor\":\"white\",\"ticks\":\"\"},\"baxis\":{\"gridcolor\":\"white\",\"linecolor\":\"white\",\"ticks\":\"\"},\"bgcolor\":\"#E5ECF6\",\"caxis\":{\"gridcolor\":\"white\",\"linecolor\":\"white\",\"ticks\":\"\"}},\"title\":{\"x\":0.05},\"xaxis\":{\"automargin\":true,\"gridcolor\":\"white\",\"linecolor\":\"white\",\"ticks\":\"\",\"title\":{\"standoff\":15},\"zerolinecolor\":\"white\",\"zerolinewidth\":2},\"yaxis\":{\"automargin\":true,\"gridcolor\":\"white\",\"linecolor\":\"white\",\"ticks\":\"\",\"title\":{\"standoff\":15},\"zerolinecolor\":\"white\",\"zerolinewidth\":2}}},\"xaxis\":{\"anchor\":\"y\",\"domain\":[0.0,1.0],\"title\":{\"text\":\"Species\"}},\"yaxis\":{\"anchor\":\"x\",\"domain\":[0.0,1.0],\"title\":{\"text\":\"Flipper Length (mm)\"}},\"legend\":{\"title\":{\"text\":\"Island\"},\"tracegroupgap\":0},\"margin\":{\"t\":60},\"violinmode\":\"group\"},                        {\"responsive\": true}                    ).then(function(){\n                            \nvar gd = document.getElementById('d29aad6c-92f9-4805-9c1d-b7fa0555adc9');\nvar x = new MutationObserver(function (mutations, observer) {{\n        var display = window.getComputedStyle(gd).display;\n        if (!display || display === 'none') {{\n            console.log([gd, 'removed!']);\n            Plotly.purge(gd);\n            observer.disconnect();\n        }}\n}});\n\n// Listen for the removal of the full notebook cells\nvar notebookContainer = gd.closest('#notebook-container');\nif (notebookContainer) {{\n    x.observe(notebookContainer, {childList: true});\n}}\n\n// Listen for the clearing of the current output cell\nvar outputEl = gd.closest('.output');\nif (outputEl) {{\n    x.observe(outputEl, {childList: true});\n}}\n\n                        })                };                            </script>        </div>\n</body>\n</html>"
     },
     "execution_count": 16,
     "metadata": {
     },
     "output_type": "execute_result"
    }
   ],
   "source": [
    "fig = px.violin(penguins_dataframe, x=\"Species\", y=\"Flipper Length (mm)\", color=\"Island\")\n",
    "fig.show()"
   ]
  },
  {
   "cell_type": "code",
   "execution_count": 0,
   "metadata": {
    "collapsed": false
   },
   "outputs": [
   ],
   "source": [
   ]
  },
  {
   "cell_type": "markdown",
   "metadata": {
    "collapsed": false
   },
   "source": [
    "**Scatter Matrix:** I wanted to create a scatter plot for every possible numerical combination of 'Culmen Length \\(mm\\)', 'Culmen Depth \\(mm\\)', 'Flipper Length \\(mm\\)', and 'Body Mass \\(g\\)'. This could help me understand what is correlated and could mean a relationship between each other. The code to do so is below; are there any findings you can take away from this data?\n",
    "\n"
   ]
  },
  {
   "cell_type": "code",
   "execution_count": 62,
   "metadata": {
    "collapsed": false
   },
   "outputs": [
    {
     "data": {
      "text/html": "<html>\n<head><meta charset=\"utf-8\" /></head>\n<body>\n    <div>            <script src=\"https://cdnjs.cloudflare.com/ajax/libs/mathjax/2.7.5/MathJax.js?config=TeX-AMS-MML_SVG\"></script><script type=\"text/javascript\">if (window.MathJax) {MathJax.Hub.Config({SVG: {font: \"STIX-Web\"}});}</script>                <script type=\"text/javascript\">window.PlotlyConfig = {MathJaxConfig: 'local'};</script>\n        <script src=\"https://cdn.plot.ly/plotly-2.9.0.min.js\"></script>                <div id=\"edd83f97-2afb-4b13-8488-f733dc4fd105\" class=\"plotly-graph-div\" style=\"height:525px; width:100%;\"></div>            <script type=\"text/javascript\">                                    window.PLOTLYENV=window.PLOTLYENV || {};                                    if (document.getElementById(\"edd83f97-2afb-4b13-8488-f733dc4fd105\")) {                    Plotly.newPlot(                        \"edd83f97-2afb-4b13-8488-f733dc4fd105\",                        [{\"dimensions\":[{\"axis\":{\"matches\":true},\"label\":\"Culmen Length (mm)\",\"values\":[39.1,39.5,40.3,36.7,39.3,38.9,39.2,41.1,38.6,34.6,36.6,38.7,42.5,34.4,46.0,37.8,37.7,35.9,38.2,38.8,35.3,40.6,40.5,37.9,40.5,39.5,37.2,39.5,40.9,36.4,39.2,38.8,42.2,37.6,39.8,36.5,40.8,36.0,44.1,37.0,39.6,41.1,36.0,42.3,39.6,40.1,35.0,42.0,34.5,41.4,39.0,40.6,36.5,37.6,35.7,41.3,37.6,41.1,36.4,41.6,35.5,41.1,35.9,41.8,33.5,39.7,39.6,45.8,35.5,42.8,40.9,37.2,36.2,42.1,34.6,42.9,36.7,35.1,37.3,41.3,36.3,36.9,38.3,38.9,35.7,41.1,34.0,39.6,36.2,40.8,38.1,40.3,33.1,43.2,35.0,41.0,37.7,37.8,37.9,39.7,38.6,38.2,38.1,43.2,38.1,45.6,39.7,42.2,39.6,42.7,38.6,37.3,35.7,41.1,36.2,37.7,40.2,41.4,35.2,40.6,38.8,41.5,39.0,44.1,38.5,43.1,36.8,37.5,38.1,41.1,35.6,40.2,37.0,39.7,40.2,40.6,32.1,40.7,37.3,39.0,39.2,36.6,36.0,37.8,36.0,41.5,46.1,50.0,48.7,50.0,47.6,46.5,45.4,46.7,43.3,46.8,40.9,49.0,45.5,48.4,45.8,49.3,42.0,49.2,46.2,48.7,50.2,45.1,46.5,46.3,42.9,46.1,47.8,48.2,50.0,47.3,42.8,45.1,59.6,49.1,48.4,42.6,44.4,44.0,48.7,42.7,49.6,45.3,49.6,50.5,43.6,45.5,50.5,44.9,45.2,46.6,48.5,45.1,50.1,46.5,45.0,43.8,45.5,43.2,50.4,45.3,46.2,45.7,54.3,45.8,49.8,49.5,43.5,50.7,47.7,46.4,48.2,46.5,46.4,48.6,47.5,51.1,45.2,45.2,49.1,52.5,47.4,50.0,44.9,50.8,43.4,51.3,47.5,52.1,47.5,52.2,45.5,49.5,44.5,50.8,49.4,46.9,48.4,51.1,48.5,55.9,47.2,49.1,46.8,41.7,53.4,43.3,48.1,50.5,49.8,43.5,51.5,46.2,55.1,48.8,47.2,46.8,50.4,45.2,49.9,46.5,50.0,51.3,45.4,52.7,45.2,46.1,51.3,46.0,51.3,46.6,51.7,47.0,52.0,45.9,50.5,50.3,58.0,46.4,49.2,42.4,48.5,43.2,50.6,46.7,52.0,50.5,49.5,46.4,52.8,40.9,54.2,42.5,51.0,49.7,47.5,47.6,52.0,46.9,53.5,49.0,46.2,50.9,45.5,50.9,50.8,50.1,49.0,51.5,49.8,48.1,51.4,45.7,50.7,42.5,52.2,45.2,49.3,50.2,45.6,51.9,46.8,45.7,55.8,43.5,49.6,50.8,50.2]},{\"axis\":{\"matches\":true},\"label\":\"Culmen Depth (mm)\",\"values\":[18.7,17.4,18.0,19.3,20.6,17.8,19.6,17.6,21.2,21.1,17.8,19.0,20.7,18.4,21.5,18.3,18.7,19.2,18.1,17.2,18.9,18.6,17.9,18.6,18.9,16.7,18.1,17.8,18.9,17.0,21.1,20.0,18.5,19.3,19.1,18.0,18.4,18.5,19.7,16.9,18.8,19.0,17.9,21.2,17.7,18.9,17.9,19.5,18.1,18.6,17.5,18.8,16.6,19.1,16.9,21.1,17.0,18.2,17.1,18.0,16.2,19.1,16.6,19.4,19.0,18.4,17.2,18.9,17.5,18.5,16.8,19.4,16.1,19.1,17.2,17.6,18.8,19.4,17.8,20.3,19.5,18.6,19.2,18.8,18.0,18.1,17.1,18.1,17.3,18.9,18.6,18.5,16.1,18.5,17.9,20.0,16.0,20.0,18.6,18.9,17.2,20.0,17.0,19.0,16.5,20.3,17.7,19.5,20.7,18.3,17.0,20.5,17.0,18.6,17.2,19.8,17.0,18.5,15.9,19.0,17.6,18.3,17.1,18.0,17.9,19.2,18.5,18.5,17.6,17.5,17.5,20.1,16.5,17.9,17.1,17.2,15.5,17.0,16.8,18.7,18.6,18.4,17.8,18.1,17.1,18.5,13.2,16.3,14.1,15.2,14.5,13.5,14.6,15.3,13.4,15.4,13.7,16.1,13.7,14.6,14.6,15.7,13.5,15.2,14.5,15.1,14.3,14.5,14.5,15.8,13.1,15.1,15.0,14.3,15.3,15.3,14.2,14.5,17.0,14.8,16.3,13.7,17.3,13.6,15.7,13.7,16.0,13.7,15.0,15.9,13.9,13.9,15.9,13.3,15.8,14.2,14.1,14.4,15.0,14.4,15.4,13.9,15.0,14.5,15.3,13.8,14.9,13.9,15.7,14.2,16.8,16.2,14.2,15.0,15.0,15.6,15.6,14.8,15.0,16.0,14.2,16.3,13.8,16.4,14.5,15.6,14.6,15.9,13.8,17.3,14.4,14.2,14.0,17.0,15.0,17.1,14.5,16.1,14.7,15.7,15.8,14.6,14.4,16.5,15.0,17.0,15.5,15.0,16.1,14.7,15.8,14.0,15.1,15.2,15.9,15.2,16.3,14.1,16.0,16.2,13.7,14.3,15.7,14.8,16.1,17.9,19.5,19.2,18.7,19.8,17.8,18.2,18.2,18.9,19.9,17.8,20.3,17.3,18.1,17.1,19.6,20.0,17.8,18.6,18.2,17.3,17.5,16.6,19.4,17.9,19.0,18.4,19.0,17.8,20.0,16.6,20.8,16.7,18.8,18.6,16.8,18.3,20.7,16.6,19.9,19.5,17.5,19.1,17.0,17.9,18.5,17.9,19.6,18.7,17.3,16.4,19.0,17.3,19.7,17.3,18.8,16.6,19.9,18.8,19.4,19.5,16.5,17.0,19.8,18.1,18.2,19.0,18.7]},{\"axis\":{\"matches\":true},\"label\":\"Flipper Length (mm)\",\"values\":[181.0,186.0,195.0,193.0,190.0,181.0,195.0,182.0,191.0,198.0,185.0,195.0,197.0,184.0,194.0,174.0,180.0,189.0,185.0,180.0,187.0,183.0,187.0,172.0,180.0,178.0,178.0,188.0,184.0,195.0,196.0,190.0,180.0,181.0,184.0,182.0,195.0,186.0,196.0,185.0,190.0,182.0,190.0,191.0,186.0,188.0,190.0,200.0,187.0,191.0,186.0,193.0,181.0,194.0,185.0,195.0,185.0,192.0,184.0,192.0,195.0,188.0,190.0,198.0,190.0,190.0,196.0,197.0,190.0,195.0,191.0,184.0,187.0,195.0,189.0,196.0,187.0,193.0,191.0,194.0,190.0,189.0,189.0,190.0,202.0,205.0,185.0,186.0,187.0,208.0,190.0,196.0,178.0,192.0,192.0,203.0,183.0,190.0,193.0,184.0,199.0,190.0,181.0,197.0,198.0,191.0,193.0,197.0,191.0,196.0,188.0,199.0,189.0,189.0,187.0,198.0,176.0,202.0,186.0,199.0,191.0,195.0,191.0,210.0,190.0,197.0,193.0,199.0,187.0,190.0,191.0,200.0,185.0,193.0,193.0,187.0,188.0,190.0,192.0,185.0,190.0,184.0,195.0,193.0,187.0,201.0,211.0,230.0,210.0,218.0,215.0,210.0,211.0,219.0,209.0,215.0,214.0,216.0,214.0,213.0,210.0,217.0,210.0,221.0,209.0,222.0,218.0,215.0,213.0,215.0,215.0,215.0,215.0,210.0,220.0,222.0,209.0,207.0,230.0,220.0,220.0,213.0,219.0,208.0,208.0,208.0,225.0,210.0,216.0,222.0,217.0,210.0,225.0,213.0,215.0,210.0,220.0,210.0,225.0,217.0,220.0,208.0,220.0,208.0,224.0,208.0,221.0,214.0,231.0,219.0,230.0,229.0,220.0,223.0,216.0,221.0,221.0,217.0,216.0,230.0,209.0,220.0,215.0,223.0,212.0,221.0,212.0,224.0,212.0,228.0,218.0,218.0,212.0,230.0,218.0,228.0,212.0,224.0,214.0,226.0,216.0,222.0,203.0,225.0,219.0,228.0,215.0,228.0,215.0,210.0,219.0,208.0,209.0,216.0,229.0,213.0,230.0,217.0,230.0,222.0,214.0,215.0,222.0,212.0,213.0,192.0,196.0,193.0,188.0,197.0,198.0,178.0,197.0,195.0,198.0,193.0,194.0,185.0,201.0,190.0,201.0,197.0,181.0,190.0,195.0,181.0,191.0,187.0,193.0,195.0,197.0,200.0,200.0,191.0,205.0,187.0,201.0,187.0,203.0,195.0,199.0,195.0,210.0,192.0,205.0,210.0,187.0,196.0,196.0,196.0,201.0,190.0,212.0,187.0,198.0,199.0,201.0,193.0,203.0,187.0,197.0,191.0,203.0,202.0,194.0,206.0,189.0,195.0,207.0,202.0,193.0,210.0,198.0]},{\"axis\":{\"matches\":true},\"label\":\"Body Mass (g)\",\"values\":[3750.0,3800.0,3250.0,3450.0,3650.0,3625.0,4675.0,3200.0,3800.0,4400.0,3700.0,3450.0,4500.0,3325.0,4200.0,3400.0,3600.0,3800.0,3950.0,3800.0,3800.0,3550.0,3200.0,3150.0,3950.0,3250.0,3900.0,3300.0,3900.0,3325.0,4150.0,3950.0,3550.0,3300.0,4650.0,3150.0,3900.0,3100.0,4400.0,3000.0,4600.0,3425.0,3450.0,4150.0,3500.0,4300.0,3450.0,4050.0,2900.0,3700.0,3550.0,3800.0,2850.0,3750.0,3150.0,4400.0,3600.0,4050.0,2850.0,3950.0,3350.0,4100.0,3050.0,4450.0,3600.0,3900.0,3550.0,4150.0,3700.0,4250.0,3700.0,3900.0,3550.0,4000.0,3200.0,4700.0,3800.0,4200.0,3350.0,3550.0,3800.0,3500.0,3950.0,3600.0,3550.0,4300.0,3400.0,4450.0,3300.0,4300.0,3700.0,4350.0,2900.0,4100.0,3725.0,4725.0,3075.0,4250.0,2925.0,3550.0,3750.0,3900.0,3175.0,4775.0,3825.0,4600.0,3200.0,4275.0,3900.0,4075.0,2900.0,3775.0,3350.0,3325.0,3150.0,3500.0,3450.0,3875.0,3050.0,4000.0,3275.0,4300.0,3050.0,4000.0,3325.0,3500.0,3500.0,4475.0,3425.0,3900.0,3175.0,3975.0,3400.0,4250.0,3400.0,3475.0,3050.0,3725.0,3000.0,3650.0,4250.0,3475.0,3450.0,3750.0,3700.0,4000.0,4500.0,5700.0,4450.0,5700.0,5400.0,4550.0,4800.0,5200.0,4400.0,5150.0,4650.0,5550.0,4650.0,5850.0,4200.0,5850.0,4150.0,6300.0,4800.0,5350.0,5700.0,5000.0,4400.0,5050.0,5000.0,5100.0,5650.0,4600.0,5550.0,5250.0,4700.0,5050.0,6050.0,5150.0,5400.0,4950.0,5250.0,4350.0,5350.0,3950.0,5700.0,4300.0,4750.0,5550.0,4900.0,4200.0,5400.0,5100.0,5300.0,4850.0,5300.0,4400.0,5000.0,4900.0,5050.0,4300.0,5000.0,4450.0,5550.0,4200.0,5300.0,4400.0,5650.0,4700.0,5700.0,5800.0,4700.0,5550.0,4750.0,5000.0,5100.0,5200.0,4700.0,5800.0,4600.0,6000.0,4750.0,5950.0,4625.0,5450.0,4725.0,5350.0,4750.0,5600.0,4600.0,5300.0,4875.0,5550.0,4950.0,5400.0,4750.0,5650.0,4850.0,5200.0,4925.0,4875.0,4625.0,5250.0,4850.0,5600.0,4975.0,5500.0,5500.0,4700.0,5500.0,4575.0,5500.0,5000.0,5950.0,4650.0,5500.0,4375.0,5850.0,6000.0,4925.0,4850.0,5750.0,5200.0,5400.0,3500.0,3900.0,3650.0,3525.0,3725.0,3950.0,3250.0,3750.0,4150.0,3700.0,3800.0,3775.0,3700.0,4050.0,3575.0,4050.0,3300.0,3700.0,3450.0,4400.0,3600.0,3400.0,2900.0,3800.0,3300.0,4150.0,3400.0,3800.0,3700.0,4550.0,3200.0,4300.0,3350.0,4100.0,3600.0,3900.0,3850.0,4800.0,2700.0,4500.0,3950.0,3650.0,3550.0,3500.0,3675.0,4450.0,3400.0,4300.0,3250.0,3675.0,3325.0,3950.0,3600.0,4050.0,3350.0,3450.0,3250.0,4050.0,3800.0,3525.0,3950.0,3650.0,3650.0,4000.0,3400.0,3775.0,4100.0,3775.0]}],\"hovertemplate\":\"%{xaxis.title.text}=%{x}<br>%{yaxis.title.text}=%{y}<extra></extra>\",\"legendgroup\":\"\",\"marker\":{\"color\":\"#636efa\",\"symbol\":\"circle\"},\"name\":\"\",\"showlegend\":false,\"type\":\"splom\"}],                        {\"template\":{\"data\":{\"bar\":[{\"error_x\":{\"color\":\"#2a3f5f\"},\"error_y\":{\"color\":\"#2a3f5f\"},\"marker\":{\"line\":{\"color\":\"#E5ECF6\",\"width\":0.5},\"pattern\":{\"fillmode\":\"overlay\",\"size\":10,\"solidity\":0.2}},\"type\":\"bar\"}],\"barpolar\":[{\"marker\":{\"line\":{\"color\":\"#E5ECF6\",\"width\":0.5},\"pattern\":{\"fillmode\":\"overlay\",\"size\":10,\"solidity\":0.2}},\"type\":\"barpolar\"}],\"carpet\":[{\"aaxis\":{\"endlinecolor\":\"#2a3f5f\",\"gridcolor\":\"white\",\"linecolor\":\"white\",\"minorgridcolor\":\"white\",\"startlinecolor\":\"#2a3f5f\"},\"baxis\":{\"endlinecolor\":\"#2a3f5f\",\"gridcolor\":\"white\",\"linecolor\":\"white\",\"minorgridcolor\":\"white\",\"startlinecolor\":\"#2a3f5f\"},\"type\":\"carpet\"}],\"choropleth\":[{\"colorbar\":{\"outlinewidth\":0,\"ticks\":\"\"},\"type\":\"choropleth\"}],\"contour\":[{\"colorbar\":{\"outlinewidth\":0,\"ticks\":\"\"},\"colorscale\":[[0.0,\"#0d0887\"],[0.1111111111111111,\"#46039f\"],[0.2222222222222222,\"#7201a8\"],[0.3333333333333333,\"#9c179e\"],[0.4444444444444444,\"#bd3786\"],[0.5555555555555556,\"#d8576b\"],[0.6666666666666666,\"#ed7953\"],[0.7777777777777778,\"#fb9f3a\"],[0.8888888888888888,\"#fdca26\"],[1.0,\"#f0f921\"]],\"type\":\"contour\"}],\"contourcarpet\":[{\"colorbar\":{\"outlinewidth\":0,\"ticks\":\"\"},\"type\":\"contourcarpet\"}],\"heatmap\":[{\"colorbar\":{\"outlinewidth\":0,\"ticks\":\"\"},\"colorscale\":[[0.0,\"#0d0887\"],[0.1111111111111111,\"#46039f\"],[0.2222222222222222,\"#7201a8\"],[0.3333333333333333,\"#9c179e\"],[0.4444444444444444,\"#bd3786\"],[0.5555555555555556,\"#d8576b\"],[0.6666666666666666,\"#ed7953\"],[0.7777777777777778,\"#fb9f3a\"],[0.8888888888888888,\"#fdca26\"],[1.0,\"#f0f921\"]],\"type\":\"heatmap\"}],\"heatmapgl\":[{\"colorbar\":{\"outlinewidth\":0,\"ticks\":\"\"},\"colorscale\":[[0.0,\"#0d0887\"],[0.1111111111111111,\"#46039f\"],[0.2222222222222222,\"#7201a8\"],[0.3333333333333333,\"#9c179e\"],[0.4444444444444444,\"#bd3786\"],[0.5555555555555556,\"#d8576b\"],[0.6666666666666666,\"#ed7953\"],[0.7777777777777778,\"#fb9f3a\"],[0.8888888888888888,\"#fdca26\"],[1.0,\"#f0f921\"]],\"type\":\"heatmapgl\"}],\"histogram\":[{\"marker\":{\"pattern\":{\"fillmode\":\"overlay\",\"size\":10,\"solidity\":0.2}},\"type\":\"histogram\"}],\"histogram2d\":[{\"colorbar\":{\"outlinewidth\":0,\"ticks\":\"\"},\"colorscale\":[[0.0,\"#0d0887\"],[0.1111111111111111,\"#46039f\"],[0.2222222222222222,\"#7201a8\"],[0.3333333333333333,\"#9c179e\"],[0.4444444444444444,\"#bd3786\"],[0.5555555555555556,\"#d8576b\"],[0.6666666666666666,\"#ed7953\"],[0.7777777777777778,\"#fb9f3a\"],[0.8888888888888888,\"#fdca26\"],[1.0,\"#f0f921\"]],\"type\":\"histogram2d\"}],\"histogram2dcontour\":[{\"colorbar\":{\"outlinewidth\":0,\"ticks\":\"\"},\"colorscale\":[[0.0,\"#0d0887\"],[0.1111111111111111,\"#46039f\"],[0.2222222222222222,\"#7201a8\"],[0.3333333333333333,\"#9c179e\"],[0.4444444444444444,\"#bd3786\"],[0.5555555555555556,\"#d8576b\"],[0.6666666666666666,\"#ed7953\"],[0.7777777777777778,\"#fb9f3a\"],[0.8888888888888888,\"#fdca26\"],[1.0,\"#f0f921\"]],\"type\":\"histogram2dcontour\"}],\"mesh3d\":[{\"colorbar\":{\"outlinewidth\":0,\"ticks\":\"\"},\"type\":\"mesh3d\"}],\"parcoords\":[{\"line\":{\"colorbar\":{\"outlinewidth\":0,\"ticks\":\"\"}},\"type\":\"parcoords\"}],\"pie\":[{\"automargin\":true,\"type\":\"pie\"}],\"scatter\":[{\"marker\":{\"colorbar\":{\"outlinewidth\":0,\"ticks\":\"\"}},\"type\":\"scatter\"}],\"scatter3d\":[{\"line\":{\"colorbar\":{\"outlinewidth\":0,\"ticks\":\"\"}},\"marker\":{\"colorbar\":{\"outlinewidth\":0,\"ticks\":\"\"}},\"type\":\"scatter3d\"}],\"scattercarpet\":[{\"marker\":{\"colorbar\":{\"outlinewidth\":0,\"ticks\":\"\"}},\"type\":\"scattercarpet\"}],\"scattergeo\":[{\"marker\":{\"colorbar\":{\"outlinewidth\":0,\"ticks\":\"\"}},\"type\":\"scattergeo\"}],\"scattergl\":[{\"marker\":{\"colorbar\":{\"outlinewidth\":0,\"ticks\":\"\"}},\"type\":\"scattergl\"}],\"scattermapbox\":[{\"marker\":{\"colorbar\":{\"outlinewidth\":0,\"ticks\":\"\"}},\"type\":\"scattermapbox\"}],\"scatterpolar\":[{\"marker\":{\"colorbar\":{\"outlinewidth\":0,\"ticks\":\"\"}},\"type\":\"scatterpolar\"}],\"scatterpolargl\":[{\"marker\":{\"colorbar\":{\"outlinewidth\":0,\"ticks\":\"\"}},\"type\":\"scatterpolargl\"}],\"scatterternary\":[{\"marker\":{\"colorbar\":{\"outlinewidth\":0,\"ticks\":\"\"}},\"type\":\"scatterternary\"}],\"surface\":[{\"colorbar\":{\"outlinewidth\":0,\"ticks\":\"\"},\"colorscale\":[[0.0,\"#0d0887\"],[0.1111111111111111,\"#46039f\"],[0.2222222222222222,\"#7201a8\"],[0.3333333333333333,\"#9c179e\"],[0.4444444444444444,\"#bd3786\"],[0.5555555555555556,\"#d8576b\"],[0.6666666666666666,\"#ed7953\"],[0.7777777777777778,\"#fb9f3a\"],[0.8888888888888888,\"#fdca26\"],[1.0,\"#f0f921\"]],\"type\":\"surface\"}],\"table\":[{\"cells\":{\"fill\":{\"color\":\"#EBF0F8\"},\"line\":{\"color\":\"white\"}},\"header\":{\"fill\":{\"color\":\"#C8D4E3\"},\"line\":{\"color\":\"white\"}},\"type\":\"table\"}]},\"layout\":{\"annotationdefaults\":{\"arrowcolor\":\"#2a3f5f\",\"arrowhead\":0,\"arrowwidth\":1},\"autotypenumbers\":\"strict\",\"coloraxis\":{\"colorbar\":{\"outlinewidth\":0,\"ticks\":\"\"}},\"colorscale\":{\"diverging\":[[0,\"#8e0152\"],[0.1,\"#c51b7d\"],[0.2,\"#de77ae\"],[0.3,\"#f1b6da\"],[0.4,\"#fde0ef\"],[0.5,\"#f7f7f7\"],[0.6,\"#e6f5d0\"],[0.7,\"#b8e186\"],[0.8,\"#7fbc41\"],[0.9,\"#4d9221\"],[1,\"#276419\"]],\"sequential\":[[0.0,\"#0d0887\"],[0.1111111111111111,\"#46039f\"],[0.2222222222222222,\"#7201a8\"],[0.3333333333333333,\"#9c179e\"],[0.4444444444444444,\"#bd3786\"],[0.5555555555555556,\"#d8576b\"],[0.6666666666666666,\"#ed7953\"],[0.7777777777777778,\"#fb9f3a\"],[0.8888888888888888,\"#fdca26\"],[1.0,\"#f0f921\"]],\"sequentialminus\":[[0.0,\"#0d0887\"],[0.1111111111111111,\"#46039f\"],[0.2222222222222222,\"#7201a8\"],[0.3333333333333333,\"#9c179e\"],[0.4444444444444444,\"#bd3786\"],[0.5555555555555556,\"#d8576b\"],[0.6666666666666666,\"#ed7953\"],[0.7777777777777778,\"#fb9f3a\"],[0.8888888888888888,\"#fdca26\"],[1.0,\"#f0f921\"]]},\"colorway\":[\"#636efa\",\"#EF553B\",\"#00cc96\",\"#ab63fa\",\"#FFA15A\",\"#19d3f3\",\"#FF6692\",\"#B6E880\",\"#FF97FF\",\"#FECB52\"],\"font\":{\"color\":\"#2a3f5f\"},\"geo\":{\"bgcolor\":\"white\",\"lakecolor\":\"white\",\"landcolor\":\"#E5ECF6\",\"showlakes\":true,\"showland\":true,\"subunitcolor\":\"white\"},\"hoverlabel\":{\"align\":\"left\"},\"hovermode\":\"closest\",\"mapbox\":{\"style\":\"light\"},\"paper_bgcolor\":\"white\",\"plot_bgcolor\":\"#E5ECF6\",\"polar\":{\"angularaxis\":{\"gridcolor\":\"white\",\"linecolor\":\"white\",\"ticks\":\"\"},\"bgcolor\":\"#E5ECF6\",\"radialaxis\":{\"gridcolor\":\"white\",\"linecolor\":\"white\",\"ticks\":\"\"}},\"scene\":{\"xaxis\":{\"backgroundcolor\":\"#E5ECF6\",\"gridcolor\":\"white\",\"gridwidth\":2,\"linecolor\":\"white\",\"showbackground\":true,\"ticks\":\"\",\"zerolinecolor\":\"white\"},\"yaxis\":{\"backgroundcolor\":\"#E5ECF6\",\"gridcolor\":\"white\",\"gridwidth\":2,\"linecolor\":\"white\",\"showbackground\":true,\"ticks\":\"\",\"zerolinecolor\":\"white\"},\"zaxis\":{\"backgroundcolor\":\"#E5ECF6\",\"gridcolor\":\"white\",\"gridwidth\":2,\"linecolor\":\"white\",\"showbackground\":true,\"ticks\":\"\",\"zerolinecolor\":\"white\"}},\"shapedefaults\":{\"line\":{\"color\":\"#2a3f5f\"}},\"ternary\":{\"aaxis\":{\"gridcolor\":\"white\",\"linecolor\":\"white\",\"ticks\":\"\"},\"baxis\":{\"gridcolor\":\"white\",\"linecolor\":\"white\",\"ticks\":\"\"},\"bgcolor\":\"#E5ECF6\",\"caxis\":{\"gridcolor\":\"white\",\"linecolor\":\"white\",\"ticks\":\"\"}},\"title\":{\"x\":0.05},\"xaxis\":{\"automargin\":true,\"gridcolor\":\"white\",\"linecolor\":\"white\",\"ticks\":\"\",\"title\":{\"standoff\":15},\"zerolinecolor\":\"white\",\"zerolinewidth\":2},\"yaxis\":{\"automargin\":true,\"gridcolor\":\"white\",\"linecolor\":\"white\",\"ticks\":\"\",\"title\":{\"standoff\":15},\"zerolinecolor\":\"white\",\"zerolinewidth\":2}}},\"legend\":{\"tracegroupgap\":0},\"margin\":{\"t\":60},\"dragmode\":\"select\"},                        {\"responsive\": true}                    ).then(function(){\n                            \nvar gd = document.getElementById('edd83f97-2afb-4b13-8488-f733dc4fd105');\nvar x = new MutationObserver(function (mutations, observer) {{\n        var display = window.getComputedStyle(gd).display;\n        if (!display || display === 'none') {{\n            console.log([gd, 'removed!']);\n            Plotly.purge(gd);\n            observer.disconnect();\n        }}\n}});\n\n// Listen for the removal of the full notebook cells\nvar notebookContainer = gd.closest('#notebook-container');\nif (notebookContainer) {{\n    x.observe(notebookContainer, {childList: true});\n}}\n\n// Listen for the clearing of the current output cell\nvar outputEl = gd.closest('.output');\nif (outputEl) {{\n    x.observe(outputEl, {childList: true});\n}}\n\n                        })                };                            </script>        </div>\n</body>\n</html>"
     },
     "execution_count": 62,
     "metadata": {
     },
     "output_type": "execute_result"
    }
   ],
   "source": [
    "# My scatter matrix!\n",
    "numerical_penguins_df = penguins_dataframe[['Culmen Length (mm)', 'Culmen Depth (mm)', 'Flipper Length (mm)',\n",
    "       'Body Mass (g)']]\n",
    "fig = px.scatter_matrix(numerical_penguins_df)\n",
    "fig.show()"
   ]
  },
  {
   "cell_type": "markdown",
   "metadata": {
    "collapsed": false
   },
   "source": [
    "### Putting the DA in EDA\n",
    "\n",
    "We now have explored our data some, and have built some beautiful visualizations to showcase patterns our data. But having a plot doesn't mean anything to someone who can't understand how to read plots.\n",
    "\n",
    "Below you can continue your analysis if you have hypotheses you'd like to explore with the penguins \\(i.e. is flipper length related to culmen depth? Which species has the largest culmen area?\\). After you are done, please write up some descriptions for your findings on this dataset. One question we answered earlier was _which species has the largest flipper length?_ You can start with you\n"
   ]
  },
  {
   "cell_type": "code",
   "execution_count": 0,
   "metadata": {
    "collapsed": false
   },
   "outputs": [
   ],
   "source": [
    "#Continue your analysis below -- try something new!"
   ]
  },
  {
   "cell_type": "code",
   "execution_count": 0,
   "metadata": {
    "collapsed": false
   },
   "outputs": [
   ],
   "source": [
    "#Continue your analysis"
   ]
  },
  {
   "cell_type": "raw",
   "metadata": {
    "collapsed": false
   },
   "source": [
    "Write up some descriptions for your findings here....\n",
    "\n",
    "\n",
    "\n",
    "\n"
   ]
  },
  {
   "cell_type": "markdown",
   "metadata": {
    "collapsed": false
   },
   "source": [
    "Thank you!\n",
    "\n"
   ]
  }
 ],
 "metadata": {
  "interpreter": {
   "hash": "08210294964727e4010dccc398c44f22b92a2e77e2aceea574ad21eae77cd8e8"
  },
  "kernelspec": {
   "display_name": "Python 3 (Ubuntu Linux)",
   "language": "python",
   "name": "python3-ubuntu",
   "resource_dir": "/usr/local/share/jupyter/kernels/python3-ubuntu"
  },
  "language_info": {
   "codemirror_mode": {
    "name": "ipython",
    "version": 3
   },
   "file_extension": ".py",
   "mimetype": "text/x-python",
   "name": "python",
   "nbconvert_exporter": "python",
   "pygments_lexer": "ipython3",
   "version": "3.8.10"
  },
  "orig_nbformat": 4
 },
 "nbformat": 4,
 "nbformat_minor": 4
}