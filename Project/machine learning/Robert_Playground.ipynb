{
 "cells": [
  {
   "cell_type": "markdown",
   "metadata": {
    "collapsed": false
   },
   "source": [
    "#### RFR\n",
    "\n",
    "Params: RFR = RandomForestRegressor\\(n\\_estimators = 150, min\\_samples\\_split = 3\\)\n",
    "\n",
    "MSE: 1.5923507837249158e\\-05\n",
    "\n",
    "R^2: 0.9990686333670127\n",
    "\n",
    "#### KNN\n",
    "\n",
    "Params: KNN = KNeighborsRegressor\\(n\\_neighbors=2, weights='distance'\\)\n",
    "\n",
    "MSE: 6.088790692236671e\\-05\n",
    "\n",
    "R^2: 0.996438663802\n",
    "\n"
   ]
  },
  {
   "cell_type": "code",
   "execution_count": 137,
   "metadata": {
    "collapsed": false
   },
   "outputs": [
   ],
   "source": [
    "import numpy as np\n",
    "import pandas as pd\n",
    "import plotly.express as px\n",
    "from sklearn import linear_model\n",
    "from sklearn.model_selection import train_test_split\n",
    "from sklearn.model_selection import GridSearchCV\n",
    "from sklearn.ensemble import RandomForestRegressor"
   ]
  },
  {
   "cell_type": "code",
   "execution_count": 138,
   "metadata": {
    "collapsed": false
   },
   "outputs": [
    {
     "data": {
      "text/html": [
       "<div>\n",
       "<style scoped>\n",
       "    .dataframe tbody tr th:only-of-type {\n",
       "        vertical-align: middle;\n",
       "    }\n",
       "\n",
       "    .dataframe tbody tr th {\n",
       "        vertical-align: top;\n",
       "    }\n",
       "\n",
       "    .dataframe thead th {\n",
       "        text-align: right;\n",
       "    }\n",
       "</style>\n",
       "<table border=\"1\" class=\"dataframe\">\n",
       "  <thead>\n",
       "    <tr style=\"text-align: right;\">\n",
       "      <th></th>\n",
       "      <th>Greenhouse Gas Emissions</th>\n",
       "      <th>Country</th>\n",
       "      <th>Year</th>\n",
       "      <th>Natural Gas Production</th>\n",
       "      <th>Crude Oil Production</th>\n",
       "      <th>Motor Gasoline Production</th>\n",
       "      <th>Gas Oil/Diesel Oil Production</th>\n",
       "      <th>Hard Coal Import</th>\n",
       "      <th>Natural Gas Import</th>\n",
       "      <th>Crude Oil Import</th>\n",
       "      <th>Motor Gasoline Import</th>\n",
       "      <th>Gas Oil/Diesel Oil Import</th>\n",
       "    </tr>\n",
       "  </thead>\n",
       "  <tbody>\n",
       "    <tr>\n",
       "      <th>0</th>\n",
       "      <td>0.054706</td>\n",
       "      <td>AUS</td>\n",
       "      <td>0.000000</td>\n",
       "      <td>0.021426</td>\n",
       "      <td>0.042152</td>\n",
       "      <td>0.032485</td>\n",
       "      <td>0.035283</td>\n",
       "      <td>0.072573</td>\n",
       "      <td>0.160358</td>\n",
       "      <td>0.011185</td>\n",
       "      <td>0.025814</td>\n",
       "      <td>0.038504</td>\n",
       "    </tr>\n",
       "    <tr>\n",
       "      <th>1</th>\n",
       "      <td>0.054714</td>\n",
       "      <td>AUS</td>\n",
       "      <td>0.034483</td>\n",
       "      <td>0.022284</td>\n",
       "      <td>0.042097</td>\n",
       "      <td>0.032836</td>\n",
       "      <td>0.035291</td>\n",
       "      <td>0.072573</td>\n",
       "      <td>0.160358</td>\n",
       "      <td>0.011904</td>\n",
       "      <td>0.009431</td>\n",
       "      <td>0.017241</td>\n",
       "    </tr>\n",
       "    <tr>\n",
       "      <th>2</th>\n",
       "      <td>0.055211</td>\n",
       "      <td>AUS</td>\n",
       "      <td>0.068966</td>\n",
       "      <td>0.024255</td>\n",
       "      <td>0.036931</td>\n",
       "      <td>0.034309</td>\n",
       "      <td>0.035667</td>\n",
       "      <td>0.072573</td>\n",
       "      <td>0.160358</td>\n",
       "      <td>0.014780</td>\n",
       "      <td>0.003299</td>\n",
       "      <td>0.014544</td>\n",
       "    </tr>\n",
       "    <tr>\n",
       "      <th>3</th>\n",
       "      <td>0.055334</td>\n",
       "      <td>AUS</td>\n",
       "      <td>0.103448</td>\n",
       "      <td>0.026089</td>\n",
       "      <td>0.036145</td>\n",
       "      <td>0.035341</td>\n",
       "      <td>0.037777</td>\n",
       "      <td>0.072573</td>\n",
       "      <td>0.160358</td>\n",
       "      <td>0.019346</td>\n",
       "      <td>0.006243</td>\n",
       "      <td>0.025065</td>\n",
       "    </tr>\n",
       "    <tr>\n",
       "      <th>4</th>\n",
       "      <td>0.055399</td>\n",
       "      <td>AUS</td>\n",
       "      <td>0.137931</td>\n",
       "      <td>0.028112</td>\n",
       "      <td>0.033539</td>\n",
       "      <td>0.035350</td>\n",
       "      <td>0.039561</td>\n",
       "      <td>0.072573</td>\n",
       "      <td>0.160358</td>\n",
       "      <td>0.023570</td>\n",
       "      <td>0.006575</td>\n",
       "      <td>0.028469</td>\n",
       "    </tr>\n",
       "    <tr>\n",
       "      <th>...</th>\n",
       "      <td>...</td>\n",
       "      <td>...</td>\n",
       "      <td>...</td>\n",
       "      <td>...</td>\n",
       "      <td>...</td>\n",
       "      <td>...</td>\n",
       "      <td>...</td>\n",
       "      <td>...</td>\n",
       "      <td>...</td>\n",
       "      <td>...</td>\n",
       "      <td>...</td>\n",
       "      <td>...</td>\n",
       "    </tr>\n",
       "    <tr>\n",
       "      <th>811</th>\n",
       "      <td>0.895257</td>\n",
       "      <td>USA</td>\n",
       "      <td>0.862069</td>\n",
       "      <td>0.795903</td>\n",
       "      <td>0.768145</td>\n",
       "      <td>0.948502</td>\n",
       "      <td>0.973834</td>\n",
       "      <td>0.041179</td>\n",
       "      <td>0.586568</td>\n",
       "      <td>0.672627</td>\n",
       "      <td>0.688902</td>\n",
       "      <td>0.486185</td>\n",
       "    </tr>\n",
       "    <tr>\n",
       "      <th>812</th>\n",
       "      <td>0.874972</td>\n",
       "      <td>USA</td>\n",
       "      <td>0.896552</td>\n",
       "      <td>0.784212</td>\n",
       "      <td>0.725103</td>\n",
       "      <td>0.979561</td>\n",
       "      <td>0.945955</td>\n",
       "      <td>0.034993</td>\n",
       "      <td>0.648606</td>\n",
       "      <td>0.719131</td>\n",
       "      <td>0.715889</td>\n",
       "      <td>0.363777</td>\n",
       "    </tr>\n",
       "    <tr>\n",
       "      <th>813</th>\n",
       "      <td>0.869987</td>\n",
       "      <td>USA</td>\n",
       "      <td>0.931034</td>\n",
       "      <td>0.802166</td>\n",
       "      <td>0.763528</td>\n",
       "      <td>0.987205</td>\n",
       "      <td>0.969598</td>\n",
       "      <td>0.028567</td>\n",
       "      <td>0.656594</td>\n",
       "      <td>0.728370</td>\n",
       "      <td>0.648413</td>\n",
       "      <td>0.380492</td>\n",
       "    </tr>\n",
       "    <tr>\n",
       "      <th>814</th>\n",
       "      <td>0.895303</td>\n",
       "      <td>USA</td>\n",
       "      <td>0.965517</td>\n",
       "      <td>0.880516</td>\n",
       "      <td>0.897322</td>\n",
       "      <td>1.000000</td>\n",
       "      <td>1.000000</td>\n",
       "      <td>0.019493</td>\n",
       "      <td>0.622521</td>\n",
       "      <td>0.709856</td>\n",
       "      <td>0.690960</td>\n",
       "      <td>0.440189</td>\n",
       "    </tr>\n",
       "    <tr>\n",
       "      <th>815</th>\n",
       "      <td>0.880085</td>\n",
       "      <td>USA</td>\n",
       "      <td>1.000000</td>\n",
       "      <td>1.000000</td>\n",
       "      <td>1.000000</td>\n",
       "      <td>0.979725</td>\n",
       "      <td>0.990327</td>\n",
       "      <td>0.021369</td>\n",
       "      <td>0.591345</td>\n",
       "      <td>0.621300</td>\n",
       "      <td>0.794523</td>\n",
       "      <td>0.483690</td>\n",
       "    </tr>\n",
       "  </tbody>\n",
       "</table>\n",
       "<p>816 rows × 12 columns</p>\n",
       "</div>"
      ],
      "text/plain": [
       "     Greenhouse Gas Emissions Country      Year  Natural Gas Production  \\\n",
       "0                    0.054706     AUS  0.000000                0.021426   \n",
       "1                    0.054714     AUS  0.034483                0.022284   \n",
       "2                    0.055211     AUS  0.068966                0.024255   \n",
       "3                    0.055334     AUS  0.103448                0.026089   \n",
       "4                    0.055399     AUS  0.137931                0.028112   \n",
       "..                        ...     ...       ...                     ...   \n",
       "811                  0.895257     USA  0.862069                0.795903   \n",
       "812                  0.874972     USA  0.896552                0.784212   \n",
       "813                  0.869987     USA  0.931034                0.802166   \n",
       "814                  0.895303     USA  0.965517                0.880516   \n",
       "815                  0.880085     USA  1.000000                1.000000   \n",
       "\n",
       "     Crude Oil Production  Motor Gasoline Production  \\\n",
       "0                0.042152                   0.032485   \n",
       "1                0.042097                   0.032836   \n",
       "2                0.036931                   0.034309   \n",
       "3                0.036145                   0.035341   \n",
       "4                0.033539                   0.035350   \n",
       "..                    ...                        ...   \n",
       "811              0.768145                   0.948502   \n",
       "812              0.725103                   0.979561   \n",
       "813              0.763528                   0.987205   \n",
       "814              0.897322                   1.000000   \n",
       "815              1.000000                   0.979725   \n",
       "\n",
       "     Gas Oil/Diesel Oil Production  Hard Coal Import  Natural Gas Import  \\\n",
       "0                         0.035283          0.072573            0.160358   \n",
       "1                         0.035291          0.072573            0.160358   \n",
       "2                         0.035667          0.072573            0.160358   \n",
       "3                         0.037777          0.072573            0.160358   \n",
       "4                         0.039561          0.072573            0.160358   \n",
       "..                             ...               ...                 ...   \n",
       "811                       0.973834          0.041179            0.586568   \n",
       "812                       0.945955          0.034993            0.648606   \n",
       "813                       0.969598          0.028567            0.656594   \n",
       "814                       1.000000          0.019493            0.622521   \n",
       "815                       0.990327          0.021369            0.591345   \n",
       "\n",
       "     Crude Oil Import  Motor Gasoline Import  Gas Oil/Diesel Oil Import  \n",
       "0            0.011185               0.025814                   0.038504  \n",
       "1            0.011904               0.009431                   0.017241  \n",
       "2            0.014780               0.003299                   0.014544  \n",
       "3            0.019346               0.006243                   0.025065  \n",
       "4            0.023570               0.006575                   0.028469  \n",
       "..                ...                    ...                        ...  \n",
       "811          0.672627               0.688902                   0.486185  \n",
       "812          0.719131               0.715889                   0.363777  \n",
       "813          0.728370               0.648413                   0.380492  \n",
       "814          0.709856               0.690960                   0.440189  \n",
       "815          0.621300               0.794523                   0.483690  \n",
       "\n",
       "[816 rows x 12 columns]"
      ]
     },
     "execution_count": 138,
     "metadata": {
     },
     "output_type": "execute_result"
    }
   ],
   "source": [
    "df = pd.read_csv('../data/emissions_clean.csv')\n",
    "df"
   ]
  },
  {
   "cell_type": "code",
   "execution_count": 139,
   "metadata": {
    "collapsed": false
   },
   "outputs": [
   ],
   "source": [
    "countries = df.pop('Country')\n",
    "df = df.astype('float32')\n",
    "target = df.pop('Greenhouse Gas Emissions')\n"
   ]
  },
  {
   "cell_type": "code",
   "execution_count": 147,
   "metadata": {
    "collapsed": false
   },
   "outputs": [
   ],
   "source": [
    "train_in, test_in, train_out, test_out = train_test_split(df, target, test_size = 0.2, shuffle=True)"
   ]
  },
  {
   "cell_type": "code",
   "execution_count": 148,
   "metadata": {
    "collapsed": false
   },
   "outputs": [
    {
     "data": {
      "text/html": [
       "<style>#sk-container-id-48 {color: black;background-color: white;}#sk-container-id-48 pre{padding: 0;}#sk-container-id-48 div.sk-toggleable {background-color: white;}#sk-container-id-48 label.sk-toggleable__label {cursor: pointer;display: block;width: 100%;margin-bottom: 0;padding: 0.3em;box-sizing: border-box;text-align: center;}#sk-container-id-48 label.sk-toggleable__label-arrow:before {content: \"▸\";float: left;margin-right: 0.25em;color: #696969;}#sk-container-id-48 label.sk-toggleable__label-arrow:hover:before {color: black;}#sk-container-id-48 div.sk-estimator:hover label.sk-toggleable__label-arrow:before {color: black;}#sk-container-id-48 div.sk-toggleable__content {max-height: 0;max-width: 0;overflow: hidden;text-align: left;background-color: #f0f8ff;}#sk-container-id-48 div.sk-toggleable__content pre {margin: 0.2em;color: black;border-radius: 0.25em;background-color: #f0f8ff;}#sk-container-id-48 input.sk-toggleable__control:checked~div.sk-toggleable__content {max-height: 200px;max-width: 100%;overflow: auto;}#sk-container-id-48 input.sk-toggleable__control:checked~label.sk-toggleable__label-arrow:before {content: \"▾\";}#sk-container-id-48 div.sk-estimator input.sk-toggleable__control:checked~label.sk-toggleable__label {background-color: #d4ebff;}#sk-container-id-48 div.sk-label input.sk-toggleable__control:checked~label.sk-toggleable__label {background-color: #d4ebff;}#sk-container-id-48 input.sk-hidden--visually {border: 0;clip: rect(1px 1px 1px 1px);clip: rect(1px, 1px, 1px, 1px);height: 1px;margin: -1px;overflow: hidden;padding: 0;position: absolute;width: 1px;}#sk-container-id-48 div.sk-estimator {font-family: monospace;background-color: #f0f8ff;border: 1px dotted black;border-radius: 0.25em;box-sizing: border-box;margin-bottom: 0.5em;}#sk-container-id-48 div.sk-estimator:hover {background-color: #d4ebff;}#sk-container-id-48 div.sk-parallel-item::after {content: \"\";width: 100%;border-bottom: 1px solid gray;flex-grow: 1;}#sk-container-id-48 div.sk-label:hover label.sk-toggleable__label {background-color: #d4ebff;}#sk-container-id-48 div.sk-serial::before {content: \"\";position: absolute;border-left: 1px solid gray;box-sizing: border-box;top: 0;bottom: 0;left: 50%;z-index: 0;}#sk-container-id-48 div.sk-serial {display: flex;flex-direction: column;align-items: center;background-color: white;padding-right: 0.2em;padding-left: 0.2em;position: relative;}#sk-container-id-48 div.sk-item {position: relative;z-index: 1;}#sk-container-id-48 div.sk-parallel {display: flex;align-items: stretch;justify-content: center;background-color: white;position: relative;}#sk-container-id-48 div.sk-item::before, #sk-container-id-48 div.sk-parallel-item::before {content: \"\";position: absolute;border-left: 1px solid gray;box-sizing: border-box;top: 0;bottom: 0;left: 50%;z-index: -1;}#sk-container-id-48 div.sk-parallel-item {display: flex;flex-direction: column;z-index: 1;position: relative;background-color: white;}#sk-container-id-48 div.sk-parallel-item:first-child::after {align-self: flex-end;width: 50%;}#sk-container-id-48 div.sk-parallel-item:last-child::after {align-self: flex-start;width: 50%;}#sk-container-id-48 div.sk-parallel-item:only-child::after {width: 0;}#sk-container-id-48 div.sk-dashed-wrapped {border: 1px dashed gray;margin: 0 0.4em 0.5em 0.4em;box-sizing: border-box;padding-bottom: 0.4em;background-color: white;}#sk-container-id-48 div.sk-label label {font-family: monospace;font-weight: bold;display: inline-block;line-height: 1.2em;}#sk-container-id-48 div.sk-label-container {text-align: center;}#sk-container-id-48 div.sk-container {/* jupyter's `normalize.less` sets `[hidden] { display: none; }` but bootstrap.min.css set `[hidden] { display: none !important; }` so we also need the `!important` here to be able to override the default hidden behavior on the sphinx rendered scikit-learn.org. See: https://github.com/scikit-learn/scikit-learn/issues/21755 */display: inline-block !important;position: relative;}#sk-container-id-48 div.sk-text-repr-fallback {display: none;}</style><div id=\"sk-container-id-48\" class=\"sk-top-container\"><div class=\"sk-text-repr-fallback\"><pre>RandomForestRegressor(min_samples_split=3, n_estimators=150)</pre><b>In a Jupyter environment, please rerun this cell to show the HTML representation or trust the notebook. <br />On GitHub, the HTML representation is unable to render, please try loading this page with nbviewer.org.</b></div><div class=\"sk-container\" hidden><div class=\"sk-item\"><div class=\"sk-estimator sk-toggleable\"><input class=\"sk-toggleable__control sk-hidden--visually\" id=\"sk-estimator-id-96\" type=\"checkbox\" checked><label for=\"sk-estimator-id-96\" class=\"sk-toggleable__label sk-toggleable__label-arrow\">RandomForestRegressor</label><div class=\"sk-toggleable__content\"><pre>RandomForestRegressor(min_samples_split=3, n_estimators=150)</pre></div></div></div></div></div>"
      ],
      "text/plain": [
       "RandomForestRegressor(min_samples_split=3, n_estimators=150)"
      ]
     },
     "execution_count": 148,
     "metadata": {
     },
     "output_type": "execute_result"
    }
   ],
   "source": [
    "RFR = RandomForestRegressor(150,min_samples_split=3)\n",
    "RFR.fit(train_in, train_out)"
   ]
  },
  {
   "cell_type": "code",
   "execution_count": 0,
   "metadata": {
    "collapsed": false
   },
   "outputs": [
   ],
   "source": [
    "RFR_test_predictions = RFR.predict(test_in)"
   ]
  },
  {
   "cell_type": "code",
   "execution_count": 156,
   "metadata": {
    "collapsed": false,
    "scrolled": true
   },
   "outputs": [
    {
     "data": {
      "text/html": "<html>\n<head><meta charset=\"utf-8\" /></head>\n<body>\n    <div>            <script src=\"https://cdnjs.cloudflare.com/ajax/libs/mathjax/2.7.5/MathJax.js?config=TeX-AMS-MML_SVG\"></script><script type=\"text/javascript\">if (window.MathJax) {MathJax.Hub.Config({SVG: {font: \"STIX-Web\"}});}</script>                <script type=\"text/javascript\">window.PlotlyConfig = {MathJaxConfig: 'local'};</script>\n        <script src=\"https://cdn.plot.ly/plotly-2.9.0.min.js\"></script>                <div id=\"7d14ed17-96eb-4467-bbfd-a4d8fb26041c\" class=\"plotly-graph-div\" style=\"height:525px; width:100%;\"></div>            <script type=\"text/javascript\">                                    window.PLOTLYENV=window.PLOTLYENV || {};                                    if (document.getElementById(\"7d14ed17-96eb-4467-bbfd-a4d8fb26041c\")) {                    Plotly.newPlot(                        \"7d14ed17-96eb-4467-bbfd-a4d8fb26041c\",                        [{\"hovertemplate\":\"Predicted=%{x}<br>Actual=%{y}<extra></extra>\",\"legendgroup\":\"\",\"marker\":{\"color\":\"#636efa\",\"symbol\":\"circle\"},\"mode\":\"markers\",\"name\":\"\",\"orientation\":\"v\",\"showlegend\":false,\"x\":[0.003362680141300347,0.007007129863192814,0.006699299818377882,0.004833540927980923,0.029934866124350167,0.04816459931177457,0.006430015406866988,0.014012725181345428,0.007312540259859007,0.0201868768086036,0.08320401227472225,0.08987693776521417,0.03679809870674379,0.06623257497396498,0.0197374264034073,0.09729639775057632,0.09889020205478345,0.013734510860479778,0.009852422578363784,0.9372381807565692,0.08587362238268058,0.006135841579590404,0.0658837416390662,0.014748282956373364,0.0057667116295132366,0.05820309280355771,0.17642215467823877,0.006332185367421647,0.008551434367274246,0.06428429754912145,0.0040430896077379005,0.07300968926515253,0.015627449494993517,0.011412140228268173,0.005375341872568243,0.05977560729740395,0.01217846086148971,0.010404849440125485,0.008358961307480636,0.016145537443459028,0.008916900939322889,0.005480642214358326,0.006375500026561823,0.006076541917845755,0.00030699003424709354,0.015520204124026117,0.00715818939425443,0.00037755602942689584,0.05068269400091636,0.017045942891551747,0.06520929919416964,0.0005626311625818501,0.008109312086018719,0.0064086417817909806,0.00075042591042011,0.17618480902082392,0.007682545748214717,0.008303000057345286,0.14960309960941473,0.09509248338083899,0.05222226623578797,0.006837287446003527,0.01558968079951961,0.008085449976751157,0.1007327653163719,0.04491546620573435,0.008354364906134646,0.013323371536253641,0.006061462814091809,0.016973136481311588,0.0014520559645385394,0.011180808548298145,0.005960530963859387,0.00845400350380482,0.008451373097176352,0.010132710179883157,0.007947921427380704,0.008401178948625566,0.008538176061068143,0.0073805452765017335,0.004589872414090981,0.0005763504733848904,0.0008047720033583965,0.013979589041736391,0.005693688359680689,0.007202618714059807,0.13331208443641665,0.015632470820712608,0.04147703654919234,0.0066129236491249185,0.05016095870984052,0.05565222773907912,0.05154886832372063,0.01734294065117599,0.008429102829561406,0.008132770425536564,0.04577359151710122,0.017700197858321998,0.018207576717043084,0.05016646085268048,0.01837346044873139,0.0675832625814914,0.1419128755397267,0.017286298068861162,0.026898710328671662,0.029470205472782264,0.012746154271583592,0.00028873645140323336,0.02581520564171175,0.18062691862550043,0.0061363525047587845,0.054037409192586594,0.048418050394526554,0.041186283589858146,0.04670118510648681,0.06075170000379405,0.04776199026244678,0.006189270883942734,0.008734764524114631,0.009125102576489246,0.049071287279980814,0.008253177076733361,0.042140843891642146,0.27944454761346177,0.880332839728348,0.17575875735282898,0.0012571028664233235,0.004842346641079833,0.0008545361986071507,0.009361256296258598,0.018851940707614017,0.01824215235227039,0.1467617271787354,0.1504080583237939,0.006603463530876776,0.9528700939388504,0.00625644825309855,0.028722266160454306,0.04673850898725528,0.27319000649830655,0.05077848861910521,0.007814031316418318,0.02564627346304792,0.049974943393457025,0.2763675539994997,0.0692697834079228,0.008154165450638781,0.17338217991164756,0.015935643324909345,0.1298940960665544,0.01287978927566049,0.006049526707927091,0.003611968968451644,0.009506871599837076,0.011334345181265639,0.04103913777989766,0.016903225274919165,0.008290037163851101,0.01707442120152215,0.006517846546874989,0.014646592374063199,0.027126193986969097,0.0064176825911937555,0.09454723649968705],\"xaxis\":\"x\",\"y\":[0.0033761863596737385,0.008217411115765572,0.006621709559112787,0.004467117600142956,0.02896999940276146,0.059743162244558334,0.006870589684695005,0.01386809628456831,0.006359304301440716,0.022823503240942955,0.07767874747514725,0.08902045339345932,0.036721717566251755,0.07105058431625366,0.017309540882706642,0.09806247800588608,0.09840742498636246,0.013538249768316746,0.00961671955883503,0.9563787579536438,0.08354265987873077,0.005479698069393635,0.07029156386852264,0.014863626100122929,0.004367443732917309,0.05653659626841545,0.18497250974178314,0.005401861388236284,0.008260526694357395,0.061388127505779266,0.00369859766215086,0.07330730557441711,0.01730126515030861,0.009100335650146008,0.0005749311530962586,0.06238241493701935,0.007288712542504072,0.011155339889228344,0.00827415008097887,0.01390882395207882,0.009323373436927795,0.005130281671881676,0.005607150495052338,0.0061418237164616585,5.426253846962936e-05,0.01209673285484314,0.009586099535226822,2.0744322682730854e-05,0.05140598863363266,0.01727055385708809,0.06874799728393555,0.001007121056318283,0.0061529106460511684,0.006080434657633305,0.0007736391271464527,0.17520125210285187,0.008204091340303421,0.0060997712425887585,0.14846718311309814,0.09762883186340332,0.05788640305399895,0.007157554849982262,0.013901050202548504,0.007813222706317902,0.09926893562078476,0.04783373698592186,0.008779277093708515,0.019866228103637695,0.004723111167550087,0.017288310453295708,0.0014433549949899316,0.0073232585564255714,0.005881079938262701,0.008289605379104614,0.005200569983571768,0.010082954540848732,0.008174115791916847,0.008548881858587265,0.008718009106814861,0.0075104315765202045,0.004555628634989262,0.00031757468241266906,0.0008319257176481187,0.014861548319458961,0.004836178384721279,0.006389728281646967,0.13124217092990875,0.021838238462805748,0.04342149198055267,0.007129110395908356,0.04327891394495964,0.05533384904265404,0.050031766295433044,0.01757781393826008,0.008564891293644905,0.007935795933008194,0.04958965256810188,0.018870839849114418,0.019703712314367294,0.042540572583675385,0.018526336178183556,0.06830009818077087,0.1428460031747818,0.017579710111021996,0.02925388514995575,0.027214236557483673,0.011519454419612885,0.0002040102845057845,0.022677520290017128,0.18322978913784027,0.0055166431702673435,0.041493192315101624,0.0543038435280323,0.040063999593257904,0.04304436594247818,0.05945313349366188,0.058386050164699554,0.006094234064221382,0.008453748188912868,0.008446198888123035,0.04002166539430618,0.006413673050701618,0.05426708981394768,0.2745426595211029,0.8953028917312622,0.16549301147460938,0.0009774768259376287,0.0046933176927268505,0.0006395202944986522,0.009333910420536995,0.025202617049217224,0.01746802031993866,0.1462237536907196,0.15146614611148834,0.006739010103046894,0.9383105635643005,0.005898287054151297,0.02847331203520298,0.04309142380952835,0.27965816855430603,0.05775442346930504,0.008199249394237995,0.023684408515691757,0.04988701641559601,0.2847630977630615,0.06960630416870117,0.008527467027306557,0.17285996675491333,0.0164869986474514,0.11996191740036011,0.017787549644708633,0.0056173973716795444,0.0038073710165917873,0.00940706580877304,0.009858909994363785,0.040947988629341125,0.017592083662748337,0.008181470446288586,0.016402818262577057,0.006611111108213663,0.0152564886957407,0.023343537002801895,0.0052033946849405766,0.09639300405979156],\"yaxis\":\"y\",\"type\":\"scatter\"}],                        {\"template\":{\"data\":{\"bar\":[{\"error_x\":{\"color\":\"#2a3f5f\"},\"error_y\":{\"color\":\"#2a3f5f\"},\"marker\":{\"line\":{\"color\":\"#E5ECF6\",\"width\":0.5},\"pattern\":{\"fillmode\":\"overlay\",\"size\":10,\"solidity\":0.2}},\"type\":\"bar\"}],\"barpolar\":[{\"marker\":{\"line\":{\"color\":\"#E5ECF6\",\"width\":0.5},\"pattern\":{\"fillmode\":\"overlay\",\"size\":10,\"solidity\":0.2}},\"type\":\"barpolar\"}],\"carpet\":[{\"aaxis\":{\"endlinecolor\":\"#2a3f5f\",\"gridcolor\":\"white\",\"linecolor\":\"white\",\"minorgridcolor\":\"white\",\"startlinecolor\":\"#2a3f5f\"},\"baxis\":{\"endlinecolor\":\"#2a3f5f\",\"gridcolor\":\"white\",\"linecolor\":\"white\",\"minorgridcolor\":\"white\",\"startlinecolor\":\"#2a3f5f\"},\"type\":\"carpet\"}],\"choropleth\":[{\"colorbar\":{\"outlinewidth\":0,\"ticks\":\"\"},\"type\":\"choropleth\"}],\"contour\":[{\"colorbar\":{\"outlinewidth\":0,\"ticks\":\"\"},\"colorscale\":[[0.0,\"#0d0887\"],[0.1111111111111111,\"#46039f\"],[0.2222222222222222,\"#7201a8\"],[0.3333333333333333,\"#9c179e\"],[0.4444444444444444,\"#bd3786\"],[0.5555555555555556,\"#d8576b\"],[0.6666666666666666,\"#ed7953\"],[0.7777777777777778,\"#fb9f3a\"],[0.8888888888888888,\"#fdca26\"],[1.0,\"#f0f921\"]],\"type\":\"contour\"}],\"contourcarpet\":[{\"colorbar\":{\"outlinewidth\":0,\"ticks\":\"\"},\"type\":\"contourcarpet\"}],\"heatmap\":[{\"colorbar\":{\"outlinewidth\":0,\"ticks\":\"\"},\"colorscale\":[[0.0,\"#0d0887\"],[0.1111111111111111,\"#46039f\"],[0.2222222222222222,\"#7201a8\"],[0.3333333333333333,\"#9c179e\"],[0.4444444444444444,\"#bd3786\"],[0.5555555555555556,\"#d8576b\"],[0.6666666666666666,\"#ed7953\"],[0.7777777777777778,\"#fb9f3a\"],[0.8888888888888888,\"#fdca26\"],[1.0,\"#f0f921\"]],\"type\":\"heatmap\"}],\"heatmapgl\":[{\"colorbar\":{\"outlinewidth\":0,\"ticks\":\"\"},\"colorscale\":[[0.0,\"#0d0887\"],[0.1111111111111111,\"#46039f\"],[0.2222222222222222,\"#7201a8\"],[0.3333333333333333,\"#9c179e\"],[0.4444444444444444,\"#bd3786\"],[0.5555555555555556,\"#d8576b\"],[0.6666666666666666,\"#ed7953\"],[0.7777777777777778,\"#fb9f3a\"],[0.8888888888888888,\"#fdca26\"],[1.0,\"#f0f921\"]],\"type\":\"heatmapgl\"}],\"histogram\":[{\"marker\":{\"pattern\":{\"fillmode\":\"overlay\",\"size\":10,\"solidity\":0.2}},\"type\":\"histogram\"}],\"histogram2d\":[{\"colorbar\":{\"outlinewidth\":0,\"ticks\":\"\"},\"colorscale\":[[0.0,\"#0d0887\"],[0.1111111111111111,\"#46039f\"],[0.2222222222222222,\"#7201a8\"],[0.3333333333333333,\"#9c179e\"],[0.4444444444444444,\"#bd3786\"],[0.5555555555555556,\"#d8576b\"],[0.6666666666666666,\"#ed7953\"],[0.7777777777777778,\"#fb9f3a\"],[0.8888888888888888,\"#fdca26\"],[1.0,\"#f0f921\"]],\"type\":\"histogram2d\"}],\"histogram2dcontour\":[{\"colorbar\":{\"outlinewidth\":0,\"ticks\":\"\"},\"colorscale\":[[0.0,\"#0d0887\"],[0.1111111111111111,\"#46039f\"],[0.2222222222222222,\"#7201a8\"],[0.3333333333333333,\"#9c179e\"],[0.4444444444444444,\"#bd3786\"],[0.5555555555555556,\"#d8576b\"],[0.6666666666666666,\"#ed7953\"],[0.7777777777777778,\"#fb9f3a\"],[0.8888888888888888,\"#fdca26\"],[1.0,\"#f0f921\"]],\"type\":\"histogram2dcontour\"}],\"mesh3d\":[{\"colorbar\":{\"outlinewidth\":0,\"ticks\":\"\"},\"type\":\"mesh3d\"}],\"parcoords\":[{\"line\":{\"colorbar\":{\"outlinewidth\":0,\"ticks\":\"\"}},\"type\":\"parcoords\"}],\"pie\":[{\"automargin\":true,\"type\":\"pie\"}],\"scatter\":[{\"marker\":{\"colorbar\":{\"outlinewidth\":0,\"ticks\":\"\"}},\"type\":\"scatter\"}],\"scatter3d\":[{\"line\":{\"colorbar\":{\"outlinewidth\":0,\"ticks\":\"\"}},\"marker\":{\"colorbar\":{\"outlinewidth\":0,\"ticks\":\"\"}},\"type\":\"scatter3d\"}],\"scattercarpet\":[{\"marker\":{\"colorbar\":{\"outlinewidth\":0,\"ticks\":\"\"}},\"type\":\"scattercarpet\"}],\"scattergeo\":[{\"marker\":{\"colorbar\":{\"outlinewidth\":0,\"ticks\":\"\"}},\"type\":\"scattergeo\"}],\"scattergl\":[{\"marker\":{\"colorbar\":{\"outlinewidth\":0,\"ticks\":\"\"}},\"type\":\"scattergl\"}],\"scattermapbox\":[{\"marker\":{\"colorbar\":{\"outlinewidth\":0,\"ticks\":\"\"}},\"type\":\"scattermapbox\"}],\"scatterpolar\":[{\"marker\":{\"colorbar\":{\"outlinewidth\":0,\"ticks\":\"\"}},\"type\":\"scatterpolar\"}],\"scatterpolargl\":[{\"marker\":{\"colorbar\":{\"outlinewidth\":0,\"ticks\":\"\"}},\"type\":\"scatterpolargl\"}],\"scatterternary\":[{\"marker\":{\"colorbar\":{\"outlinewidth\":0,\"ticks\":\"\"}},\"type\":\"scatterternary\"}],\"surface\":[{\"colorbar\":{\"outlinewidth\":0,\"ticks\":\"\"},\"colorscale\":[[0.0,\"#0d0887\"],[0.1111111111111111,\"#46039f\"],[0.2222222222222222,\"#7201a8\"],[0.3333333333333333,\"#9c179e\"],[0.4444444444444444,\"#bd3786\"],[0.5555555555555556,\"#d8576b\"],[0.6666666666666666,\"#ed7953\"],[0.7777777777777778,\"#fb9f3a\"],[0.8888888888888888,\"#fdca26\"],[1.0,\"#f0f921\"]],\"type\":\"surface\"}],\"table\":[{\"cells\":{\"fill\":{\"color\":\"#EBF0F8\"},\"line\":{\"color\":\"white\"}},\"header\":{\"fill\":{\"color\":\"#C8D4E3\"},\"line\":{\"color\":\"white\"}},\"type\":\"table\"}]},\"layout\":{\"annotationdefaults\":{\"arrowcolor\":\"#2a3f5f\",\"arrowhead\":0,\"arrowwidth\":1},\"autotypenumbers\":\"strict\",\"coloraxis\":{\"colorbar\":{\"outlinewidth\":0,\"ticks\":\"\"}},\"colorscale\":{\"diverging\":[[0,\"#8e0152\"],[0.1,\"#c51b7d\"],[0.2,\"#de77ae\"],[0.3,\"#f1b6da\"],[0.4,\"#fde0ef\"],[0.5,\"#f7f7f7\"],[0.6,\"#e6f5d0\"],[0.7,\"#b8e186\"],[0.8,\"#7fbc41\"],[0.9,\"#4d9221\"],[1,\"#276419\"]],\"sequential\":[[0.0,\"#0d0887\"],[0.1111111111111111,\"#46039f\"],[0.2222222222222222,\"#7201a8\"],[0.3333333333333333,\"#9c179e\"],[0.4444444444444444,\"#bd3786\"],[0.5555555555555556,\"#d8576b\"],[0.6666666666666666,\"#ed7953\"],[0.7777777777777778,\"#fb9f3a\"],[0.8888888888888888,\"#fdca26\"],[1.0,\"#f0f921\"]],\"sequentialminus\":[[0.0,\"#0d0887\"],[0.1111111111111111,\"#46039f\"],[0.2222222222222222,\"#7201a8\"],[0.3333333333333333,\"#9c179e\"],[0.4444444444444444,\"#bd3786\"],[0.5555555555555556,\"#d8576b\"],[0.6666666666666666,\"#ed7953\"],[0.7777777777777778,\"#fb9f3a\"],[0.8888888888888888,\"#fdca26\"],[1.0,\"#f0f921\"]]},\"colorway\":[\"#636efa\",\"#EF553B\",\"#00cc96\",\"#ab63fa\",\"#FFA15A\",\"#19d3f3\",\"#FF6692\",\"#B6E880\",\"#FF97FF\",\"#FECB52\"],\"font\":{\"color\":\"#2a3f5f\"},\"geo\":{\"bgcolor\":\"white\",\"lakecolor\":\"white\",\"landcolor\":\"#E5ECF6\",\"showlakes\":true,\"showland\":true,\"subunitcolor\":\"white\"},\"hoverlabel\":{\"align\":\"left\"},\"hovermode\":\"closest\",\"mapbox\":{\"style\":\"light\"},\"paper_bgcolor\":\"white\",\"plot_bgcolor\":\"#E5ECF6\",\"polar\":{\"angularaxis\":{\"gridcolor\":\"white\",\"linecolor\":\"white\",\"ticks\":\"\"},\"bgcolor\":\"#E5ECF6\",\"radialaxis\":{\"gridcolor\":\"white\",\"linecolor\":\"white\",\"ticks\":\"\"}},\"scene\":{\"xaxis\":{\"backgroundcolor\":\"#E5ECF6\",\"gridcolor\":\"white\",\"gridwidth\":2,\"linecolor\":\"white\",\"showbackground\":true,\"ticks\":\"\",\"zerolinecolor\":\"white\"},\"yaxis\":{\"backgroundcolor\":\"#E5ECF6\",\"gridcolor\":\"white\",\"gridwidth\":2,\"linecolor\":\"white\",\"showbackground\":true,\"ticks\":\"\",\"zerolinecolor\":\"white\"},\"zaxis\":{\"backgroundcolor\":\"#E5ECF6\",\"gridcolor\":\"white\",\"gridwidth\":2,\"linecolor\":\"white\",\"showbackground\":true,\"ticks\":\"\",\"zerolinecolor\":\"white\"}},\"shapedefaults\":{\"line\":{\"color\":\"#2a3f5f\"}},\"ternary\":{\"aaxis\":{\"gridcolor\":\"white\",\"linecolor\":\"white\",\"ticks\":\"\"},\"baxis\":{\"gridcolor\":\"white\",\"linecolor\":\"white\",\"ticks\":\"\"},\"bgcolor\":\"#E5ECF6\",\"caxis\":{\"gridcolor\":\"white\",\"linecolor\":\"white\",\"ticks\":\"\"}},\"title\":{\"x\":0.05},\"xaxis\":{\"automargin\":true,\"gridcolor\":\"white\",\"linecolor\":\"white\",\"ticks\":\"\",\"title\":{\"standoff\":15},\"zerolinecolor\":\"white\",\"zerolinewidth\":2},\"yaxis\":{\"automargin\":true,\"gridcolor\":\"white\",\"linecolor\":\"white\",\"ticks\":\"\",\"title\":{\"standoff\":15},\"zerolinecolor\":\"white\",\"zerolinewidth\":2}}},\"xaxis\":{\"anchor\":\"y\",\"domain\":[0.0,1.0],\"title\":{\"text\":\"Predicted\"}},\"yaxis\":{\"anchor\":\"x\",\"domain\":[0.0,1.0],\"title\":{\"text\":\"Actual\"}},\"legend\":{\"tracegroupgap\":0},\"title\":{\"text\":\"Random Forest Model\"}},                        {\"responsive\": true}                    ).then(function(){\n                            \nvar gd = document.getElementById('7d14ed17-96eb-4467-bbfd-a4d8fb26041c');\nvar x = new MutationObserver(function (mutations, observer) {{\n        var display = window.getComputedStyle(gd).display;\n        if (!display || display === 'none') {{\n            console.log([gd, 'removed!']);\n            Plotly.purge(gd);\n            observer.disconnect();\n        }}\n}});\n\n// Listen for the removal of the full notebook cells\nvar notebookContainer = gd.closest('#notebook-container');\nif (notebookContainer) {{\n    x.observe(notebookContainer, {childList: true});\n}}\n\n// Listen for the clearing of the current output cell\nvar outputEl = gd.closest('.output');\nif (outputEl) {{\n    x.observe(outputEl, {childList: true});\n}}\n\n                        })                };                            </script>        </div>\n</body>\n</html>"
     },
     "execution_count": 156,
     "metadata": {
     },
     "output_type": "execute_result"
    }
   ],
   "source": [
    "fig = px.scatter(y=test_out, x=RFR_test_predictions, labels={'x':'Predicted', 'y':'Actual'}, title = \"Random Forest Model\")\n",
    "fig.show()"
   ]
  },
  {
   "cell_type": "code",
   "execution_count": 157,
   "metadata": {
    "collapsed": false
   },
   "outputs": [
    {
     "name": "stdout",
     "output_type": "stream",
     "text": [
      "1.5923507837249158e-05\n"
     ]
    },
    {
     "data": {
      "text/plain": [
       "0.9990686333670127"
      ]
     },
     "execution_count": 157,
     "metadata": {
     },
     "output_type": "execute_result"
    }
   ],
   "source": [
    "from sklearn.metrics import mean_squared_error, r2_score\n",
    "print(mean_squared_error(test_out, RFR_test_predictions))\n",
    "r2_score(test_out, RFR_test_predictions)"
   ]
  },
  {
   "cell_type": "markdown",
   "metadata": {
    "collapsed": false
   },
   "source": [
    "##### This is the end of RFR, now for KNN\n",
    "\n"
   ]
  },
  {
   "cell_type": "code",
   "execution_count": 158,
   "metadata": {
    "collapsed": false
   },
   "outputs": [
    {
     "data": {
      "text/html": [
       "<style>#sk-container-id-50 {color: black;background-color: white;}#sk-container-id-50 pre{padding: 0;}#sk-container-id-50 div.sk-toggleable {background-color: white;}#sk-container-id-50 label.sk-toggleable__label {cursor: pointer;display: block;width: 100%;margin-bottom: 0;padding: 0.3em;box-sizing: border-box;text-align: center;}#sk-container-id-50 label.sk-toggleable__label-arrow:before {content: \"▸\";float: left;margin-right: 0.25em;color: #696969;}#sk-container-id-50 label.sk-toggleable__label-arrow:hover:before {color: black;}#sk-container-id-50 div.sk-estimator:hover label.sk-toggleable__label-arrow:before {color: black;}#sk-container-id-50 div.sk-toggleable__content {max-height: 0;max-width: 0;overflow: hidden;text-align: left;background-color: #f0f8ff;}#sk-container-id-50 div.sk-toggleable__content pre {margin: 0.2em;color: black;border-radius: 0.25em;background-color: #f0f8ff;}#sk-container-id-50 input.sk-toggleable__control:checked~div.sk-toggleable__content {max-height: 200px;max-width: 100%;overflow: auto;}#sk-container-id-50 input.sk-toggleable__control:checked~label.sk-toggleable__label-arrow:before {content: \"▾\";}#sk-container-id-50 div.sk-estimator input.sk-toggleable__control:checked~label.sk-toggleable__label {background-color: #d4ebff;}#sk-container-id-50 div.sk-label input.sk-toggleable__control:checked~label.sk-toggleable__label {background-color: #d4ebff;}#sk-container-id-50 input.sk-hidden--visually {border: 0;clip: rect(1px 1px 1px 1px);clip: rect(1px, 1px, 1px, 1px);height: 1px;margin: -1px;overflow: hidden;padding: 0;position: absolute;width: 1px;}#sk-container-id-50 div.sk-estimator {font-family: monospace;background-color: #f0f8ff;border: 1px dotted black;border-radius: 0.25em;box-sizing: border-box;margin-bottom: 0.5em;}#sk-container-id-50 div.sk-estimator:hover {background-color: #d4ebff;}#sk-container-id-50 div.sk-parallel-item::after {content: \"\";width: 100%;border-bottom: 1px solid gray;flex-grow: 1;}#sk-container-id-50 div.sk-label:hover label.sk-toggleable__label {background-color: #d4ebff;}#sk-container-id-50 div.sk-serial::before {content: \"\";position: absolute;border-left: 1px solid gray;box-sizing: border-box;top: 0;bottom: 0;left: 50%;z-index: 0;}#sk-container-id-50 div.sk-serial {display: flex;flex-direction: column;align-items: center;background-color: white;padding-right: 0.2em;padding-left: 0.2em;position: relative;}#sk-container-id-50 div.sk-item {position: relative;z-index: 1;}#sk-container-id-50 div.sk-parallel {display: flex;align-items: stretch;justify-content: center;background-color: white;position: relative;}#sk-container-id-50 div.sk-item::before, #sk-container-id-50 div.sk-parallel-item::before {content: \"\";position: absolute;border-left: 1px solid gray;box-sizing: border-box;top: 0;bottom: 0;left: 50%;z-index: -1;}#sk-container-id-50 div.sk-parallel-item {display: flex;flex-direction: column;z-index: 1;position: relative;background-color: white;}#sk-container-id-50 div.sk-parallel-item:first-child::after {align-self: flex-end;width: 50%;}#sk-container-id-50 div.sk-parallel-item:last-child::after {align-self: flex-start;width: 50%;}#sk-container-id-50 div.sk-parallel-item:only-child::after {width: 0;}#sk-container-id-50 div.sk-dashed-wrapped {border: 1px dashed gray;margin: 0 0.4em 0.5em 0.4em;box-sizing: border-box;padding-bottom: 0.4em;background-color: white;}#sk-container-id-50 div.sk-label label {font-family: monospace;font-weight: bold;display: inline-block;line-height: 1.2em;}#sk-container-id-50 div.sk-label-container {text-align: center;}#sk-container-id-50 div.sk-container {/* jupyter's `normalize.less` sets `[hidden] { display: none; }` but bootstrap.min.css set `[hidden] { display: none !important; }` so we also need the `!important` here to be able to override the default hidden behavior on the sphinx rendered scikit-learn.org. See: https://github.com/scikit-learn/scikit-learn/issues/21755 */display: inline-block !important;position: relative;}#sk-container-id-50 div.sk-text-repr-fallback {display: none;}</style><div id=\"sk-container-id-50\" class=\"sk-top-container\"><div class=\"sk-text-repr-fallback\"><pre>KNeighborsRegressor(n_neighbors=2, weights=&#x27;distance&#x27;)</pre><b>In a Jupyter environment, please rerun this cell to show the HTML representation or trust the notebook. <br />On GitHub, the HTML representation is unable to render, please try loading this page with nbviewer.org.</b></div><div class=\"sk-container\" hidden><div class=\"sk-item\"><div class=\"sk-estimator sk-toggleable\"><input class=\"sk-toggleable__control sk-hidden--visually\" id=\"sk-estimator-id-98\" type=\"checkbox\" checked><label for=\"sk-estimator-id-98\" class=\"sk-toggleable__label sk-toggleable__label-arrow\">KNeighborsRegressor</label><div class=\"sk-toggleable__content\"><pre>KNeighborsRegressor(n_neighbors=2, weights=&#x27;distance&#x27;)</pre></div></div></div></div></div>"
      ],
      "text/plain": [
       "KNeighborsRegressor(n_neighbors=2, weights='distance')"
      ]
     },
     "execution_count": 158,
     "metadata": {
     },
     "output_type": "execute_result"
    }
   ],
   "source": [
    "from sklearn.neighbors import KNeighborsRegressor\n",
    "KNN = KNeighborsRegressor(n_neighbors=2, weights='distance')\n",
    "KNN.fit(train_in, train_out)"
   ]
  },
  {
   "cell_type": "code",
   "execution_count": 159,
   "metadata": {
    "collapsed": false
   },
   "outputs": [
    {
     "data": {
      "text/html": "<html>\n<head><meta charset=\"utf-8\" /></head>\n<body>\n    <div>            <script src=\"https://cdnjs.cloudflare.com/ajax/libs/mathjax/2.7.5/MathJax.js?config=TeX-AMS-MML_SVG\"></script><script type=\"text/javascript\">if (window.MathJax) {MathJax.Hub.Config({SVG: {font: \"STIX-Web\"}});}</script>                <script type=\"text/javascript\">window.PlotlyConfig = {MathJaxConfig: 'local'};</script>\n        <script src=\"https://cdn.plot.ly/plotly-2.9.0.min.js\"></script>                <div id=\"fe75228b-bad8-427d-b709-4e21d244765e\" class=\"plotly-graph-div\" style=\"height:525px; width:100%;\"></div>            <script type=\"text/javascript\">                                    window.PLOTLYENV=window.PLOTLYENV || {};                                    if (document.getElementById(\"fe75228b-bad8-427d-b709-4e21d244765e\")) {                    Plotly.newPlot(                        \"fe75228b-bad8-427d-b709-4e21d244765e\",                        [{\"hovertemplate\":\"Predicted=%{x}<br>Actual=%{y}<extra></extra>\",\"legendgroup\":\"\",\"marker\":{\"color\":\"#636efa\",\"symbol\":\"circle\"},\"mode\":\"markers\",\"name\":\"\",\"orientation\":\"v\",\"showlegend\":false,\"x\":[0.0036655583463196585,0.014881033779377708,0.006572630970401398,0.012354733135996254,0.029425789294936094,0.02130839290487822,0.00650927027755172,0.00984470116769361,0.007903163006839811,0.006211886700178158,0.08629843927913836,0.08831988442631414,0.0337031315213613,0.07165196133842924,0.017657419013563113,0.09749741664224269,0.10015694995885877,0.013610553842546646,0.009043695608329072,0.9672227379928874,0.08346242298044723,0.005824567186422437,0.06940442933448805,0.01283793652977556,0.011294091157657062,0.056380758559521724,0.17721157873622242,0.00016306062858602674,0.008156092059933081,0.06241725713483082,0.005183157317421417,0.07339495098106649,0.03384635474239032,0.008966380798337774,0.0005300131754399205,0.06118961308614724,0.01637697229315767,0.008449476860110137,0.008407684285123737,0.013447318587402342,0.008815780113896188,0.0050957466926366745,0.003732403776436526,0.009040017555458652,0.00044901024519531225,0.012068532233245634,0.008727101077776767,0.004668082447229559,0.052843427392443514,0.005540384719450683,0.069111385065892,0.001294022721024743,0.005287436720581755,0.009929123885917285,0.008287978801219406,0.17618473207673557,0.01334164000567336,0.006140967658036275,0.1505202025390487,0.09567268578064594,0.01380902210501865,0.006990962053776137,0.014780031013083377,0.01287555008110406,0.10089225250756508,0.048141454833807794,0.007565389629129178,0.008155984911595188,0.004889898708926696,0.017288922085664273,0.010367275685084406,0.007273984877645121,0.009623865695397778,0.008956322440069693,0.005193382946003132,0.008533139142801982,0.006064069267857561,0.008360651739241633,0.008339895045192215,0.00787269703780569,0.0061667074040714165,0.00047544609793436074,0.0007271336220029472,0.012247003437113376,0.005131582532636053,0.005693773903429185,0.13530137567110095,0.00669771662382641,0.041767084976497074,0.007066328037730062,0.04138445658024948,0.05530686448280034,0.05104815795889757,0.017591025435925212,0.008933653402282249,0.007802786499332609,0.050766628387544324,0.018040377027228317,0.012769028052063867,0.0413847638084666,0.012189348649886035,0.06920304646630915,0.1443310480822236,0.011809615238255829,0.032425891682867594,0.028013416851930446,0.012787295186241419,0.0057512700700789055,0.023671295484977928,0.1798578491705676,0.011468540105701102,0.04138525989655847,0.03481698257915974,0.05072793533247681,0.04138906281446918,0.06080295468644181,0.018409153740576525,0.004429039880081108,0.008572971798013428,0.019955336435012634,0.04578961622589308,0.010913858206080294,0.05320103239958726,0.2699624587669205,0.8818026778452178,0.17618016608746906,0.007974706961858674,0.007325883346194498,0.004134998619155782,0.00890026608764649,0.008727291077729833,0.017857801161989525,0.14832900874481864,0.15508402127179755,0.0066455927086680805,0.9116719725059981,0.003444907797528356,0.028469757820104753,0.052672707988946924,0.27188056369995034,0.056598652061043954,0.005837820235047962,0.02367165314459986,0.05065456066601271,0.2783983249955432,0.06917077471423382,0.008332317577272753,0.1729993770810019,0.009992657356615923,0.12684503175344947,0.01708527352728087,0.009609439129518907,0.0048605143430420494,0.009886065942615813,0.009532947829866831,0.042386519731719044,0.00522881463280016,0.008298977534235256,0.01564281249455686,0.006681590983760968,0.010920098468862341,0.03910049434848199,0.0034218208459532396,0.09403805770273875],\"xaxis\":\"x\",\"y\":[0.0033761863596737385,0.008217411115765572,0.006621709559112787,0.004467117600142956,0.02896999940276146,0.059743162244558334,0.006870589684695005,0.01386809628456831,0.006359304301440716,0.022823503240942955,0.07767874747514725,0.08902045339345932,0.036721717566251755,0.07105058431625366,0.017309540882706642,0.09806247800588608,0.09840742498636246,0.013538249768316746,0.00961671955883503,0.9563787579536438,0.08354265987873077,0.005479698069393635,0.07029156386852264,0.014863626100122929,0.004367443732917309,0.05653659626841545,0.18497250974178314,0.005401861388236284,0.008260526694357395,0.061388127505779266,0.00369859766215086,0.07330730557441711,0.01730126515030861,0.009100335650146008,0.0005749311530962586,0.06238241493701935,0.007288712542504072,0.011155339889228344,0.00827415008097887,0.01390882395207882,0.009323373436927795,0.005130281671881676,0.005607150495052338,0.0061418237164616585,5.426253846962936e-05,0.01209673285484314,0.009586099535226822,2.0744322682730854e-05,0.05140598863363266,0.01727055385708809,0.06874799728393555,0.001007121056318283,0.0061529106460511684,0.006080434657633305,0.0007736391271464527,0.17520125210285187,0.008204091340303421,0.0060997712425887585,0.14846718311309814,0.09762883186340332,0.05788640305399895,0.007157554849982262,0.013901050202548504,0.007813222706317902,0.09926893562078476,0.04783373698592186,0.008779277093708515,0.019866228103637695,0.004723111167550087,0.017288310453295708,0.0014433549949899316,0.0073232585564255714,0.005881079938262701,0.008289605379104614,0.005200569983571768,0.010082954540848732,0.008174115791916847,0.008548881858587265,0.008718009106814861,0.0075104315765202045,0.004555628634989262,0.00031757468241266906,0.0008319257176481187,0.014861548319458961,0.004836178384721279,0.006389728281646967,0.13124217092990875,0.021838238462805748,0.04342149198055267,0.007129110395908356,0.04327891394495964,0.05533384904265404,0.050031766295433044,0.01757781393826008,0.008564891293644905,0.007935795933008194,0.04958965256810188,0.018870839849114418,0.019703712314367294,0.042540572583675385,0.018526336178183556,0.06830009818077087,0.1428460031747818,0.017579710111021996,0.02925388514995575,0.027214236557483673,0.011519454419612885,0.0002040102845057845,0.022677520290017128,0.18322978913784027,0.0055166431702673435,0.041493192315101624,0.0543038435280323,0.040063999593257904,0.04304436594247818,0.05945313349366188,0.058386050164699554,0.006094234064221382,0.008453748188912868,0.008446198888123035,0.04002166539430618,0.006413673050701618,0.05426708981394768,0.2745426595211029,0.8953028917312622,0.16549301147460938,0.0009774768259376287,0.0046933176927268505,0.0006395202944986522,0.009333910420536995,0.025202617049217224,0.01746802031993866,0.1462237536907196,0.15146614611148834,0.006739010103046894,0.9383105635643005,0.005898287054151297,0.02847331203520298,0.04309142380952835,0.27965816855430603,0.05775442346930504,0.008199249394237995,0.023684408515691757,0.04988701641559601,0.2847630977630615,0.06960630416870117,0.008527467027306557,0.17285996675491333,0.0164869986474514,0.11996191740036011,0.017787549644708633,0.0056173973716795444,0.0038073710165917873,0.00940706580877304,0.009858909994363785,0.040947988629341125,0.017592083662748337,0.008181470446288586,0.016402818262577057,0.006611111108213663,0.0152564886957407,0.023343537002801895,0.0052033946849405766,0.09639300405979156],\"yaxis\":\"y\",\"type\":\"scatter\"}],                        {\"template\":{\"data\":{\"bar\":[{\"error_x\":{\"color\":\"#2a3f5f\"},\"error_y\":{\"color\":\"#2a3f5f\"},\"marker\":{\"line\":{\"color\":\"#E5ECF6\",\"width\":0.5},\"pattern\":{\"fillmode\":\"overlay\",\"size\":10,\"solidity\":0.2}},\"type\":\"bar\"}],\"barpolar\":[{\"marker\":{\"line\":{\"color\":\"#E5ECF6\",\"width\":0.5},\"pattern\":{\"fillmode\":\"overlay\",\"size\":10,\"solidity\":0.2}},\"type\":\"barpolar\"}],\"carpet\":[{\"aaxis\":{\"endlinecolor\":\"#2a3f5f\",\"gridcolor\":\"white\",\"linecolor\":\"white\",\"minorgridcolor\":\"white\",\"startlinecolor\":\"#2a3f5f\"},\"baxis\":{\"endlinecolor\":\"#2a3f5f\",\"gridcolor\":\"white\",\"linecolor\":\"white\",\"minorgridcolor\":\"white\",\"startlinecolor\":\"#2a3f5f\"},\"type\":\"carpet\"}],\"choropleth\":[{\"colorbar\":{\"outlinewidth\":0,\"ticks\":\"\"},\"type\":\"choropleth\"}],\"contour\":[{\"colorbar\":{\"outlinewidth\":0,\"ticks\":\"\"},\"colorscale\":[[0.0,\"#0d0887\"],[0.1111111111111111,\"#46039f\"],[0.2222222222222222,\"#7201a8\"],[0.3333333333333333,\"#9c179e\"],[0.4444444444444444,\"#bd3786\"],[0.5555555555555556,\"#d8576b\"],[0.6666666666666666,\"#ed7953\"],[0.7777777777777778,\"#fb9f3a\"],[0.8888888888888888,\"#fdca26\"],[1.0,\"#f0f921\"]],\"type\":\"contour\"}],\"contourcarpet\":[{\"colorbar\":{\"outlinewidth\":0,\"ticks\":\"\"},\"type\":\"contourcarpet\"}],\"heatmap\":[{\"colorbar\":{\"outlinewidth\":0,\"ticks\":\"\"},\"colorscale\":[[0.0,\"#0d0887\"],[0.1111111111111111,\"#46039f\"],[0.2222222222222222,\"#7201a8\"],[0.3333333333333333,\"#9c179e\"],[0.4444444444444444,\"#bd3786\"],[0.5555555555555556,\"#d8576b\"],[0.6666666666666666,\"#ed7953\"],[0.7777777777777778,\"#fb9f3a\"],[0.8888888888888888,\"#fdca26\"],[1.0,\"#f0f921\"]],\"type\":\"heatmap\"}],\"heatmapgl\":[{\"colorbar\":{\"outlinewidth\":0,\"ticks\":\"\"},\"colorscale\":[[0.0,\"#0d0887\"],[0.1111111111111111,\"#46039f\"],[0.2222222222222222,\"#7201a8\"],[0.3333333333333333,\"#9c179e\"],[0.4444444444444444,\"#bd3786\"],[0.5555555555555556,\"#d8576b\"],[0.6666666666666666,\"#ed7953\"],[0.7777777777777778,\"#fb9f3a\"],[0.8888888888888888,\"#fdca26\"],[1.0,\"#f0f921\"]],\"type\":\"heatmapgl\"}],\"histogram\":[{\"marker\":{\"pattern\":{\"fillmode\":\"overlay\",\"size\":10,\"solidity\":0.2}},\"type\":\"histogram\"}],\"histogram2d\":[{\"colorbar\":{\"outlinewidth\":0,\"ticks\":\"\"},\"colorscale\":[[0.0,\"#0d0887\"],[0.1111111111111111,\"#46039f\"],[0.2222222222222222,\"#7201a8\"],[0.3333333333333333,\"#9c179e\"],[0.4444444444444444,\"#bd3786\"],[0.5555555555555556,\"#d8576b\"],[0.6666666666666666,\"#ed7953\"],[0.7777777777777778,\"#fb9f3a\"],[0.8888888888888888,\"#fdca26\"],[1.0,\"#f0f921\"]],\"type\":\"histogram2d\"}],\"histogram2dcontour\":[{\"colorbar\":{\"outlinewidth\":0,\"ticks\":\"\"},\"colorscale\":[[0.0,\"#0d0887\"],[0.1111111111111111,\"#46039f\"],[0.2222222222222222,\"#7201a8\"],[0.3333333333333333,\"#9c179e\"],[0.4444444444444444,\"#bd3786\"],[0.5555555555555556,\"#d8576b\"],[0.6666666666666666,\"#ed7953\"],[0.7777777777777778,\"#fb9f3a\"],[0.8888888888888888,\"#fdca26\"],[1.0,\"#f0f921\"]],\"type\":\"histogram2dcontour\"}],\"mesh3d\":[{\"colorbar\":{\"outlinewidth\":0,\"ticks\":\"\"},\"type\":\"mesh3d\"}],\"parcoords\":[{\"line\":{\"colorbar\":{\"outlinewidth\":0,\"ticks\":\"\"}},\"type\":\"parcoords\"}],\"pie\":[{\"automargin\":true,\"type\":\"pie\"}],\"scatter\":[{\"marker\":{\"colorbar\":{\"outlinewidth\":0,\"ticks\":\"\"}},\"type\":\"scatter\"}],\"scatter3d\":[{\"line\":{\"colorbar\":{\"outlinewidth\":0,\"ticks\":\"\"}},\"marker\":{\"colorbar\":{\"outlinewidth\":0,\"ticks\":\"\"}},\"type\":\"scatter3d\"}],\"scattercarpet\":[{\"marker\":{\"colorbar\":{\"outlinewidth\":0,\"ticks\":\"\"}},\"type\":\"scattercarpet\"}],\"scattergeo\":[{\"marker\":{\"colorbar\":{\"outlinewidth\":0,\"ticks\":\"\"}},\"type\":\"scattergeo\"}],\"scattergl\":[{\"marker\":{\"colorbar\":{\"outlinewidth\":0,\"ticks\":\"\"}},\"type\":\"scattergl\"}],\"scattermapbox\":[{\"marker\":{\"colorbar\":{\"outlinewidth\":0,\"ticks\":\"\"}},\"type\":\"scattermapbox\"}],\"scatterpolar\":[{\"marker\":{\"colorbar\":{\"outlinewidth\":0,\"ticks\":\"\"}},\"type\":\"scatterpolar\"}],\"scatterpolargl\":[{\"marker\":{\"colorbar\":{\"outlinewidth\":0,\"ticks\":\"\"}},\"type\":\"scatterpolargl\"}],\"scatterternary\":[{\"marker\":{\"colorbar\":{\"outlinewidth\":0,\"ticks\":\"\"}},\"type\":\"scatterternary\"}],\"surface\":[{\"colorbar\":{\"outlinewidth\":0,\"ticks\":\"\"},\"colorscale\":[[0.0,\"#0d0887\"],[0.1111111111111111,\"#46039f\"],[0.2222222222222222,\"#7201a8\"],[0.3333333333333333,\"#9c179e\"],[0.4444444444444444,\"#bd3786\"],[0.5555555555555556,\"#d8576b\"],[0.6666666666666666,\"#ed7953\"],[0.7777777777777778,\"#fb9f3a\"],[0.8888888888888888,\"#fdca26\"],[1.0,\"#f0f921\"]],\"type\":\"surface\"}],\"table\":[{\"cells\":{\"fill\":{\"color\":\"#EBF0F8\"},\"line\":{\"color\":\"white\"}},\"header\":{\"fill\":{\"color\":\"#C8D4E3\"},\"line\":{\"color\":\"white\"}},\"type\":\"table\"}]},\"layout\":{\"annotationdefaults\":{\"arrowcolor\":\"#2a3f5f\",\"arrowhead\":0,\"arrowwidth\":1},\"autotypenumbers\":\"strict\",\"coloraxis\":{\"colorbar\":{\"outlinewidth\":0,\"ticks\":\"\"}},\"colorscale\":{\"diverging\":[[0,\"#8e0152\"],[0.1,\"#c51b7d\"],[0.2,\"#de77ae\"],[0.3,\"#f1b6da\"],[0.4,\"#fde0ef\"],[0.5,\"#f7f7f7\"],[0.6,\"#e6f5d0\"],[0.7,\"#b8e186\"],[0.8,\"#7fbc41\"],[0.9,\"#4d9221\"],[1,\"#276419\"]],\"sequential\":[[0.0,\"#0d0887\"],[0.1111111111111111,\"#46039f\"],[0.2222222222222222,\"#7201a8\"],[0.3333333333333333,\"#9c179e\"],[0.4444444444444444,\"#bd3786\"],[0.5555555555555556,\"#d8576b\"],[0.6666666666666666,\"#ed7953\"],[0.7777777777777778,\"#fb9f3a\"],[0.8888888888888888,\"#fdca26\"],[1.0,\"#f0f921\"]],\"sequentialminus\":[[0.0,\"#0d0887\"],[0.1111111111111111,\"#46039f\"],[0.2222222222222222,\"#7201a8\"],[0.3333333333333333,\"#9c179e\"],[0.4444444444444444,\"#bd3786\"],[0.5555555555555556,\"#d8576b\"],[0.6666666666666666,\"#ed7953\"],[0.7777777777777778,\"#fb9f3a\"],[0.8888888888888888,\"#fdca26\"],[1.0,\"#f0f921\"]]},\"colorway\":[\"#636efa\",\"#EF553B\",\"#00cc96\",\"#ab63fa\",\"#FFA15A\",\"#19d3f3\",\"#FF6692\",\"#B6E880\",\"#FF97FF\",\"#FECB52\"],\"font\":{\"color\":\"#2a3f5f\"},\"geo\":{\"bgcolor\":\"white\",\"lakecolor\":\"white\",\"landcolor\":\"#E5ECF6\",\"showlakes\":true,\"showland\":true,\"subunitcolor\":\"white\"},\"hoverlabel\":{\"align\":\"left\"},\"hovermode\":\"closest\",\"mapbox\":{\"style\":\"light\"},\"paper_bgcolor\":\"white\",\"plot_bgcolor\":\"#E5ECF6\",\"polar\":{\"angularaxis\":{\"gridcolor\":\"white\",\"linecolor\":\"white\",\"ticks\":\"\"},\"bgcolor\":\"#E5ECF6\",\"radialaxis\":{\"gridcolor\":\"white\",\"linecolor\":\"white\",\"ticks\":\"\"}},\"scene\":{\"xaxis\":{\"backgroundcolor\":\"#E5ECF6\",\"gridcolor\":\"white\",\"gridwidth\":2,\"linecolor\":\"white\",\"showbackground\":true,\"ticks\":\"\",\"zerolinecolor\":\"white\"},\"yaxis\":{\"backgroundcolor\":\"#E5ECF6\",\"gridcolor\":\"white\",\"gridwidth\":2,\"linecolor\":\"white\",\"showbackground\":true,\"ticks\":\"\",\"zerolinecolor\":\"white\"},\"zaxis\":{\"backgroundcolor\":\"#E5ECF6\",\"gridcolor\":\"white\",\"gridwidth\":2,\"linecolor\":\"white\",\"showbackground\":true,\"ticks\":\"\",\"zerolinecolor\":\"white\"}},\"shapedefaults\":{\"line\":{\"color\":\"#2a3f5f\"}},\"ternary\":{\"aaxis\":{\"gridcolor\":\"white\",\"linecolor\":\"white\",\"ticks\":\"\"},\"baxis\":{\"gridcolor\":\"white\",\"linecolor\":\"white\",\"ticks\":\"\"},\"bgcolor\":\"#E5ECF6\",\"caxis\":{\"gridcolor\":\"white\",\"linecolor\":\"white\",\"ticks\":\"\"}},\"title\":{\"x\":0.05},\"xaxis\":{\"automargin\":true,\"gridcolor\":\"white\",\"linecolor\":\"white\",\"ticks\":\"\",\"title\":{\"standoff\":15},\"zerolinecolor\":\"white\",\"zerolinewidth\":2},\"yaxis\":{\"automargin\":true,\"gridcolor\":\"white\",\"linecolor\":\"white\",\"ticks\":\"\",\"title\":{\"standoff\":15},\"zerolinecolor\":\"white\",\"zerolinewidth\":2}}},\"xaxis\":{\"anchor\":\"y\",\"domain\":[0.0,1.0],\"title\":{\"text\":\"Predicted\"}},\"yaxis\":{\"anchor\":\"x\",\"domain\":[0.0,1.0],\"title\":{\"text\":\"Actual\"}},\"legend\":{\"tracegroupgap\":0},\"margin\":{\"t\":60}},                        {\"responsive\": true}                    ).then(function(){\n                            \nvar gd = document.getElementById('fe75228b-bad8-427d-b709-4e21d244765e');\nvar x = new MutationObserver(function (mutations, observer) {{\n        var display = window.getComputedStyle(gd).display;\n        if (!display || display === 'none') {{\n            console.log([gd, 'removed!']);\n            Plotly.purge(gd);\n            observer.disconnect();\n        }}\n}});\n\n// Listen for the removal of the full notebook cells\nvar notebookContainer = gd.closest('#notebook-container');\nif (notebookContainer) {{\n    x.observe(notebookContainer, {childList: true});\n}}\n\n// Listen for the clearing of the current output cell\nvar outputEl = gd.closest('.output');\nif (outputEl) {{\n    x.observe(outputEl, {childList: true});\n}}\n\n                        })                };                            </script>        </div>\n</body>\n</html>"
     },
     "execution_count": 159,
     "metadata": {
     },
     "output_type": "execute_result"
    }
   ],
   "source": [
    "KNN_test_predictions = KNN.predict(test_in)\n",
    "fig = px.scatter(y=test_out, x=KNN_test_predictions, labels = {'y':'Actual','x':'Predicted'})\n",
    "fig.show()"
   ]
  },
  {
   "cell_type": "code",
   "execution_count": 160,
   "metadata": {
    "collapsed": false
   },
   "outputs": [
    {
     "name": "stdout",
     "output_type": "stream",
     "text": [
      "6.088790692236671e-05\n"
     ]
    },
    {
     "data": {
      "text/plain": [
       "0.996438663802"
      ]
     },
     "execution_count": 160,
     "metadata": {
     },
     "output_type": "execute_result"
    }
   ],
   "source": [
    "print(mean_squared_error(test_out, KNN_test_predictions))\n",
    "r2_score(test_out, KNN_test_predictions)"
   ]
  },
  {
   "cell_type": "code",
   "execution_count": 0,
   "metadata": {
    "collapsed": false
   },
   "outputs": [
   ],
   "source": [
   ]
  }
 ],
 "metadata": {
  "kernelspec": {
   "display_name": "Python (ds_env)",
   "language": "python",
   "metadata": {
    "debugger": true
   },
   "name": "ds_env",
   "resource_dir": "/projects/39b268b1-0e75-4ebd-9cf2-691243b37f4a/.local/share/jupyter/kernels/ds_env"
  },
  "language_info": {
   "codemirror_mode": {
    "name": "ipython",
    "version": 3
   },
   "file_extension": ".py",
   "mimetype": "text/x-python",
   "name": "python",
   "nbconvert_exporter": "python",
   "pygments_lexer": "ipython3",
   "version": "3.8.13"
  }
 },
 "nbformat": 4,
 "nbformat_minor": 4
}