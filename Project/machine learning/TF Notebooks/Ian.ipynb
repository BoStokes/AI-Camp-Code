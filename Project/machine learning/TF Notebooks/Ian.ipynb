{
 "cells": [
  {
   "cell_type": "markdown",
   "metadata": {
    "collapsed": false
   },
   "source": [
    "### Data\n",
    "\n"
   ]
  },
  {
   "cell_type": "code",
   "execution_count": 2,
   "metadata": {
    "collapsed": false
   },
   "outputs": [
   ],
   "source": [
    "import numpy as np\n",
    "import pandas as pd\n",
    "\n",
    "import plotly.express as px\n",
    "from sklearn.model_selection import train_test_split"
   ]
  },
  {
   "cell_type": "code",
   "execution_count": 31,
   "metadata": {
    "collapsed": false
   },
   "outputs": [
   ],
   "source": [
    "df = pd.read_csv('../../data/\n",
    "emissions_clean.csv')\n",
    "df.drop('Country', axis=1, inplace=True)\n",
    "df=(df-df.min())/(df.max()-df.min())\n",
    "df = df.astype('float32')\n",
    "target = df.pop('Greenhouse Gas Emissions')\n",
    "train_in, test_in, train_out, test_out = train_test_split(df, target, test_size = 0.95, shuffle=True)"
   ]
  },
  {
   "cell_type": "markdown",
   "metadata": {
    "collapsed": false
   },
   "source": [
    "### Creating Model\n",
    "\n"
   ]
  },
  {
   "cell_type": "code",
   "execution_count": 32,
   "metadata": {
    "collapsed": false
   },
   "outputs": [
   ],
   "source": [
    "import tensorflow as tf\n",
    "from tensorflow.keras import Sequential"
   ]
  },
  {
   "cell_type": "code",
   "execution_count": 33,
   "metadata": {
    "collapsed": false
   },
   "outputs": [
   ],
   "source": [
    "import warnings\n",
    "warnings.filterwarnings('ignore')\n"
   ]
  },
  {
   "cell_type": "code",
   "execution_count": 34,
   "metadata": {
    "collapsed": false
   },
   "outputs": [
   ],
   "source": [
    "model = Sequential()"
   ]
  },
  {
   "cell_type": "code",
   "execution_count": 35,
   "metadata": {
    "collapsed": false
   },
   "outputs": [
   ],
   "source": [
    "model.add(tf.keras.Input(shape=(10,)))\n",
    "model.add(tf.keras.layers.Dense(10, activation='relu')) # Activation could also be 'sigmoid' or 'tanh'\n",
    "model.add(tf.keras.layers.Dense(10, activation='relu')) # Activation could also be 'sigmoid' or 'tanh'\n",
    "model.add(tf.keras.layers.Dense(5, activation='relu')) # Activation could also be 'sigmoid' or 'tanh'\n",
    "model.add(tf.keras.layers.Dense(5, activation='relu')) # Activation could also be 'sigmoid' or 'tanh'\n",
    "\n",
    "# OUTPUT LAYER HERE\n",
    "model.add(tf.keras.layers.Dense(1))"
   ]
  },
  {
   "cell_type": "code",
   "execution_count": 36,
   "metadata": {
    "collapsed": false
   },
   "outputs": [
   ],
   "source": [
    "model.compile(optimizer='sgd', loss='mse') # Could also use 'mae' for loss"
   ]
  },
  {
   "cell_type": "markdown",
   "metadata": {
    "collapsed": false
   },
   "source": [
    "### Training Model\n",
    "\n"
   ]
  },
  {
   "cell_type": "code",
   "execution_count": 37,
   "metadata": {
    "collapsed": false,
    "scrolled": true
   },
   "outputs": [
    {
     "name": "stdout",
     "output_type": "stream",
     "text": [
      "Epoch 1/50\n"
     ]
    },
    {
     "name": "stdout",
     "output_type": "stream",
     "text": [
      "\r 1/40 [..............................] - ETA: 20s - loss: 6.8236e-05"
     ]
    },
    {
     "name": "stdout",
     "output_type": "stream",
     "text": [
      "\b\b\b\b\b\b\b\b\b\b\b\b\b\b\b\b\b\b\b\b\b\b\b\b\b\b\b\b\b\b\b\b\b\b\b\b\b\b\b\b\b\b\b\b\b\b\b\b\b\b\b\b\b\b\b\b\b\b\b\b\b\b\b\b\b\b\b\b\r31/40 [======================>.......] - ETA: 0s - loss: 0.0356     "
     ]
    },
    {
     "name": "stdout",
     "output_type": "stream",
     "text": [
      "\b\b\b\b\b\b\b\b\b\b\b\b\b\b\b\b\b\b\b\b\b\b\b\b\b\b\b\b\b\b\b\b\b\b\b\b\b\b\b\b\b\b\b\b\b\b\b\b\b\b\b\b\b\b\b\b\b\b\b\b\b\b\b\r40/40 [==============================] - 1s 2ms/step - loss: 0.0283\n"
     ]
    },
    {
     "name": "stdout",
     "output_type": "stream",
     "text": [
      "Epoch 2/50\n"
     ]
    },
    {
     "name": "stdout",
     "output_type": "stream",
     "text": [
      "\r 1/40 [..............................] - ETA: 0s - loss: 0.9270"
     ]
    },
    {
     "name": "stdout",
     "output_type": "stream",
     "text": [
      "\b\b\b\b\b\b\b\b\b\b\b\b\b\b\b\b\b\b\b\b\b\b\b\b\b\b\b\b\b\b\b\b\b\b\b\b\b\b\b\b\b\b\b\b\b\b\b\b\b\b\b\b\b\b\b\b\b\b\b\b\b\b\b\r32/40 [=======================>......] - ETA: 0s - loss: 0.0331"
     ]
    },
    {
     "name": "stdout",
     "output_type": "stream",
     "text": [
      "\b\b\b\b\b\b\b\b\b\b\b\b\b\b\b\b\b\b\b\b\b\b\b\b\b\b\b\b\b\b\b\b\b\b\b\b\b\b\b\b\b\b\b\b\b\b\b\b\b\b\b\b\b\b\b\b\b\b\b\b\b\b\b\r40/40 [==============================] - 0s 2ms/step - loss: 0.0267\n"
     ]
    },
    {
     "name": "stdout",
     "output_type": "stream",
     "text": [
      "Epoch 3/50\n"
     ]
    },
    {
     "name": "stdout",
     "output_type": "stream",
     "text": [
      "\r 1/40 [..............................] - ETA: 0s - loss: 8.2006e-04"
     ]
    },
    {
     "name": "stdout",
     "output_type": "stream",
     "text": [
      "\b\b\b\b\b\b\b\b\b\b\b\b\b\b\b\b\b\b\b\b\b\b\b\b\b\b\b\b\b\b\b\b\b\b\b\b\b\b\b\b\b\b\b\b\b\b\b\b\b\b\b\b\b\b\b\b\b\b\b\b\b\b\b\b\b\b\b\r33/40 [=======================>......] - ETA: 0s - loss: 0.0312    "
     ]
    },
    {
     "name": "stdout",
     "output_type": "stream",
     "text": [
      "\b\b\b\b\b\b\b\b\b\b\b\b\b\b\b\b\b\b\b\b\b\b\b\b\b\b\b\b\b\b\b\b\b\b\b\b\b\b\b\b\b\b\b\b\b\b\b\b\b\b\b\b\b\b\b\b\b\b\b\b\b\b\b\r40/40 [==============================] - 0s 2ms/step - loss: 0.0265\n"
     ]
    },
    {
     "name": "stdout",
     "output_type": "stream",
     "text": [
      "Epoch 4/50\n"
     ]
    },
    {
     "name": "stdout",
     "output_type": "stream",
     "text": [
      "\r 1/40 [..............................] - ETA: 0s - loss: 0.0017"
     ]
    },
    {
     "name": "stdout",
     "output_type": "stream",
     "text": [
      "\b\b\b\b\b\b\b\b\b\b\b\b\b\b\b\b\b\b\b\b\b\b\b\b\b\b\b\b\b\b\b\b\b\b\b\b\b\b\b\b\b\b\b\b\b\b\b\b\b\b\b\b\b\b\b\b\b\b\b\b\b\b\b\r17/40 [===========>..................] - ETA: 0s - loss: 0.0560"
     ]
    },
    {
     "name": "stdout",
     "output_type": "stream",
     "text": [
      "\b\b\b\b\b\b\b\b\b\b\b\b\b\b\b\b\b\b\b\b\b\b\b\b\b\b\b\b\b\b\b\b\b\b\b\b\b\b\b\b\b\b\b\b\b\b\b\b\b\b\b\b\b\b\b\b\b\b\b\b\b\b\b\r33/40 [=======================>......] - ETA: 0s - loss: 0.0312"
     ]
    },
    {
     "name": "stdout",
     "output_type": "stream",
     "text": [
      "\b\b\b\b\b\b\b\b\b\b\b\b\b\b\b\b\b\b\b\b\b\b\b\b\b\b\b\b\b\b\b\b\b\b\b\b\b\b\b\b\b\b\b\b\b\b\b\b\b\b\b\b\b\b\b\b\b\b\b\b\b\b\b\r40/40 [==============================] - 0s 3ms/step - loss: 0.0264\n"
     ]
    },
    {
     "name": "stdout",
     "output_type": "stream",
     "text": [
      "Epoch 5/50\n"
     ]
    },
    {
     "name": "stdout",
     "output_type": "stream",
     "text": [
      "\r 1/40 [..............................] - ETA: 0s - loss: 0.0020"
     ]
    },
    {
     "name": "stdout",
     "output_type": "stream",
     "text": [
      "\b\b\b\b\b\b\b\b\b\b\b\b\b\b\b\b\b\b\b\b\b\b\b\b\b\b\b\b\b\b\b\b\b\b\b\b\b\b\b\b\b\b\b\b\b\b\b\b\b\b\b\b\b\b\b\b\b\b\b\b\b\b\b\r30/40 [=====================>........] - ETA: 0s - loss: 0.0337"
     ]
    },
    {
     "name": "stdout",
     "output_type": "stream",
     "text": [
      "\b\b\b\b\b\b\b\b\b\b\b\b\b\b\b\b\b\b\b\b\b\b\b\b\b\b\b\b\b\b\b\b\b\b\b\b\b\b\b\b\b\b\b\b\b\b\b\b\b\b\b\b\b\b\b\b\b\b\b\b\b\b\b\r40/40 [==============================] - 0s 2ms/step - loss: 0.0262\n"
     ]
    },
    {
     "name": "stdout",
     "output_type": "stream",
     "text": [
      "Epoch 6/50\n"
     ]
    },
    {
     "name": "stdout",
     "output_type": "stream",
     "text": [
      "\r 1/40 [..............................] - ETA: 0s - loss: 0.0293"
     ]
    },
    {
     "name": "stdout",
     "output_type": "stream",
     "text": [
      "\b\b\b\b\b\b\b\b\b\b\b\b\b\b\b\b\b\b\b\b\b\b\b\b\b\b\b\b\b\b\b\b\b\b\b\b\b\b\b\b\b\b\b\b\b\b\b\b\b\b\b\b\b\b\b\b\b\b\b\b\b\b\b\r28/40 [====================>.........] - ETA: 0s - loss: 0.0045"
     ]
    },
    {
     "name": "stdout",
     "output_type": "stream",
     "text": [
      "\b\b\b\b\b\b\b\b\b\b\b\b\b\b\b\b\b\b\b\b\b\b\b\b\b\b\b\b\b\b\b\b\b\b\b\b\b\b\b\b\b\b\b\b\b\b\b\b\b\b\b\b\b\b\b\b\b\b\b\b\b\b\b\r40/40 [==============================] - 0s 2ms/step - loss: 0.0262\n"
     ]
    },
    {
     "name": "stdout",
     "output_type": "stream",
     "text": [
      "Epoch 7/50\n"
     ]
    },
    {
     "name": "stdout",
     "output_type": "stream",
     "text": [
      "\r 1/40 [..............................] - ETA: 0s - loss: 0.0028"
     ]
    },
    {
     "name": "stdout",
     "output_type": "stream",
     "text": [
      "\b\b\b\b\b\b\b\b\b\b\b\b\b\b\b\b\b\b\b\b\b\b\b\b\b\b\b\b\b\b\b\b\b\b\b\b\b\b\b\b\b\b\b\b\b\b\b\b\b\b\b\b\b\b\b\b\b\b\b\b\b\b\b\r14/40 [=========>....................] - ETA: 0s - loss: 0.0663"
     ]
    },
    {
     "name": "stdout",
     "output_type": "stream",
     "text": [
      "\b\b\b\b\b\b\b\b\b\b\b\b\b\b\b\b\b\b\b\b\b\b\b\b\b\b\b\b\b\b\b\b\b\b\b\b\b\b\b\b\b\b\b\b\b\b\b\b\b\b\b\b\b\b\b\b\b\b\b\b\b\b\b\r29/40 [====================>.........] - ETA: 0s - loss: 0.0348"
     ]
    },
    {
     "name": "stdout",
     "output_type": "stream",
     "text": [
      "\b\b\b\b\b\b\b\b\b\b\b\b\b\b\b\b\b\b\b\b\b\b\b\b\b\b\b\b\b\b\b\b\b\b\b\b\b\b\b\b\b\b\b\b\b\b\b\b\b\b\b\b\b\b\b\b\b\b\b\b\b\b\b\r40/40 [==============================] - 0s 3ms/step - loss: 0.0261\n"
     ]
    },
    {
     "name": "stdout",
     "output_type": "stream",
     "text": [
      "Epoch 8/50\n"
     ]
    },
    {
     "name": "stdout",
     "output_type": "stream",
     "text": [
      "\r 1/40 [..............................] - ETA: 0s - loss: 8.2990e-04"
     ]
    },
    {
     "name": "stdout",
     "output_type": "stream",
     "text": [
      "\b\b\b\b\b\b\b\b\b\b\b\b\b\b\b\b\b\b\b\b\b\b\b\b\b\b\b\b\b\b\b\b\b\b\b\b\b\b\b\b\b\b\b\b\b\b\b\b\b\b\b\b\b\b\b\b\b\b\b\b\b\b\b\b\b\b\b\r33/40 [=======================>......] - ETA: 0s - loss: 0.0040    "
     ]
    },
    {
     "name": "stdout",
     "output_type": "stream",
     "text": [
      "\b\b\b\b\b\b\b\b\b\b\b\b\b\b\b\b\b\b\b\b\b\b\b\b\b\b\b\b\b\b\b\b\b\b\b\b\b\b\b\b\b\b\b\b\b\b\b\b\b\b\b\b\b\b\b\b\b\b\b\b\b\b\b\r40/40 [==============================] - 0s 2ms/step - loss: 0.0261\n"
     ]
    },
    {
     "name": "stdout",
     "output_type": "stream",
     "text": [
      "Epoch 9/50\n"
     ]
    },
    {
     "name": "stdout",
     "output_type": "stream",
     "text": [
      "\r 1/40 [..............................] - ETA: 0s - loss: 0.0030"
     ]
    },
    {
     "name": "stdout",
     "output_type": "stream",
     "text": [
      "\b\b\b\b\b\b\b\b\b\b\b\b\b\b\b\b\b\b\b\b\b\b\b\b\b\b\b\b\b\b\b\b\b\b\b\b\b\b\b\b\b\b\b\b\b\b\b\b\b\b\b\b\b\b\b\b\b\b\b\b\b\b\b\r28/40 [====================>.........] - ETA: 0s - loss: 0.0346"
     ]
    },
    {
     "name": "stdout",
     "output_type": "stream",
     "text": [
      "\b\b\b\b\b\b\b\b\b\b\b\b\b\b\b\b\b\b\b\b\b\b\b\b\b\b\b\b\b\b\b\b\b\b\b\b\b\b\b\b\b\b\b\b\b\b\b\b\b\b\b\b\b\b\b\b\b\b\b\b\b\b\b\r40/40 [==============================] - 0s 2ms/step - loss: 0.0261\n"
     ]
    },
    {
     "name": "stdout",
     "output_type": "stream",
     "text": [
      "Epoch 10/50\n"
     ]
    },
    {
     "name": "stdout",
     "output_type": "stream",
     "text": [
      "\r 1/40 [..............................] - ETA: 0s - loss: 0.0258"
     ]
    },
    {
     "name": "stdout",
     "output_type": "stream",
     "text": [
      "\b\b\b\b\b\b\b\b\b\b\b\b\b\b\b\b\b\b\b\b\b\b\b\b\b\b\b\b\b\b\b\b\b\b\b\b\b\b\b\b\b\b\b\b\b\b\b\b\b\b\b\b\b\b\b\b\b\b\b\b\b\b\b\r23/40 [================>.............] - ETA: 0s - loss: 0.0049"
     ]
    },
    {
     "name": "stdout",
     "output_type": "stream",
     "text": [
      "\b\b\b\b\b\b\b\b\b\b\b\b\b\b\b\b\b\b\b\b\b\b\b\b\b\b\b\b\b\b\b\b\b\b\b\b\b\b\b\b\b\b\b\b\b\b\b\b\b\b\b\b\b\b\b\b\b\b\b\b\b\b\b\r40/40 [==============================] - 0s 2ms/step - loss: 0.0261\n"
     ]
    },
    {
     "name": "stdout",
     "output_type": "stream",
     "text": [
      "Epoch 11/50\n"
     ]
    },
    {
     "name": "stdout",
     "output_type": "stream",
     "text": [
      "\r 1/40 [..............................] - ETA: 0s - loss: 0.0036"
     ]
    },
    {
     "name": "stdout",
     "output_type": "stream",
     "text": [
      "\b\b\b\b\b\b\b\b\b\b\b\b\b\b\b\b\b\b\b\b\b\b\b\b\b\b\b\b\b\b\b\b\b\b\b\b\b\b\b\b\b\b\b\b\b\b\b\b\b\b\b\b\b\b\b\b\b\b\b\b\b\b\b\r18/40 [============>.................] - ETA: 0s - loss: 0.0539"
     ]
    },
    {
     "name": "stdout",
     "output_type": "stream",
     "text": [
      "\b\b\b\b\b\b\b\b\b\b\b\b\b\b\b\b\b\b\b\b\b\b\b\b\b\b\b\b\b\b\b\b\b\b\b\b\b\b\b\b\b\b\b\b\b\b\b\b\b\b\b\b\b\b\b\b\b\b\b\b\b\b\b\r40/40 [==============================] - 0s 3ms/step - loss: 0.0260\n"
     ]
    },
    {
     "name": "stdout",
     "output_type": "stream",
     "text": [
      "Epoch 12/50\n"
     ]
    },
    {
     "name": "stdout",
     "output_type": "stream",
     "text": [
      "\r 1/40 [..............................] - ETA: 0s - loss: 0.8854"
     ]
    },
    {
     "name": "stdout",
     "output_type": "stream",
     "text": [
      "\b\b\b\b\b\b\b\b\b\b\b\b\b\b\b\b\b\b\b\b\b\b\b\b\b\b\b\b\b\b\b\b\b\b\b\b\b\b\b\b\b\b\b\b\b\b\b\b\b\b\b\b\b\b\b\b\b\b\b\b\b\b\b\r18/40 [============>.................] - ETA: 0s - loss: 0.0534"
     ]
    },
    {
     "name": "stdout",
     "output_type": "stream",
     "text": [
      "\b\b\b\b\b\b\b\b\b\b\b\b\b\b\b\b\b\b\b\b\b\b\b\b\b\b\b\b\b\b\b\b\b\b\b\b\b\b\b\b\b\b\b\b\b\b\b\b\b\b\b\b\b\b\b\b\b\b\b\b\b\b\b\r38/40 [===========================>..] - ETA: 0s - loss: 0.0274"
     ]
    },
    {
     "name": "stdout",
     "output_type": "stream",
     "text": [
      "\b\b\b\b\b\b\b\b\b\b\b\b\b\b\b\b\b\b\b\b\b\b\b\b\b\b\b\b\b\b\b\b\b\b\b\b\b\b\b\b\b\b\b\b\b\b\b\b\b\b\b\b\b\b\b\b\b\b\b\b\b\b\b\r40/40 [==============================] - 0s 3ms/step - loss: 0.0261\n"
     ]
    },
    {
     "name": "stdout",
     "output_type": "stream",
     "text": [
      "Epoch 13/50\n"
     ]
    },
    {
     "name": "stdout",
     "output_type": "stream",
     "text": [
      "\r 1/40 [..............................] - ETA: 0s - loss: 0.0017"
     ]
    },
    {
     "name": "stdout",
     "output_type": "stream",
     "text": [
      "\b\b\b\b\b\b\b\b\b\b\b\b\b\b\b\b\b\b\b\b\b\b\b\b\b\b\b\b\b\b\b\b\b\b\b\b\b\b\b\b\b\b\b\b\b\b\b\b\b\b\b\b\b\b\b\b\b\b\b\b\b\b\b\r20/40 [==============>...............] - ETA: 0s - loss: 0.0031"
     ]
    },
    {
     "name": "stdout",
     "output_type": "stream",
     "text": [
      "\b\b\b\b\b\b\b\b\b\b\b\b\b\b\b\b\b\b\b\b\b\b\b\b\b\b\b\b\b\b\b\b\b\b\b\b\b\b\b\b\b\b\b\b\b\b\b\b\b\b\b\b\b\b\b\b\b\b\b\b\b\b\b\r40/40 [==============================] - 0s 3ms/step - loss: 0.0260\n"
     ]
    },
    {
     "name": "stdout",
     "output_type": "stream",
     "text": [
      "Epoch 14/50\n"
     ]
    },
    {
     "name": "stdout",
     "output_type": "stream",
     "text": [
      "\r 1/40 [..............................] - ETA: 0s - loss: 4.8365e-05"
     ]
    },
    {
     "name": "stdout",
     "output_type": "stream",
     "text": [
      "\b\b\b\b\b\b\b\b\b\b\b\b\b\b\b\b\b\b\b\b\b\b\b\b\b\b\b\b\b\b\b\b\b\b\b\b\b\b\b\b\b\b\b\b\b\b\b\b\b\b\b\b\b\b\b\b\b\b\b\b\b\b\b\b\b\b\b\r21/40 [==============>...............] - ETA: 0s - loss: 0.0032    "
     ]
    },
    {
     "name": "stdout",
     "output_type": "stream",
     "text": [
      "\b\b\b\b\b\b\b\b\b\b\b\b\b\b\b\b\b\b\b\b\b\b\b\b\b\b\b\b\b\b\b\b\b\b\b\b\b\b\b\b\b\b\b\b\b\b\b\b\b\b\b\b\b\b\b\b\b\b\b\b\b\b\b\r40/40 [==============================] - 0s 3ms/step - loss: 0.0260\n"
     ]
    },
    {
     "name": "stdout",
     "output_type": "stream",
     "text": [
      "Epoch 15/50\n"
     ]
    },
    {
     "name": "stdout",
     "output_type": "stream",
     "text": [
      "\r 1/40 [..............................] - ETA: 0s - loss: 0.0237"
     ]
    },
    {
     "name": "stdout",
     "output_type": "stream",
     "text": [
      "\b\b\b\b\b\b\b\b\b\b\b\b\b\b\b\b\b\b\b\b\b\b\b\b\b\b\b\b\b\b\b\b\b\b\b\b\b\b\b\b\b\b\b\b\b\b\b\b\b\b\b\b\b\b\b\b\b\b\b\b\b\b\b\r28/40 [====================>.........] - ETA: 0s - loss: 0.0355"
     ]
    },
    {
     "name": "stdout",
     "output_type": "stream",
     "text": [
      "\b\b\b\b\b\b\b\b\b\b\b\b\b\b\b\b\b\b\b\b\b\b\b\b\b\b\b\b\b\b\b\b\b\b\b\b\b\b\b\b\b\b\b\b\b\b\b\b\b\b\b\b\b\b\b\b\b\b\b\b\b\b\b\r40/40 [==============================] - 0s 2ms/step - loss: 0.0260\n"
     ]
    },
    {
     "name": "stdout",
     "output_type": "stream",
     "text": [
      "Epoch 16/50\n"
     ]
    },
    {
     "name": "stdout",
     "output_type": "stream",
     "text": [
      "\r 1/40 [..............................] - ETA: 0s - loss: 2.8940e-05"
     ]
    },
    {
     "name": "stdout",
     "output_type": "stream",
     "text": [
      "\b\b\b\b\b\b\b\b\b\b\b\b\b\b\b\b\b\b\b\b\b\b\b\b\b\b\b\b\b\b\b\b\b\b\b\b\b\b\b\b\b\b\b\b\b\b\b\b\b\b\b\b\b\b\b\b\b\b\b\b\b\b\b\b\b\b\b\r17/40 [===========>..................] - ETA: 0s - loss: 0.0558    "
     ]
    },
    {
     "name": "stdout",
     "output_type": "stream",
     "text": [
      "\b\b\b\b\b\b\b\b\b\b\b\b\b\b\b\b\b\b\b\b\b\b\b\b\b\b\b\b\b\b\b\b\b\b\b\b\b\b\b\b\b\b\b\b\b\b\b\b\b\b\b\b\b\b\b\b\b\b\b\b\b\b\b\r32/40 [=======================>......] - ETA: 0s - loss: 0.0312"
     ]
    },
    {
     "name": "stdout",
     "output_type": "stream",
     "text": [
      "\b\b\b\b\b\b\b\b\b\b\b\b\b\b\b\b\b\b\b\b\b\b\b\b\b\b\b\b\b\b\b\b\b\b\b\b\b\b\b\b\b\b\b\b\b\b\b\b\b\b\b\b\b\b\b\b\b\b\b\b\b\b\b\r40/40 [==============================] - 0s 3ms/step - loss: 0.0260\n"
     ]
    },
    {
     "name": "stdout",
     "output_type": "stream",
     "text": [
      "Epoch 17/50\n"
     ]
    },
    {
     "name": "stdout",
     "output_type": "stream",
     "text": [
      "\r 1/40 [..............................] - ETA: 0s - loss: 0.0156"
     ]
    },
    {
     "name": "stdout",
     "output_type": "stream",
     "text": [
      "\b\b\b\b\b\b\b\b\b\b\b\b\b\b\b\b\b\b\b\b\b\b\b\b\b\b\b\b\b\b\b\b\b\b\b\b\b\b\b\b\b\b\b\b\b\b\b\b\b\b\b\b\b\b\b\b\b\b\b\b\b\b\b\r14/40 [=========>....................] - ETA: 0s - loss: 0.0041"
     ]
    },
    {
     "name": "stdout",
     "output_type": "stream",
     "text": [
      "\b\b\b\b\b\b\b\b\b\b\b\b\b\b\b\b\b\b\b\b\b\b\b\b\b\b\b\b\b\b\b\b\b\b\b\b\b\b\b\b\b\b\b\b\b\b\b\b\b\b\b\b\b\b\b\b\b\b\b\b\b\b\b\r31/40 [======================>.......] - ETA: 0s - loss: 0.0320"
     ]
    },
    {
     "name": "stdout",
     "output_type": "stream",
     "text": [
      "\b\b\b\b\b\b\b\b\b\b\b\b\b\b\b\b\b\b\b\b\b\b\b\b\b\b\b\b\b\b\b\b\b\b\b\b\b\b\b\b\b\b\b\b\b\b\b\b\b\b\b\b\b\b\b\b\b\b\b\b\b\b\b\r40/40 [==============================] - 0s 3ms/step - loss: 0.0260\n"
     ]
    },
    {
     "name": "stdout",
     "output_type": "stream",
     "text": [
      "Epoch 18/50\n"
     ]
    },
    {
     "name": "stdout",
     "output_type": "stream",
     "text": [
      "\r 1/40 [..............................] - ETA: 0s - loss: 0.0025"
     ]
    },
    {
     "name": "stdout",
     "output_type": "stream",
     "text": [
      "\b\b\b\b\b\b\b\b\b\b\b\b\b\b\b\b\b\b\b\b\b\b\b\b\b\b\b\b\b\b\b\b\b\b\b\b\b\b\b\b\b\b\b\b\b\b\b\b\b\b\b\b\b\b\b\b\b\b\b\b\b\b\b\r18/40 [============>.................] - ETA: 0s - loss: 0.0016"
     ]
    },
    {
     "name": "stdout",
     "output_type": "stream",
     "text": [
      "\b\b\b\b\b\b\b\b\b\b\b\b\b\b\b\b\b\b\b\b\b\b\b\b\b\b\b\b\b\b\b\b\b\b\b\b\b\b\b\b\b\b\b\b\b\b\b\b\b\b\b\b\b\b\b\b\b\b\b\b\b\b\b\r36/40 [==========================>...] - ETA: 0s - loss: 0.0279"
     ]
    },
    {
     "name": "stdout",
     "output_type": "stream",
     "text": [
      "\b\b\b\b\b\b\b\b\b\b\b\b\b\b\b\b\b\b\b\b\b\b\b\b\b\b\b\b\b\b\b\b\b\b\b\b\b\b\b\b\b\b\b\b\b\b\b\b\b\b\b\b\b\b\b\b\b\b\b\b\b\b\b\r40/40 [==============================] - 0s 3ms/step - loss: 0.0259\n"
     ]
    },
    {
     "name": "stdout",
     "output_type": "stream",
     "text": [
      "Epoch 19/50\n"
     ]
    },
    {
     "name": "stdout",
     "output_type": "stream",
     "text": [
      "\r 1/40 [..............................] - ETA: 0s - loss: 0.0023"
     ]
    },
    {
     "name": "stdout",
     "output_type": "stream",
     "text": [
      "\b\b\b\b\b\b\b\b\b\b\b\b\b\b\b\b\b\b\b\b\b\b\b\b\b\b\b\b\b\b\b\b\b\b\b\b\b\b\b\b\b\b\b\b\b\b\b\b\b\b\b\b\b\b\b\b\b\b\b\b\b\b\b\r15/40 [==========>...................] - ETA: 0s - loss: 0.0627"
     ]
    },
    {
     "name": "stdout",
     "output_type": "stream",
     "text": [
      "\b\b\b\b\b\b\b\b\b\b\b\b\b\b\b\b\b\b\b\b\b\b\b\b\b\b\b\b\b\b\b\b\b\b\b\b\b\b\b\b\b\b\b\b\b\b\b\b\b\b\b\b\b\b\b\b\b\b\b\b\b\b\b\r40/40 [==============================] - 0s 2ms/step - loss: 0.0259\n"
     ]
    },
    {
     "name": "stdout",
     "output_type": "stream",
     "text": [
      "Epoch 20/50\n"
     ]
    },
    {
     "name": "stdout",
     "output_type": "stream",
     "text": [
      "\r 1/40 [..............................] - ETA: 0s - loss: 0.0025"
     ]
    },
    {
     "name": "stdout",
     "output_type": "stream",
     "text": [
      "\b\b\b\b\b\b\b\b\b\b\b\b\b\b\b\b\b\b\b\b\b\b\b\b\b\b\b\b\b\b\b\b\b\b\b\b\b\b\b\b\b\b\b\b\b\b\b\b\b\b\b\b\b\b\b\b\b\b\b\b\b\b\b\r28/40 [====================>.........] - ETA: 0s - loss: 0.0356"
     ]
    },
    {
     "name": "stdout",
     "output_type": "stream",
     "text": [
      "\b\b\b\b\b\b\b\b\b\b\b\b\b\b\b\b\b\b\b\b\b\b\b\b\b\b\b\b\b\b\b\b\b\b\b\b\b\b\b\b\b\b\b\b\b\b\b\b\b\b\b\b\b\b\b\b\b\b\b\b\b\b\b\r40/40 [==============================] - 0s 2ms/step - loss: 0.0259\n"
     ]
    },
    {
     "name": "stdout",
     "output_type": "stream",
     "text": [
      "Epoch 21/50\n"
     ]
    },
    {
     "name": "stdout",
     "output_type": "stream",
     "text": [
      "\r 1/40 [..............................] - ETA: 0s - loss: 0.0036"
     ]
    },
    {
     "name": "stdout",
     "output_type": "stream",
     "text": [
      "\b\b\b\b\b\b\b\b\b\b\b\b\b\b\b\b\b\b\b\b\b\b\b\b\b\b\b\b\b\b\b\b\b\b\b\b\b\b\b\b\b\b\b\b\b\b\b\b\b\b\b\b\b\b\b\b\b\b\b\b\b\b\b\r40/40 [==============================] - 0s 1ms/step - loss: 0.0259\n"
     ]
    },
    {
     "name": "stdout",
     "output_type": "stream",
     "text": [
      "Epoch 22/50\n"
     ]
    },
    {
     "name": "stdout",
     "output_type": "stream",
     "text": [
      "\r 1/40 [..............................] - ETA: 0s - loss: 0.0025"
     ]
    },
    {
     "name": "stdout",
     "output_type": "stream",
     "text": [
      "\b\b\b\b\b\b\b\b\b\b\b\b\b\b\b\b\b\b\b\b\b\b\b\b\b\b\b\b\b\b\b\b\b\b\b\b\b\b\b\b\b\b\b\b\b\b\b\b\b\b\b\b\b\b\b\b\b\b\b\b\b\b\b\r40/40 [==============================] - 0s 1ms/step - loss: 0.0259\n"
     ]
    },
    {
     "name": "stdout",
     "output_type": "stream",
     "text": [
      "Epoch 23/50\n"
     ]
    },
    {
     "name": "stdout",
     "output_type": "stream",
     "text": [
      "\r 1/40 [..............................] - ETA: 0s - loss: 0.0024"
     ]
    },
    {
     "name": "stdout",
     "output_type": "stream",
     "text": [
      "\b\b\b\b\b\b\b\b\b\b\b\b\b\b\b\b\b\b\b\b\b\b\b\b\b\b\b\b\b\b\b\b\b\b\b\b\b\b\b\b\b\b\b\b\b\b\b\b\b\b\b\b\b\b\b\b\b\b\b\b\b\b\b\r35/40 [=========================>....] - ETA: 0s - loss: 0.0293"
     ]
    },
    {
     "name": "stdout",
     "output_type": "stream",
     "text": [
      "\b\b\b\b\b\b\b\b\b\b\b\b\b\b\b\b\b\b\b\b\b\b\b\b\b\b\b\b\b\b\b\b\b\b\b\b\b\b\b\b\b\b\b\b\b\b\b\b\b\b\b\b\b\b\b\b\b\b\b\b\b\b\b\r40/40 [==============================] - 0s 2ms/step - loss: 0.0258\n"
     ]
    },
    {
     "name": "stdout",
     "output_type": "stream",
     "text": [
      "Epoch 24/50\n"
     ]
    },
    {
     "name": "stdout",
     "output_type": "stream",
     "text": [
      "\r 1/40 [..............................] - ETA: 0s - loss: 0.0024"
     ]
    },
    {
     "name": "stdout",
     "output_type": "stream",
     "text": [
      "\b\b\b\b\b\b\b\b\b\b\b\b\b\b\b\b\b\b\b\b\b\b\b\b\b\b\b\b\b\b\b\b\b\b\b\b\b\b\b\b\b\b\b\b\b\b\b\b\b\b\b\b\b\b\b\b\b\b\b\b\b\b\b\r40/40 [==============================] - 0s 1ms/step - loss: 0.0259\n"
     ]
    },
    {
     "name": "stdout",
     "output_type": "stream",
     "text": [
      "Epoch 25/50\n"
     ]
    },
    {
     "name": "stdout",
     "output_type": "stream",
     "text": [
      "\r 1/40 [..............................] - ETA: 0s - loss: 3.6002e-04"
     ]
    },
    {
     "name": "stdout",
     "output_type": "stream",
     "text": [
      "\b\b\b\b\b\b\b\b\b\b\b\b\b\b\b\b\b\b\b\b\b\b\b\b\b\b\b\b\b\b\b\b\b\b\b\b\b\b\b\b\b\b\b\b\b\b\b\b\b\b\b\b\b\b\b\b\b\b\b\b\b\b\b\b\b\b\b\r40/40 [==============================] - 0s 1ms/step - loss: 0.0259\n"
     ]
    },
    {
     "name": "stdout",
     "output_type": "stream",
     "text": [
      "Epoch 26/50\n"
     ]
    },
    {
     "name": "stdout",
     "output_type": "stream",
     "text": [
      "\r 1/40 [..............................] - ETA: 0s - loss: 0.0022"
     ]
    },
    {
     "name": "stdout",
     "output_type": "stream",
     "text": [
      "\b\b\b\b\b\b\b\b\b\b\b\b\b\b\b\b\b\b\b\b\b\b\b\b\b\b\b\b\b\b\b\b\b\b\b\b\b\b\b\b\b\b\b\b\b\b\b\b\b\b\b\b\b\b\b\b\b\b\b\b\b\b\b\r40/40 [==============================] - 0s 1ms/step - loss: 0.0258\n"
     ]
    },
    {
     "name": "stdout",
     "output_type": "stream",
     "text": [
      "Epoch 27/50\n"
     ]
    },
    {
     "name": "stdout",
     "output_type": "stream",
     "text": [
      "\r 1/40 [..............................] - ETA: 0s - loss: 1.9589e-04"
     ]
    },
    {
     "name": "stdout",
     "output_type": "stream",
     "text": [
      "\b\b\b\b\b\b\b\b\b\b\b\b\b\b\b\b\b\b\b\b\b\b\b\b\b\b\b\b\b\b\b\b\b\b\b\b\b\b\b\b\b\b\b\b\b\b\b\b\b\b\b\b\b\b\b\b\b\b\b\b\b\b\b\b\b\b\b\r40/40 [==============================] - 0s 1ms/step - loss: 0.0258\n"
     ]
    },
    {
     "name": "stdout",
     "output_type": "stream",
     "text": [
      "Epoch 28/50\n"
     ]
    },
    {
     "name": "stdout",
     "output_type": "stream",
     "text": [
      "\r 1/40 [..............................] - ETA: 0s - loss: 0.0137"
     ]
    },
    {
     "name": "stdout",
     "output_type": "stream",
     "text": [
      "\b\b\b\b\b\b\b\b\b\b\b\b\b\b\b\b\b\b\b\b\b\b\b\b\b\b\b\b\b\b\b\b\b\b\b\b\b\b\b\b\b\b\b\b\b\b\b\b\b\b\b\b\b\b\b\b\b\b\b\b\b\b\b\r40/40 [==============================] - 0s 1ms/step - loss: 0.0258\n"
     ]
    },
    {
     "name": "stdout",
     "output_type": "stream",
     "text": [
      "Epoch 29/50\n"
     ]
    },
    {
     "name": "stdout",
     "output_type": "stream",
     "text": [
      "\r 1/40 [..............................] - ETA: 0s - loss: 0.0035"
     ]
    },
    {
     "name": "stdout",
     "output_type": "stream",
     "text": [
      "\b\b\b\b\b\b\b\b\b\b\b\b\b\b\b\b\b\b\b\b\b\b\b\b\b\b\b\b\b\b\b\b\b\b\b\b\b\b\b\b\b\b\b\b\b\b\b\b\b\b\b\b\b\b\b\b\b\b\b\b\b\b\b\r40/40 [==============================] - 0s 1ms/step - loss: 0.0258\n"
     ]
    },
    {
     "name": "stdout",
     "output_type": "stream",
     "text": [
      "Epoch 30/50\n"
     ]
    },
    {
     "name": "stdout",
     "output_type": "stream",
     "text": [
      "\r 1/40 [..............................] - ETA: 0s - loss: 0.0025"
     ]
    },
    {
     "name": "stdout",
     "output_type": "stream",
     "text": [
      "\b\b\b\b\b\b\b\b\b\b\b\b\b\b\b\b\b\b\b\b\b\b\b\b\b\b\b\b\b\b\b\b\b\b\b\b\b\b\b\b\b\b\b\b\b\b\b\b\b\b\b\b\b\b\b\b\b\b\b\b\b\b\b\r40/40 [==============================] - 0s 1ms/step - loss: 0.0258\n"
     ]
    },
    {
     "name": "stdout",
     "output_type": "stream",
     "text": [
      "Epoch 31/50\n"
     ]
    },
    {
     "name": "stdout",
     "output_type": "stream",
     "text": [
      "\r 1/40 [..............................] - ETA: 0s - loss: 0.0021"
     ]
    },
    {
     "name": "stdout",
     "output_type": "stream",
     "text": [
      "\b\b\b\b\b\b\b\b\b\b\b\b\b\b\b\b\b\b\b\b\b\b\b\b\b\b\b\b\b\b\b\b\b\b\b\b\b\b\b\b\b\b\b\b\b\b\b\b\b\b\b\b\b\b\b\b\b\b\b\b\b\b\b\r40/40 [==============================] - 0s 1ms/step - loss: 0.0258\n"
     ]
    },
    {
     "name": "stdout",
     "output_type": "stream",
     "text": [
      "Epoch 32/50\n"
     ]
    },
    {
     "name": "stdout",
     "output_type": "stream",
     "text": [
      "\r 1/40 [..............................] - ETA: 0s - loss: 0.0061"
     ]
    },
    {
     "name": "stdout",
     "output_type": "stream",
     "text": [
      "\b\b\b\b\b\b\b\b\b\b\b\b\b\b\b\b\b\b\b\b\b\b\b\b\b\b\b\b\b\b\b\b\b\b\b\b\b\b\b\b\b\b\b\b\b\b\b\b\b\b\b\b\b\b\b\b\b\b\b\b\b\b\b\r40/40 [==============================] - 0s 1ms/step - loss: 0.0258\n"
     ]
    },
    {
     "name": "stdout",
     "output_type": "stream",
     "text": [
      "Epoch 33/50\n"
     ]
    },
    {
     "name": "stdout",
     "output_type": "stream",
     "text": [
      "\r 1/40 [..............................] - ETA: 0s - loss: 0.0026"
     ]
    },
    {
     "name": "stdout",
     "output_type": "stream",
     "text": [
      "\b\b\b\b\b\b\b\b\b\b\b\b\b\b\b\b\b\b\b\b\b\b\b\b\b\b\b\b\b\b\b\b\b\b\b\b\b\b\b\b\b\b\b\b\b\b\b\b\b\b\b\b\b\b\b\b\b\b\b\b\b\b\b\r40/40 [==============================] - 0s 1ms/step - loss: 0.0258\n"
     ]
    },
    {
     "name": "stdout",
     "output_type": "stream",
     "text": [
      "Epoch 34/50\n"
     ]
    },
    {
     "name": "stdout",
     "output_type": "stream",
     "text": [
      "\r 1/40 [..............................] - ETA: 0s - loss: 0.0021"
     ]
    },
    {
     "name": "stdout",
     "output_type": "stream",
     "text": [
      "\b\b\b\b\b\b\b\b\b\b\b\b\b\b\b\b\b\b\b\b\b\b\b\b\b\b\b\b\b\b\b\b\b\b\b\b\b\b\b\b\b\b\b\b\b\b\b\b\b\b\b\b\b\b\b\b\b\b\b\b\b\b\b\r40/40 [==============================] - 0s 1ms/step - loss: 0.0256\n"
     ]
    },
    {
     "name": "stdout",
     "output_type": "stream",
     "text": [
      "Epoch 35/50\n"
     ]
    },
    {
     "name": "stdout",
     "output_type": "stream",
     "text": [
      "\r 1/40 [..............................] - ETA: 0s - loss: 0.0021"
     ]
    },
    {
     "name": "stdout",
     "output_type": "stream",
     "text": [
      "\b\b\b\b\b\b\b\b\b\b\b\b\b\b\b\b\b\b\b\b\b\b\b\b\b\b\b\b\b\b\b\b\b\b\b\b\b\b\b\b\b\b\b\b\b\b\b\b\b\b\b\b\b\b\b\b\b\b\b\b\b\b\b\r40/40 [==============================] - 0s 1ms/step - loss: 0.0257\n"
     ]
    },
    {
     "name": "stdout",
     "output_type": "stream",
     "text": [
      "Epoch 36/50\n"
     ]
    },
    {
     "name": "stdout",
     "output_type": "stream",
     "text": [
      "\r 1/40 [..............................] - ETA: 0s - loss: 0.0022"
     ]
    },
    {
     "name": "stdout",
     "output_type": "stream",
     "text": [
      "\b\b\b\b\b\b\b\b\b\b\b\b\b\b\b\b\b\b\b\b\b\b\b\b\b\b\b\b\b\b\b\b\b\b\b\b\b\b\b\b\b\b\b\b\b\b\b\b\b\b\b\b\b\b\b\b\b\b\b\b\b\b\b\r40/40 [==============================] - 0s 1ms/step - loss: 0.0257\n"
     ]
    },
    {
     "name": "stdout",
     "output_type": "stream",
     "text": [
      "Epoch 37/50\n"
     ]
    },
    {
     "name": "stdout",
     "output_type": "stream",
     "text": [
      "\r 1/40 [..............................] - ETA: 0s - loss: 0.0022"
     ]
    },
    {
     "name": "stdout",
     "output_type": "stream",
     "text": [
      "\b\b\b\b\b\b\b\b\b\b\b\b\b\b\b\b\b\b\b\b\b\b\b\b\b\b\b\b\b\b\b\b\b\b\b\b\b\b\b\b\b\b\b\b\b\b\b\b\b\b\b\b\b\b\b\b\b\b\b\b\b\b\b\r40/40 [==============================] - 0s 1ms/step - loss: 0.0257\n"
     ]
    },
    {
     "name": "stdout",
     "output_type": "stream",
     "text": [
      "Epoch 38/50\n"
     ]
    },
    {
     "name": "stdout",
     "output_type": "stream",
     "text": [
      "\r 1/40 [..............................] - ETA: 0s - loss: 0.0189"
     ]
    },
    {
     "name": "stdout",
     "output_type": "stream",
     "text": [
      "\b\b\b\b\b\b\b\b\b\b\b\b\b\b\b\b\b\b\b\b\b\b\b\b\b\b\b\b\b\b\b\b\b\b\b\b\b\b\b\b\b\b\b\b\b\b\b\b\b\b\b\b\b\b\b\b\b\b\b\b\b\b\b\r40/40 [==============================] - 0s 1ms/step - loss: 0.0257\n"
     ]
    },
    {
     "name": "stdout",
     "output_type": "stream",
     "text": [
      "Epoch 39/50\n"
     ]
    },
    {
     "name": "stdout",
     "output_type": "stream",
     "text": [
      "\r 1/40 [..............................] - ETA: 0s - loss: 0.0038"
     ]
    },
    {
     "name": "stdout",
     "output_type": "stream",
     "text": [
      "\b\b\b\b\b\b\b\b\b\b\b\b\b\b\b\b\b\b\b\b\b\b\b\b\b\b\b\b\b\b\b\b\b\b\b\b\b\b\b\b\b\b\b\b\b\b\b\b\b\b\b\b\b\b\b\b\b\b\b\b\b\b\b\r40/40 [==============================] - ETA: 0s - loss: 0.0257"
     ]
    },
    {
     "name": "stdout",
     "output_type": "stream",
     "text": [
      "\b\b\b\b\b\b\b\b\b\b\b\b\b\b\b\b\b\b\b\b\b\b\b\b\b\b\b\b\b\b\b\b\b\b\b\b\b\b\b\b\b\b\b\b\b\b\b\b\b\b\b\b\b\b\b\b\b\b\b\b\b\b\b\r40/40 [==============================] - 0s 1ms/step - loss: 0.0257\n"
     ]
    },
    {
     "name": "stdout",
     "output_type": "stream",
     "text": [
      "Epoch 40/50\n"
     ]
    },
    {
     "name": "stdout",
     "output_type": "stream",
     "text": [
      "\r 1/40 [..............................] - ETA: 0s - loss: 0.0032"
     ]
    },
    {
     "name": "stdout",
     "output_type": "stream",
     "text": [
      "\b\b\b\b\b\b\b\b\b\b\b\b\b\b\b\b\b\b\b\b\b\b\b\b\b\b\b\b\b\b\b\b\b\b\b\b\b\b\b\b\b\b\b\b\b\b\b\b\b\b\b\b\b\b\b\b\b\b\b\b\b\b\b\r40/40 [==============================] - 0s 1ms/step - loss: 0.0256\n"
     ]
    },
    {
     "name": "stdout",
     "output_type": "stream",
     "text": [
      "Epoch 41/50\n"
     ]
    },
    {
     "name": "stdout",
     "output_type": "stream",
     "text": [
      "\r 1/40 [..............................] - ETA: 0s - loss: 0.0013"
     ]
    },
    {
     "name": "stdout",
     "output_type": "stream",
     "text": [
      "\b\b\b\b\b\b\b\b\b\b\b\b\b\b\b\b\b\b\b\b\b\b\b\b\b\b\b\b\b\b\b\b\b\b\b\b\b\b\b\b\b\b\b\b\b\b\b\b\b\b\b\b\b\b\b\b\b\b\b\b\b\b\b\r40/40 [==============================] - 0s 1ms/step - loss: 0.0257\n"
     ]
    },
    {
     "name": "stdout",
     "output_type": "stream",
     "text": [
      "Epoch 42/50\n"
     ]
    },
    {
     "name": "stdout",
     "output_type": "stream",
     "text": [
      "\r 1/40 [..............................] - ETA: 0s - loss: 0.0014"
     ]
    },
    {
     "name": "stdout",
     "output_type": "stream",
     "text": [
      "\b\b\b\b\b\b\b\b\b\b\b\b\b\b\b\b\b\b\b\b\b\b\b\b\b\b\b\b\b\b\b\b\b\b\b\b\b\b\b\b\b\b\b\b\b\b\b\b\b\b\b\b\b\b\b\b\b\b\b\b\b\b\b\r40/40 [==============================] - 0s 1ms/step - loss: 0.0257\n"
     ]
    },
    {
     "name": "stdout",
     "output_type": "stream",
     "text": [
      "Epoch 43/50\n"
     ]
    },
    {
     "name": "stdout",
     "output_type": "stream",
     "text": [
      "\r 1/40 [..............................] - ETA: 0s - loss: 0.0017"
     ]
    },
    {
     "name": "stdout",
     "output_type": "stream",
     "text": [
      "\b\b\b\b\b\b\b\b\b\b\b\b\b\b\b\b\b\b\b\b\b\b\b\b\b\b\b\b\b\b\b\b\b\b\b\b\b\b\b\b\b\b\b\b\b\b\b\b\b\b\b\b\b\b\b\b\b\b\b\b\b\b\b\r40/40 [==============================] - 0s 1ms/step - loss: 0.0257\n"
     ]
    },
    {
     "name": "stdout",
     "output_type": "stream",
     "text": [
      "Epoch 44/50\n"
     ]
    },
    {
     "name": "stdout",
     "output_type": "stream",
     "text": [
      "\r 1/40 [..............................] - ETA: 0s - loss: 7.9517e-05"
     ]
    },
    {
     "name": "stdout",
     "output_type": "stream",
     "text": [
      "\b\b\b\b\b\b\b\b\b\b\b\b\b\b\b\b\b\b\b\b\b\b\b\b\b\b\b\b\b\b\b\b\b\b\b\b\b\b\b\b\b\b\b\b\b\b\b\b\b\b\b\b\b\b\b\b\b\b\b\b\b\b\b\b\b\b\b\r40/40 [==============================] - 0s 1ms/step - loss: 0.0256\n"
     ]
    },
    {
     "name": "stdout",
     "output_type": "stream",
     "text": [
      "Epoch 45/50\n"
     ]
    },
    {
     "name": "stdout",
     "output_type": "stream",
     "text": [
      "\r 1/40 [..............................] - ETA: 0s - loss: 0.0029"
     ]
    },
    {
     "name": "stdout",
     "output_type": "stream",
     "text": [
      "\b\b\b\b\b\b\b\b\b\b\b\b\b\b\b\b\b\b\b\b\b\b\b\b\b\b\b\b\b\b\b\b\b\b\b\b\b\b\b\b\b\b\b\b\b\b\b\b\b\b\b\b\b\b\b\b\b\b\b\b\b\b\b\r40/40 [==============================] - 0s 1ms/step - loss: 0.0256\n"
     ]
    },
    {
     "name": "stdout",
     "output_type": "stream",
     "text": [
      "Epoch 46/50\n"
     ]
    },
    {
     "name": "stdout",
     "output_type": "stream",
     "text": [
      "\r 1/40 [..............................] - ETA: 0s - loss: 9.5772e-04"
     ]
    },
    {
     "name": "stdout",
     "output_type": "stream",
     "text": [
      "\b\b\b\b\b\b\b\b\b\b\b\b\b\b\b\b\b\b\b\b\b\b\b\b\b\b\b\b\b\b\b\b\b\b\b\b\b\b\b\b\b\b\b\b\b\b\b\b\b\b\b\b\b\b\b\b\b\b\b\b\b\b\b\b\b\b\b\r40/40 [==============================] - 0s 1ms/step - loss: 0.0256\n"
     ]
    },
    {
     "name": "stdout",
     "output_type": "stream",
     "text": [
      "Epoch 47/50\n"
     ]
    },
    {
     "name": "stdout",
     "output_type": "stream",
     "text": [
      "\r 1/40 [..............................] - ETA: 0s - loss: 0.0025"
     ]
    },
    {
     "name": "stdout",
     "output_type": "stream",
     "text": [
      "\b\b\b\b\b\b\b\b\b\b\b\b\b\b\b\b\b\b\b\b\b\b\b\b\b\b\b\b\b\b\b\b\b\b\b\b\b\b\b\b\b\b\b\b\b\b\b\b\b\b\b\b\b\b\b\b\b\b\b\b\b\b\b\r40/40 [==============================] - 0s 1ms/step - loss: 0.0257\n"
     ]
    },
    {
     "name": "stdout",
     "output_type": "stream",
     "text": [
      "Epoch 48/50\n"
     ]
    },
    {
     "name": "stdout",
     "output_type": "stream",
     "text": [
      "\r 1/40 [..............................] - ETA: 0s - loss: 3.4793e-05"
     ]
    },
    {
     "name": "stdout",
     "output_type": "stream",
     "text": [
      "\b\b\b\b\b\b\b\b\b\b\b\b\b\b\b\b\b\b\b\b\b\b\b\b\b\b\b\b\b\b\b\b\b\b\b\b\b\b\b\b\b\b\b\b\b\b\b\b\b\b\b\b\b\b\b\b\b\b\b\b\b\b\b\b\b\b\b\r40/40 [==============================] - 0s 985us/step - loss: 0.0257\n"
     ]
    },
    {
     "name": "stdout",
     "output_type": "stream",
     "text": [
      "Epoch 49/50\n"
     ]
    },
    {
     "name": "stdout",
     "output_type": "stream",
     "text": [
      "\r 1/40 [..............................] - ETA: 0s - loss: 0.0020"
     ]
    },
    {
     "name": "stdout",
     "output_type": "stream",
     "text": [
      "\b\b\b\b\b\b\b\b\b\b\b\b\b\b\b\b\b\b\b\b\b\b\b\b\b\b\b\b\b\b\b\b\b\b\b\b\b\b\b\b\b\b\b\b\b\b\b\b\b\b\b\b\b\b\b\b\b\b\b\b\b\b\b\r40/40 [==============================] - 0s 1ms/step - loss: 0.0256\n"
     ]
    },
    {
     "name": "stdout",
     "output_type": "stream",
     "text": [
      "Epoch 50/50\n"
     ]
    },
    {
     "name": "stdout",
     "output_type": "stream",
     "text": [
      "\r 1/40 [..............................] - ETA: 0s - loss: 0.0017"
     ]
    },
    {
     "name": "stdout",
     "output_type": "stream",
     "text": [
      "\b\b\b\b\b\b\b\b\b\b\b\b\b\b\b\b\b\b\b\b\b\b\b\b\b\b\b\b\b\b\b\b\b\b\b\b\b\b\b\b\b\b\b\b\b\b\b\b\b\b\b\b\b\b\b\b\b\b\b\b\b\b\b\r40/40 [==============================] - 0s 1ms/step - loss: 0.0256\n"
     ]
    },
    {
     "data": {
      "text/plain": [
       "<keras.callbacks.History at 0x7fe04c4aef10>"
      ]
     },
     "execution_count": 37,
     "metadata": {
     },
     "output_type": "execute_result"
    }
   ],
   "source": [
    "model.fit(train_in, train_out, batch_size=1, epochs=50)"
   ]
  },
  {
   "cell_type": "markdown",
   "metadata": {
    "collapsed": false
   },
   "source": [
    "### Evaluate\n",
    "\n"
   ]
  },
  {
   "cell_type": "code",
   "execution_count": 10,
   "metadata": {
    "collapsed": false
   },
   "outputs": [
    {
     "name": "stdout",
     "output_type": "stream",
     "text": [
      "\r1/6 [====>.........................] - ETA: 0s"
     ]
    },
    {
     "name": "stdout",
     "output_type": "stream",
     "text": [
      "\b\b\b\b\b\b\b\b\b\b\b\b\b\b\b\b\b\b\b\b\b\b\b\b\b\b\b\b\b\b\b\b\b\b\b\b\b\b\b\b\b\b\b\b\b\b\r6/6 [==============================] - 0s 4ms/step\n"
     ]
    },
    {
     "name": "stdout",
     "output_type": "stream",
     "text": [
      "0.0006165457\n",
      "0.9842658562293894\n"
     ]
    }
   ],
   "source": [
    "test_pred = model.predict(test_in).flatten()\n",
    "\n",
    "\n",
    "from sklearn.metrics import mean_squared_error, r2_score\n",
    "print(mean_squared_error(test_out, test_pred))\n",
    "print(r2_score(test_out, test_pred))"
   ]
  },
  {
   "cell_type": "code",
   "execution_count": 11,
   "metadata": {
    "collapsed": false
   },
   "outputs": [
    {
     "data": {
      "text/plain": [
       "0.9729667999322179"
      ]
     },
     "execution_count": 11,
     "metadata": {
     },
     "output_type": "execute_result"
    }
   ],
   "source": [
    "0.00082772877\n",
    "0.9729667999322179"
   ]
  },
  {
   "cell_type": "code",
   "execution_count": 39,
   "metadata": {
    "collapsed": false
   },
   "outputs": [
    {
     "name": "stdout",
     "output_type": "stream",
     "text": [
      "\r1/2 [==============>...............] - ETA: 0s"
     ]
    },
    {
     "name": "stdout",
     "output_type": "stream",
     "text": [
      "\b\b\b\b\b\b\b\b\b\b\b\b\b\b\b\b\b\b\b\b\b\b\b\b\b\b\b\b\b\b\b\b\b\b\b\b\b\b\b\b\b\b\b\b\b\b\r2/2 [==============================] - 0s 5ms/step\n"
     ]
    },
    {
     "data": {
      "text/html": "<html>\n<head><meta charset=\"utf-8\" /></head>\n<body>\n    <div>            <script src=\"https://cdnjs.cloudflare.com/ajax/libs/mathjax/2.7.5/MathJax.js?config=TeX-AMS-MML_SVG\"></script><script type=\"text/javascript\">if (window.MathJax) {MathJax.Hub.Config({SVG: {font: \"STIX-Web\"}});}</script>                <script type=\"text/javascript\">window.PlotlyConfig = {MathJaxConfig: 'local'};</script>\n        <script src=\"https://cdn.plot.ly/plotly-2.9.0.min.js\"></script>                <div id=\"2007f777-8971-4724-a275-f66c78bd847f\" class=\"plotly-graph-div\" style=\"height:525px; width:100%;\"></div>            <script type=\"text/javascript\">                                    window.PLOTLYENV=window.PLOTLYENV || {};                                    if (document.getElementById(\"2007f777-8971-4724-a275-f66c78bd847f\")) {                    Plotly.newPlot(                        \"2007f777-8971-4724-a275-f66c78bd847f\",                        [{\"hovertemplate\":\"x=%{x}<br>y=%{y}<extra></extra>\",\"legendgroup\":\"\",\"marker\":{\"color\":\"#636efa\",\"symbol\":\"circle\"},\"mode\":\"markers\",\"name\":\"\",\"orientation\":\"v\",\"showlegend\":false,\"x\":[0.01293343584984541,0.10590808838605881,0.18309292197227478,0.01390882395207882,0.019866228103637695,0.09349510073661804,0.007588822860270739,0.008260526694357395,0.25624319911003113,0.008240907453000546,0.2691360414028168,0.060103919357061386,0.1795058399438858,0.018086882308125496,0.00369859766215086,0.0061418237164616585,0.015000122599303722,0.007157554849982262,0.06486669927835464,0.0019401534227654338,0.008449946530163288,0.05817108228802681,0.008707711473107338,0.00021870476484764367,0.008475217036902905,0.005232366267591715,0.004486215300858021,0.008396250195801258,0.00038166946615092456,0.015533367171883583,0.017787549644708633,0.0007581071695312858,0.13684025406837463,0.9964231848716736,0.01386809628456831,0.05096210539340973,0.008541258051991463,0.025202617049217224,0.004797500092536211,0.006790631916373968],\"xaxis\":\"x\",\"y\":[0.056091099977493286,0.083926722407341,0.056091099977493286,0.0672718733549118,0.056091099977493286,0.1004382073879242,0.056091099977493286,0.056091099977493286,0.18871565163135529,0.056091099977493286,0.13989397883415222,0.056091099977493286,0.056091099977493286,0.056091099977493286,0.056091099977493286,0.056091099977493286,0.056091099977493286,0.056091099977493286,0.056091099977493286,0.056091099977493286,0.056091099977493286,0.056091099977493286,0.056091099977493286,0.056091099977493286,0.056091099977493286,0.056091099977493286,0.056091099977493286,0.056091099977493286,0.056091099977493286,0.056091099977493286,0.056091099977493286,0.056091099977493286,0.12214230000972748,0.056091099977493286,0.056091099977493286,0.0690905898809433,0.056091099977493286,0.060913488268852234,0.056091099977493286,0.07527667284011841],\"yaxis\":\"y\",\"type\":\"scatter\"}],                        {\"template\":{\"data\":{\"bar\":[{\"error_x\":{\"color\":\"#2a3f5f\"},\"error_y\":{\"color\":\"#2a3f5f\"},\"marker\":{\"line\":{\"color\":\"#E5ECF6\",\"width\":0.5},\"pattern\":{\"fillmode\":\"overlay\",\"size\":10,\"solidity\":0.2}},\"type\":\"bar\"}],\"barpolar\":[{\"marker\":{\"line\":{\"color\":\"#E5ECF6\",\"width\":0.5},\"pattern\":{\"fillmode\":\"overlay\",\"size\":10,\"solidity\":0.2}},\"type\":\"barpolar\"}],\"carpet\":[{\"aaxis\":{\"endlinecolor\":\"#2a3f5f\",\"gridcolor\":\"white\",\"linecolor\":\"white\",\"minorgridcolor\":\"white\",\"startlinecolor\":\"#2a3f5f\"},\"baxis\":{\"endlinecolor\":\"#2a3f5f\",\"gridcolor\":\"white\",\"linecolor\":\"white\",\"minorgridcolor\":\"white\",\"startlinecolor\":\"#2a3f5f\"},\"type\":\"carpet\"}],\"choropleth\":[{\"colorbar\":{\"outlinewidth\":0,\"ticks\":\"\"},\"type\":\"choropleth\"}],\"contour\":[{\"colorbar\":{\"outlinewidth\":0,\"ticks\":\"\"},\"colorscale\":[[0.0,\"#0d0887\"],[0.1111111111111111,\"#46039f\"],[0.2222222222222222,\"#7201a8\"],[0.3333333333333333,\"#9c179e\"],[0.4444444444444444,\"#bd3786\"],[0.5555555555555556,\"#d8576b\"],[0.6666666666666666,\"#ed7953\"],[0.7777777777777778,\"#fb9f3a\"],[0.8888888888888888,\"#fdca26\"],[1.0,\"#f0f921\"]],\"type\":\"contour\"}],\"contourcarpet\":[{\"colorbar\":{\"outlinewidth\":0,\"ticks\":\"\"},\"type\":\"contourcarpet\"}],\"heatmap\":[{\"colorbar\":{\"outlinewidth\":0,\"ticks\":\"\"},\"colorscale\":[[0.0,\"#0d0887\"],[0.1111111111111111,\"#46039f\"],[0.2222222222222222,\"#7201a8\"],[0.3333333333333333,\"#9c179e\"],[0.4444444444444444,\"#bd3786\"],[0.5555555555555556,\"#d8576b\"],[0.6666666666666666,\"#ed7953\"],[0.7777777777777778,\"#fb9f3a\"],[0.8888888888888888,\"#fdca26\"],[1.0,\"#f0f921\"]],\"type\":\"heatmap\"}],\"heatmapgl\":[{\"colorbar\":{\"outlinewidth\":0,\"ticks\":\"\"},\"colorscale\":[[0.0,\"#0d0887\"],[0.1111111111111111,\"#46039f\"],[0.2222222222222222,\"#7201a8\"],[0.3333333333333333,\"#9c179e\"],[0.4444444444444444,\"#bd3786\"],[0.5555555555555556,\"#d8576b\"],[0.6666666666666666,\"#ed7953\"],[0.7777777777777778,\"#fb9f3a\"],[0.8888888888888888,\"#fdca26\"],[1.0,\"#f0f921\"]],\"type\":\"heatmapgl\"}],\"histogram\":[{\"marker\":{\"pattern\":{\"fillmode\":\"overlay\",\"size\":10,\"solidity\":0.2}},\"type\":\"histogram\"}],\"histogram2d\":[{\"colorbar\":{\"outlinewidth\":0,\"ticks\":\"\"},\"colorscale\":[[0.0,\"#0d0887\"],[0.1111111111111111,\"#46039f\"],[0.2222222222222222,\"#7201a8\"],[0.3333333333333333,\"#9c179e\"],[0.4444444444444444,\"#bd3786\"],[0.5555555555555556,\"#d8576b\"],[0.6666666666666666,\"#ed7953\"],[0.7777777777777778,\"#fb9f3a\"],[0.8888888888888888,\"#fdca26\"],[1.0,\"#f0f921\"]],\"type\":\"histogram2d\"}],\"histogram2dcontour\":[{\"colorbar\":{\"outlinewidth\":0,\"ticks\":\"\"},\"colorscale\":[[0.0,\"#0d0887\"],[0.1111111111111111,\"#46039f\"],[0.2222222222222222,\"#7201a8\"],[0.3333333333333333,\"#9c179e\"],[0.4444444444444444,\"#bd3786\"],[0.5555555555555556,\"#d8576b\"],[0.6666666666666666,\"#ed7953\"],[0.7777777777777778,\"#fb9f3a\"],[0.8888888888888888,\"#fdca26\"],[1.0,\"#f0f921\"]],\"type\":\"histogram2dcontour\"}],\"mesh3d\":[{\"colorbar\":{\"outlinewidth\":0,\"ticks\":\"\"},\"type\":\"mesh3d\"}],\"parcoords\":[{\"line\":{\"colorbar\":{\"outlinewidth\":0,\"ticks\":\"\"}},\"type\":\"parcoords\"}],\"pie\":[{\"automargin\":true,\"type\":\"pie\"}],\"scatter\":[{\"marker\":{\"colorbar\":{\"outlinewidth\":0,\"ticks\":\"\"}},\"type\":\"scatter\"}],\"scatter3d\":[{\"line\":{\"colorbar\":{\"outlinewidth\":0,\"ticks\":\"\"}},\"marker\":{\"colorbar\":{\"outlinewidth\":0,\"ticks\":\"\"}},\"type\":\"scatter3d\"}],\"scattercarpet\":[{\"marker\":{\"colorbar\":{\"outlinewidth\":0,\"ticks\":\"\"}},\"type\":\"scattercarpet\"}],\"scattergeo\":[{\"marker\":{\"colorbar\":{\"outlinewidth\":0,\"ticks\":\"\"}},\"type\":\"scattergeo\"}],\"scattergl\":[{\"marker\":{\"colorbar\":{\"outlinewidth\":0,\"ticks\":\"\"}},\"type\":\"scattergl\"}],\"scattermapbox\":[{\"marker\":{\"colorbar\":{\"outlinewidth\":0,\"ticks\":\"\"}},\"type\":\"scattermapbox\"}],\"scatterpolar\":[{\"marker\":{\"colorbar\":{\"outlinewidth\":0,\"ticks\":\"\"}},\"type\":\"scatterpolar\"}],\"scatterpolargl\":[{\"marker\":{\"colorbar\":{\"outlinewidth\":0,\"ticks\":\"\"}},\"type\":\"scatterpolargl\"}],\"scatterternary\":[{\"marker\":{\"colorbar\":{\"outlinewidth\":0,\"ticks\":\"\"}},\"type\":\"scatterternary\"}],\"surface\":[{\"colorbar\":{\"outlinewidth\":0,\"ticks\":\"\"},\"colorscale\":[[0.0,\"#0d0887\"],[0.1111111111111111,\"#46039f\"],[0.2222222222222222,\"#7201a8\"],[0.3333333333333333,\"#9c179e\"],[0.4444444444444444,\"#bd3786\"],[0.5555555555555556,\"#d8576b\"],[0.6666666666666666,\"#ed7953\"],[0.7777777777777778,\"#fb9f3a\"],[0.8888888888888888,\"#fdca26\"],[1.0,\"#f0f921\"]],\"type\":\"surface\"}],\"table\":[{\"cells\":{\"fill\":{\"color\":\"#EBF0F8\"},\"line\":{\"color\":\"white\"}},\"header\":{\"fill\":{\"color\":\"#C8D4E3\"},\"line\":{\"color\":\"white\"}},\"type\":\"table\"}]},\"layout\":{\"annotationdefaults\":{\"arrowcolor\":\"#2a3f5f\",\"arrowhead\":0,\"arrowwidth\":1},\"autotypenumbers\":\"strict\",\"coloraxis\":{\"colorbar\":{\"outlinewidth\":0,\"ticks\":\"\"}},\"colorscale\":{\"diverging\":[[0,\"#8e0152\"],[0.1,\"#c51b7d\"],[0.2,\"#de77ae\"],[0.3,\"#f1b6da\"],[0.4,\"#fde0ef\"],[0.5,\"#f7f7f7\"],[0.6,\"#e6f5d0\"],[0.7,\"#b8e186\"],[0.8,\"#7fbc41\"],[0.9,\"#4d9221\"],[1,\"#276419\"]],\"sequential\":[[0.0,\"#0d0887\"],[0.1111111111111111,\"#46039f\"],[0.2222222222222222,\"#7201a8\"],[0.3333333333333333,\"#9c179e\"],[0.4444444444444444,\"#bd3786\"],[0.5555555555555556,\"#d8576b\"],[0.6666666666666666,\"#ed7953\"],[0.7777777777777778,\"#fb9f3a\"],[0.8888888888888888,\"#fdca26\"],[1.0,\"#f0f921\"]],\"sequentialminus\":[[0.0,\"#0d0887\"],[0.1111111111111111,\"#46039f\"],[0.2222222222222222,\"#7201a8\"],[0.3333333333333333,\"#9c179e\"],[0.4444444444444444,\"#bd3786\"],[0.5555555555555556,\"#d8576b\"],[0.6666666666666666,\"#ed7953\"],[0.7777777777777778,\"#fb9f3a\"],[0.8888888888888888,\"#fdca26\"],[1.0,\"#f0f921\"]]},\"colorway\":[\"#636efa\",\"#EF553B\",\"#00cc96\",\"#ab63fa\",\"#FFA15A\",\"#19d3f3\",\"#FF6692\",\"#B6E880\",\"#FF97FF\",\"#FECB52\"],\"font\":{\"color\":\"#2a3f5f\"},\"geo\":{\"bgcolor\":\"white\",\"lakecolor\":\"white\",\"landcolor\":\"#E5ECF6\",\"showlakes\":true,\"showland\":true,\"subunitcolor\":\"white\"},\"hoverlabel\":{\"align\":\"left\"},\"hovermode\":\"closest\",\"mapbox\":{\"style\":\"light\"},\"paper_bgcolor\":\"white\",\"plot_bgcolor\":\"#E5ECF6\",\"polar\":{\"angularaxis\":{\"gridcolor\":\"white\",\"linecolor\":\"white\",\"ticks\":\"\"},\"bgcolor\":\"#E5ECF6\",\"radialaxis\":{\"gridcolor\":\"white\",\"linecolor\":\"white\",\"ticks\":\"\"}},\"scene\":{\"xaxis\":{\"backgroundcolor\":\"#E5ECF6\",\"gridcolor\":\"white\",\"gridwidth\":2,\"linecolor\":\"white\",\"showbackground\":true,\"ticks\":\"\",\"zerolinecolor\":\"white\"},\"yaxis\":{\"backgroundcolor\":\"#E5ECF6\",\"gridcolor\":\"white\",\"gridwidth\":2,\"linecolor\":\"white\",\"showbackground\":true,\"ticks\":\"\",\"zerolinecolor\":\"white\"},\"zaxis\":{\"backgroundcolor\":\"#E5ECF6\",\"gridcolor\":\"white\",\"gridwidth\":2,\"linecolor\":\"white\",\"showbackground\":true,\"ticks\":\"\",\"zerolinecolor\":\"white\"}},\"shapedefaults\":{\"line\":{\"color\":\"#2a3f5f\"}},\"ternary\":{\"aaxis\":{\"gridcolor\":\"white\",\"linecolor\":\"white\",\"ticks\":\"\"},\"baxis\":{\"gridcolor\":\"white\",\"linecolor\":\"white\",\"ticks\":\"\"},\"bgcolor\":\"#E5ECF6\",\"caxis\":{\"gridcolor\":\"white\",\"linecolor\":\"white\",\"ticks\":\"\"}},\"title\":{\"x\":0.05},\"xaxis\":{\"automargin\":true,\"gridcolor\":\"white\",\"linecolor\":\"white\",\"ticks\":\"\",\"title\":{\"standoff\":15},\"zerolinecolor\":\"white\",\"zerolinewidth\":2},\"yaxis\":{\"automargin\":true,\"gridcolor\":\"white\",\"linecolor\":\"white\",\"ticks\":\"\",\"title\":{\"standoff\":15},\"zerolinecolor\":\"white\",\"zerolinewidth\":2}}},\"xaxis\":{\"anchor\":\"y\",\"domain\":[0.0,1.0],\"title\":{\"text\":\"x\"}},\"yaxis\":{\"anchor\":\"x\",\"domain\":[0.0,1.0],\"title\":{\"text\":\"y\"}},\"legend\":{\"tracegroupgap\":0},\"margin\":{\"t\":60}},                        {\"responsive\": true}                    ).then(function(){\n                            \nvar gd = document.getElementById('2007f777-8971-4724-a275-f66c78bd847f');\nvar x = new MutationObserver(function (mutations, observer) {{\n        var display = window.getComputedStyle(gd).display;\n        if (!display || display === 'none') {{\n            console.log([gd, 'removed!']);\n            Plotly.purge(gd);\n            observer.disconnect();\n        }}\n}});\n\n// Listen for the removal of the full notebook cells\nvar notebookContainer = gd.closest('#notebook-container');\nif (notebookContainer) {{\n    x.observe(notebookContainer, {childList: true});\n}}\n\n// Listen for the clearing of the current output cell\nvar outputEl = gd.closest('.output');\nif (outputEl) {{\n    x.observe(outputEl, {childList: true});\n}}\n\n                        })                };                            </script>        </div>\n</body>\n</html>"
     },
     "execution_count": 39,
     "metadata": {
     },
     "output_type": "execute_result"
    }
   ],
   "source": [
    "test_pred = model.predict(train_in).flatten()\n",
    "fig = px.scatter(x=train_out, y=test_pred)\n",
    "fig.show()"
   ]
  },
  {
   "cell_type": "code",
   "execution_count": 40,
   "metadata": {
    "collapsed": false
   },
   "outputs": [
    {
     "name": "stdout",
     "output_type": "stream",
     "text": [
      "\r 1/25 [>.............................] - ETA: 0s"
     ]
    },
    {
     "name": "stdout",
     "output_type": "stream",
     "text": [
      "\b\b\b\b\b\b\b\b\b\b\b\b\b\b\b\b\b\b\b\b\b\b\b\b\b\b\b\b\b\b\b\b\b\b\b\b\b\b\b\b\b\b\b\b\b\b\b\b\r25/25 [==============================] - 0s 2ms/step\n"
     ]
    },
    {
     "data": {
      "text/html": "<html>\n<head><meta charset=\"utf-8\" /></head>\n<body>\n    <div>            <script src=\"https://cdnjs.cloudflare.com/ajax/libs/mathjax/2.7.5/MathJax.js?config=TeX-AMS-MML_SVG\"></script><script type=\"text/javascript\">if (window.MathJax) {MathJax.Hub.Config({SVG: {font: \"STIX-Web\"}});}</script>                <script type=\"text/javascript\">window.PlotlyConfig = {MathJaxConfig: 'local'};</script>\n        <script src=\"https://cdn.plot.ly/plotly-2.9.0.min.js\"></script>                <div id=\"4096f3b0-36e1-4f33-91e8-364b20fa7ada\" class=\"plotly-graph-div\" style=\"height:525px; width:100%;\"></div>            <script type=\"text/javascript\">                                    window.PLOTLYENV=window.PLOTLYENV || {};                                    if (document.getElementById(\"4096f3b0-36e1-4f33-91e8-364b20fa7ada\")) {                    Plotly.newPlot(                        \"4096f3b0-36e1-4f33-91e8-364b20fa7ada\",                        [{\"hovertemplate\":\"x=%{x}<br>y=%{y}<extra></extra>\",\"legendgroup\":\"\",\"marker\":{\"color\":\"#636efa\",\"symbol\":\"circle\"},\"mode\":\"markers\",\"name\":\"\",\"orientation\":\"v\",\"showlegend\":false,\"x\":[0.0033761863596737385,0.05311591550707817,0.006621709559112787,0.01664571277797222,0.006991855800151825,0.017675461247563362,0.8699874877929688,0.006061097141355276,0.9507104754447937,0.00650347163900733,0.00044431534479372203,0.07392891496419907,0.03792624920606613,0.04958965256810188,0.008218415081501007,0.006094234064221382,0.05247972905635834,0.2830488681793213,0.05028562247753143,0.0065833572298288345,0.00732643436640501,0.04581509530544281,0.04342149198055267,0.04988701641559601,0.006672955118119717,0.008564891293644905,0.007783503271639347,0.0065845344215631485,0.06975852698087692,0.01798993907868862,0.11285829544067383,0.013565906323492527,0.006441532168537378,0.022677520290017128,0.04238767921924591,0.009906336665153503,0.005898287054151297,0.004380171652883291,0.0037188746500760317,0.05471440777182579,0.017287010326981544,0.014921762980520725,0.00609359098598361,0.010566432029008865,0.05275673791766167,0.18685686588287354,0.27641627192497253,0.08600456267595291,0.016906045377254486,0.0055962358601391315,0.006739010103046894,0.8552320599555969,0.007935795933008194,0.056264687329530716,0.13460524380207062,0.0052033946849405766,0.012834280729293823,0.06998136639595032,0.010101758874952793,0.008391053415834904,0.09789034724235535,0.0010015445295721292,5.426253846962936e-05,0.006573348306119442,0.01730126515030861,0.05219072848558426,0.05470622330904007,0.008527757599949837,0.0005749311530962586,0.07330730557441711,0.053371310234069824,0.05140598863363266,0.009050899185240269,0.18320856988430023,0.06505633890628815,0.005881079938262701,0.011155339889228344,0.0009329860913567245,0.007878342643380165,0.058386050164699554,0.017537349835038185,0.0508100725710392,0.01746802031993866,0.004946867935359478,0.0778617337346077,0.17510156333446503,0.012813914567232132,0.007961360737681389,0.007079572882503271,0.013493584468960762,0.05424833297729492,0.09069967269897461,0.0004992624162696302,0.029077447950839996,0.026865273714065552,0.008311121724545956,0.3366938531398773,0.000564544927328825,0.06874799728393555,0.004819811321794987,0.036721717566251755,0.016058852896094322,0.029022831469774246,0.01769101247191429,0.0082551259547472,0.009014303795993328,0.004506658762693405,0.0716126412153244,0.06438420712947845,0.09146739542484283,0.09361766278743744,0.25979167222976685,0.007333125453442335,0.008174115791916847,0.09384824335575104,0.11996191740036011,0.04123220965266228,0.008364898152649403,0.007615645881742239,0.000691033957991749,0.061728134751319885,0.009988665580749512,0.007835526019334793,0.883793830871582,0.09883495420217514,0.04116750881075859,0.025623053312301636,0.041493192315101624,0.005082001443952322,0.06736060231924057,0.025405626744031906,0.00039303352241404355,0.0009035317343659699,0.007288712542504072,0.007813222706317902,0.05905785784125328,0.005394988227635622,0.017288310453295708,0.15943317115306854,0.010082954540848732,0.005931075196713209,0.2489977329969406,0.0009211465367116034,0.005980614572763443,0.009776365011930466,0.09593429416418076,0.006411118898540735,0.005536099895834923,0.0056173973716795444,0.06854858994483948,0.2685978412628174,0.008548881858587265,0.00011263053602306172,0.17106688022613525,0.009225028567016125,0.06049088016152382,0.9954060316085815,0.025327833369374275,0.0017512025078758597,0.02457524463534355,0.0009774768259376287,0.09639300405979156,0.045947302132844925,0.05945313349366188,0.009323373436927795,0.2522391974925995,0.009249799884855747,0.09762883186340332,0.004743671044707298,0.00738942064344883,0.006975757889449596,0.04201589152216911,0.026301557198166847,0.028372885659337044,0.05788640305399895,0.06700582057237625,0.014719768427312374,0.09840742498636246,0.017592083662748337,0.013074945658445358,0.27190151810646057,0.009997275657951832,0.0038073710165917873,0.008801920339465141,6.139008473837748e-05,0.0018083518370985985,0.017675943672657013,0.009783241897821426,0.026777885854244232,0.15146614611148834,0.009382140822708607,0.25383394956588745,0.007129110395908356,0.0016411847900599241,0.09926893562078476,0.04002166539430618,0.006389728281646967,0.09499169141054153,0.023197496309876442,0.053071871399879456,0.04310647398233414,0.000767773250117898,0.023684408515691757,0.0183720700442791,0.9563787579536438,0.00940706580877304,0.006373009644448757,8.491733751725405e-05,0.18420949578285217,0.017066536471247673,0.012606271542608738,0.01436878927052021,0.021838238462805748,0.06942413002252579,0.2847630977630615,0.007070941850543022,0.05087381228804588,0.004723111167550087,0.05315413326025009,0.052019182592630386,0.028239473700523376,0.017332347109913826,0.0543038435280323,0.0076232366263866425,0.0033963804598897696,0.006151785142719746,0.014863626100122929,0.057180531322956085,0.012411005795001984,0.005479698069393635,0.007876863703131676,0.023681780323386192,0.008505363948643208,0.0004947039997205138,0.014700144529342651,0.05567058548331261,0.25687506794929504,0.17987021803855896,0.06619332730770111,0.00023414271709043533,0.06284259259700775,0.2745426595211029,0.007470188196748495,0.016402818262577057,0.005410837009549141,0.02860039658844471,0.0880451500415802,0.03522351756691933,0.0031815471593290567,0.006230922881513834,0.006904641166329384,0.006736850831657648,0.04304436594247818,0.0055166431702673435,0.18322978913784027,0.17963218688964844,0.17671959102153778,0.3182406425476074,0.10464832931756973,0.010547998361289501,0.1211169883608818,0.0061529106460511684,0.182533860206604,0.9723763465881348,0.006116414908319712,0.05351513624191284,0.008044532500207424,0.009858909994363785,0.008797402493655682,0.004836178384721279,0.2716192603111267,0.00827415008097887,0.0679996982216835,0.027214236557483673,0.004969098139554262,0.01771518588066101,0.05955330282449722,0.8953028917312622,0.05743153765797615,0.03986116126179695,0.005524991080164909,0.0067067136988043785,0.04783373698592186,0.09791611135005951,0.00994541309773922,0.008566129021346569,0.005489208735525608,0.9668136239051819,0.06489510834217072,0.0003175449965056032,0.0003980523906648159,0.00825490988790989,0.004367443732917309,0.005807585082948208,0.011775621213018894,0.037764016538858414,0.00755056319758296,0.0008236318826675415,0.028591271489858627,0.011058432050049305,0.007857843302190304,0.0005250712856650352,0.18253348767757416,0.058354828506708145,0.04288265481591225,0.015018590725958347,0.005562325939536095,0.008700108155608177,0.009271380491554737,0.09206895530223846,0.12871801853179932,0.008453748188912868,0.010117492638528347,0.09595353156328201,0.08902045339345932,0.008270427584648132,0.0075104315765202045,0.0033852781634777784,0.06238241493701935,0.030064469203352928,0.2529725432395935,0.049564361572265625,0.06998901069164276,0.007513364776968956,0.04064227268099785,0.2582283020019531,0.004744898062199354,0.008545230142772198,0.010123428888618946,0.1527220457792282,0.0011784100206568837,0.0940493494272232,0.006870589684695005,0.02925388514995575,0.04327891394495964,0.0532015897333622,0.00511558260768652,0.012089812196791172,0.0802595391869545,0.0006092554540373385,0.9697321653366089,0.008217411115765572,0.27965816855430603,0.13829195499420166,0.12441757321357727,0.012756895273923874,0.1219334527850151,0.006759790703654289,0.012741467915475368,0.8645195364952087,0.015138747170567513,0.05729539319872856,0.01774466596543789,0.057670027017593384,0.0552060604095459,0.008527467027306557,0.005132129881531,0.008558104746043682,0.0008319257176481187,0.01407778449356556,0.10134392231702805,0.007890122942626476,0.030051492154598236,0.0007610504981130362,0.005313836503773928,0.0030672564171254635,0.16844148933887482,0.0915626510977745,0.008930647745728493,0.1852632611989975,0.00870903767645359,0.008718009106814861,0.022782087326049805,0.008406546898186207,0.004555628634989262,0.9383105635643005,0.046490564942359924,0.05539858341217041,0.016409508883953094,0.11986497044563293,0.2828594148159027,0.020892126485705376,0.04779695346951485,0.09806247800588608,0.015683455392718315,0.040947988629341125,0.03370964899659157,0.003336285939440131,0.9162853360176086,0.0038676802068948746,0.18230122327804565,0.05792313441634178,0.008058530278503895,0.0911833867430687,0.00808412954211235,0.004252168815582991,0.17143771052360535,0.006872956641018391,0.014204149134457111,0.013140380382537842,0.006458883173763752,0.16549301147460938,0.041512519121170044,0.17520125210285187,0.0003749010793399066,0.09497003257274628,0.017831645905971527,0.16043320298194885,0.037624239921569824,0.013901050202548504,0.08354265987873077,0.051577966660261154,0.006611111108213663,0.05333782732486725,0.0017040277598425746,0.004395825322717428,0.007301865145564079,0.007335107307881117,0.040063999593257904,0.00030133427935652435,0.027250220999121666,0.019703712314367294,0.017731066793203354,0.01209673285484314,0.009653354063630104,0.006362376734614372,0.07066516578197479,0.0018232600996270776,0.0970936045050621,0.006172151304781437,0.02847331203520298,0.014246704988181591,0.0088062584400177,0.016415121033787727,0.04309142380952835,0.09226136654615402,0.00915493629872799,0.00844425056129694,0.09055395424365997,0.018737049773335457,0.05523505434393883,0.017588024958968163,0.1428460031747818,0.11936634033918381,0.00693672988563776,0.007055323570966721,0.09668651223182678,0.009899244643747807,0.05534166470170021,0.0008624345064163208,0.05218066647648811,0.0152564886957407,0.18497250974178314,0.08522117137908936,0.008089793846011162,0.008204091340303421,0.0448368676006794,0.04585378244519234,0.007252955809235573,0.0010322307934984565,0.014270852319896221,0.1372569352388382,0.007220410276204348,0.016860736533999443,0.009828422218561172,0.01447062287479639,0.013709227554500103,0.013538249768316746,0.006060374900698662,0.9817021489143372,0.03621393442153931,0.008812123909592628,0.9444190859794617,0.06960630416870117,0.007260961923748255,0.006080434657633305,0.027245931327342987,0.018870839849114418,0.05426708981394768,0.005956622771918774,0.05686189606785774,0.10665693879127502,0.013253360986709595,0.06579369306564331,0.015751419588923454,0.005788278300315142,0.009509463794529438,0.09571552276611328,0.11772677302360535,0.014732195995748043,0.07354064285755157,0.01399531401693821,0.005607150495052338,0.05533384904265404,0.0055779279209673405,0.007894291542470455,0.008247281424701214,0.03877870738506317,0.13798044621944427,0.004226340912282467,0.0030787386931478977,0.008752147667109966,0.016116665676236153,0.004388178698718548,0.27012497186660767,0.021981127560138702,0.006413673050701618,0.008192425593733788,0.008181470446288586,0.011608235538005829,0.0007294736569747329,0.07040869444608688,0.08069005608558655,0.000425628008088097,0.008446198888123035,0.0002040102845057845,0.008660202845931053,0.0014433549949899316,0.055304694920778275,0.00853773020207882,0.00551588786765933,0.06090588495135307,0.00047663573059253395,0.004785644356161356,0.0060997712425887585,0.0933685228228569,0.02896999940276146,0.05142156779766083,0.006871117278933525,0.05775442346930504,0.049935225397348404,0.001491502858698368,0.012838184833526611,0.009100335650146008,0.9078449606895447,0.008282780647277832,0.0008706071530468762,0.0,0.008753599599003792,0.10312679409980774,0.008199249394237995,0.09281718730926514,0.02147170715034008,0.01588735356926918,0.016374124214053154,0.00825031753629446,0.007187539711594582,0.00574915949255228,0.013330323621630669,0.007958630099892616,0.0010905368253588676,0.014267963357269764,0.005423575174063444,0.009045603685081005,0.008484836667776108,0.01757781393826008,0.0046933176927268505,0.0004329043731559068,0.0006395202944986522,0.006404081359505653,0.05866573005914688,0.004668505396693945,0.017853599041700363,0.1720188409090042,2.0744322682730854e-05,0.010057971812784672,0.061388127505779266,0.0076402523554861546,0.008429358713328838,0.005613104905933142,0.12885414063930511,0.05761462077498436,0.004383882507681847,0.05106315016746521,0.06139541417360306,0.006591429002583027,0.01172181498259306,0.05653659626841545,0.0007971868617460132,0.2698485255241394,0.13124217092990875,0.27598443627357483,0.01779126189649105,0.0075591569766402245,0.00818245392292738,0.006466659717261791,0.007345735561102629,0.051741696894168854,0.8952574729919434,0.00982859916985035,0.9369730949401855,0.007409621961414814,0.007862872444093227,0.050399765372276306,0.056921035051345825,0.04417720437049866,0.005130281671881676,0.053867075592279434,0.005023156758397818,0.0056998105719685555,0.008747586980462074,0.27187037467956543,0.017579710111021996,0.007848205044865608,0.0009588751709088683,0.014861548319458961,0.07960481941699982,0.09529788792133331,0.02244054712355137,0.02697759121656418,0.009586099535226822,0.008025791496038437,0.05273783206939697,0.1703750491142273,0.11896181106567383,0.8703981637954712,0.07029156386852264,0.2532755434513092,0.0009866697946563363,0.0011433499166741967,0.013647345826029778,0.017309540882706642,0.005076398607343435,0.00712585961446166,0.0032353191636502743,0.07166671752929688,0.01769731007516384,0.042540572583675385,0.1401510238647461,0.015366754494607449,0.0896148532629013,0.06830009818077087,0.02187017910182476,0.07767874747514725,0.0042829266749322414,0.006359304301440716,0.0242529958486557,0.14904700219631195,0.006836304906755686,0.09491926431655884,0.0014379335334524512,0.005584238097071648,0.052224304527044296,0.007923639379441738,0.007269672583788633,0.07105058431625366,0.015458386391401291,0.06833662837743759,0.00843769870698452,0.00031757468241266906,0.018426476046442986,0.010456910356879234,0.0270732119679451,0.022823503240942955,0.006038837134838104,0.09102291613817215,0.011600864119827747,0.01747439242899418,0.01021021232008934,0.009687005542218685,0.027070937678217888,0.0069824946112930775,0.018526336178183556,0.0011499664979055524,0.004554884973913431,0.0007736391271464527,0.03544379398226738,0.01914306730031967,0.000464635289972648,0.005905382335186005,0.0067992303520441055,0.005089567042887211,0.09419471025466919,0.03508559241890907,0.00961671955883503,0.18022681772708893,0.023343537002801895,0.017621634528040886,0.007574913557618856,0.9800535440444946,0.0790659561753273,0.13216045498847961,0.008289605379104614,0.055211279541254044,0.17267104983329773,0.001007121056318283,0.07579540461301804,0.050031766295433044,0.004479181487113237,0.013188676908612251,0.026183433830738068,0.06905388087034225,0.1820555329322815,0.028280790895223618,0.000436778791481629,0.008442824706435204,0.05838513746857643,0.01628020405769348,0.9093506336212158,0.005615226458758116,0.005401861388236284,0.1652131974697113,0.008380327373743057,0.006932494696229696,0.005505837500095367,0.017735160887241364,0.023632166907191277,0.013398636132478714,0.006109569687396288,0.09377844631671906,0.013502612709999084,0.01727055385708809,0.0571821965277195,0.035432521253824234,0.17285996675491333,0.0073232585564255714,0.15092001855373383,0.009952875785529613,0.06823311001062393,0.2762804627418518,0.0013944266829639673,0.9159562587738037,0.2717968821525574,0.0016358698485419154,0.018854698166251183,0.005508412141352892,0.03906143456697464,0.12423112243413925,0.0004150187596678734,0.1462237536907196,0.9858523607254028,0.017525499686598778,0.008779277093708515,0.8980439901351929,0.10051145404577255,0.009333910420536995,0.26213333010673523,0.06000154837965965,0.005200569983571768,0.14846718311309814,0.007053045555949211,0.05027604103088379,0.0064714024774730206,0.1790829747915268,0.0008798553608357906,0.005834673065692186,0.09545709937810898,0.0164869986474514,1.0,0.9088312983512878,0.06482584029436111,0.050217628479003906,0.8862751126289368,0.005746639333665371,0.059743162244558334,0.030986176803708076,0.004467117600142956,0.00491164717823267,0.06333119422197342,0.008117249235510826,0.05837105214595795,0.8749718070030212,0.07863494753837585,0.18022388219833374,0.006914619356393814,0.8800854682922363,0.007357190828770399,0.0013015709118917584,0.031069854274392128,0.02372295781970024,0.09317602217197418,0.0617993138730526,0.011519454419612885,0.0007977572968229651,0.10549391806125641,0.015440152026712894],\"xaxis\":\"x\",\"y\":[0.056091099977493286,0.056091099977493286,0.056091099977493286,0.056091099977493286,0.056091099977493286,0.056091099977493286,0.16706697642803192,0.056091099977493286,0.1421084702014923,0.056091099977493286,0.056091099977493286,0.075148805975914,0.056091099977493286,0.07302455604076385,0.056091099977493286,0.056091099977493286,0.056091099977493286,0.13820886611938477,0.056091099977493286,0.056091099977493286,0.056091099977493286,0.059802912175655365,0.056091099977493286,0.0650106817483902,0.056091099977493286,0.056091099977493286,0.056091099977493286,0.056091099977493286,0.056091099977493286,0.056091099977493286,0.10502254962921143,0.056091099977493286,0.056091099977493286,0.056091099977493286,0.056091099977493286,0.056091099977493286,0.056091099977493286,0.056091099977493286,0.056091099977493286,0.056091099977493286,0.056091099977493286,0.056091099977493286,0.056091099977493286,0.056091099977493286,0.056091099977493286,0.056091099977493286,0.222056046128273,0.09771144390106201,0.0720130056142807,0.056091099977493286,0.056091099977493286,0.14404898881912231,0.056091099977493286,0.09117549657821655,0.11687135696411133,0.056091099977493286,0.056091099977493286,0.056091099977493286,0.056091099977493286,0.056091099977493286,0.09383494406938553,0.056091099977493286,0.056091099977493286,0.056091099977493286,0.056091099977493286,0.056091099977493286,0.056091099977493286,0.056091099977493286,0.056091099977493286,0.056091099977493286,0.056091099977493286,0.06978321075439453,0.056091099977493286,0.056091099977493286,0.056091099977493286,0.056091099977493286,0.056091099977493286,0.056091099977493286,0.056091099977493286,0.056091099977493286,0.07518678158521652,0.056091099977493286,0.056091099977493286,0.056091099977493286,0.09496909379959106,0.056091099977493286,0.056091099977493286,0.056091099977493286,0.056091099977493286,0.056091099977493286,0.056091099977493286,0.09465204179286957,0.056091099977493286,0.056091099977493286,0.056091099977493286,0.056091099977493286,0.14546135067939758,0.056091099977493286,0.056091099977493286,0.056091099977493286,0.0639130175113678,0.056091099977493286,0.06673441082239151,0.07514968514442444,0.056091099977493286,0.056091099977493286,0.056091099977493286,0.056091099977493286,0.056091099977493286,0.09229300916194916,0.0907914936542511,0.16712680459022522,0.056091099977493286,0.056091099977493286,0.09665694832801819,0.14154589176177979,0.056091099977493286,0.056091099977493286,0.056091099977493286,0.056091099977493286,0.056091099977493286,0.056091099977493286,0.056091099977493286,0.11545871198177338,0.08831688016653061,0.056091099977493286,0.056091099977493286,0.056091099977493286,0.056091099977493286,0.056091099977493286,0.056091099977493286,0.056091099977493286,0.056091099977493286,0.07602779567241669,0.056091099977493286,0.05880516767501831,0.056091099977493286,0.07056587189435959,0.056091099977493286,0.056091099977493286,0.056091099977493286,0.13994209468364716,0.056091099977493286,0.056091099977493286,0.056091099977493286,0.08162181824445724,0.056091099977493286,0.056091099977493286,0.056091099977493286,0.08216484636068344,0.1930387169122696,0.056091099977493286,0.056091099977493286,0.056091099977493286,0.056091099977493286,0.05688684061169624,0.06332848221063614,0.056091099977493286,0.056091099977493286,0.056091099977493286,0.056091099977493286,0.09720109403133392,0.056091099977493286,0.06271730363368988,0.056091099977493286,0.14356154203414917,0.056091099977493286,0.10041150450706482,0.056091099977493286,0.056091099977493286,0.056091099977493286,0.05895695835351944,0.056091099977493286,0.060386888682842255,0.056091099977493286,0.056091099977493286,0.056091099977493286,0.08758453279733658,0.056091099977493286,0.056091099977493286,0.20371319353580475,0.056091099977493286,0.056091099977493286,0.056091099977493286,0.056091099977493286,0.056091099977493286,0.056091099977493286,0.056091099977493286,0.06176295876502991,0.06373193860054016,0.056091099977493286,0.1535845547914505,0.056091099977493286,0.056091099977493286,0.08388521522283554,0.056091099977493286,0.056091099977493286,0.08017474412918091,0.056091099977493286,0.08104310184717178,0.056091099977493286,0.056091099977493286,0.056091099977493286,0.056091099977493286,0.1191798746585846,0.056091099977493286,0.056091099977493286,0.056091099977493286,0.056091099977493286,0.056091099977493286,0.056091099977493286,0.056091099977493286,0.056091099977493286,0.056091099977493286,0.22377334535121918,0.056091099977493286,0.056091099977493286,0.056091099977493286,0.08509694039821625,0.08021232485771179,0.056091099977493286,0.056091099977493286,0.056091099977493286,0.056091099977493286,0.056091099977493286,0.056091099977493286,0.056091099977493286,0.056091099977493286,0.056091099977493286,0.056091099977493286,0.056091099977493286,0.056091099977493286,0.056091099977493286,0.056091099977493286,0.06822255253791809,0.056091099977493286,0.15097296237945557,0.056091099977493286,0.06495338678359985,0.056091099977493286,0.056091099977493286,0.18972760438919067,0.056091099977493286,0.06882911920547485,0.056091099977493286,0.07957828044891357,0.09922811388969421,0.056091099977493286,0.056091099977493286,0.056091099977493286,0.056091099977493286,0.056091099977493286,0.056091099977493286,0.056091099977493286,0.056091099977493286,0.056091099977493286,0.056091099977493286,0.1393168568611145,0.06291601806879044,0.056091099977493286,0.13067662715911865,0.056091099977493286,0.056091099977493286,0.07305382192134857,0.056091099977493286,0.056091099977493286,0.056091099977493286,0.056091099977493286,0.056091099977493286,0.056091099977493286,0.20842523872852325,0.056091099977493286,0.06958065927028656,0.07250932604074478,0.056091099977493286,0.056091099977493286,0.056091099977493286,0.17624051868915558,0.0636204406619072,0.056091099977493286,0.056091099977493286,0.056091099977493286,0.07308105379343033,0.09772108495235443,0.056091099977493286,0.056091099977493286,0.056091099977493286,0.0986662209033966,0.056091099977493286,0.056091099977493286,0.056091099977493286,0.056091099977493286,0.056091099977493286,0.056091099977493286,0.06029496714472771,0.06891988217830658,0.056091099977493286,0.05739949643611908,0.07246649265289307,0.056091099977493286,0.056091099977493286,0.056091099977493286,0.056091099977493286,0.056091099977493286,0.056091099977493286,0.056091099977493286,0.056091099977493286,0.056091099977493286,0.056091099977493286,0.09581995755434036,0.10996564477682114,0.056091099977493286,0.056091099977493286,0.08363722264766693,0.09755094349384308,0.056091099977493286,0.056091099977493286,0.056091099977493286,0.056091099977493286,0.056091099977493286,0.14360526204109192,0.056091099977493286,0.056091099977493286,0.056091099977493286,0.056091099977493286,0.16132448613643646,0.056091099977493286,0.056091099977493286,0.056091099977493286,0.056091099977493286,0.056091099977493286,0.08453330397605896,0.056091099977493286,0.056091099977493286,0.056091099977493286,0.056091099977493286,0.056091099977493286,0.056091099977493286,0.09401880949735641,0.056091099977493286,0.06065427511930466,0.056091099977493286,0.20080214738845825,0.12100772559642792,0.13685272634029388,0.056091099977493286,0.13250109553337097,0.056091099977493286,0.056091099977493286,0.14270931482315063,0.056091099977493286,0.056091099977493286,0.056091099977493286,0.056091099977493286,0.08588927239179611,0.056091099977493286,0.056091099977493286,0.056091099977493286,0.056091099977493286,0.056091099977493286,0.08885001391172409,0.056091099977493286,0.08902576565742493,0.056091099977493286,0.056091099977493286,0.056091099977493286,0.06014321744441986,0.09850761294364929,0.056091099977493286,0.056091099977493286,0.056091099977493286,0.056091099977493286,0.056091099977493286,0.056091099977493286,0.056091099977493286,0.07864800095558167,0.056091099977493286,0.0595872588455677,0.056091099977493286,0.1376354992389679,0.22410382330417633,0.056091099977493286,0.07427600026130676,0.09481090307235718,0.06472668051719666,0.056091099977493286,0.056091099977493286,0.056091099977493286,0.09839014708995819,0.056091099977493286,0.056091099977493286,0.07779818773269653,0.056091099977493286,0.09404835104942322,0.0620882511138916,0.056091099977493286,0.056091099977493286,0.056091099977493286,0.056091099977493286,0.057095639407634735,0.056091099977493286,0.056091099977493286,0.056091099977493286,0.056091099977493286,0.056091099977493286,0.09574398398399353,0.056091099977493286,0.056091099977493286,0.059840451925992966,0.05798901617527008,0.09620504081249237,0.056091099977493286,0.056091099977493286,0.056091099977493286,0.056091099977493286,0.056091099977493286,0.056091099977493286,0.056091099977493286,0.056091099977493286,0.056091099977493286,0.056091099977493286,0.056091099977493286,0.06375326216220856,0.05702797695994377,0.056091099977493286,0.056091099977493286,0.056091099977493286,0.0658232644200325,0.08828290551900864,0.056091099977493286,0.06615158915519714,0.056091099977493286,0.056091099977493286,0.06915844231843948,0.056091099977493286,0.07584566622972488,0.056091099977493286,0.056091099977493286,0.10036727786064148,0.056091099977493286,0.056091099977493286,0.0627417042851448,0.10628966987133026,0.1376006156206131,0.056091099977493286,0.056091099977493286,0.08513525128364563,0.056091099977493286,0.056091099977493286,0.056091099977493286,0.056091099977493286,0.056091099977493286,0.056091099977493286,0.09991279989480972,0.056091099977493286,0.056091099977493286,0.056091099977493286,0.07055304199457169,0.056091099977493286,0.056091099977493286,0.060962893068790436,0.11981268227100372,0.056091099977493286,0.056091099977493286,0.056091099977493286,0.056091099977493286,0.056091099977493286,0.056091099977493286,0.056091099977493286,0.11976848542690277,0.056091099977493286,0.056091099977493286,0.15305157005786896,0.056091099977493286,0.05898785591125488,0.056091099977493286,0.058680761605501175,0.056091099977493286,0.056091099977493286,0.056091099977493286,0.07537753134965897,0.10121247172355652,0.056091099977493286,0.056091099977493286,0.056091099977493286,0.056091099977493286,0.056091099977493286,0.08480170369148254,0.13692958652973175,0.056091099977493286,0.07704463601112366,0.056091099977493286,0.056091099977493286,0.05828756466507912,0.056091099977493286,0.056091099977493286,0.056091099977493286,0.056091099977493286,0.09810392558574677,0.056091099977493286,0.056091099977493286,0.056091099977493286,0.056091099977493286,0.056091099977493286,0.18134962022304535,0.056091099977493286,0.056091099977493286,0.056091099977493286,0.056091099977493286,0.06531112641096115,0.056091099977493286,0.056091099977493286,0.09689192473888397,0.056091099977493286,0.056091099977493286,0.056091099977493286,0.056091099977493286,0.056091099977493286,0.07267297059297562,0.056091099977493286,0.056091099977493286,0.061053600162267685,0.056091099977493286,0.056091099977493286,0.056091099977493286,0.056091099977493286,0.07445686310529709,0.056091099977493286,0.056091099977493286,0.08732966333627701,0.0721544474363327,0.056091099977493286,0.056091099977493286,0.056091099977493286,0.14432285726070404,0.056091099977493286,0.056091099977493286,0.056091099977493286,0.056091099977493286,0.08299264311790466,0.056091099977493286,0.07909630239009857,0.056091099977493286,0.056091099977493286,0.056091099977493286,0.056091099977493286,0.056091099977493286,0.056091099977493286,0.056091099977493286,0.056091099977493286,0.056091099977493286,0.056091099977493286,0.056091099977493286,0.056091099977493286,0.056091099977493286,0.07495074719190598,0.056091099977493286,0.056091099977493286,0.056091099977493286,0.056091099977493286,0.05688170716166496,0.056091099977493286,0.056091099977493286,0.056091099977493286,0.056091099977493286,0.056091099977493286,0.06267622113227844,0.056091099977493286,0.056091099977493286,0.056091099977493286,0.14559942483901978,0.056091099977493286,0.056091099977493286,0.056091099977493286,0.056726910173892975,0.056091099977493286,0.05981144309043884,0.059399910271167755,0.056091099977493286,0.18475113809108734,0.13144883513450623,0.1423880010843277,0.056091099977493286,0.056091099977493286,0.056091099977493286,0.05972220376133919,0.0769340917468071,0.056091099977493286,0.16744646430015564,0.056091099977493286,0.14991891384124756,0.056091099977493286,0.056091099977493286,0.06392712146043777,0.056091099977493286,0.0628260150551796,0.056091099977493286,0.056091099977493286,0.05753080174326897,0.056091099977493286,0.056091099977493286,0.20303700864315033,0.056091099977493286,0.056091099977493286,0.056091099977493286,0.056091099977493286,0.08218236267566681,0.08490077406167984,0.056091099977493286,0.056091099977493286,0.056091099977493286,0.056091099977493286,0.056091099977493286,0.056091099977493286,0.1292041540145874,0.1431254893541336,0.056091099977493286,0.13997863233089447,0.056091099977493286,0.056091099977493286,0.056091099977493286,0.056091099977493286,0.056091099977493286,0.056091099977493286,0.056091099977493286,0.056091099977493286,0.056091099977493286,0.056091099977493286,0.12067273259162903,0.056091099977493286,0.10083881765604019,0.056091099977493286,0.056091099977493286,0.09005507826805115,0.056091099977493286,0.056091099977493286,0.056091099977493286,0.09958475083112717,0.056091099977493286,0.08438725769519806,0.056091099977493286,0.056091099977493286,0.056091099977493286,0.056091099977493286,0.056091099977493286,0.056091099977493286,0.056091099977493286,0.0707465261220932,0.056091099977493286,0.056091099977493286,0.06537367403507233,0.057941243052482605,0.056091099977493286,0.056091099977493286,0.056091099977493286,0.0759170800447464,0.07081763446331024,0.056091099977493286,0.056091099977493286,0.056091099977493286,0.06698902696371078,0.056091099977493286,0.056091099977493286,0.056091099977493286,0.056091099977493286,0.056091099977493286,0.056091099977493286,0.056091099977493286,0.056091099977493286,0.056091099977493286,0.056091099977493286,0.056091099977493286,0.08525818586349487,0.056091099977493286,0.056091099977493286,0.056091099977493286,0.056091099977493286,0.056091099977493286,0.056091099977493286,0.0705011785030365,0.056091099977493286,0.14693501591682434,0.056091099977493286,0.05682193487882614,0.056091099977493286,0.06023606285452843,0.07682964205741882,0.056091099977493286,0.056091099977493286,0.056091099977493286,0.056091099977493286,0.056091099977493286,0.056091099977493286,0.056091099977493286,0.056091099977493286,0.056091099977493286,0.056091099977493286,0.056091099977493286,0.1716524362564087,0.056091099977493286,0.056091099977493286,0.056091099977493286,0.056091099977493286,0.056091099977493286,0.056091099977493286,0.06201313063502312,0.056091099977493286,0.056091099977493286,0.056091099977493286,0.07820940017700195,0.056091099977493286,0.056091099977493286,0.09117135405540466,0.056091099977493286,0.056091099977493286,0.06276561319828033,0.0980558693408966,0.056091099977493286,0.056091099977493286,0.19346728920936584,0.056091099977493286,0.1725919544696808,0.21474966406822205,0.056091099977493286,0.056091099977493286,0.056091099977493286,0.06901448220014572,0.14077222347259521,0.056091099977493286,0.07279104739427567,0.056091099977493286,0.07690244913101196,0.056091099977493286,0.1631455421447754,0.08245968073606491,0.056091099977493286,0.17527246475219727,0.056091099977493286,0.056091099977493286,0.08767034113407135,0.056091099977493286,0.056091099977493286,0.056091099977493286,0.056091099977493286,0.056091099977493286,0.056091099977493286,0.09654078632593155,0.056091099977493286,0.056091099977493286,0.059150561690330505,0.0650329664349556,0.056091099977493286,0.16177967190742493,0.056091099977493286,0.056091099977493286,0.06908627599477768,0.056091099977493286,0.056091099977493286,0.056091099977493286,0.056091099977493286,0.056091099977493286,0.14404448866844177,0.09482530504465103,0.056091099977493286,0.056091099977493286,0.18244586884975433,0.056091099977493286,0.056091099977493286,0.056091099977493286,0.056091099977493286,0.09373301267623901,0.056091099977493286,0.056091099977493286,0.056091099977493286,0.056091099977493286,0.056091099977493286],\"yaxis\":\"y\",\"type\":\"scatter\"}],                        {\"template\":{\"data\":{\"bar\":[{\"error_x\":{\"color\":\"#2a3f5f\"},\"error_y\":{\"color\":\"#2a3f5f\"},\"marker\":{\"line\":{\"color\":\"#E5ECF6\",\"width\":0.5},\"pattern\":{\"fillmode\":\"overlay\",\"size\":10,\"solidity\":0.2}},\"type\":\"bar\"}],\"barpolar\":[{\"marker\":{\"line\":{\"color\":\"#E5ECF6\",\"width\":0.5},\"pattern\":{\"fillmode\":\"overlay\",\"size\":10,\"solidity\":0.2}},\"type\":\"barpolar\"}],\"carpet\":[{\"aaxis\":{\"endlinecolor\":\"#2a3f5f\",\"gridcolor\":\"white\",\"linecolor\":\"white\",\"minorgridcolor\":\"white\",\"startlinecolor\":\"#2a3f5f\"},\"baxis\":{\"endlinecolor\":\"#2a3f5f\",\"gridcolor\":\"white\",\"linecolor\":\"white\",\"minorgridcolor\":\"white\",\"startlinecolor\":\"#2a3f5f\"},\"type\":\"carpet\"}],\"choropleth\":[{\"colorbar\":{\"outlinewidth\":0,\"ticks\":\"\"},\"type\":\"choropleth\"}],\"contour\":[{\"colorbar\":{\"outlinewidth\":0,\"ticks\":\"\"},\"colorscale\":[[0.0,\"#0d0887\"],[0.1111111111111111,\"#46039f\"],[0.2222222222222222,\"#7201a8\"],[0.3333333333333333,\"#9c179e\"],[0.4444444444444444,\"#bd3786\"],[0.5555555555555556,\"#d8576b\"],[0.6666666666666666,\"#ed7953\"],[0.7777777777777778,\"#fb9f3a\"],[0.8888888888888888,\"#fdca26\"],[1.0,\"#f0f921\"]],\"type\":\"contour\"}],\"contourcarpet\":[{\"colorbar\":{\"outlinewidth\":0,\"ticks\":\"\"},\"type\":\"contourcarpet\"}],\"heatmap\":[{\"colorbar\":{\"outlinewidth\":0,\"ticks\":\"\"},\"colorscale\":[[0.0,\"#0d0887\"],[0.1111111111111111,\"#46039f\"],[0.2222222222222222,\"#7201a8\"],[0.3333333333333333,\"#9c179e\"],[0.4444444444444444,\"#bd3786\"],[0.5555555555555556,\"#d8576b\"],[0.6666666666666666,\"#ed7953\"],[0.7777777777777778,\"#fb9f3a\"],[0.8888888888888888,\"#fdca26\"],[1.0,\"#f0f921\"]],\"type\":\"heatmap\"}],\"heatmapgl\":[{\"colorbar\":{\"outlinewidth\":0,\"ticks\":\"\"},\"colorscale\":[[0.0,\"#0d0887\"],[0.1111111111111111,\"#46039f\"],[0.2222222222222222,\"#7201a8\"],[0.3333333333333333,\"#9c179e\"],[0.4444444444444444,\"#bd3786\"],[0.5555555555555556,\"#d8576b\"],[0.6666666666666666,\"#ed7953\"],[0.7777777777777778,\"#fb9f3a\"],[0.8888888888888888,\"#fdca26\"],[1.0,\"#f0f921\"]],\"type\":\"heatmapgl\"}],\"histogram\":[{\"marker\":{\"pattern\":{\"fillmode\":\"overlay\",\"size\":10,\"solidity\":0.2}},\"type\":\"histogram\"}],\"histogram2d\":[{\"colorbar\":{\"outlinewidth\":0,\"ticks\":\"\"},\"colorscale\":[[0.0,\"#0d0887\"],[0.1111111111111111,\"#46039f\"],[0.2222222222222222,\"#7201a8\"],[0.3333333333333333,\"#9c179e\"],[0.4444444444444444,\"#bd3786\"],[0.5555555555555556,\"#d8576b\"],[0.6666666666666666,\"#ed7953\"],[0.7777777777777778,\"#fb9f3a\"],[0.8888888888888888,\"#fdca26\"],[1.0,\"#f0f921\"]],\"type\":\"histogram2d\"}],\"histogram2dcontour\":[{\"colorbar\":{\"outlinewidth\":0,\"ticks\":\"\"},\"colorscale\":[[0.0,\"#0d0887\"],[0.1111111111111111,\"#46039f\"],[0.2222222222222222,\"#7201a8\"],[0.3333333333333333,\"#9c179e\"],[0.4444444444444444,\"#bd3786\"],[0.5555555555555556,\"#d8576b\"],[0.6666666666666666,\"#ed7953\"],[0.7777777777777778,\"#fb9f3a\"],[0.8888888888888888,\"#fdca26\"],[1.0,\"#f0f921\"]],\"type\":\"histogram2dcontour\"}],\"mesh3d\":[{\"colorbar\":{\"outlinewidth\":0,\"ticks\":\"\"},\"type\":\"mesh3d\"}],\"parcoords\":[{\"line\":{\"colorbar\":{\"outlinewidth\":0,\"ticks\":\"\"}},\"type\":\"parcoords\"}],\"pie\":[{\"automargin\":true,\"type\":\"pie\"}],\"scatter\":[{\"marker\":{\"colorbar\":{\"outlinewidth\":0,\"ticks\":\"\"}},\"type\":\"scatter\"}],\"scatter3d\":[{\"line\":{\"colorbar\":{\"outlinewidth\":0,\"ticks\":\"\"}},\"marker\":{\"colorbar\":{\"outlinewidth\":0,\"ticks\":\"\"}},\"type\":\"scatter3d\"}],\"scattercarpet\":[{\"marker\":{\"colorbar\":{\"outlinewidth\":0,\"ticks\":\"\"}},\"type\":\"scattercarpet\"}],\"scattergeo\":[{\"marker\":{\"colorbar\":{\"outlinewidth\":0,\"ticks\":\"\"}},\"type\":\"scattergeo\"}],\"scattergl\":[{\"marker\":{\"colorbar\":{\"outlinewidth\":0,\"ticks\":\"\"}},\"type\":\"scattergl\"}],\"scattermapbox\":[{\"marker\":{\"colorbar\":{\"outlinewidth\":0,\"ticks\":\"\"}},\"type\":\"scattermapbox\"}],\"scatterpolar\":[{\"marker\":{\"colorbar\":{\"outlinewidth\":0,\"ticks\":\"\"}},\"type\":\"scatterpolar\"}],\"scatterpolargl\":[{\"marker\":{\"colorbar\":{\"outlinewidth\":0,\"ticks\":\"\"}},\"type\":\"scatterpolargl\"}],\"scatterternary\":[{\"marker\":{\"colorbar\":{\"outlinewidth\":0,\"ticks\":\"\"}},\"type\":\"scatterternary\"}],\"surface\":[{\"colorbar\":{\"outlinewidth\":0,\"ticks\":\"\"},\"colorscale\":[[0.0,\"#0d0887\"],[0.1111111111111111,\"#46039f\"],[0.2222222222222222,\"#7201a8\"],[0.3333333333333333,\"#9c179e\"],[0.4444444444444444,\"#bd3786\"],[0.5555555555555556,\"#d8576b\"],[0.6666666666666666,\"#ed7953\"],[0.7777777777777778,\"#fb9f3a\"],[0.8888888888888888,\"#fdca26\"],[1.0,\"#f0f921\"]],\"type\":\"surface\"}],\"table\":[{\"cells\":{\"fill\":{\"color\":\"#EBF0F8\"},\"line\":{\"color\":\"white\"}},\"header\":{\"fill\":{\"color\":\"#C8D4E3\"},\"line\":{\"color\":\"white\"}},\"type\":\"table\"}]},\"layout\":{\"annotationdefaults\":{\"arrowcolor\":\"#2a3f5f\",\"arrowhead\":0,\"arrowwidth\":1},\"autotypenumbers\":\"strict\",\"coloraxis\":{\"colorbar\":{\"outlinewidth\":0,\"ticks\":\"\"}},\"colorscale\":{\"diverging\":[[0,\"#8e0152\"],[0.1,\"#c51b7d\"],[0.2,\"#de77ae\"],[0.3,\"#f1b6da\"],[0.4,\"#fde0ef\"],[0.5,\"#f7f7f7\"],[0.6,\"#e6f5d0\"],[0.7,\"#b8e186\"],[0.8,\"#7fbc41\"],[0.9,\"#4d9221\"],[1,\"#276419\"]],\"sequential\":[[0.0,\"#0d0887\"],[0.1111111111111111,\"#46039f\"],[0.2222222222222222,\"#7201a8\"],[0.3333333333333333,\"#9c179e\"],[0.4444444444444444,\"#bd3786\"],[0.5555555555555556,\"#d8576b\"],[0.6666666666666666,\"#ed7953\"],[0.7777777777777778,\"#fb9f3a\"],[0.8888888888888888,\"#fdca26\"],[1.0,\"#f0f921\"]],\"sequentialminus\":[[0.0,\"#0d0887\"],[0.1111111111111111,\"#46039f\"],[0.2222222222222222,\"#7201a8\"],[0.3333333333333333,\"#9c179e\"],[0.4444444444444444,\"#bd3786\"],[0.5555555555555556,\"#d8576b\"],[0.6666666666666666,\"#ed7953\"],[0.7777777777777778,\"#fb9f3a\"],[0.8888888888888888,\"#fdca26\"],[1.0,\"#f0f921\"]]},\"colorway\":[\"#636efa\",\"#EF553B\",\"#00cc96\",\"#ab63fa\",\"#FFA15A\",\"#19d3f3\",\"#FF6692\",\"#B6E880\",\"#FF97FF\",\"#FECB52\"],\"font\":{\"color\":\"#2a3f5f\"},\"geo\":{\"bgcolor\":\"white\",\"lakecolor\":\"white\",\"landcolor\":\"#E5ECF6\",\"showlakes\":true,\"showland\":true,\"subunitcolor\":\"white\"},\"hoverlabel\":{\"align\":\"left\"},\"hovermode\":\"closest\",\"mapbox\":{\"style\":\"light\"},\"paper_bgcolor\":\"white\",\"plot_bgcolor\":\"#E5ECF6\",\"polar\":{\"angularaxis\":{\"gridcolor\":\"white\",\"linecolor\":\"white\",\"ticks\":\"\"},\"bgcolor\":\"#E5ECF6\",\"radialaxis\":{\"gridcolor\":\"white\",\"linecolor\":\"white\",\"ticks\":\"\"}},\"scene\":{\"xaxis\":{\"backgroundcolor\":\"#E5ECF6\",\"gridcolor\":\"white\",\"gridwidth\":2,\"linecolor\":\"white\",\"showbackground\":true,\"ticks\":\"\",\"zerolinecolor\":\"white\"},\"yaxis\":{\"backgroundcolor\":\"#E5ECF6\",\"gridcolor\":\"white\",\"gridwidth\":2,\"linecolor\":\"white\",\"showbackground\":true,\"ticks\":\"\",\"zerolinecolor\":\"white\"},\"zaxis\":{\"backgroundcolor\":\"#E5ECF6\",\"gridcolor\":\"white\",\"gridwidth\":2,\"linecolor\":\"white\",\"showbackground\":true,\"ticks\":\"\",\"zerolinecolor\":\"white\"}},\"shapedefaults\":{\"line\":{\"color\":\"#2a3f5f\"}},\"ternary\":{\"aaxis\":{\"gridcolor\":\"white\",\"linecolor\":\"white\",\"ticks\":\"\"},\"baxis\":{\"gridcolor\":\"white\",\"linecolor\":\"white\",\"ticks\":\"\"},\"bgcolor\":\"#E5ECF6\",\"caxis\":{\"gridcolor\":\"white\",\"linecolor\":\"white\",\"ticks\":\"\"}},\"title\":{\"x\":0.05},\"xaxis\":{\"automargin\":true,\"gridcolor\":\"white\",\"linecolor\":\"white\",\"ticks\":\"\",\"title\":{\"standoff\":15},\"zerolinecolor\":\"white\",\"zerolinewidth\":2},\"yaxis\":{\"automargin\":true,\"gridcolor\":\"white\",\"linecolor\":\"white\",\"ticks\":\"\",\"title\":{\"standoff\":15},\"zerolinecolor\":\"white\",\"zerolinewidth\":2}}},\"xaxis\":{\"anchor\":\"y\",\"domain\":[0.0,1.0],\"title\":{\"text\":\"x\"}},\"yaxis\":{\"anchor\":\"x\",\"domain\":[0.0,1.0],\"title\":{\"text\":\"y\"}},\"legend\":{\"tracegroupgap\":0},\"margin\":{\"t\":60}},                        {\"responsive\": true}                    ).then(function(){\n                            \nvar gd = document.getElementById('4096f3b0-36e1-4f33-91e8-364b20fa7ada');\nvar x = new MutationObserver(function (mutations, observer) {{\n        var display = window.getComputedStyle(gd).display;\n        if (!display || display === 'none') {{\n            console.log([gd, 'removed!']);\n            Plotly.purge(gd);\n            observer.disconnect();\n        }}\n}});\n\n// Listen for the removal of the full notebook cells\nvar notebookContainer = gd.closest('#notebook-container');\nif (notebookContainer) {{\n    x.observe(notebookContainer, {childList: true});\n}}\n\n// Listen for the clearing of the current output cell\nvar outputEl = gd.closest('.output');\nif (outputEl) {{\n    x.observe(outputEl, {childList: true});\n}}\n\n                        })                };                            </script>        </div>\n</body>\n</html>"
     },
     "execution_count": 40,
     "metadata": {
     },
     "output_type": "execute_result"
    }
   ],
   "source": [
    "test_pred = model.predict(test_in).flatten()\n",
    "fig = px.scatter(x=test_out, y=test_pred)\n",
    "fig.show()"
   ]
  },
  {
   "cell_type": "code",
   "execution_count": 0,
   "metadata": {
    "collapsed": false
   },
   "outputs": [
   ],
   "source": [
   ]
  },
  {
   "cell_type": "code",
   "execution_count": 0,
   "metadata": {
    "collapsed": false
   },
   "outputs": [
   ],
   "source": [
   ]
  },
  {
   "cell_type": "code",
   "execution_count": 0,
   "metadata": {
    "collapsed": false
   },
   "outputs": [
   ],
   "source": [
   ]
  },
  {
   "cell_type": "code",
   "execution_count": 0,
   "metadata": {
    "collapsed": false
   },
   "outputs": [
   ],
   "source": [
   ]
  },
  {
   "cell_type": "code",
   "execution_count": 0,
   "metadata": {
    "collapsed": false
   },
   "outputs": [
   ],
   "source": [
   ]
  },
  {
   "cell_type": "code",
   "execution_count": 0,
   "metadata": {
    "collapsed": false
   },
   "outputs": [
   ],
   "source": [
   ]
  },
  {
   "cell_type": "code",
   "execution_count": 0,
   "metadata": {
    "collapsed": false
   },
   "outputs": [
   ],
   "source": [
   ]
  }
 ],
 "metadata": {
  "kernelspec": {
   "display_name": "Python (ds_env)",
   "language": "python",
   "metadata": {
    "debugger": true
   },
   "name": "ds_env",
   "resource_dir": "/projects/39b268b1-0e75-4ebd-9cf2-691243b37f4a/.local/share/jupyter/kernels/ds_env"
  },
  "language_info": {
   "codemirror_mode": {
    "name": "ipython",
    "version": 3
   },
   "file_extension": ".py",
   "mimetype": "text/x-python",
   "name": "python",
   "nbconvert_exporter": "python",
   "pygments_lexer": "ipython3",
   "version": "3.8.13"
  }
 },
 "nbformat": 4,
 "nbformat_minor": 4
}