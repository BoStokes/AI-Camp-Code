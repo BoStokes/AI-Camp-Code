{
 "cells": [
  {
   "cell_type": "markdown",
   "metadata": {
    "collapsed": false
   },
   "source": [
    "### Linear Regression:\n",
    "\n",
    "model = LinearRegression\\(\\)\n",
    "\n",
    "MSE: 0.0004449381082682105\n",
    "\n",
    "R^2: 0.9808307464549305\n"
   ]
  },
  {
   "cell_type": "code",
   "execution_count": 14,
   "metadata": {
    "collapsed": false
   },
   "outputs": [
   ],
   "source": [
    "import numpy as np\n",
    "import pandas as pd\n",
    "import plotly.express as px\n",
    "from sklearn.linear_model import LinearRegression\n",
    "from sklearn.model_selection import train_test_split"
   ]
  },
  {
   "cell_type": "code",
   "execution_count": 15,
   "metadata": {
    "collapsed": false
   },
   "outputs": [
    {
     "name": "stdout",
     "output_type": "stream",
     "text": [
      "<class 'pandas.core.frame.DataFrame'>\n",
      "RangeIndex: 816 entries, 0 to 815\n",
      "Data columns (total 11 columns):\n",
      " #   Column                         Non-Null Count  Dtype  \n",
      "---  ------                         --------------  -----  \n",
      " 0   Greenhouse Gas Emissions       816 non-null    float64\n",
      " 1   Year                           816 non-null    float64\n",
      " 2   Natural Gas Production         816 non-null    float64\n",
      " 3   Crude Oil Production           816 non-null    float64\n",
      " 4   Motor Gasoline Production      816 non-null    float64\n",
      " 5   Gas Oil/Diesel Oil Production  816 non-null    float64\n",
      " 6   Hard Coal Import               816 non-null    float64\n",
      " 7   Natural Gas Import             816 non-null    float64\n",
      " 8   Crude Oil Import               816 non-null    float64\n",
      " 9   Motor Gasoline Import          816 non-null    float64\n",
      " 10  Gas Oil/Diesel Oil Import      816 non-null    float64\n",
      "dtypes: float64(11)\n",
      "memory usage: 70.2 KB\n"
     ]
    }
   ],
   "source": [
    "df = pd.read_csv('../data/emissions_clean.csv')\n",
    "df.drop('Country', axis=1, inplace=True)\n",
    "df.dropna(inplace=True)\n",
    "df.info()"
   ]
  },
  {
   "cell_type": "code",
   "execution_count": 16,
   "metadata": {
    "collapsed": false
   },
   "outputs": [
    {
     "name": "stdout",
     "output_type": "stream",
     "text": [
      "<class 'pandas.core.frame.DataFrame'>\n",
      "RangeIndex: 816 entries, 0 to 815\n",
      "Data columns (total 10 columns):\n",
      " #   Column                         Non-Null Count  Dtype  \n",
      "---  ------                         --------------  -----  \n",
      " 0   Year                           816 non-null    float64\n",
      " 1   Natural Gas Production         816 non-null    float64\n",
      " 2   Crude Oil Production           816 non-null    float64\n",
      " 3   Motor Gasoline Production      816 non-null    float64\n",
      " 4   Gas Oil/Diesel Oil Production  816 non-null    float64\n",
      " 5   Hard Coal Import               816 non-null    float64\n",
      " 6   Natural Gas Import             816 non-null    float64\n",
      " 7   Crude Oil Import               816 non-null    float64\n",
      " 8   Motor Gasoline Import          816 non-null    float64\n",
      " 9   Gas Oil/Diesel Oil Import      816 non-null    float64\n",
      "dtypes: float64(10)\n",
      "memory usage: 63.9 KB\n"
     ]
    }
   ],
   "source": [
    "import sklearn\n",
    "from sklearn.model_selection import train_test_split\n",
    "\n",
    "target = df.pop('Greenhouse Gas Emissions')\n",
    "df.info()"
   ]
  },
  {
   "cell_type": "code",
   "execution_count": 17,
   "metadata": {
    "collapsed": false
   },
   "outputs": [
   ],
   "source": [
    "inputs_train, inputs_test, outputs_train, outputs_test = train_test_split(df, target, test_size=0.2)"
   ]
  },
  {
   "cell_type": "code",
   "execution_count": 21,
   "metadata": {
    "collapsed": false
   },
   "outputs": [
   ],
   "source": [
    "model = LinearRegression()"
   ]
  },
  {
   "cell_type": "code",
   "execution_count": 26,
   "metadata": {
    "collapsed": false
   },
   "outputs": [
    {
     "data": {
      "text/html": [
       "<style>#sk-container-id-3 {color: black;background-color: white;}#sk-container-id-3 pre{padding: 0;}#sk-container-id-3 div.sk-toggleable {background-color: white;}#sk-container-id-3 label.sk-toggleable__label {cursor: pointer;display: block;width: 100%;margin-bottom: 0;padding: 0.3em;box-sizing: border-box;text-align: center;}#sk-container-id-3 label.sk-toggleable__label-arrow:before {content: \"▸\";float: left;margin-right: 0.25em;color: #696969;}#sk-container-id-3 label.sk-toggleable__label-arrow:hover:before {color: black;}#sk-container-id-3 div.sk-estimator:hover label.sk-toggleable__label-arrow:before {color: black;}#sk-container-id-3 div.sk-toggleable__content {max-height: 0;max-width: 0;overflow: hidden;text-align: left;background-color: #f0f8ff;}#sk-container-id-3 div.sk-toggleable__content pre {margin: 0.2em;color: black;border-radius: 0.25em;background-color: #f0f8ff;}#sk-container-id-3 input.sk-toggleable__control:checked~div.sk-toggleable__content {max-height: 200px;max-width: 100%;overflow: auto;}#sk-container-id-3 input.sk-toggleable__control:checked~label.sk-toggleable__label-arrow:before {content: \"▾\";}#sk-container-id-3 div.sk-estimator input.sk-toggleable__control:checked~label.sk-toggleable__label {background-color: #d4ebff;}#sk-container-id-3 div.sk-label input.sk-toggleable__control:checked~label.sk-toggleable__label {background-color: #d4ebff;}#sk-container-id-3 input.sk-hidden--visually {border: 0;clip: rect(1px 1px 1px 1px);clip: rect(1px, 1px, 1px, 1px);height: 1px;margin: -1px;overflow: hidden;padding: 0;position: absolute;width: 1px;}#sk-container-id-3 div.sk-estimator {font-family: monospace;background-color: #f0f8ff;border: 1px dotted black;border-radius: 0.25em;box-sizing: border-box;margin-bottom: 0.5em;}#sk-container-id-3 div.sk-estimator:hover {background-color: #d4ebff;}#sk-container-id-3 div.sk-parallel-item::after {content: \"\";width: 100%;border-bottom: 1px solid gray;flex-grow: 1;}#sk-container-id-3 div.sk-label:hover label.sk-toggleable__label {background-color: #d4ebff;}#sk-container-id-3 div.sk-serial::before {content: \"\";position: absolute;border-left: 1px solid gray;box-sizing: border-box;top: 0;bottom: 0;left: 50%;z-index: 0;}#sk-container-id-3 div.sk-serial {display: flex;flex-direction: column;align-items: center;background-color: white;padding-right: 0.2em;padding-left: 0.2em;position: relative;}#sk-container-id-3 div.sk-item {position: relative;z-index: 1;}#sk-container-id-3 div.sk-parallel {display: flex;align-items: stretch;justify-content: center;background-color: white;position: relative;}#sk-container-id-3 div.sk-item::before, #sk-container-id-3 div.sk-parallel-item::before {content: \"\";position: absolute;border-left: 1px solid gray;box-sizing: border-box;top: 0;bottom: 0;left: 50%;z-index: -1;}#sk-container-id-3 div.sk-parallel-item {display: flex;flex-direction: column;z-index: 1;position: relative;background-color: white;}#sk-container-id-3 div.sk-parallel-item:first-child::after {align-self: flex-end;width: 50%;}#sk-container-id-3 div.sk-parallel-item:last-child::after {align-self: flex-start;width: 50%;}#sk-container-id-3 div.sk-parallel-item:only-child::after {width: 0;}#sk-container-id-3 div.sk-dashed-wrapped {border: 1px dashed gray;margin: 0 0.4em 0.5em 0.4em;box-sizing: border-box;padding-bottom: 0.4em;background-color: white;}#sk-container-id-3 div.sk-label label {font-family: monospace;font-weight: bold;display: inline-block;line-height: 1.2em;}#sk-container-id-3 div.sk-label-container {text-align: center;}#sk-container-id-3 div.sk-container {/* jupyter's `normalize.less` sets `[hidden] { display: none; }` but bootstrap.min.css set `[hidden] { display: none !important; }` so we also need the `!important` here to be able to override the default hidden behavior on the sphinx rendered scikit-learn.org. See: https://github.com/scikit-learn/scikit-learn/issues/21755 */display: inline-block !important;position: relative;}#sk-container-id-3 div.sk-text-repr-fallback {display: none;}</style><div id=\"sk-container-id-3\" class=\"sk-top-container\"><div class=\"sk-text-repr-fallback\"><pre>LinearRegression()</pre><b>In a Jupyter environment, please rerun this cell to show the HTML representation or trust the notebook. <br />On GitHub, the HTML representation is unable to render, please try loading this page with nbviewer.org.</b></div><div class=\"sk-container\" hidden><div class=\"sk-item\"><div class=\"sk-estimator sk-toggleable\"><input class=\"sk-toggleable__control sk-hidden--visually\" id=\"sk-estimator-id-3\" type=\"checkbox\" checked><label for=\"sk-estimator-id-3\" class=\"sk-toggleable__label sk-toggleable__label-arrow\">LinearRegression</label><div class=\"sk-toggleable__content\"><pre>LinearRegression()</pre></div></div></div></div></div>"
      ],
      "text/plain": [
       "LinearRegression()"
      ]
     },
     "execution_count": 26,
     "metadata": {
     },
     "output_type": "execute_result"
    }
   ],
   "source": [
    "\n",
    "model.fit(inputs_train, outputs_train)"
   ]
  },
  {
   "cell_type": "code",
   "execution_count": 0,
   "metadata": {
    "collapsed": false
   },
   "outputs": [
   ],
   "source": [
   ]
  },
  {
   "cell_type": "code",
   "execution_count": 23,
   "metadata": {
    "collapsed": false
   },
   "outputs": [
   ],
   "source": [
    "y_hat = model.predict(inputs_test)"
   ]
  },
  {
   "cell_type": "code",
   "execution_count": 10,
   "metadata": {
    "collapsed": false
   },
   "outputs": [
    {
     "data": {
      "text/plain": [
       "array([ 2.53167400e-02,  2.89390365e-02,  3.39984319e-02,  9.40310011e-01,\n",
       "        1.98856872e-03,  8.81539925e-01,  2.43449419e-02,  1.02632553e+00,\n",
       "        6.21004818e-02,  4.78850859e-02,  1.17177570e-02,  8.31523992e-02,\n",
       "        1.16927608e-02,  1.23056690e-01,  1.33740233e-02,  5.17143628e-02,\n",
       "        1.85731135e-02,  9.34922559e-01,  9.22948063e-03,  8.58302650e-02,\n",
       "        1.02746194e+00,  1.54387320e-02,  2.00333655e-02,  3.58740200e-03,\n",
       "        4.08988821e-02,  3.95123782e-02,  9.83035234e-01,  1.84921964e-01,\n",
       "        9.69416369e-01, -8.73858591e-03,  1.15775187e-03,  2.50059651e-01,\n",
       "       -6.16262509e-03,  4.93411716e-02,  4.54445999e-02,  1.59299109e-02,\n",
       "        1.01731962e-03,  8.83726986e-01,  7.36418491e-03,  1.96828020e-02,\n",
       "        9.79320393e-03,  1.70024293e-02,  1.94450946e-01,  2.16648082e-01,\n",
       "        9.07039155e-03, -2.82174002e-03,  1.99677315e-02,  2.70252094e-03,\n",
       "       -3.85910194e-03, -8.92424762e-04,  7.26346917e-02,  9.48462926e-03,\n",
       "        2.29966895e-01,  2.66983856e-03, -4.82354961e-04,  6.15822044e-03,\n",
       "        5.66560689e-03,  7.03268510e-03,  3.96476194e-03,  3.14153129e-02,\n",
       "       -8.34445032e-03, -3.32618907e-03, -1.94230062e-03,  1.12147714e-02,\n",
       "        1.16994074e-01,  3.65579491e-02,  4.13469075e-02,  7.25100924e-03,\n",
       "        2.90056391e-02,  4.46272419e-02,  1.92635049e-01,  3.33269158e-02,\n",
       "        3.39977792e-03,  1.31995094e-02,  1.28591212e-02,  6.96776228e-03,\n",
       "        5.42406155e-02,  2.15305999e-02,  1.55724540e-02,  1.18791118e-02,\n",
       "       -1.66202262e-03,  1.03524293e-02,  1.81565659e-02,  4.50588070e-03,\n",
       "        1.09465678e-02,  1.90185464e-01,  1.14756001e-02,  3.57264128e-02,\n",
       "        3.31724224e-03,  1.23795167e-02,  5.39166403e-02,  8.58862421e-02,\n",
       "       -6.73315344e-03,  9.57002058e-01,  1.81883635e-02,  1.34317864e-02,\n",
       "       -1.91685744e-03,  2.21908795e-02,  9.06199853e-02,  2.28426723e-02,\n",
       "        7.85564581e-03,  1.83526795e-01,  1.71389384e-01,  3.39666385e-02,\n",
       "       -4.94081867e-03, -1.79736867e-03,  3.08662798e-02,  1.22085480e-02,\n",
       "        1.14817335e-02,  5.41455817e-02,  1.88569538e-02,  1.37607893e-02,\n",
       "        5.40757676e-02,  3.98568586e-02, -5.27263724e-03,  2.10775700e-02,\n",
       "       -5.26887596e-03,  3.06751106e-01,  2.63932254e-01,  9.76174370e-03,\n",
       "        2.57448602e-03, -1.56334318e-04, -1.71848331e-03,  3.19172481e-02,\n",
       "        6.67111627e-03,  7.21565988e-03,  1.53514231e-02,  1.95116004e-02,\n",
       "        5.42786846e-02,  5.05947524e-02, -5.37809966e-03,  3.00695735e-02,\n",
       "       -7.41666767e-04,  1.25910555e-01,  4.44698921e-02,  1.00762873e-02,\n",
       "        8.57612389e-02,  1.49503307e-02,  1.65560074e-01,  2.64783290e-01,\n",
       "        9.49100672e-03,  4.12926852e-02,  1.80045526e-02,  4.10114064e-02,\n",
       "        9.24493786e-03,  8.92120106e-03, -6.03294131e-03,  3.47799755e-02,\n",
       "        4.85339777e-03,  9.97570727e-03,  1.28805668e-02,  3.14236911e-04,\n",
       "        1.07198019e-02,  1.26991714e-01, -2.41666042e-03, -3.28856243e-03,\n",
       "        8.47958132e-03,  7.75282347e-03,  9.47041127e-01,  1.71058908e-02,\n",
       "        1.73261974e-01,  1.35991392e-01,  4.07411335e-02,  3.67964961e-03])"
      ]
     },
     "execution_count": 10,
     "metadata": {
     },
     "output_type": "execute_result"
    }
   ],
   "source": [
    "y_hat"
   ]
  },
  {
   "cell_type": "code",
   "execution_count": 11,
   "metadata": {
    "collapsed": false
   },
   "outputs": [
    {
     "data": {
      "text/plain": [
       "array([4.00639993e-02, 4.30914248e-02, 1.77310662e-02, 1.00000000e+00,\n",
       "       4.22634114e-03, 8.86275091e-01, 1.38680960e-02, 8.80085465e-01,\n",
       "       5.62646872e-02, 2.63015565e-02, 8.75214737e-03, 6.61933291e-02,\n",
       "       8.40654735e-03, 9.88349575e-02, 1.28342807e-02, 5.47144091e-02,\n",
       "       7.97186835e-04, 9.15956264e-01, 8.48483701e-03, 6.13954146e-02,\n",
       "       8.95302882e-01, 1.04569106e-02, 4.83617839e-03, 1.79899399e-02,\n",
       "       6.96063052e-02, 1.35659066e-02, 8.74971831e-01, 1.83208573e-01,\n",
       "       9.72376355e-01, 1.03223083e-03, 1.64869982e-02, 2.59791674e-01,\n",
       "       5.61522669e-03, 2.86003965e-02, 4.58150940e-02, 9.65335393e-03,\n",
       "       4.28292647e-03, 8.98043991e-01, 7.18753989e-03, 3.54437929e-02,\n",
       "       7.51336455e-03, 3.54325208e-02, 1.85263259e-01, 2.53275530e-01,\n",
       "       1.58873530e-02, 4.39582543e-03, 7.58107159e-04, 1.15194544e-02,\n",
       "       5.23236605e-03, 5.69981068e-03, 9.33685265e-02, 8.24090729e-03,\n",
       "       2.83048855e-01, 1.05664321e-02, 1.27568949e-02, 4.23876793e-02,\n",
       "       4.36744386e-03, 7.12585954e-03, 4.47918142e-03, 1.83720699e-02,\n",
       "       5.41083692e-03, 3.39638050e-03, 1.94015340e-03, 1.74743924e-02,\n",
       "       1.21933456e-01, 7.34573565e-03, 4.30443666e-02, 1.64095098e-02,\n",
       "       1.17218149e-02, 2.27820880e-02, 1.84972502e-01, 4.59473030e-02,\n",
       "       5.48920875e-03, 3.93033535e-04, 1.34935840e-02, 4.69331751e-03,\n",
       "       5.65365952e-02, 4.96909807e-03, 9.90633629e-03, 7.87686357e-03,\n",
       "       1.26062720e-02, 5.21907274e-02, 2.24405478e-02, 1.78535998e-02,\n",
       "       1.48636257e-02, 1.75101566e-01, 8.54888151e-03, 3.77640174e-02,\n",
       "       7.96136106e-03, 8.21741103e-03, 2.83728861e-02, 6.28425920e-02,\n",
       "       4.38017177e-03, 9.50710492e-01, 4.55488503e-03, 1.01174928e-02,\n",
       "       5.83467295e-03, 2.52026162e-02, 7.57954060e-02, 6.38972839e-03,\n",
       "       6.44153219e-03, 1.83092925e-01, 1.83229783e-01, 1.88708401e-02,\n",
       "       4.38388257e-03, 5.56232614e-03, 7.05532369e-03, 8.38032703e-03,\n",
       "       1.47197687e-02, 7.10505851e-02, 1.02102127e-02, 9.58609940e-03,\n",
       "       2.84733128e-02, 5.03997660e-02, 5.95662280e-03, 4.91164713e-03,\n",
       "       3.18154714e-03, 2.82859422e-01, 2.71901521e-01, 1.01017590e-02,\n",
       "       6.50347169e-03, 3.71887473e-03, 5.51588800e-03, 7.47018823e-03,\n",
       "       9.82842209e-03, 8.43769857e-03, 8.44994631e-03, 3.79262509e-02,\n",
       "       6.33311952e-02, 4.58537837e-02, 5.50583756e-03, 7.32325850e-03,\n",
       "       6.41111883e-03, 1.40151029e-01, 4.95896544e-02, 9.98866586e-03,\n",
       "       7.39289118e-02, 6.01039189e-02, 1.82533864e-01, 2.71619255e-01,\n",
       "       1.60588527e-02, 6.83000998e-02, 3.00644692e-02, 4.98870150e-02,\n",
       "       5.17416985e-02, 7.81322230e-03, 3.23531912e-03, 1.76754621e-02,\n",
       "       4.38817855e-03, 4.64905666e-02, 4.36778792e-04, 5.47969798e-03,\n",
       "       1.42679633e-02, 1.24417570e-01, 1.29334358e-02, 6.10956974e-03,\n",
       "       5.00317649e-02, 9.05089926e-03, 9.96423167e-01, 8.93064774e-03,\n",
       "       1.76719594e-01, 1.17726776e-01, 6.57936952e-02, 8.28278067e-03])"
      ]
     },
     "execution_count": 11,
     "metadata": {
     },
     "output_type": "execute_result"
    }
   ],
   "source": [
    "np.array(outputs_test)"
   ]
  },
  {
   "cell_type": "code",
   "execution_count": 24,
   "metadata": {
    "collapsed": false
   },
   "outputs": [
    {
     "data": {
      "text/html": "<html>\n<head><meta charset=\"utf-8\" /></head>\n<body>\n    <div>            <script src=\"https://cdnjs.cloudflare.com/ajax/libs/mathjax/2.7.5/MathJax.js?config=TeX-AMS-MML_SVG\"></script><script type=\"text/javascript\">if (window.MathJax) {MathJax.Hub.Config({SVG: {font: \"STIX-Web\"}});}</script>                <script type=\"text/javascript\">window.PlotlyConfig = {MathJaxConfig: 'local'};</script>\n        <script src=\"https://cdn.plot.ly/plotly-2.9.0.min.js\"></script>                <div id=\"85252df6-aa84-4988-b813-9c5a82aa545d\" class=\"plotly-graph-div\" style=\"height:525px; width:100%;\"></div>            <script type=\"text/javascript\">                                    window.PLOTLYENV=window.PLOTLYENV || {};                                    if (document.getElementById(\"85252df6-aa84-4988-b813-9c5a82aa545d\")) {                    Plotly.newPlot(                        \"85252df6-aa84-4988-b813-9c5a82aa545d\",                        [{\"hovertemplate\":\"x=%{x}<br>y=%{y}<extra></extra>\",\"legendgroup\":\"\",\"marker\":{\"color\":\"#636efa\",\"symbol\":\"circle\"},\"mode\":\"markers\",\"name\":\"\",\"orientation\":\"v\",\"showlegend\":false,\"x\":[0.0133986357520044,0.0583710536317892,0.1428460082641322,0.0043881785548856,0.0050763984298458,0.071612640258207,0.1849725023404803,0.276280448325886,0.083542656443436,0.0164095097624359,0.0911833901146369,0.0078482049390252,0.05028562251528,0.0082040910446611,0.013901050509542,0.0002040102786864,0.1830929246512911,0.0269775913623798,0.027250221668671,0.0128139145792312,0.0083111216302314,0.0552112802900687,0.0099063362925745,0.0172870104230775,0.0083648978134763,0.0014433549891822,0.0604908809700145,0.0236844089243118,0.0056131047445195,0.0085053639922708,0.0061721511676113,0.0067597905851186,0.0055158879973219,0.0568618977651174,0.0009774768093555,0.0576700260149346,0.0179899399117239,0.9159562643090428,0.0208921267184386,0.000797186835245,0.1652131961356926,0.0574315388385867,0.003718874733366,0.1401510286000564,0.0098284220906154,0.0806900588314538,0.0004766357280116,0.1703750511177848,0.009407065520735,0.0063897283879653,0.2716192546610347,0.2718703844301054,0.0067067136030889,0.0078942918217903,0.1752012546780905,0.0067390101160545,0.2701249576340527,0.0169060446048523,0.0069046413415353,0.0166457131801456,0.0310698542629417,0.005489208747404,0.0938482421072992,0.0576146223581394,0.0253278334109521,0.0508100742812762,0.0097763654699836,0.0150001229528428,0.0628425920493845,0.033709647451236,0.2698485314878816,0.0136473456075776,0.0068363050271552,0.0055962359730869,0.0188708400817893,0.0140777845488046,0.0058346729497036,0.0152564889944183,0.005956622797675,0.040642270918604,0.0175920830723421,0.0002341427209725,0.0010015445548146,0.0088121240484701,0.0173095405643631,0.0064415321875069,0.0178535997846285,0.0087974023691535,0.0069824943882995,0.0495643613892621,0.0174680198338816,0.0081172493160038,0.0268652738178985,0.0105664321389451,0.0078578435917446,0.1128582918253069,0.0184264756415805,0.2522391929793395,0.1198649704307472,0.0952978906348169,0.1594331694108827,0.0030787387706131,0.0860045632677439,0.0142708521595479,0.0061529104164995,0.0992689349877306,0.0963930051869305,0.0099886658599023,0.0135659065575477,0.0065845345050429,0.0423876793182982,0.0120898125977956,0.0084428248653216,0.089020455453144,0.0915626509582617,0.8800854650597408,0.3366938579206609,0.0054018612673217,0.0131886767932047,0.0081992491267997,0.0183720699079208,0.0164869982165008,0.0082896052850208,0.0073331255457338,0.0047231113653912,0.2847631012499601,0.0790659570310879,0.0464905665973722,0.0070530453854044,0.0048198112752239,0.0084065473546643,0.0073457356506401,0.0354325208139236,0.009014303696894,0.0116008636688355,0.0272459311897491,0.0521907273886746,0.0161166647751628,0.0101017589548802,0.0084848370094629,0.0702915638927891,0.004744898117544,0.1654930135533648,0.2719015213641668,6.139008708818754e-05,0.0176754621277084,0.0030672565155055,0.0931760189411779,0.0233435368832652,0.0597431624602972,0.9964231667130408,0.0011433498778592,0.0289699994143393,0.000761050489393,0.0065733482406368,0.0066111109213963,0.279658170020508,0.0188546990145187,0.012834280711397,0.0082409072918104,0.0683366307033672,0.8837938268136755,0.0699890105789349,0.005505837556271],\"xaxis\":\"x\",\"y\":[0.02406745988299876,0.015042402844967682,0.11985860353335591,0.004925005362389185,0.009493763963597461,0.04522431071617466,0.19517332663237477,0.281690338934829,0.10166750531929293,0.007653679971587437,0.08989548243103225,0.0177104830819561,0.009032718257797534,0.009184906748774806,0.04602322929265269,-0.0010915013478370404,0.18661485881521644,0.05139822884083663,0.0503241365887438,0.005622903324652521,0.02354442444530338,0.050717415613518065,0.01644635711292086,0.009832218932513445,0.01224641517356258,0.0015474544514270886,0.08468520485968349,0.044874803793690785,0.0003588253952096117,0.005916207283278446,0.0012417226053791607,0.0004055066008630988,-0.0009109680814666709,0.04606313763300155,-0.006584192643188543,0.05569202137949089,0.003849507238101459,0.9005511460043766,0.012004396918993056,0.021526673855746064,0.17641514829622773,0.053093170795310264,-0.00015762534077427403,0.12239288881106007,0.007601386035187376,0.0976832571873138,0.022750056309707507,0.15440506161045217,0.008652718422546894,0.02551310399474273,0.25392484371327806,0.26779038613676454,0.02372386300115676,0.023970256034530617,0.18934805027196427,0.024546724134992568,0.255164741873554,0.05152547484090443,0.00569670068244806,0.007191461029036755,0.01932651953938718,0.0035555157639122286,0.08592822503366837,0.014499303823746762,0.042484418251693835,0.010723898915440646,0.009515020718061793,-0.0038022280996666442,0.08517797904411599,0.01961774100192277,0.2542420260700037,0.007846593398464273,0.027990034226759018,0.025244648751107122,0.033725190560028304,0.0037621270889995327,-0.0010749296590922821,-0.0022050743272377547,-0.004826446694893564,0.008484422801879301,0.010453437613385123,-3.364795417514551e-05,0.004106326728721413,0.023554374991518107,0.03267297655050465,0.008381517458818377,0.0047678324594749065,0.012855193158477095,0.0310947557561265,0.01494229065346658,0.03288941762402697,0.010792967976501072,0.05284931700554432,0.002309020266392045,0.013759227669544401,0.10885239371202757,0.036870597292118244,0.2257012780463604,0.12160861754892055,0.11762946551228327,0.10181552483438412,-0.006824543662755629,0.1043909726509042,0.047385320810387585,0.026012050671106523,0.08878069889788519,0.11893896151127376,0.009791358917772792,0.0422108610110436,0.02488499755394741,0.006002356963158662,0.021843500396910537,0.00381558306633774,0.10814038999414174,0.09568308240673752,0.9920688718111252,0.2585918875417361,0.009886959297848148,-0.0029876245149399946,0.010711548196603336,0.030843461864815666,0.0014475452863755931,0.0070910454061833324,0.0194060783522405,0.023189873492772656,0.278047848875258,0.06490948850365624,0.01015961472245738,0.03100874394373102,0.008715949040213897,0.011960686794623723,0.03848951686686639,0.017487461195890994,0.009122190136340195,0.03295056538890018,0.018522490681354795,0.009838982191650818,0.0019246428550992014,0.009460528288658305,0.008915482616727715,0.04022559596344307,-0.004699283578703662,0.18119614096562525,0.2523435577706298,0.03034511893318271,0.034487900945010794,-0.004732716335241442,0.1134992110393417,0.04109855081885589,0.01437161635641673,0.9514446530167328,0.0029494615668040026,0.05492805200453807,0.007484336603033215,0.00558654652682454,0.007925260278843766,0.2641186517258639,0.010344751199162928,0.01415437738205699,0.010597196739954677,0.05194903083665597,0.885912740236896,0.03948627164162847,-0.005029737398008032],\"yaxis\":\"y\",\"type\":\"scatter\"}],                        {\"template\":{\"data\":{\"bar\":[{\"error_x\":{\"color\":\"#2a3f5f\"},\"error_y\":{\"color\":\"#2a3f5f\"},\"marker\":{\"line\":{\"color\":\"#E5ECF6\",\"width\":0.5},\"pattern\":{\"fillmode\":\"overlay\",\"size\":10,\"solidity\":0.2}},\"type\":\"bar\"}],\"barpolar\":[{\"marker\":{\"line\":{\"color\":\"#E5ECF6\",\"width\":0.5},\"pattern\":{\"fillmode\":\"overlay\",\"size\":10,\"solidity\":0.2}},\"type\":\"barpolar\"}],\"carpet\":[{\"aaxis\":{\"endlinecolor\":\"#2a3f5f\",\"gridcolor\":\"white\",\"linecolor\":\"white\",\"minorgridcolor\":\"white\",\"startlinecolor\":\"#2a3f5f\"},\"baxis\":{\"endlinecolor\":\"#2a3f5f\",\"gridcolor\":\"white\",\"linecolor\":\"white\",\"minorgridcolor\":\"white\",\"startlinecolor\":\"#2a3f5f\"},\"type\":\"carpet\"}],\"choropleth\":[{\"colorbar\":{\"outlinewidth\":0,\"ticks\":\"\"},\"type\":\"choropleth\"}],\"contour\":[{\"colorbar\":{\"outlinewidth\":0,\"ticks\":\"\"},\"colorscale\":[[0.0,\"#0d0887\"],[0.1111111111111111,\"#46039f\"],[0.2222222222222222,\"#7201a8\"],[0.3333333333333333,\"#9c179e\"],[0.4444444444444444,\"#bd3786\"],[0.5555555555555556,\"#d8576b\"],[0.6666666666666666,\"#ed7953\"],[0.7777777777777778,\"#fb9f3a\"],[0.8888888888888888,\"#fdca26\"],[1.0,\"#f0f921\"]],\"type\":\"contour\"}],\"contourcarpet\":[{\"colorbar\":{\"outlinewidth\":0,\"ticks\":\"\"},\"type\":\"contourcarpet\"}],\"heatmap\":[{\"colorbar\":{\"outlinewidth\":0,\"ticks\":\"\"},\"colorscale\":[[0.0,\"#0d0887\"],[0.1111111111111111,\"#46039f\"],[0.2222222222222222,\"#7201a8\"],[0.3333333333333333,\"#9c179e\"],[0.4444444444444444,\"#bd3786\"],[0.5555555555555556,\"#d8576b\"],[0.6666666666666666,\"#ed7953\"],[0.7777777777777778,\"#fb9f3a\"],[0.8888888888888888,\"#fdca26\"],[1.0,\"#f0f921\"]],\"type\":\"heatmap\"}],\"heatmapgl\":[{\"colorbar\":{\"outlinewidth\":0,\"ticks\":\"\"},\"colorscale\":[[0.0,\"#0d0887\"],[0.1111111111111111,\"#46039f\"],[0.2222222222222222,\"#7201a8\"],[0.3333333333333333,\"#9c179e\"],[0.4444444444444444,\"#bd3786\"],[0.5555555555555556,\"#d8576b\"],[0.6666666666666666,\"#ed7953\"],[0.7777777777777778,\"#fb9f3a\"],[0.8888888888888888,\"#fdca26\"],[1.0,\"#f0f921\"]],\"type\":\"heatmapgl\"}],\"histogram\":[{\"marker\":{\"pattern\":{\"fillmode\":\"overlay\",\"size\":10,\"solidity\":0.2}},\"type\":\"histogram\"}],\"histogram2d\":[{\"colorbar\":{\"outlinewidth\":0,\"ticks\":\"\"},\"colorscale\":[[0.0,\"#0d0887\"],[0.1111111111111111,\"#46039f\"],[0.2222222222222222,\"#7201a8\"],[0.3333333333333333,\"#9c179e\"],[0.4444444444444444,\"#bd3786\"],[0.5555555555555556,\"#d8576b\"],[0.6666666666666666,\"#ed7953\"],[0.7777777777777778,\"#fb9f3a\"],[0.8888888888888888,\"#fdca26\"],[1.0,\"#f0f921\"]],\"type\":\"histogram2d\"}],\"histogram2dcontour\":[{\"colorbar\":{\"outlinewidth\":0,\"ticks\":\"\"},\"colorscale\":[[0.0,\"#0d0887\"],[0.1111111111111111,\"#46039f\"],[0.2222222222222222,\"#7201a8\"],[0.3333333333333333,\"#9c179e\"],[0.4444444444444444,\"#bd3786\"],[0.5555555555555556,\"#d8576b\"],[0.6666666666666666,\"#ed7953\"],[0.7777777777777778,\"#fb9f3a\"],[0.8888888888888888,\"#fdca26\"],[1.0,\"#f0f921\"]],\"type\":\"histogram2dcontour\"}],\"mesh3d\":[{\"colorbar\":{\"outlinewidth\":0,\"ticks\":\"\"},\"type\":\"mesh3d\"}],\"parcoords\":[{\"line\":{\"colorbar\":{\"outlinewidth\":0,\"ticks\":\"\"}},\"type\":\"parcoords\"}],\"pie\":[{\"automargin\":true,\"type\":\"pie\"}],\"scatter\":[{\"marker\":{\"colorbar\":{\"outlinewidth\":0,\"ticks\":\"\"}},\"type\":\"scatter\"}],\"scatter3d\":[{\"line\":{\"colorbar\":{\"outlinewidth\":0,\"ticks\":\"\"}},\"marker\":{\"colorbar\":{\"outlinewidth\":0,\"ticks\":\"\"}},\"type\":\"scatter3d\"}],\"scattercarpet\":[{\"marker\":{\"colorbar\":{\"outlinewidth\":0,\"ticks\":\"\"}},\"type\":\"scattercarpet\"}],\"scattergeo\":[{\"marker\":{\"colorbar\":{\"outlinewidth\":0,\"ticks\":\"\"}},\"type\":\"scattergeo\"}],\"scattergl\":[{\"marker\":{\"colorbar\":{\"outlinewidth\":0,\"ticks\":\"\"}},\"type\":\"scattergl\"}],\"scattermapbox\":[{\"marker\":{\"colorbar\":{\"outlinewidth\":0,\"ticks\":\"\"}},\"type\":\"scattermapbox\"}],\"scatterpolar\":[{\"marker\":{\"colorbar\":{\"outlinewidth\":0,\"ticks\":\"\"}},\"type\":\"scatterpolar\"}],\"scatterpolargl\":[{\"marker\":{\"colorbar\":{\"outlinewidth\":0,\"ticks\":\"\"}},\"type\":\"scatterpolargl\"}],\"scatterternary\":[{\"marker\":{\"colorbar\":{\"outlinewidth\":0,\"ticks\":\"\"}},\"type\":\"scatterternary\"}],\"surface\":[{\"colorbar\":{\"outlinewidth\":0,\"ticks\":\"\"},\"colorscale\":[[0.0,\"#0d0887\"],[0.1111111111111111,\"#46039f\"],[0.2222222222222222,\"#7201a8\"],[0.3333333333333333,\"#9c179e\"],[0.4444444444444444,\"#bd3786\"],[0.5555555555555556,\"#d8576b\"],[0.6666666666666666,\"#ed7953\"],[0.7777777777777778,\"#fb9f3a\"],[0.8888888888888888,\"#fdca26\"],[1.0,\"#f0f921\"]],\"type\":\"surface\"}],\"table\":[{\"cells\":{\"fill\":{\"color\":\"#EBF0F8\"},\"line\":{\"color\":\"white\"}},\"header\":{\"fill\":{\"color\":\"#C8D4E3\"},\"line\":{\"color\":\"white\"}},\"type\":\"table\"}]},\"layout\":{\"annotationdefaults\":{\"arrowcolor\":\"#2a3f5f\",\"arrowhead\":0,\"arrowwidth\":1},\"autotypenumbers\":\"strict\",\"coloraxis\":{\"colorbar\":{\"outlinewidth\":0,\"ticks\":\"\"}},\"colorscale\":{\"diverging\":[[0,\"#8e0152\"],[0.1,\"#c51b7d\"],[0.2,\"#de77ae\"],[0.3,\"#f1b6da\"],[0.4,\"#fde0ef\"],[0.5,\"#f7f7f7\"],[0.6,\"#e6f5d0\"],[0.7,\"#b8e186\"],[0.8,\"#7fbc41\"],[0.9,\"#4d9221\"],[1,\"#276419\"]],\"sequential\":[[0.0,\"#0d0887\"],[0.1111111111111111,\"#46039f\"],[0.2222222222222222,\"#7201a8\"],[0.3333333333333333,\"#9c179e\"],[0.4444444444444444,\"#bd3786\"],[0.5555555555555556,\"#d8576b\"],[0.6666666666666666,\"#ed7953\"],[0.7777777777777778,\"#fb9f3a\"],[0.8888888888888888,\"#fdca26\"],[1.0,\"#f0f921\"]],\"sequentialminus\":[[0.0,\"#0d0887\"],[0.1111111111111111,\"#46039f\"],[0.2222222222222222,\"#7201a8\"],[0.3333333333333333,\"#9c179e\"],[0.4444444444444444,\"#bd3786\"],[0.5555555555555556,\"#d8576b\"],[0.6666666666666666,\"#ed7953\"],[0.7777777777777778,\"#fb9f3a\"],[0.8888888888888888,\"#fdca26\"],[1.0,\"#f0f921\"]]},\"colorway\":[\"#636efa\",\"#EF553B\",\"#00cc96\",\"#ab63fa\",\"#FFA15A\",\"#19d3f3\",\"#FF6692\",\"#B6E880\",\"#FF97FF\",\"#FECB52\"],\"font\":{\"color\":\"#2a3f5f\"},\"geo\":{\"bgcolor\":\"white\",\"lakecolor\":\"white\",\"landcolor\":\"#E5ECF6\",\"showlakes\":true,\"showland\":true,\"subunitcolor\":\"white\"},\"hoverlabel\":{\"align\":\"left\"},\"hovermode\":\"closest\",\"mapbox\":{\"style\":\"light\"},\"paper_bgcolor\":\"white\",\"plot_bgcolor\":\"#E5ECF6\",\"polar\":{\"angularaxis\":{\"gridcolor\":\"white\",\"linecolor\":\"white\",\"ticks\":\"\"},\"bgcolor\":\"#E5ECF6\",\"radialaxis\":{\"gridcolor\":\"white\",\"linecolor\":\"white\",\"ticks\":\"\"}},\"scene\":{\"xaxis\":{\"backgroundcolor\":\"#E5ECF6\",\"gridcolor\":\"white\",\"gridwidth\":2,\"linecolor\":\"white\",\"showbackground\":true,\"ticks\":\"\",\"zerolinecolor\":\"white\"},\"yaxis\":{\"backgroundcolor\":\"#E5ECF6\",\"gridcolor\":\"white\",\"gridwidth\":2,\"linecolor\":\"white\",\"showbackground\":true,\"ticks\":\"\",\"zerolinecolor\":\"white\"},\"zaxis\":{\"backgroundcolor\":\"#E5ECF6\",\"gridcolor\":\"white\",\"gridwidth\":2,\"linecolor\":\"white\",\"showbackground\":true,\"ticks\":\"\",\"zerolinecolor\":\"white\"}},\"shapedefaults\":{\"line\":{\"color\":\"#2a3f5f\"}},\"ternary\":{\"aaxis\":{\"gridcolor\":\"white\",\"linecolor\":\"white\",\"ticks\":\"\"},\"baxis\":{\"gridcolor\":\"white\",\"linecolor\":\"white\",\"ticks\":\"\"},\"bgcolor\":\"#E5ECF6\",\"caxis\":{\"gridcolor\":\"white\",\"linecolor\":\"white\",\"ticks\":\"\"}},\"title\":{\"x\":0.05},\"xaxis\":{\"automargin\":true,\"gridcolor\":\"white\",\"linecolor\":\"white\",\"ticks\":\"\",\"title\":{\"standoff\":15},\"zerolinecolor\":\"white\",\"zerolinewidth\":2},\"yaxis\":{\"automargin\":true,\"gridcolor\":\"white\",\"linecolor\":\"white\",\"ticks\":\"\",\"title\":{\"standoff\":15},\"zerolinecolor\":\"white\",\"zerolinewidth\":2}}},\"xaxis\":{\"anchor\":\"y\",\"domain\":[0.0,1.0],\"title\":{\"text\":\"x\"}},\"yaxis\":{\"anchor\":\"x\",\"domain\":[0.0,1.0],\"title\":{\"text\":\"y\"}},\"legend\":{\"tracegroupgap\":0},\"margin\":{\"t\":60}},                        {\"responsive\": true}                    ).then(function(){\n                            \nvar gd = document.getElementById('85252df6-aa84-4988-b813-9c5a82aa545d');\nvar x = new MutationObserver(function (mutations, observer) {{\n        var display = window.getComputedStyle(gd).display;\n        if (!display || display === 'none') {{\n            console.log([gd, 'removed!']);\n            Plotly.purge(gd);\n            observer.disconnect();\n        }}\n}});\n\n// Listen for the removal of the full notebook cells\nvar notebookContainer = gd.closest('#notebook-container');\nif (notebookContainer) {{\n    x.observe(notebookContainer, {childList: true});\n}}\n\n// Listen for the clearing of the current output cell\nvar outputEl = gd.closest('.output');\nif (outputEl) {{\n    x.observe(outputEl, {childList: true});\n}}\n\n                        })                };                            </script>        </div>\n</body>\n</html>"
     },
     "execution_count": 24,
     "metadata": {
     },
     "output_type": "execute_result"
    }
   ],
   "source": [
    "fig = px.scatter(x=outputs_test, y=y_hat)\n",
    "fig.show()"
   ]
  },
  {
   "cell_type": "code",
   "execution_count": 25,
   "metadata": {
    "collapsed": false
   },
   "outputs": [
    {
     "name": "stdout",
     "output_type": "stream",
     "text": [
      "0.0004449381082682105\n"
     ]
    },
    {
     "data": {
      "text/plain": [
       "0.9808307464549305"
      ]
     },
     "execution_count": 25,
     "metadata": {
     },
     "output_type": "execute_result"
    }
   ],
   "source": [
    "from sklearn.metrics import mean_squared_error, r2_score\n",
    "print(mean_squared_error(outputs_test, y_hat))\n",
    "r2_score(outputs_test, y_hat)"
   ]
  },
  {
   "cell_type": "code",
   "execution_count": 0,
   "metadata": {
    "collapsed": false
   },
   "outputs": [
   ],
   "source": [
   ]
  },
  {
   "cell_type": "code",
   "execution_count": 0,
   "metadata": {
    "collapsed": false
   },
   "outputs": [
   ],
   "source": [
   ]
  },
  {
   "cell_type": "code",
   "execution_count": 0,
   "metadata": {
    "collapsed": false
   },
   "outputs": [
   ],
   "source": [
   ]
  }
 ],
 "metadata": {
  "kernelspec": {
   "display_name": "Python (ds_env)",
   "language": "python",
   "metadata": {
    "debugger": true
   },
   "name": "ds_env",
   "resource_dir": "/projects/39b268b1-0e75-4ebd-9cf2-691243b37f4a/.local/share/jupyter/kernels/ds_env"
  }
 },
 "nbformat": 4,
 "nbformat_minor": 4
}